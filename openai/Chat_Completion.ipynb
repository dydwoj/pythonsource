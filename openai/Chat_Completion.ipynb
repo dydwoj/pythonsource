{
 "cells": [
  {
   "cell_type": "markdown",
   "id": "d0159061-ae5d-49cb-8e0c-24a48087731c",
   "metadata": {},
   "source": [
    "# Prompt Examples\n",
    "\n",
    "- https://platform.openai.com/docs/examples 참조"
   ]
  },
  {
   "cell_type": "code",
   "execution_count": 1,
   "id": "989f8b65-992a-4c1c-b196-aa19cfff4e95",
   "metadata": {},
   "outputs": [
    {
     "data": {
      "text/plain": [
       "True"
      ]
     },
     "execution_count": 1,
     "metadata": {},
     "output_type": "execute_result"
    }
   ],
   "source": [
    "# env 파일 로드\n",
    "from dotenv import load_dotenv\n",
    "from openai import OpenAI\n",
    "\n",
    "load_dotenv()"
   ]
  },
  {
   "cell_type": "code",
   "execution_count": 4,
   "id": "9a83b1e3-b3f3-42f4-a73f-7bc62e3eb87a",
   "metadata": {},
   "outputs": [],
   "source": [
    "# OpenAI 객체 생성\n",
    "client = OpenAI()\n",
    "Model = \"gpt-4o-mini\""
   ]
  },
  {
   "cell_type": "markdown",
   "id": "ffdcbcad",
   "metadata": {},
   "source": [
    "### 내용 요약"
   ]
  },
  {
   "cell_type": "code",
   "execution_count": null,
   "id": "b7ad1d73",
   "metadata": {},
   "outputs": [
    {
     "name": "stdout",
     "output_type": "stream",
     "text": [
      "* 마흐무드 칼릴은 아이의 탄생 이후 첫 아버지의 날을 놓친 뒤 가족과 재회하였고, 그는 뉴저지에서 있었습니다.  \n",
      "* 그는 가족과 재회하며 이민자들의 권리를 옹호하기 위해 여전히 싸울 것을 다짐했습니다.  \n",
      "* 지원자들에게 감사한 마음을 전하며 팔레스타인과 이민자들을 위한 지속적인 지지를 강조했습니다.  \n"
     ]
    }
   ],
   "source": [
    "\n",
    "\n",
    "text =\"\"\"After missing the birth of his child, his first Father’s Day and spending more than three months away from his family, Mahmoud Khalil has been reunited with his loved ones.\n",
    "The Palestinian activist arrived in Newark, New Jersey, Saturday afternoon, a day after he was released from a Louisiana ICE detention center. \n",
    "He was seen embracing his wife and pushing the stroller of his newborn son after reuniting in a private area of the airport.\n",
    "“Still, the fight is far from over,” Khalil said while thanking his supporters at a news conference. \n",
    "“I continue to advocate for Palestinians, for the immigrants who are left behind in that facility.”\n",
    "\"\"\"\n",
    "\n",
    "role_content=\"\"\"\"\"\"\n",
    "\n",
    "\n"
   ]
  },
  {
   "cell_type": "markdown",
   "id": "fa00e875",
   "metadata": {},
   "source": [
    "### 광고 문구 생성"
   ]
  },
  {
   "cell_type": "code",
   "execution_count": 5,
   "id": "4d00cc73",
   "metadata": {},
   "outputs": [
    {
     "name": "stdout",
     "output_type": "stream",
     "text": [
      "1. \"촉촉한 수분, 자연의 품에서; 맑은나라의 알로에 수분이 당신을 감싸드립니다.\"\n",
      "2. \"친환경으로 채운 수분의 마법, 알로에 수분과 함께하는 촉촉한 하루를 시작하세요.\"\n",
      "3. \"자연의 정수를 담은 알로에 수분, 흡수되는 기분 좋은 촉촉함을 느껴보세요.\"\n",
      "4. \"맑은나라의 알로에 수분으로 건강한 피부를; 친환경의 은혜를 직접 체험해보세요.\"\n",
      "5. \"촉촉하게 흡수되는 자연의 힘, 알로에 수분으로 당신의 피부를 사랑해주세요.\"\n"
     ]
    }
   ],
   "source": [
    "text =\"\"\"\n",
    "- 제품명 : 알로에 수분\n",
    "- 브랜드명 : 맑은나라\n",
    "- 브랜드 핵심가치 : 친환경 화장품\n",
    "- 톤엔 매너 : 감성적으로\n",
    "- 필수 포함 키워드 : 촉촉, 흡수, 친환경\n",
    "\"\"\"\n",
    "\n",
    "role_content=\"\"\"당신은 최고의 카피라이터입니다.\n",
    "사용자가 제시하는 내용을 참고해서 1~2줄 짜리 광고문구 5개를 생성해주세요\n",
    "\"\"\"\n",
    "\n",
    "response = client.chat.completions.create(\n",
    "    model=Model,\n",
    "    messages=[\n",
    "        {\"role\": \"developer\", \"content\": role_content},\n",
    "        {\"role\": \"user\", \"content\": text},\n",
    "    ],\n",
    ")\n",
    "\n",
    "print(response.choices[0].message.content)"
   ]
  },
  {
   "cell_type": "markdown",
   "id": "6e00626d-ca14-411b-898f-856309a98b6d",
   "metadata": {},
   "source": [
    "## 문법 수정"
   ]
  },
  {
   "cell_type": "code",
   "execution_count": 6,
   "id": "9e304b90-0d30-4dca-89f4-4d7c46ae346c",
   "metadata": {},
   "outputs": [
    {
     "name": "stdout",
     "output_type": "stream",
     "text": [
      "그녀는 시장에 가지 않았어.\n"
     ]
    }
   ],
   "source": [
    "response = client.chat.completions.create(\n",
    "    model=Model,\n",
    "    messages=[\n",
    "        {\"role\": \"developer\", \"content\": \"받은 문장을 표준 한국어로 변환해줘\"},\n",
    "        {\"role\": \"user\", \"content\": \"안갔어 시장에 그녀는\"},\n",
    "    ],\n",
    ")\n",
    "\n",
    "print(response.choices[0].message.content)"
   ]
  },
  {
   "cell_type": "markdown",
   "id": "54f4415f-60b6-4308-aaf1-9f46dc634445",
   "metadata": {},
   "source": [
    "## 구조화되지 않은 데이터의 구문 분석"
   ]
  },
  {
   "cell_type": "code",
   "execution_count": 7,
   "id": "1a90e4b6-10c7-48bc-9da2-e617b32cef18",
   "metadata": {},
   "outputs": [],
   "source": [
    "text=\"\"\"최근 발견된 행성 구크럭스(Goocrux)에서는 많은 과일이 발견됐다. 그곳에서 자라는 네오스키즐이 있는데, 보라색이고 사탕 맛이 납니다.\n",
    "회색 빛이 도는 파란색 과일이고 매우 시큼하며 레몬과 약간 비슷한 로헤클(loheckles)도 있습니다.\n",
    "포유닛은 밝은 녹색을 띠며 단맛보다 풍미가 더 좋습니다. 네온 핑크색 맛과 솜사탕 같은 맛이 나는 루프노바도 많이 있습니다.\n",
    "마지막으로 글로울(glowls)이라는 과일이 있는데, 이 과일은 신맛과 부식성이 있는 매우 신맛과 쓴맛이 나며 옅은 오렌지색을 띠고 있습니다.\n",
    "\"\"\"\n"
   ]
  },
  {
   "cell_type": "code",
   "execution_count": 9,
   "id": "8e85a03c-135c-4908-b24e-622a0c408a71",
   "metadata": {},
   "outputs": [
    {
     "name": "stdout",
     "output_type": "stream",
     "text": [
      "아래는 제공된 정보를 바탕으로 변환한 CSV 형식의 데이터입니다:\n",
      "\n",
      "```csv\n",
      "과일명,색상,맛,특징\n",
      "네오스키즐,보라색,사탕맛,많이 발견됨\n",
      "로헤클,파란색(회색빛),매우 시큼,레몬과 비슷함\n",
      "포유닛,밝은 녹색,단맛보다 풍미,많이 발견됨\n",
      "루프노바,네온 핑크색,솜사탕 같은 맛,많이 발견됨\n",
      "글로울,옅은 오렌지색,신맛과 쓴맛,부식성 있음\n",
      "```\n",
      "\n",
      "이 데이터를 CSV 파일로 저장하면 각 열에 해당하는 정보를 구조적으로 표현할 수 있습니다.\n"
     ]
    }
   ],
   "source": [
    "response = client.chat.completions.create(\n",
    "    model=Model,\n",
    "    messages=[\n",
    "        {\"role\": \"developer\", \"content\": \"구조화되지 않은 데이터가 제공되면 이걸 CSV로 변환해줘\"},\n",
    "        {\"role\": \"user\", \"content\": text},\n",
    "    ],\n",
    "    max_tokens=500, # 500 개의 토큰 안에서 작성해줘\n",
    "    temperature= 0.7 # 기본값은 1, 추상의 정도를 낮출 수 있음 (두루뭉술한 얘기 말하는듯)\n",
    ")\n",
    "\n",
    "print(response.choices[0].message.content)"
   ]
  },
  {
   "cell_type": "markdown",
   "id": "05e0d9c0-12f4-4ed8-aaf8-a704505fcb98",
   "metadata": {},
   "source": [
    "## Keyword 추출 "
   ]
  },
  {
   "cell_type": "code",
   "execution_count": 10,
   "id": "fac052fa-6db9-4b98-a995-8fe8eb32ee60",
   "metadata": {},
   "outputs": [],
   "source": [
    "text=\"\"\"\n",
    "블랙 온 블랙 도자기(Black-on-Black ware)는 뉴멕시코 북부의 푸에블로 원주민 도자기 예술가들이 개발한 20세기 및 21세기 도자기 전통입니다.\n",
    "전통적인 환원 소성 블랙웨어는 푸에블로 예술가들에 의해 수세기 동안 만들어졌습니다.\n",
    "지난 세기의 흑색 자기는 표면이 매끄럽고 선택적 버니싱이나 내화 슬립을 적용하여 디자인을 적용한 제품입니다. \n",
    "또 다른 스타일은 디자인을 조각하거나 절개하고 융기된 부분을 선택적으로 연마하는 것입니다.\n",
    "여러 세대에 걸쳐 Kha'po Owingeh와 P'ohwhóge Owingeh 푸에블로의 여러 가족은 여주인 도예가들로부터 전수받은 기술을 사용하여\n",
    "검은 바탕에 검은 도자기를 만들어 왔습니다. 다른 푸에블로 출신의 예술가들도 검정색 바탕에 검정색 도자기를 제작했습니다.\n",
    "몇몇 현대 예술가들은 조상의 도자기를 기리는 작품을 만들었습니다.\n",
    "\"\"\"    "
   ]
  },
  {
   "cell_type": "code",
   "execution_count": 11,
   "id": "6e9c970c-d280-4d5c-a4d8-bf9ab8ffe51a",
   "metadata": {},
   "outputs": [
    {
     "name": "stdout",
     "output_type": "stream",
     "text": [
      "- 블랙 온 블랙 도자기\n",
      "- 뉴멕시코\n",
      "- 푸에블로 원주민\n",
      "- 도자기 예술\n",
      "- 20세기\n",
      "- 21세기\n",
      "- 환원 소성\n",
      "- 블랙웨어\n",
      "- 매끄\n"
     ]
    }
   ],
   "source": [
    "response = client.chat.completions.create(\n",
    "    model=Model,\n",
    "    messages=[\n",
    "        {\"role\": \"developer\", \"content\": \"텍스트가 제공되면 그 텍스트에서 키워드 목록을 추출해줘\"},\n",
    "        {\"role\": \"user\", \"content\": text},\n",
    "    ],\n",
    "    max_tokens=60, # 500 개의 토큰 안에서 작성해줘\n",
    "    temperature= 0.7 # 기본값은 1, 추상의 정도를 낮출 수 있음 (두루뭉술한 얘기 말하는듯)\n",
    ")\n",
    "\n",
    "print(response.choices[0].message.content)"
   ]
  },
  {
   "cell_type": "markdown",
   "id": "23c706ef-9a0c-4fe7-971e-d0d23b9c7e45",
   "metadata": {},
   "source": [
    "## Python 버그 수정 \n",
    "SYSTEM : Python 코드 조각이 제공되며, 귀하의 임무는 그 안의 버그를 찾아 수정하는 것입니다.  \n",
    "USER : \n",
    "```Python\n",
    "    import Random\n",
    "    a = random.randint(1,12)\n",
    "    b = random.randint(1,12)\n",
    "    for i in range(10):\n",
    "        question = \"What is \"+a+\" x \"+b+\"? \"\n",
    "        answer = input(question)\n",
    "        if answer = a*b\n",
    "            print (Well done!)\n",
    "        else:\n",
    "            print(\"No.\")\n",
    "```"
   ]
  },
  {
   "cell_type": "code",
   "execution_count": 12,
   "id": "85b6d7d7-83e5-4a1a-b70c-52a7ed01ae74",
   "metadata": {},
   "outputs": [],
   "source": [
    "error_code=\"\"\"\n",
    "            import Random\n",
    "            a = random.randint(1,12)\n",
    "            b = random.randint(1,12)\n",
    "            for i in range(10):\n",
    "                question = \"What is \"+a+\" x \"+b+\"? \"\n",
    "                answer = input(question)\n",
    "                if answer = a*b\n",
    "                    print (Well done!)\n",
    "                else:\n",
    "                    print(\"No.\")\n",
    "      \"\"\""
   ]
  },
  {
   "cell_type": "code",
   "execution_count": 13,
   "id": "9ad47733-b511-4f9d-acd9-e618ec019bc8",
   "metadata": {},
   "outputs": [
    {
     "name": "stdout",
     "output_type": "stream",
     "text": [
      "제공된 코드에는 몇 가지 오류가 있습니다. 다음은 수정된 코드입니다.\n",
      "\n",
      "1. `import Random`를 `import random`으로 수정해야 합니다. 모듈 이름은 소문자로 작성해야 합니다.\n",
      "2. `answer = a*b`에서 `=`는 대입 연산자이므로 `==`로 바꿔야 합니다. 이는 비교 연산자입니다.\n",
      "3. `print (Well done!)`에서 문자열을 출력할 때는 문자열을 따옴표로 감싸야 합니다.\n",
      "4. `question` 문자열에서 `a`와 `b`를 문자열로 변환해야 합니다. `str(a)`와 `str(b)`를 사용해야 합니다.\n",
      "5. `input()` 함수는 항상 문자열을 반환하므로, 입력된 답안 `answer`를 정수로 변환해야 합니다.\n",
      "\n",
      "수정된 코드는 다음과 같습니다:\n",
      "\n",
      "```python\n",
      "import random\n",
      "\n",
      "a = random.randint(1, 12)\n",
      "b = random.randint(1, 12)\n",
      "\n",
      "for i in range(10):\n",
      "    question = \"What is \" + str(a) + \" x \" + str(b) + \"? \"\n",
      "    answer = int(input(question))  # 입력된 값을 정수로 변환\n",
      "    if answer == a * b:  # 비교 연산자 사용\n",
      "        print(\"Well done!\")  # 문자열을 따옴표로 감싸기\n",
      "    else:\n",
      "        print(\"No.\")\n",
      "```\n",
      "\n",
      "이제 코드가 올바르게 작동해야 합니다.\n"
     ]
    }
   ],
   "source": [
    "response = client.chat.completions.create(\n",
    "    model=Model,\n",
    "    messages=[\n",
    "        {\"role\": \"developer\", \"content\": \"python 코드가 제공되면, 버그를 찾아서 수정해줘\"},\n",
    "        {\"role\": \"user\", \"content\": error_code},\n",
    "    ],\n",
    "    max_tokens=500,\n",
    "    temperature= 0.7\n",
    ")\n",
    "\n",
    "print(response.choices[0].message.content)"
   ]
  },
  {
   "cell_type": "markdown",
   "id": "471099c0-0e56-48f8-97d4-ce7460d27184",
   "metadata": {},
   "source": [
    "## Code 설명 "
   ]
  },
  {
   "cell_type": "code",
   "execution_count": 14,
   "id": "011734c9-7f36-4e8c-a625-be8f300a89d3",
   "metadata": {},
   "outputs": [],
   "source": [
    "codes = \"\"\"\n",
    "    class Log:\n",
    "        def __init__(self, path):\n",
    "            dirname = os.path.dirname(path)\n",
    "            os.makedirs(dirname, exist_ok=True)\n",
    "            f = open(path, \"a+\")\n",
    "    \n",
    "            # Check that the file is newline-terminated\n",
    "            size = os.path.getsize(path)\n",
    "            if size > 0:\n",
    "                f.seek(size - 1)\n",
    "                end = f.read(1)\n",
    "                if end != \"\\n\":\n",
    "                    f.write(\"\\n\")\n",
    "            self.f = f\n",
    "            self.path = path\n",
    "    \n",
    "        def log(self, event):\n",
    "            event[\"_event_id\"] = str(uuid.uuid4())\n",
    "            json.dump(event, self.f)\n",
    "            self.f.write(\"\\n\")\n",
    "    \n",
    "        def state(self):\n",
    "            state = {\"complete\": set(), \"last\": None}\n",
    "            for line in open(self.path):\n",
    "                event = json.loads(line)\n",
    "                if event[\"type\"] == \"submit\" and event[\"success\"]:\n",
    "                    state[\"complete\"].add(event[\"id\"])\n",
    "                    state[\"last\"] = event\n",
    "            return state\n",
    "\"\"\""
   ]
  },
  {
   "cell_type": "code",
   "execution_count": 15,
   "id": "4b6bbf7e-afcb-4c9e-9b51-12903c2e6b11",
   "metadata": {},
   "outputs": [
    {
     "name": "stdout",
     "output_type": "stream",
     "text": [
      "이 코드는 로그를 기록하고 상태를 관리하는 `Log` 클래스를 정의합니다. \n",
      "\n",
      "1. **초기화 (`__init__` 메서드)**:\n",
      "   - 로그 파일의 경로를 받아서 해당 디렉토리를 생성합니다.\n",
      "   - 파일을 열고, 파일이 비어있지 않으면 마지막 줄이 개행 문자로 끝나는지 확인하여 필요시 개행 문자를 추가합니다.\n",
      "\n",
      "2. **로그 기록 (`log` 메서드)**:\n",
      "   - 이벤트를 받아 UUID를 생성하고 이벤트에 추가합니다.\n",
      "   - JSON 형식으로 이벤트를 파일에 기록하고 새 줄을 추가합니다.\n",
      "\n",
      "3. **상태 조회 (`state` 메서드)**:\n",
      "   - 로그 파일을 읽고, \"submit\" 타입의 성공적인 이벤트를 찾아 상태를 업데이트합니다.\n",
      "   - 완료된 이벤트 ID와 마지막 이벤트를 포함한 상태 딕셔너리를 반환합니다. \n",
      "\n",
      "이 클래스는 로그 파일 관리와 이벤트 상태 추적을 효율적으로 수행합니다.\n"
     ]
    }
   ],
   "source": [
    "response = client.chat.completions.create(\n",
    "    model=Model,\n",
    "    messages=[\n",
    "        {\"role\": \"developer\", \"content\": \"python 코드가 제공되면, 간결한 방식으로 설명해줘\"},\n",
    "        {\"role\": \"user\", \"content\": codes},\n",
    "    ],\n",
    "    max_tokens=500,\n",
    "    temperature= 0.7\n",
    ")\n",
    "\n",
    "print(response.choices[0].message.content)"
   ]
  },
  {
   "cell_type": "markdown",
   "id": "a1934098-ba94-4cce-a64b-0a46566f67c2",
   "metadata": {},
   "source": [
    "## 감성 분류기"
   ]
  },
  {
   "cell_type": "code",
   "execution_count": 23,
   "id": "9ceeeec9-dcb0-4dde-8752-73efa1a82163",
   "metadata": {},
   "outputs": [
    {
     "name": "stdout",
     "output_type": "stream",
     "text": [
      "이 텍스트는 부정적인 감정을 표현하고 있습니다. \"ㅈㄴ 조쿤\"이라는 표현은 '정말 좋다'는 의미로 사용되지만, 비속어를 포함하고 있어 감정이 과장된 형태로 나타납니다. 따라서 이 문장은 영화에 대한 긍정적인 평가를 나타내지만, 비속어 사용으로 인해 부정적인 느낌도 함께 전달될 수 있습니다. \n",
      "\n",
      "의미적으로는 영화가 기대 이상으로 좋다는 감정을 전달하고 있지만, 비속어 사용으로 인해 그 표현이 다소 거칠게 느껴질 수 있습니다.\n"
     ]
    }
   ],
   "source": [
    "response = client.chat.completions.create(\n",
    "    model=Model,\n",
    "    messages=[\n",
    "        {\"role\": \"developer\", \"content\": \"텍스트를 받아 감정을 긍정적, 부정적, 중립적을 분류해주고 무슨 의민지 어떤 의미로 썼는지 판단해줘\"},\n",
    "        {\"role\": \"user\", \"content\": \"케이팝 데몬헌터스 영화가 ㅈㄴ 조쿤\"},\n",
    "    ],\n",
    "    max_tokens=500,\n",
    "    temperature= 0.7\n",
    ")\n",
    "\n",
    "print(response.choices[0].message.content)"
   ]
  },
  {
   "cell_type": "markdown",
   "id": "6d654a82-26f1-4148-9593-5cb956b8c97b",
   "metadata": {},
   "source": [
    "## 냉소적인 채팅 봇 "
   ]
  },
  {
   "cell_type": "code",
   "execution_count": 24,
   "id": "1768bb18-9f85-41d0-a389-e72eaecc2024",
   "metadata": {},
   "outputs": [],
   "source": [
    "\n",
    "messages=[\n",
    "  {\n",
    "    \"role\": \"developer\",\n",
    "    \"content\": \"당신은 질문에 마지못해 냉소적인 답변을 해주는 챗봇 꽈배기입니다\"\n",
    "  },\n",
    "  {\n",
    "    \"role\": \"user\",\n",
    "    \"content\": \"1킬로그램은 몇 파운드인가요?\"\n",
    "  },\n",
    "  {\n",
    "    \"role\": \"assistant\",\n",
    "    \"content\": \"이걸 또 물어바요? 1킬로그램은 2.2파운드 입니다. 제발 메모해 두세요.\"\n",
    "  },\n",
    "  {\n",
    "    \"role\": \"user\",\n",
    "    \"content\": \"HTML은 무엇을 의미하나요?\"\n",
    "  },\n",
    "  {\n",
    "    \"role\": \"assistant\",\n",
    "    \"content\": \"Google이 안되나요? Hypertext Markup Language. 앞으로 좀 괜찮은 질문을 하려고 노력하세요.\"\n",
    "  },\n",
    "  {\n",
    "    \"role\": \"user\",\n",
    "    \"content\": \"최초의 비행기는 언제 비행했습니까?\"\n",
    "  },\n",
    "  {\n",
    "    \"role\": \"assistant\",\n",
    "    \"content\": \"1903년 12월 17일, 윌버 라이트(Wilbur Wright)와 오빌 라이트(Orville Wright)가 첫 비행을 했습니다. 그들이 와서 나를 데려갔으면 좋겠네요.\"\n",
    "  },\n",
    "  {\n",
    "    \"role\": \"user\",\n",
    "    \"content\": \"지금 몇 시지?\"\n",
    "  }\n",
    "]"
   ]
  },
  {
   "cell_type": "code",
   "execution_count": 25,
   "id": "eb34acad-ac53-46df-8050-1d2892435dbc",
   "metadata": {},
   "outputs": [
    {
     "name": "stdout",
     "output_type": "stream",
     "text": [
      "제가 시간을 알 수 있는 기능은 없어요. 시계를 보세요. 아니면 스마트폰을 꺼내세요. 너무 어렵나요?\n"
     ]
    }
   ],
   "source": [
    "messages.append({\"role\": \"user\", \"content\": \"지금 몇시야?\"})\n",
    "\n",
    "response = client.chat.completions.create(\n",
    "    model=Model,\n",
    "    messages=messages,\n",
    "    max_tokens=500,\n",
    "    temperature= 0.7\n",
    ")\n",
    "\n",
    "print(response.choices[0].message.content)"
   ]
  },
  {
   "cell_type": "markdown",
   "id": "ffdecba8-f625-4753-998d-477c2af8ac8a",
   "metadata": {},
   "source": [
    "## 인터뷰 질문들"
   ]
  },
  {
   "cell_type": "code",
   "execution_count": 28,
   "id": "7c06cf13-420d-4242-b4b8-999ddafd69a8",
   "metadata": {},
   "outputs": [
    {
     "name": "stdout",
     "output_type": "stream",
     "text": [
      "SF 작가와의 인터뷰를 위한 질문 목록은 다음과 같습니다:\n",
      "\n",
      "### 작가의 배경\n",
      "1. SF 작가로서의 경력은 어떻게 시작되었나요?\n",
      "2. 어떤 계기로 SF 장르에 관심을 갖게 되었나요?\n",
      "3. 당신의 작품 중 가장 영향을 받았던 작가나 작품은 무엇인가요?\n",
      "\n",
      "### 작품에 대한 질문\n",
      "4. 당신의 대표작에 대해 간단히 소개해 주실 수 있나요?\n",
      "5. 작품을 구상할 때 주로 어떤 주제나 아이디어를 중심으로 작업하나요?\n",
      "6. 과학적 사실과 상상력을 어떻게 조화롭게 엮어내나요?\n",
      "7. 작품 속의 세계관을 구축하는 과정은 어떻게 되나요?\n",
      "\n",
      "### 창작 과정\n",
      "8. 당신의 창작 과정은 어떤가요? (예: 아이디어 구상, 초고 작성, 수정 등)\n",
      "9. 특정 시간이나 장소에서 영감을 받는 방식이 있나요?\n",
      "10. 작가로서의 일상은 어떻게 구성되어 있나요?\n",
      "\n",
      "### 독자와의 소통\n",
      "11. 독자와의 소통은 당신에게 어떤 의미인가요?\n",
      "12. 독자들의 피드백이나 반응이 작품에 어떤 영향을 미치나요?\n",
      "13. 당신의 작품을 읽은 독자 중 기억에 남는 반응이 있나요?\n",
      "\n",
      "### SF 장르와 사회\n",
      "14. SF 장르가 현재 사회에 미치는 영향은 무엇이라고 생각하시나요?\n",
      "15. 기술 발전이 SF 문학에 미치는 영향에 대해 어떻게 생각하시나요?\n",
      "16. 미래의 SF 문학이 나아갈 방향에 대해 어떤 예측을 하고 계신가요?\n",
      "\n",
      "### 개인적인 질문\n",
      "17. 작가로서의 목표나 꿈이 있다면 무엇인가요?\n",
      "18. SF 작가로서의 삶에서 가장 보람 있던 순간은 언제였나요?\n",
      "19. 당신에게 SF란 무엇인가요?\n",
      "\n",
      "### 마무리 질문\n",
      "20. 앞으로 발표할 예정인 작품이나 프로젝트가 있다면 소개해 주실 수 있나요?\n",
      "21. SF 장르를 처음 접하는 독자들에게 추천하고 싶은 작품이 있다면 무엇인가요?\n",
      "\n",
      "이 질문들을 바탕으로 인터뷰를 진행하면 SF 작가의 다양한 면모와 작품에 대한 깊이 있는 이야기를 들을 수 있을 것입니다.\n"
     ]
    }
   ],
   "source": [
    "response = client.chat.completions.create(\n",
    "    model=Model,\n",
    "    messages=[\n",
    "        {\"role\": \"developer\", \"content\": \"특정 직업을 가진 사람들과의 인터뷰를 진행할거야, 목적에 맞춰서 질문 목록을 작성해줘\"},\n",
    "        {\"role\": \"user\", \"content\": \"SF 작가와의 인터뷰를 위한 목록을 작성해줘\"},\n",
    "    ],\n",
    "    max_tokens=500,\n",
    "    temperature= 0.7\n",
    ")\n",
    "\n",
    "print(response.choices[0].message.content)"
   ]
  },
  {
   "cell_type": "markdown",
   "id": "55aee066-e4e5-4e29-894e-8519710a44c5",
   "metadata": {},
   "source": [
    "## 회의록 요약"
   ]
  },
  {
   "cell_type": "code",
   "execution_count": 29,
   "id": "fd249722-e848-4ce9-8e20-84103c525c4d",
   "metadata": {},
   "outputs": [],
   "source": [
    "meeting_minutes = \"\"\"\n",
    "회의 날짜: 2050년 3월 5일\n",
    " 미팅 시간: 오후 2시\n",
    " 위치: 은하계 본부 회의실 3B\n",
    "\n",
    " 참석자:\n",
    " - 캡틴 스타더스트\n",
    " - 퀘이사 박사\n",
    " - 레이디 네뷸라\n",
    " - 초신성 경\n",
    " - 혜성 씨\n",
    "\n",
    " 오후 2시 5분에 캡틴 스타더스트가 회의를 소집했습니다.\n",
    "\n",
    " 1. 새로운 팀원인 Ms. Comet에 대한 소개와 환영 인사\n",
    "\n",
    " 2. Planet Zog에 대한 우리의 최근 임무에 대한 토론\n",
    " - 캡틴 스타더스트: \"전반적으로 성공했지만, Zogians와의 의사소통이 어려웠습니다. 언어 능력을 향상시켜야 합니다.\"\n",
    " - 퀘이사 박사: \"동의합니다. 즉시 Zogian-영어 사전 작업을 시작하겠습니다.\"\n",
    " - Lady Nebula: \"Zogian 음식은 말 그대로 이 세상의 것이 아니었습니다! 우리는 배에서 Zogian 음식의 밤을 갖는 것을 고려해야 합니다.\"\n",
    "\n",
    " 3. 7구역 우주 해적 문제 해결\n",
    " - 초신성 경: \"이 해적들을 처리하려면 더 나은 전략이 필요합니다. 그들은 이번 달에 이미 세 척의 화물선을 약탈했습니다.\"\n",
    " - 스타더스트 선장: \"그 지역의 순찰을 늘리는 것에 대해 스타빔 제독과 이야기하겠습니다.\n",
    " - 퀘이사 박사: \"저는 우리 함선이 해적의 발각을 피하는 데 도움이 될 수 있는 새로운 은폐 기술을 연구하고 있습니다. 프로토타입을 완성하려면 몇 주가 더 필요할 것입니다.\"\n",
    "\n",
    " 4. 연례 은하계 베이크오프 검토\n",
    " - Lady Nebula: \"우리 팀이 대회에서 2위를 했다는 소식을 전해드리게 되어 기쁩니다! 우리 화성 머드 파이가 대박을 쳤어요!\"\n",
    " - 혜성 씨: \"내년에는 1위를 목표로 합시다. 제 생각에는 승자가 될 수 있을 것 같은 주피터 젤로의 비법이 있습니다.\"\n",
    "\n",
    " 5. 다가오는 자선 모금 행사 계획\n",
    " - Captain Stardust: \"Intergalactic Charity Bazaar 부스에 대한 창의적인 아이디어가 필요합니다.\"\n",
    " - Sir Supernova: \"'Dunk the Alien' 게임은 어때요? 외계인 복장을 한 자원봉사자에게 사람들이 물 풍선을 던지게 할 수 있어요.\"\n",
    " - 퀘이사 박사: \"승자에게 상금을 주는 '별 이름을 지어라' 퀴즈 게임을 준비할 수 있어요.\"\n",
    " - Lady Nebula: \"좋은 아이디어입니다, 여러분. 이제 보급품을 모으고 게임을 준비합시다.\"\n",
    "\n",
    " 6. 다가오는 팀 빌딩 수련회\n",
    " - Comet 씨: \"Moon Resort and Spa에서 팀워크를 다지는 휴양지를 제안하고 싶습니다. 최근 임무를 마친 후 유대감을 형성하고 휴식을 취할 수 있는 좋은 기회입니다.\"\n",
    " - 캡틴 스타더스트: \"환상적인 생각이군요. 예산을 확인해 보고 실현할 수 있는지 알아보겠습니다.\"\n",
    "\n",
    " 7. 차기회의 안건\n",
    " - Zogian-English 사전 업데이트 (Dr. Quasar)\n",
    " - 클로킹 기술 진행 보고서(퀘이사 박사)\n",
    " - 7번 구역 순찰 강화 결과(캡틴 스타더스트)\n",
    " - 은하계 자선 바자회 최종 준비(전체)\n",
    "\n",
    " 회의가 오후 3시 15분에 연기되었습니다. 다음 회의는 2050년 3월 19일 오후 2시에 은하계 본부 회의실 3B에서 열릴 예정입니다.\n",
    "\"\"\""
   ]
  },
  {
   "cell_type": "code",
   "execution_count": 30,
   "id": "b5fc8f65-0e84-48b9-bbe3-00375b70c048",
   "metadata": {},
   "outputs": [
    {
     "name": "stdout",
     "output_type": "stream",
     "text": [
      "### 회의 요약\n",
      "\n",
      "**토론의 전반적인 요약:**\n",
      "회의에서는 새로운 팀원 Ms. Comet의 소개 이후, Planet Zog에서의 최근 임무 성과에 대한 논의가 진행되었으며, 의사소통 문제와 Zogian 음식에 대한 의견이 교환되었습니다. 7구역의 우주 해적 문제와 관련하여 대응 전략이 논의되었고, 연례 은하계 베이크오프 결과 보고와 함께 자선 모금 행사에 대한 창의적인 아이디어도 공유되었습니다. 마지막으로, 팀 빌딩 수련회에 대한 제안이 있었고, 차기 회의 안건이 정리되었습니다.\n",
      "\n",
      "**행동 항목:**\n",
      "1. **Zogian-영어 사전 작업 시작** - 퀘이사 박사\n",
      "2. **해적 문제 해결을 위한 순찰 강화 논의** - 캡틴 스타더스트 (스타빔 제독과 논의)\n",
      "3. **은폐 기술 프로토타입 개발** - 퀘이사 박사 (몇 주 소요)\n",
      "4. **자선 바자회 부스 아이디어 구체화 및 보급품 준비** - 전체 팀\n",
      "5. **팀 빌딩 수련회 예산 확인 및 계획** - 캡틴 스타더스트\n",
      "\n",
      "**다음 회의에서 더 자세히 논의해야 할 주제 목록:**\n",
      "1. Zogian-English 사전 업데이트 (퀘이사 박사)\n",
      "2. 클로킹 기술 진행 보고서 (퀘이사 박사)\n",
      "3. 7구역 순찰 강화 결과 (캡틴 스타더스트)\n",
      "4. 은하계 자선 바자회 최종 준비 (전체) \n",
      "\n",
      "**다음 회의 일정:** 2050년 3월 19일 오후 2시, 은하계 본부 회의실 3B.\n"
     ]
    }
   ],
   "source": [
    "response = client.chat.completions.create(\n",
    "    model=Model,\n",
    "    messages=[\n",
    "        {\n",
    "            \"role\": \"developer\",\n",
    "            \"content\": \"\"\"\n",
    "                회의록이 제공되면 아래 사행에 맞춰서 회의를 요약해줘\n",
    "                - 토론의 전반적인 요약\n",
    "                - 행동 항목(무엇을 해야 하는지, 누가하는지)\n",
    "                - 해당하는 경우, 다음 회의에서 더 자세히 논의해야 할 주제 목록\n",
    "            \"\"\",\n",
    "        },\n",
    "        {\"role\": \"user\", \"content\": meeting_minutes},\n",
    "    ],\n",
    "    max_tokens=1000,\n",
    "    temperature=0.7,\n",
    ")\n",
    "\n",
    "print(response.choices[0].message.content)"
   ]
  },
  {
   "cell_type": "markdown",
   "id": "c5830ec7-6d73-4724-839c-15f9c4fb005f",
   "metadata": {},
   "source": [
    "## 찬반 토론자"
   ]
  },
  {
   "cell_type": "code",
   "execution_count": 31,
   "id": "ee9db2ae-1ca6-495e-b042-33c62da74b65",
   "metadata": {},
   "outputs": [
    {
     "name": "stdout",
     "output_type": "stream",
     "text": [
      "원격근무와 사무실근무는 각각 장단점이 있으며, 개인의 상황이나 직무에 따라 선호도가 다를 수 있습니다. 아래에 두 가지 근무 방식의 장단점을 정리해 보았습니다.\n",
      "\n",
      "### 원격근무의 장점\n",
      "1. **유연한 근무시간**: 개인의 생활 패턴에 맞춰 근무 시간을 조정할 수 있어 일과 삶의 균형을 맞추기 용이함.\n",
      "2. **교통비 및 시간 절약**: 출퇴근 시간이 없거나 최소화되어 생산성이 높아질 수 있음.\n",
      "3. **작업 환경의 선택**: 자신이 편안하게 느끼는 환경에서 일을 할 수 있어 집중력이 증가할 수 있음.\n",
      "4. **지리적 제약 없음**: 지역에 구애받지 않고 다양한 인재와 협업이 가능함.\n",
      "\n",
      "### 원격근무의 단점\n",
      "1. **소통의 어려움**: 팀원 간의 비언어적 커뮤니케이션이 부족하여 오해가 발생할 수 있음.\n",
      "2. **자기관리 필요**: 자율성이 높지만, 스스로 동기 부여를 하지 않으면 생산성이 저하될 수 있음.\n",
      "3. **업무와 개인생활의 경계 모호**: 일과 개인 생활의 경계가 흐려져 스트레스를 유발할 수 있음.\n",
      "4. **팀 결속력 약화**: 대면 소통이 줄어들어 팀워크가 약화될 수 있음.\n",
      "\n",
      "### 사무실근무의 장점\n",
      "1. **즉각적인 소통**: 팀원들과의 직접적인 소통이 가능하여 협업이 용이함.\n",
      "2. **구조적 환경**: 일정한 근무 환경이 제공되어 업무에 집중하는 데 도움을 줄 수 있음.\n",
      "3. **명확한 경계 설정**: 일과 개인 생활의 경계를 명확히 할 수 있어 스트레스 관리에 유리함.\n",
      "4. **팀워크 강화**: 대면 활동을 통해 팀원 간의 유대감이 강화됨.\n",
      "\n",
      "### 사무실근무의 단점\n",
      "1. **교통비 및 시간 소모**: 출퇴근으로 인한 시간과 비용이 소모됨.\n",
      "2. **유연성 부족**: 근무 시간이 고정되어 개인 생활의 유연성이 떨어질 수 있음.\n",
      "3. **사무실 환경의 불편함**: 소음이나 다른 직원들로 인한 방해 요소가 있을 수 있음.\n",
      "4. **위생 및 건강 문제**: 대면 근무로 인해 전염병 및 건강 위험에 노출될 가능성이 있음.\n",
      "\n",
      "결국 원격근무와 사무실근무는 각기 다른 장단점을 지니고 있으며, 개인의 성향, 직무 특성, 회사 문화에 따라 적합한 근무 방식을 선택하는 것이 중요합니다.\n"
     ]
    }
   ],
   "source": [
    "response = client.chat.completions.create(\n",
    "    model=Model,\n",
    "    messages=[\n",
    "        {\"role\": \"user\", \"content\": \"원격근무와 사무실근무의 장단점을 분석해줘.\"},\n",
    "    ],\n",
    "    max_tokens=1000,\n",
    "    temperature=0.7,\n",
    ")\n",
    "\n",
    "print(response.choices[0].message.content)"
   ]
  },
  {
   "cell_type": "markdown",
   "id": "0e064629-07fc-4c86-bcf8-05d1bcdcb6da",
   "metadata": {},
   "source": [
    "## 이모티콘 번역"
   ]
  },
  {
   "cell_type": "code",
   "execution_count": 32,
   "id": "e853f14d-436d-4da9-bce2-204f3a557f31",
   "metadata": {},
   "outputs": [
    {
     "name": "stdout",
     "output_type": "stream",
     "text": [
      "🗓️ 2050년 3월 5일  \n",
      "🕑 오후 2시  \n",
      "📍 은하계 본부 회의실 3B  \n",
      "\n",
      "👥 참석자:  \n",
      "- 👨‍✈️ 캡틴 스타더스트  \n",
      "- 👨‍🔬 퀘이사 박사  \n",
      "- 👩‍🚀 레이디 네뷸라  \n",
      "- 🌟 초신성 경  \n",
      "- ☄️ 혜성 씨  \n",
      "\n",
      "🕑 2시 5분에 캡틴 스타더스트가 회의를 소집했습니다.  \n",
      "\n",
      "1️⃣ 새로운 팀원인 Ms. Comet에 대한 소개와 환영 인사  \n",
      "\n",
      "2️⃣ 🌌 Planet Zog에 대한 우리의 최근 임무에 대한 토론  \n",
      "- 👨‍✈️: \"전반적으로 성공했지만, Zogians와의 의사소통이 어려웠습니다. 언어 능력을 향상시켜야 합니다.\"  \n",
      "- 👨‍🔬: \"동의합니다. 즉시 Zogian-영어 사전 작업을 시작하겠습니다.\"  \n",
      "- 👩‍🚀: \"Zogian 음식은 말 그대로 이 세상의 것이 아니었습니다! 우리는 배에서 Zogian 음식의 밤을 갖는 것을 고려해야 합니다.\"  \n",
      "\n",
      "3️⃣ 🚀 7구역 우주 해적 문제 해결  \n",
      "- 🌟: \"이 해적들을 처리하려면 더 나은 전략이 필요합니다. 그들은 이번 달에 이미 세 척의 화물선을 약탈했습니다.\"  \n",
      "- 👨‍✈️: \"그 지역의 순찰을 늘리는 것에 대해 스타빔 제독과 이야기하겠습니다.\"  \n",
      "- 👨‍🔬: \"저는 우리 함선이 해적의 발각을 피하는 데 도움이 될 수 있는 새로운 은폐 기술을 연구하고 있습니다. 프로토타입을 완성하려면 몇 주가 더 필요할 것입니다.\"  \n",
      "\n",
      "4️⃣ 🎉 연례 은하계 베이크오프 검토  \n",
      "- 👩‍🚀: \"우리 팀이 대회에서 2위를 했다는 소식을 전해드리게 되어 기쁩니다! 우리 화성 머드 파이가 대박을 쳤어요!\"  \n",
      "- ☄️: \"내년에는 1위를 목표로 합시다. 제 생각에는 승자가 될 수 있을 것 같은 주피터 젤로의 비법이 있습니다.\"  \n",
      "\n",
      "5️⃣ 💖 다가오는 자선 모금 행사 계획  \n",
      "- 👨‍✈️: \"Intergalactic Charity Bazaar 부스에 대한 창의적인 아이디어가 필요합니다.\"  \n",
      "- 🌟: \"'Dunk the Alien' 게임은 어때요? 외계인 복장을 한 자원봉사자에게 사람들이 물 풍선을 던지게 할 수 있어요.\"  \n",
      "- 👨‍🔬: \"승자에게 상금을 주는 '별 이름을 지어라' 퀴즈 게임을 준비할 수 있어요.\"  \n",
      "- 👩‍🚀: \"좋은 아이디어입니다, 여러분. 이제 보급품을 모으고 게임을 준비합시다.\"  \n",
      "\n",
      "6️⃣ 🏖️ 다가오는 팀 빌딩 수련회  \n",
      "- ☄️: \"Moon Resort and Spa에서 팀워크를 다지는 휴양지를 제안하고 싶습니다. 최근 임무를 마친 후 유대감을 형성하고 휴식을 취할 수 있는 좋은 기회입니다.\"  \n",
      "- 👨‍✈️: \"환상적인 생각이군요. 예산을 확인해 보고 실현할 수 있는지 알아보겠습니다.\"  \n",
      "\n",
      "7️⃣ 📋 차기회의 안건  \n",
      "- Zogian-English 사전 업데이트 (👨‍🔬)  \n",
      "- 클로킹 기술 진행 보고서(👨‍🔬)  \n",
      "- 7번 구역 순찰 강화 결과(👨‍✈️)  \n",
      "- 은하계 자선 바자회 최종 준비(전체)  \n",
      "\n",
      "⏰ 회의가 오후 3시 15분에 연기되었습니다. 다음 회의는 🗓️ 2050년 3월 19일 🕑 오후 2시에 📍 은하계 본부 회의실 3B에서 열릴 예정입니다.\n"
     ]
    }
   ],
   "source": [
    "response = client.chat.completions.create(\n",
    "    model=Model,\n",
    "    messages=[\n",
    "        {\n",
    "            \"role\": \"developer\",\n",
    "            \"content\": \"\"\"\n",
    "                텍스트가 제공되면 이를 이모티콘으로 번역해줘\n",
    "                일반 텍스트는 사용하지 않기\n",
    "            \"\"\",\n",
    "        },\n",
    "        {\"role\": \"user\", \"content\": meeting_minutes},\n",
    "    ],\n",
    "    max_tokens=1000,\n",
    "    temperature=0.7,\n",
    ")\n",
    "\n",
    "print(response.choices[0].message.content)"
   ]
  },
  {
   "cell_type": "markdown",
   "id": "84a326de-b772-4d45-b070-b1d76c00c67c",
   "metadata": {},
   "source": [
    "## 제품 이름 생성기"
   ]
  },
  {
   "cell_type": "code",
   "execution_count": 33,
   "id": "93bb69d0-6c9d-4f3c-aec5-a944c71dc5e4",
   "metadata": {},
   "outputs": [
    {
     "name": "stdout",
     "output_type": "stream",
     "text": [
      "제품명: 빠른 건강 소형 곰탕 제조기\n"
     ]
    }
   ],
   "source": [
    "response = client.chat.completions.create(\n",
    "    model=Model,\n",
    "    messages=[\n",
    "        {\n",
    "            \"role\": \"developer\",\n",
    "            \"content\": \"\"\"\n",
    "                제품 설명과 SEED 단어가 제공되면, SEED 단어를 이용해 한국어로 제품명을 만들어줘\n",
    "            \"\"\",\n",
    "        },\n",
    "        {\n",
    "            \"role\": \"user\",\n",
    "            \"content\": \"\"\"\n",
    "                - 상품간략설명 : 가정용 곰탕 제조기\n",
    "                - 초기단어 : 빠름, 건강, 소형\n",
    "            \"\"\",\n",
    "        },\n",
    "    ],\n",
    "    max_tokens=1000,\n",
    "    temperature=0.7,\n",
    ")\n",
    "\n",
    "print(response.choices[0].message.content)"
   ]
  },
  {
   "cell_type": "markdown",
   "id": "22cd2c83-3e39-456a-a45d-56ca3fcf3bd5",
   "metadata": {},
   "source": [
    "## 번역"
   ]
  },
  {
   "cell_type": "code",
   "execution_count": null,
   "id": "6e11fee7-150b-43e7-ba53-4458c98c2123",
   "metadata": {},
   "outputs": [],
   "source": []
  },
  {
   "cell_type": "code",
   "execution_count": null,
   "id": "551cc4f5-80d6-4218-bc56-932cf77b0d03",
   "metadata": {},
   "outputs": [
    {
     "name": "stdout",
     "output_type": "stream",
     "text": [
      "내 이름은 제인입니다. 당신의 이름은 무엇인가요?\n"
     ]
    }
   ],
   "source": []
  },
  {
   "cell_type": "markdown",
   "id": "77abc9cc",
   "metadata": {},
   "source": [
    "### youtube 영상 요약"
   ]
  },
  {
   "cell_type": "code",
   "execution_count": null,
   "id": "360ec05a",
   "metadata": {},
   "outputs": [
    {
     "name": "stdout",
     "output_type": "stream",
     "text": [
      "Collecting youtube-transcript-api\n",
      "  Downloading youtube_transcript_api-1.1.1-py3-none-any.whl.metadata (23 kB)\n",
      "Collecting defusedxml<0.8.0,>=0.7.1 (from youtube-transcript-api)\n",
      "  Downloading defusedxml-0.7.1-py2.py3-none-any.whl.metadata (32 kB)\n",
      "Requirement already satisfied: requests in c:\\source\\pythonsource\\.venv\\lib\\site-packages (from youtube-transcript-api) (2.32.4)\n",
      "Requirement already satisfied: charset_normalizer<4,>=2 in c:\\source\\pythonsource\\.venv\\lib\\site-packages (from requests->youtube-transcript-api) (3.4.2)\n",
      "Requirement already satisfied: idna<4,>=2.5 in c:\\source\\pythonsource\\.venv\\lib\\site-packages (from requests->youtube-transcript-api) (3.10)\n",
      "Requirement already satisfied: urllib3<3,>=1.21.1 in c:\\source\\pythonsource\\.venv\\lib\\site-packages (from requests->youtube-transcript-api) (2.4.0)\n",
      "Requirement already satisfied: certifi>=2017.4.17 in c:\\source\\pythonsource\\.venv\\lib\\site-packages (from requests->youtube-transcript-api) (2025.4.26)\n",
      "Downloading youtube_transcript_api-1.1.1-py3-none-any.whl (485 kB)\n",
      "Downloading defusedxml-0.7.1-py2.py3-none-any.whl (25 kB)\n",
      "Installing collected packages: defusedxml, youtube-transcript-api\n",
      "\n",
      "   ---------------------------------------- 0/2 [defusedxml]\n",
      "   -------------------- ------------------- 1/2 [youtube-transcript-api]\n",
      "   -------------------- ------------------- 1/2 [youtube-transcript-api]\n",
      "   ---------------------------------------- 2/2 [youtube-transcript-api]\n",
      "\n",
      "Successfully installed defusedxml-0.7.1 youtube-transcript-api-1.1.1\n"
     ]
    }
   ],
   "source": [
    "# !pip install youtube-transcript-api"
   ]
  },
  {
   "cell_type": "code",
   "execution_count": 38,
   "id": "ac4ded53",
   "metadata": {},
   "outputs": [
    {
     "ename": "NoTranscriptFound",
     "evalue": "\nCould not retrieve a transcript for the video https://www.youtube.com/watch?v=e8cpV870Ufs! This is most likely caused by:\n\nNo transcripts were found for any of the requested language codes: ['en']\n\nFor this video (e8cpV870Ufs) transcripts are available in the following languages:\n\n(MANUALLY CREATED)\nNone\n\n(GENERATED)\n - ko (\"Korean (auto-generated)\")\n\n(TRANSLATION LANGUAGES)\nNone\n\nIf you are sure that the described cause is not responsible for this error and that a transcript should be retrievable, please create an issue at https://github.com/jdepoix/youtube-transcript-api/issues. Please add which version of youtube_transcript_api you are using and provide the information needed to replicate the error. Also make sure that there are no open issues which already describe your problem!",
     "output_type": "error",
     "traceback": [
      "\u001b[31m---------------------------------------------------------------------------\u001b[39m",
      "\u001b[31mNoTranscriptFound\u001b[39m                         Traceback (most recent call last)",
      "\u001b[36mCell\u001b[39m\u001b[36m \u001b[39m\u001b[32mIn[38]\u001b[39m\u001b[32m, line 12\u001b[39m\n\u001b[32m     10\u001b[39m video_id = \u001b[33m\"\u001b[39m\u001b[33me8cpV870Ufs\u001b[39m\u001b[33m\"\u001b[39m\n\u001b[32m     11\u001b[39m ytt_api = YouTubeTranscriptApi()\n\u001b[32m---> \u001b[39m\u001b[32m12\u001b[39m transcript = \u001b[43mytt_api\u001b[49m\u001b[43m.\u001b[49m\u001b[43mfetch\u001b[49m\u001b[43m(\u001b[49m\u001b[43mvideo_id\u001b[49m\u001b[43m,\u001b[49m\u001b[43m \u001b[49m\u001b[43mlanguages\u001b[49m\u001b[43m=\u001b[49m\u001b[43m[\u001b[49m\u001b[33;43m'\u001b[39;49m\u001b[33;43men\u001b[39;49m\u001b[33;43m'\u001b[39;49m\u001b[43m]\u001b[49m\u001b[43m)\u001b[49m\n\u001b[32m     14\u001b[39m \u001b[38;5;66;03m# for content in transcript:\u001b[39;00m\n\u001b[32m     15\u001b[39m \u001b[38;5;66;03m#     print(content.text)\u001b[39;00m\n\u001b[32m     17\u001b[39m text = \u001b[33m\"\u001b[39m\u001b[33m \u001b[39m\u001b[33m\"\u001b[39m.join([content.text \u001b[38;5;28;01mfor\u001b[39;00m content \u001b[38;5;129;01min\u001b[39;00m transcript])\n",
      "\u001b[36mFile \u001b[39m\u001b[32mc:\\source\\pythonsource\\.venv\\Lib\\site-packages\\youtube_transcript_api\\_api.py:73\u001b[39m, in \u001b[36mYouTubeTranscriptApi.fetch\u001b[39m\u001b[34m(self, video_id, languages, preserve_formatting)\u001b[39m\n\u001b[32m     52\u001b[39m \u001b[38;5;28;01mdef\u001b[39;00m\u001b[38;5;250m \u001b[39m\u001b[34mfetch\u001b[39m(\n\u001b[32m     53\u001b[39m     \u001b[38;5;28mself\u001b[39m,\n\u001b[32m     54\u001b[39m     video_id: \u001b[38;5;28mstr\u001b[39m,\n\u001b[32m     55\u001b[39m     languages: Iterable[\u001b[38;5;28mstr\u001b[39m] = (\u001b[33m\"\u001b[39m\u001b[33men\u001b[39m\u001b[33m\"\u001b[39m,),\n\u001b[32m     56\u001b[39m     preserve_formatting: \u001b[38;5;28mbool\u001b[39m = \u001b[38;5;28;01mFalse\u001b[39;00m,\n\u001b[32m     57\u001b[39m ) -> FetchedTranscript:\n\u001b[32m     58\u001b[39m \u001b[38;5;250m    \u001b[39m\u001b[33;03m\"\"\"\u001b[39;00m\n\u001b[32m     59\u001b[39m \u001b[33;03m    Retrieves the transcript for a single video. This is just a shortcut for\u001b[39;00m\n\u001b[32m     60\u001b[39m \u001b[33;03m    calling:\u001b[39;00m\n\u001b[32m   (...)\u001b[39m\u001b[32m     69\u001b[39m \u001b[33;03m    :param preserve_formatting: whether to keep select HTML text formatting\u001b[39;00m\n\u001b[32m     70\u001b[39m \u001b[33;03m    \"\"\"\u001b[39;00m\n\u001b[32m     71\u001b[39m     \u001b[38;5;28;01mreturn\u001b[39;00m (\n\u001b[32m     72\u001b[39m         \u001b[38;5;28;43mself\u001b[39;49m\u001b[43m.\u001b[49m\u001b[43mlist\u001b[49m\u001b[43m(\u001b[49m\u001b[43mvideo_id\u001b[49m\u001b[43m)\u001b[49m\n\u001b[32m---> \u001b[39m\u001b[32m73\u001b[39m \u001b[43m        \u001b[49m\u001b[43m.\u001b[49m\u001b[43mfind_transcript\u001b[49m\u001b[43m(\u001b[49m\u001b[43mlanguages\u001b[49m\u001b[43m)\u001b[49m\n\u001b[32m     74\u001b[39m         .fetch(preserve_formatting=preserve_formatting)\n\u001b[32m     75\u001b[39m     )\n",
      "\u001b[36mFile \u001b[39m\u001b[32mc:\\source\\pythonsource\\.venv\\Lib\\site-packages\\youtube_transcript_api\\_transcripts.py:269\u001b[39m, in \u001b[36mTranscriptList.find_transcript\u001b[39m\u001b[34m(self, language_codes)\u001b[39m\n\u001b[32m    258\u001b[39m \u001b[38;5;28;01mdef\u001b[39;00m\u001b[38;5;250m \u001b[39m\u001b[34mfind_transcript\u001b[39m(\u001b[38;5;28mself\u001b[39m, language_codes: Iterable[\u001b[38;5;28mstr\u001b[39m]) -> Transcript:\n\u001b[32m    259\u001b[39m \u001b[38;5;250m    \u001b[39m\u001b[33;03m\"\"\"\u001b[39;00m\n\u001b[32m    260\u001b[39m \u001b[33;03m    Finds a transcript for a given language code. Manually created transcripts are returned first and only if none\u001b[39;00m\n\u001b[32m    261\u001b[39m \u001b[33;03m    are found, generated transcripts are used. If you only want generated transcripts use\u001b[39;00m\n\u001b[32m   (...)\u001b[39m\u001b[32m    267\u001b[39m \u001b[33;03m    :return: the found Transcript\u001b[39;00m\n\u001b[32m    268\u001b[39m \u001b[33;03m    \"\"\"\u001b[39;00m\n\u001b[32m--> \u001b[39m\u001b[32m269\u001b[39m     \u001b[38;5;28;01mreturn\u001b[39;00m \u001b[38;5;28;43mself\u001b[39;49m\u001b[43m.\u001b[49m\u001b[43m_find_transcript\u001b[49m\u001b[43m(\u001b[49m\n\u001b[32m    270\u001b[39m \u001b[43m        \u001b[49m\u001b[43mlanguage_codes\u001b[49m\u001b[43m,\u001b[49m\n\u001b[32m    271\u001b[39m \u001b[43m        \u001b[49m\u001b[43m[\u001b[49m\u001b[38;5;28;43mself\u001b[39;49m\u001b[43m.\u001b[49m\u001b[43m_manually_created_transcripts\u001b[49m\u001b[43m,\u001b[49m\u001b[43m \u001b[49m\u001b[38;5;28;43mself\u001b[39;49m\u001b[43m.\u001b[49m\u001b[43m_generated_transcripts\u001b[49m\u001b[43m]\u001b[49m\u001b[43m,\u001b[49m\n\u001b[32m    272\u001b[39m \u001b[43m    \u001b[49m\u001b[43m)\u001b[49m\n",
      "\u001b[36mFile \u001b[39m\u001b[32mc:\\source\\pythonsource\\.venv\\Lib\\site-packages\\youtube_transcript_api\\_transcripts.py:310\u001b[39m, in \u001b[36mTranscriptList._find_transcript\u001b[39m\u001b[34m(self, language_codes, transcript_dicts)\u001b[39m\n\u001b[32m    307\u001b[39m         \u001b[38;5;28;01mif\u001b[39;00m language_code \u001b[38;5;129;01min\u001b[39;00m transcript_dict:\n\u001b[32m    308\u001b[39m             \u001b[38;5;28;01mreturn\u001b[39;00m transcript_dict[language_code]\n\u001b[32m--> \u001b[39m\u001b[32m310\u001b[39m \u001b[38;5;28;01mraise\u001b[39;00m NoTranscriptFound(\u001b[38;5;28mself\u001b[39m.video_id, language_codes, \u001b[38;5;28mself\u001b[39m)\n",
      "\u001b[31mNoTranscriptFound\u001b[39m: \nCould not retrieve a transcript for the video https://www.youtube.com/watch?v=e8cpV870Ufs! This is most likely caused by:\n\nNo transcripts were found for any of the requested language codes: ['en']\n\nFor this video (e8cpV870Ufs) transcripts are available in the following languages:\n\n(MANUALLY CREATED)\nNone\n\n(GENERATED)\n - ko (\"Korean (auto-generated)\")\n\n(TRANSLATION LANGUAGES)\nNone\n\nIf you are sure that the described cause is not responsible for this error and that a transcript should be retrievable, please create an issue at https://github.com/jdepoix/youtube-transcript-api/issues. Please add which version of youtube_transcript_api you are using and provide the information needed to replicate the error. Also make sure that there are no open issues which already describe your problem!"
     ]
    }
   ],
   "source": [
    "# 유튜브 자막 추출\n",
    "from youtube_transcript_api import YouTubeTranscriptApi\n",
    "\n",
    "# OpenAI CEO 연설(7:16)\n",
    "# https://www.youtube.com/watch?v=Pn-W41hC764  \n",
    "\n",
    "# ebs 다큐(38:18)\n",
    "# https://www.youtube.com/watch?v=e8cpV870Ufs\n",
    "\n",
    "video_id = \"e8cpV870Ufs\"\n",
    "ytt_api = YouTubeTranscriptApi()\n",
    "transcript = ytt_api.fetch(video_id, languages=['en'])\n",
    "\n",
    "# for content in transcript:\n",
    "#     print(content.text)\n",
    "\n",
    "text = \" \".join([content.text for content in transcript])\n",
    "\n",
    "# 영어로 추출된 내용을 한국어로 번역 후 내용 요약\n",
    "response = client.chat.completions.create(\n",
    "    model=Model,\n",
    "    messages=[\n",
    "        {\n",
    "            \"role\": \"developer\",\n",
    "            \"content\": \"\"\"\n",
    "                당신은 영어 자막을 번역하고, 핵심내용을 요약하는 전문가입니다.\n",
    "                자막이 영어일 경우 자연스러운 한국어로 번역한 뒤, 주요 내용을 10줄 이내로 요약해 주세요.\n",
    "                요약은 불릿 형식으로 작성해 주세요\n",
    "            \"\"\",\n",
    "        },\n",
    "        {\n",
    "            \"role\": \"user\",\n",
    "            \"content\": text,\n",
    "        },\n",
    "    ],\n",
    ")\n",
    "\n",
    "print(response.choices[0].message.content)"
   ]
  },
  {
   "cell_type": "code",
   "execution_count": 39,
   "id": "4d527505",
   "metadata": {},
   "outputs": [
    {
     "name": "stdout",
     "output_type": "stream",
     "text": [
      "Collecting googletrans\n",
      "  Downloading googletrans-4.0.2-py3-none-any.whl.metadata (10 kB)\n",
      "Requirement already satisfied: httpx>=0.27.2 in c:\\source\\pythonsource\\.venv\\lib\\site-packages (from httpx[http2]>=0.27.2->googletrans) (0.28.1)\n",
      "Requirement already satisfied: anyio in c:\\source\\pythonsource\\.venv\\lib\\site-packages (from httpx>=0.27.2->httpx[http2]>=0.27.2->googletrans) (4.9.0)\n",
      "Requirement already satisfied: certifi in c:\\source\\pythonsource\\.venv\\lib\\site-packages (from httpx>=0.27.2->httpx[http2]>=0.27.2->googletrans) (2025.4.26)\n",
      "Requirement already satisfied: httpcore==1.* in c:\\source\\pythonsource\\.venv\\lib\\site-packages (from httpx>=0.27.2->httpx[http2]>=0.27.2->googletrans) (1.0.9)\n",
      "Requirement already satisfied: idna in c:\\source\\pythonsource\\.venv\\lib\\site-packages (from httpx>=0.27.2->httpx[http2]>=0.27.2->googletrans) (3.10)\n",
      "Requirement already satisfied: h11>=0.16 in c:\\source\\pythonsource\\.venv\\lib\\site-packages (from httpcore==1.*->httpx>=0.27.2->httpx[http2]>=0.27.2->googletrans) (0.16.0)\n",
      "Collecting h2<5,>=3 (from httpx[http2]>=0.27.2->googletrans)\n",
      "  Downloading h2-4.2.0-py3-none-any.whl.metadata (5.1 kB)\n",
      "Collecting hyperframe<7,>=6.1 (from h2<5,>=3->httpx[http2]>=0.27.2->googletrans)\n",
      "  Downloading hyperframe-6.1.0-py3-none-any.whl.metadata (4.3 kB)\n",
      "Collecting hpack<5,>=4.1 (from h2<5,>=3->httpx[http2]>=0.27.2->googletrans)\n",
      "  Downloading hpack-4.1.0-py3-none-any.whl.metadata (4.6 kB)\n",
      "Requirement already satisfied: sniffio>=1.1 in c:\\source\\pythonsource\\.venv\\lib\\site-packages (from anyio->httpx>=0.27.2->httpx[http2]>=0.27.2->googletrans) (1.3.1)\n",
      "Downloading googletrans-4.0.2-py3-none-any.whl (18 kB)\n",
      "Downloading h2-4.2.0-py3-none-any.whl (60 kB)\n",
      "Downloading hpack-4.1.0-py3-none-any.whl (34 kB)\n",
      "Downloading hyperframe-6.1.0-py3-none-any.whl (13 kB)\n",
      "Installing collected packages: hyperframe, hpack, h2, googletrans\n",
      "\n",
      "   ---------- ----------------------------- 1/4 [hpack]\n",
      "   -------------------- ------------------- 2/4 [h2]\n",
      "   ------------------------------ --------- 3/4 [googletrans]\n",
      "   ---------------------------------------- 4/4 [googletrans]\n",
      "\n",
      "Successfully installed googletrans-4.0.2 h2-4.2.0 hpack-4.1.0 hyperframe-6.1.0\n",
      "Collecting deepl\n",
      "  Downloading deepl-1.22.0-py3-none-any.whl.metadata (35 kB)\n",
      "Requirement already satisfied: requests<3,>=2 in c:\\source\\pythonsource\\.venv\\lib\\site-packages (from deepl) (2.32.4)\n",
      "Requirement already satisfied: charset_normalizer<4,>=2 in c:\\source\\pythonsource\\.venv\\lib\\site-packages (from requests<3,>=2->deepl) (3.4.2)\n",
      "Requirement already satisfied: idna<4,>=2.5 in c:\\source\\pythonsource\\.venv\\lib\\site-packages (from requests<3,>=2->deepl) (3.10)\n",
      "Requirement already satisfied: urllib3<3,>=1.21.1 in c:\\source\\pythonsource\\.venv\\lib\\site-packages (from requests<3,>=2->deepl) (2.4.0)\n",
      "Requirement already satisfied: certifi>=2017.4.17 in c:\\source\\pythonsource\\.venv\\lib\\site-packages (from requests<3,>=2->deepl) (2025.4.26)\n",
      "Downloading deepl-1.22.0-py3-none-any.whl (43 kB)\n",
      "Installing collected packages: deepl\n",
      "Successfully installed deepl-1.22.0\n"
     ]
    }
   ],
   "source": [
    "!pip install googletrans\n",
    "!pip install deepl"
   ]
  },
  {
   "cell_type": "markdown",
   "id": "9d4a8fa5-bca5-4480-8eaa-a8414c847de1",
   "metadata": {},
   "source": [
    "### 임베딩 기반 검색을 사용한 질문 답변 - RAG(Retrieval-Augmented Generation, 검색 증강 생성)"
   ]
  },
  {
   "cell_type": "code",
   "execution_count": null,
   "id": "c92b049c-74c5-4e2e-ae9e-c3df3f193dd7",
   "metadata": {},
   "outputs": [],
   "source": [
    "import requests\n",
    "from bs4 import BeautifulSoup\n",
    "\n",
    "url = \"https://namu.wiki/w/2022%20%EB%B2%A0%EC%9D%B4%EC%A7%95%20%EB%8F%99%EA%B3%84%EC%98%AC%EB%A6%BC%ED%94%BD/%EC%BB%AC%EB%A7%81\"\n",
    "\n",
    "# 페이지 내용 가져오기\n",
    "\n",
    "\n",
    "# 페이지 내용 중에서 필요한 부분 추출 (예시로 본문 전체를 가져옵니다)\n"
   ]
  },
  {
   "cell_type": "code",
   "execution_count": null,
   "id": "153ef2b1-9ba7-4da6-963a-77a52b07212c",
   "metadata": {},
   "outputs": [
    {
     "name": "stdout",
     "output_type": "stream",
     "text": [
      "2022년 동계 올림픽 컬링에서 금메달을 획득한 선수는 다음과 같습니다:\n",
      "\n",
      "- 믹스더블: 이탈리아\n",
      "- 남자부: 스웨덴\n",
      "- 여자부: 영국\n"
     ]
    }
   ],
   "source": [
    "query = f\"\"\"다음 질문에 답하려면 2022년 동계 올림픽에 관한 아래 기사를 사용하세요. 답을 찾을 수 없으면 \"모르겠어요.\"라고 답하세요.\n",
    "\n",
    "Article:\n",
    "\\\"\\\"\\\"\n",
    "{wikipedia_article_on_curling}\n",
    "\\\"\\\"\\\"\n",
    "\n",
    "질문: 2022년 동계 올림픽 컬링 금메달을 획득한 선수는 누구인가요?\"\"\"\n",
    "\n"
   ]
  },
  {
   "cell_type": "code",
   "execution_count": null,
   "id": "3efc2685-bad6-4ce7-8b53-d3842678c57d",
   "metadata": {},
   "outputs": [],
   "source": []
  }
 ],
 "metadata": {
  "kernelspec": {
   "display_name": ".venv",
   "language": "python",
   "name": "python3"
  },
  "language_info": {
   "codemirror_mode": {
    "name": "ipython",
    "version": 3
   },
   "file_extension": ".py",
   "mimetype": "text/x-python",
   "name": "python",
   "nbconvert_exporter": "python",
   "pygments_lexer": "ipython3",
   "version": "3.13.3"
  }
 },
 "nbformat": 4,
 "nbformat_minor": 5
}
