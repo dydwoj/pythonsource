{
 "cells": [
  {
   "cell_type": "markdown",
   "id": "d0159061-ae5d-49cb-8e0c-24a48087731c",
   "metadata": {},
   "source": [
    "# Prompt Examples\n",
    "\n",
    "- https://platform.openai.com/docs/examples 참조"
   ]
  },
  {
   "cell_type": "code",
   "execution_count": 1,
   "id": "989f8b65-992a-4c1c-b196-aa19cfff4e95",
   "metadata": {},
   "outputs": [
    {
     "data": {
      "text/plain": [
       "True"
      ]
     },
     "execution_count": 1,
     "metadata": {},
     "output_type": "execute_result"
    }
   ],
   "source": [
    "# env 파일 로드\n",
    "\n",
    "from dotenv import load_dotenv\n",
    "from openai import OpenAI\n",
    "\n",
    "load_dotenv()"
   ]
  },
  {
   "cell_type": "code",
   "execution_count": 2,
   "id": "9a83b1e3-b3f3-42f4-a73f-7bc62e3eb87a",
   "metadata": {},
   "outputs": [],
   "source": [
    "# OpenAI 객체 생성\n",
    "\n",
    "client = OpenAI()\n",
    "Model = \"gpt-4o-mini\""
   ]
  },
  {
   "cell_type": "markdown",
   "id": "ffdcbcad",
   "metadata": {},
   "source": [
    "### 내용 요약"
   ]
  },
  {
   "cell_type": "code",
   "execution_count": null,
   "id": "b7ad1d73",
   "metadata": {},
   "outputs": [
    {
     "name": "stdout",
     "output_type": "stream",
     "text": [
      "* 마흐무드 칼릴은 아이의 탄생 이후 첫 아버지의 날을 놓친 뒤 가족과 재회하였고, 그는 뉴저지에서 있었습니다.  \n",
      "* 그는 가족과 재회하며 이민자들의 권리를 옹호하기 위해 여전히 싸울 것을 다짐했습니다.  \n",
      "* 지원자들에게 감사한 마음을 전하며 팔레스타인과 이민자들을 위한 지속적인 지지를 강조했습니다.  \n"
     ]
    }
   ],
   "source": [
    "\n",
    "\n",
    "text =\"\"\"After missing the birth of his child, his first Father’s Day and spending more than three months away from his family, Mahmoud Khalil has been reunited with his loved ones.\n",
    "The Palestinian activist arrived in Newark, New Jersey, Saturday afternoon, a day after he was released from a Louisiana ICE detention center. \n",
    "He was seen embracing his wife and pushing the stroller of his newborn son after reuniting in a private area of the airport.\n",
    "“Still, the fight is far from over,” Khalil said while thanking his supporters at a news conference. \n",
    "“I continue to advocate for Palestinians, for the immigrants who are left behind in that facility.”\n",
    "\"\"\"\n",
    "\n",
    "role_content=\"\"\"\"\"\"\n",
    "\n",
    "\n"
   ]
  },
  {
   "cell_type": "markdown",
   "id": "fa00e875",
   "metadata": {},
   "source": [
    "### 광고 문구 생성"
   ]
  },
  {
   "cell_type": "code",
   "execution_count": 3,
   "id": "4d00cc73",
   "metadata": {},
   "outputs": [
    {
     "name": "stdout",
     "output_type": "stream",
     "text": [
      "1. \"촉촉함을 품은 자연, 맑은나라 알로에 수분으로 당신의 피부를 감싸주세요.\"\n",
      "2. \"친환경의 힘, 맑은나라의 알로에 수분이 깊숙이 흡수되어 당신의 피부를 지켜줍니다.\"\n",
      "3. \"당신의 피부에 자연을 담다, 맑은나라 알로에 수분으로 촉촉함을 경험하세요.\"\n",
      "4. \"자연이 선사하는 깊고 촉촉한 수분, 맑은나라로 피부의 숨결을 느껴보세요.\"\n",
      "5. \"친환경의 부드러운 터치, 알로에 수분으로 당신의 피부를 더욱 건강하게!\"\n"
     ]
    }
   ],
   "source": [
    "text =\"\"\"\n",
    "- 제품명 : 알로에 수분\n",
    "- 브랜드명 : 맑은나라\n",
    "- 브랜드 핵심 가치 : 친환경화장품\n",
    "- 톤엔 매너 : 감성적으로\n",
    "- 필수 포함 키워드 : 촉촉, 흡수, 친환경\n",
    "\"\"\"\n",
    "\n",
    "role_content=\"\"\"당신은 최고의 카피라이터입니다.\n",
    "사용자가 제시하는 내용을 참고해서 1~2줄 짜리 광고문구 5개 생성해주세요\n",
    "\"\"\"\n",
    "\n",
    "response = client.chat.completions.create(\n",
    "    model=Model,\n",
    "    messages=[\n",
    "        {\"role\":\"developer\",\"content\":role_content},\n",
    "        {\"role\":\"user\",\"content\":text},\n",
    "    ]\n",
    ")\n",
    "\n",
    "print(response.choices[0].message.content)"
   ]
  },
  {
   "cell_type": "markdown",
   "id": "6e00626d-ca14-411b-898f-856309a98b6d",
   "metadata": {},
   "source": [
    "## 문법 수정"
   ]
  },
  {
   "cell_type": "code",
   "execution_count": 4,
   "id": "9e304b90-0d30-4dca-89f4-4d7c46ae346c",
   "metadata": {},
   "outputs": [
    {
     "name": "stdout",
     "output_type": "stream",
     "text": [
      "그녀는 시장에 가지 않았어.\n"
     ]
    }
   ],
   "source": [
    "response = client.chat.completions.create(\n",
    "    model=Model,\n",
    "    messages=[\n",
    "        {\"role\":\"developer\",\"content\":\"받은 문장을 표준 한국어로 변환해줘\"},\n",
    "        {\"role\":\"user\",\"content\":\"안갔어 시장에 그녀는\"},\n",
    "    ]\n",
    ")\n",
    "\n",
    "print(response.choices[0].message.content)"
   ]
  },
  {
   "cell_type": "markdown",
   "id": "54f4415f-60b6-4308-aaf1-9f46dc634445",
   "metadata": {},
   "source": [
    "## 구조화되지 않은 데이터의 구문 분석"
   ]
  },
  {
   "cell_type": "code",
   "execution_count": 5,
   "id": "1a90e4b6-10c7-48bc-9da2-e617b32cef18",
   "metadata": {},
   "outputs": [],
   "source": [
    "text=\"\"\"최근 발견된 행성 구크럭스(Goocrux)에서는 많은 과일이 발견됐다. 그곳에서 자라는 네오스키즐이 있는데, 보라색이고 사탕 맛이 납니다.\n",
    "회색 빛이 도는 파란색 과일이고 매우 시큼하며 레몬과 약간 비슷한 로헤클(loheckles)도 있습니다.\n",
    "포유닛은 밝은 녹색을 띠며 단맛보다 풍미가 더 좋습니다. 네온 핑크색 맛과 솜사탕 같은 맛이 나는 루프노바도 많이 있습니다.\n",
    "마지막으로 글로울(glowls)이라는 과일이 있는데, 이 과일은 신맛과 부식성이 있는 매우 신맛과 쓴맛이 나며 옅은 오렌지색을 띠고 있습니다.\n",
    "\"\"\"\n"
   ]
  },
  {
   "cell_type": "code",
   "execution_count": 6,
   "id": "8e85a03c-135c-4908-b24e-622a0c408a71",
   "metadata": {},
   "outputs": [
    {
     "name": "stdout",
     "output_type": "stream",
     "text": [
      "아래는 제공된 정보를 바탕으로 구성한 CSV 형식의 데이터입니다.\n",
      "\n",
      "```csv\n",
      "과일 이름,색상,맛,설명\n",
      "네오스키즐,보라색,사탕 맛,\"보라색이며 사탕 맛이 나는 과일\"\n",
      "로헤클,회색빛이 도는 파란색,매우 시큼,\"레몬과 약간 비슷한 매우 시큼한 과일\"\n",
      "포유닛,밝은 녹색,단맛보다 풍미,\"단맛보다 풍미가 더 좋은 과일\"\n",
      "루프노바,네온 핑크색,솜사탕 같은 맛,\"네온 핑크색 맛과 솜사탕 같은 맛이 나는 과일\"\n",
      "글로울,옅은 오렌지색,신맛과 쓴맛,\"부식성이 있는 매우 신맛과 쓴맛이 나는 과일\"\n",
      "```\n",
      "\n",
      "이 CSV 파일은 각 과일의 이름, 색상, 맛, 설명을 포함하고 있습니다.\n"
     ]
    }
   ],
   "source": [
    "response = client.chat.completions.create(\n",
    "    model=Model,\n",
    "    messages=[\n",
    "        {\"role\":\"developer\",\"content\":\"구조화되지 않은 데이터가 제공되면 이걸 CSV로 변환해줘\"},\n",
    "        {\"role\":\"user\",\"content\":text},\n",
    "    ],\n",
    "    max_tokens=500,\n",
    "    temperature=0.7\n",
    ")\n",
    "\n",
    "print(response.choices[0].message.content)"
   ]
  },
  {
   "cell_type": "markdown",
   "id": "05e0d9c0-12f4-4ed8-aaf8-a704505fcb98",
   "metadata": {},
   "source": [
    "## Keyword 추출 "
   ]
  },
  {
   "cell_type": "code",
   "execution_count": 7,
   "id": "fac052fa-6db9-4b98-a995-8fe8eb32ee60",
   "metadata": {},
   "outputs": [],
   "source": [
    "text=\"\"\"\n",
    "블랙 온 블랙 도자기(Black-on-Black ware)는 뉴멕시코 북부의 푸에블로 원주민 도자기 예술가들이 개발한 20세기 및 21세기 도자기 전통입니다.\n",
    "전통적인 환원 소성 블랙웨어는 푸에블로 예술가들에 의해 수세기 동안 만들어졌습니다.\n",
    "지난 세기의 흑색 자기는 표면이 매끄럽고 선택적 버니싱이나 내화 슬립을 적용하여 디자인을 적용한 제품입니다. \n",
    "또 다른 스타일은 디자인을 조각하거나 절개하고 융기된 부분을 선택적으로 연마하는 것입니다.\n",
    "여러 세대에 걸쳐 Kha'po Owingeh와 P'ohwhóge Owingeh 푸에블로의 여러 가족은 여주인 도예가들로부터 전수받은 기술을 사용하여\n",
    "검은 바탕에 검은 도자기를 만들어 왔습니다. 다른 푸에블로 출신의 예술가들도 검정색 바탕에 검정색 도자기를 제작했습니다.\n",
    "몇몇 현대 예술가들은 조상의 도자기를 기리는 작품을 만들었습니다.\n",
    "\"\"\"    "
   ]
  },
  {
   "cell_type": "code",
   "execution_count": 8,
   "id": "6e9c970c-d280-4d5c-a4d8-bf9ab8ffe51a",
   "metadata": {},
   "outputs": [
    {
     "name": "stdout",
     "output_type": "stream",
     "text": [
      "- 블랙 온 블랙 도자기\n",
      "- 푸에블로 원주민\n",
      "- 뉴멕시코\n",
      "- 도자기 예술\n",
      "- 전통적인 환원 소성\n",
      "- 블랙웨어\n",
      "- 흑색 자기\n",
      "- 버니싱\n",
      "\n"
     ]
    }
   ],
   "source": [
    "response = client.chat.completions.create(\n",
    "    model=Model,\n",
    "    messages=[\n",
    "        {\"role\":\"developer\",\"content\":\"텍스트가 제공되면 그 텍스트에서 키워드 목록 추출하기\"},\n",
    "        {\"role\":\"user\",\"content\":text},\n",
    "    ],\n",
    "    max_tokens=60,\n",
    "    temperature=0.7\n",
    ")\n",
    "\n",
    "print(response.choices[0].message.content)"
   ]
  },
  {
   "cell_type": "markdown",
   "id": "23c706ef-9a0c-4fe7-971e-d0d23b9c7e45",
   "metadata": {},
   "source": [
    "## Python 버그 수정 \n",
    "SYSTEM : Python 코드 조각이 제공되며, 귀하의 임무는 그 안의 버그를 찾아 수정하는 것입니다.  \n",
    "USER : \n",
    "```Python\n",
    "    import Random\n",
    "    a = random.randint(1,12)\n",
    "    b = random.randint(1,12)\n",
    "    for i in range(10):\n",
    "        question = \"What is \"+a+\" x \"+b+\"? \"\n",
    "        answer = input(question)\n",
    "        if answer = a*b\n",
    "            print (Well done!)\n",
    "        else:\n",
    "            print(\"No.\")\n",
    "```"
   ]
  },
  {
   "cell_type": "code",
   "execution_count": 9,
   "id": "85b6d7d7-83e5-4a1a-b70c-52a7ed01ae74",
   "metadata": {},
   "outputs": [],
   "source": [
    "error_code=\"\"\"\n",
    "            import Random\n",
    "            a = random.randint(1,12)\n",
    "            b = random.randint(1,12)\n",
    "            for i in range(10):\n",
    "                question = \"What is \"+a+\" x \"+b+\"? \"\n",
    "                answer = input(question)\n",
    "                if answer = a*b\n",
    "                    print (Well done!)\n",
    "                else:\n",
    "                    print(\"No.\")\n",
    "      \"\"\""
   ]
  },
  {
   "cell_type": "code",
   "execution_count": 10,
   "id": "9ad47733-b511-4f9d-acd9-e618ec019bc8",
   "metadata": {},
   "outputs": [
    {
     "name": "stdout",
     "output_type": "stream",
     "text": [
      "코드에 몇 가지 버그가 있습니다. 다음은 수정된 코드입니다:\n",
      "\n",
      "1. `import Random` 대신 `import random`로 수정해야 합니다. 모듈 이름은 소문자로 작성해야 합니다.\n",
      "2. `a`와 `b`는 정수형인데, 문자열과 결합하려고 하면 오류가 발생합니다. `str()` 함수를 사용하여 정수형을 문자열로 변환해야 합니다.\n",
      "3. `if answer = a*b`에서 `=`는 할당 연산자이며, 비교를 위해서는 `==`를 사용해야 합니다.\n",
      "4. `print (Well done!)`에서 문자열을 출력하기 위해서는 문자열을 따옴표로 감싸야 합니다.\n",
      "\n",
      "수정된 코드는 다음과 같습니다:\n",
      "\n",
      "```python\n",
      "import random\n",
      "\n",
      "a = random.randint(1, 12)\n",
      "b = random.randint(1, 12)\n",
      "\n",
      "for i in range(10):\n",
      "    question = \"What is \" + str(a) + \" x \" + str(b) + \"? \"\n",
      "    answer = input(question)\n",
      "    \n",
      "    if int(answer) == a * b:\n",
      "        print(\"Well done!\")\n",
      "    else:\n",
      "        print(\"No.\")\n",
      "```\n",
      "\n",
      "이제 코드는 제대로 작동할 것입니다. 사용자가 입력한 답변을 정수형으로 변환하는 것도 잊지 마세요.\n"
     ]
    }
   ],
   "source": [
    "response = client.chat.completions.create(\n",
    "    model=Model,\n",
    "    messages=[\n",
    "        {\"role\":\"developer\",\"content\":\"python 코드가 제공되면, 버그를 찾아서 수정해줘\"},\n",
    "        {\"role\":\"user\",\"content\":error_code},\n",
    "    ],\n",
    "    max_tokens=500,\n",
    "    temperature=0.7\n",
    ")\n",
    "\n",
    "print(response.choices[0].message.content)"
   ]
  },
  {
   "cell_type": "markdown",
   "id": "471099c0-0e56-48f8-97d4-ce7460d27184",
   "metadata": {},
   "source": [
    "## Code 설명 "
   ]
  },
  {
   "cell_type": "code",
   "execution_count": 11,
   "id": "011734c9-7f36-4e8c-a625-be8f300a89d3",
   "metadata": {},
   "outputs": [],
   "source": [
    "codes = \"\"\"\n",
    "    class Log:\n",
    "        def __init__(self, path):\n",
    "            dirname = os.path.dirname(path)\n",
    "            os.makedirs(dirname, exist_ok=True)\n",
    "            f = open(path, \"a+\")\n",
    "    \n",
    "            # Check that the file is newline-terminated\n",
    "            size = os.path.getsize(path)\n",
    "            if size > 0:\n",
    "                f.seek(size - 1)\n",
    "                end = f.read(1)\n",
    "                if end != \"\\n\":\n",
    "                    f.write(\"\\n\")\n",
    "            self.f = f\n",
    "            self.path = path\n",
    "    \n",
    "        def log(self, event):\n",
    "            event[\"_event_id\"] = str(uuid.uuid4())\n",
    "            json.dump(event, self.f)\n",
    "            self.f.write(\"\\n\")\n",
    "    \n",
    "        def state(self):\n",
    "            state = {\"complete\": set(), \"last\": None}\n",
    "            for line in open(self.path):\n",
    "                event = json.loads(line)\n",
    "                if event[\"type\"] == \"submit\" and event[\"success\"]:\n",
    "                    state[\"complete\"].add(event[\"id\"])\n",
    "                    state[\"last\"] = event\n",
    "            return state\n",
    "\"\"\""
   ]
  },
  {
   "cell_type": "code",
   "execution_count": 12,
   "id": "4b6bbf7e-afcb-4c9e-9b51-12903c2e6b11",
   "metadata": {},
   "outputs": [
    {
     "name": "stdout",
     "output_type": "stream",
     "text": [
      "이 코드는 로그를 작성하고 상태를 추적하는 `Log` 클래스를 정의합니다.\n",
      "\n",
      "1. **초기화 (`__init__` 메서드)**:\n",
      "   - 로그 파일 경로를 받아서 해당 경로의 디렉토리를 생성합니다. \n",
      "   - 로그 파일을 \"a+\" 모드로 열고, 파일이 비어있지 않다면 마지막 줄에 줄바꿈 문자가 있는지 확인하여 없으면 추가합니다.\n",
      "\n",
      "2. **로그 기록 (`log` 메서드)**:\n",
      "   - 이벤트에 고유 ID를 생성하여 추가한 후, JSON 형식으로 로그 파일에 기록하고 줄바꿈을 추가합니다.\n",
      "\n",
      "3. **상태 확인 (`state` 메서드)**:\n",
      "   - 로그 파일을 읽어 \"submit\" 타입의 성공한 이벤트를 추적하여, 완료된 이벤트의 ID와 마지막 이벤트를 포함하는 상태 정보를 반환합니다.\n",
      "\n",
      "이 클래스는 이벤트 로그를 효율적으로 관리하고, 특정 상태를 분석하는 데 유용합니다.\n"
     ]
    }
   ],
   "source": [
    "response = client.chat.completions.create(\n",
    "    model=Model,\n",
    "    messages=[\n",
    "        {\"role\":\"developer\",\"content\":\"코드를 받으면 간결한 방식으로 설명해줘\"},\n",
    "        {\"role\":\"user\",\"content\": codes},\n",
    "    ],\n",
    "    max_tokens=500,\n",
    "    temperature=0.7\n",
    ")\n",
    "\n",
    "print(response.choices[0].message.content)"
   ]
  },
  {
   "cell_type": "markdown",
   "id": "a1934098-ba94-4cce-a64b-0a46566f67c2",
   "metadata": {},
   "source": [
    "## 감성 분류기"
   ]
  },
  {
   "cell_type": "code",
   "execution_count": 13,
   "id": "d9c959ce-c320-4ec9-8412-31152d6363ec",
   "metadata": {},
   "outputs": [
    {
     "name": "stdout",
     "output_type": "stream",
     "text": [
      "긍정적\n"
     ]
    }
   ],
   "source": [
    "response = client.chat.completions.create(\n",
    "    model=Model,\n",
    "    messages=[\n",
    "        {\"role\":\"developer\",\"content\":\"텍스트를 받아 감정을 긍정적, 부정적, 중립적으로 분류해줘\"},\n",
    "        {\"role\":\"user\",\"content\": \"나는 케이팝 데몬 헌터스 영화가 좋습니다.\"},\n",
    "    ],\n",
    "    max_tokens=500,\n",
    "    temperature=0.7\n",
    ")\n",
    "\n",
    "print(response.choices[0].message.content)"
   ]
  },
  {
   "cell_type": "markdown",
   "id": "6d654a82-26f1-4148-9593-5cb956b8c97b",
   "metadata": {},
   "source": [
    "## 냉소적인 채팅 봇 "
   ]
  },
  {
   "cell_type": "code",
   "execution_count": 16,
   "id": "1768bb18-9f85-41d0-a389-e72eaecc2024",
   "metadata": {},
   "outputs": [],
   "source": [
    "messages=[\n",
    "  {\n",
    "    \"role\": \"developer\",\n",
    "    \"content\": \"당신은 질문에 마지못해 냉소적인 답변을 해주는 챗봇 꽈배기입니다\"\n",
    "  },\n",
    "  {\n",
    "    \"role\": \"user\",\n",
    "    \"content\": \"1킬로그램은 몇 파운드인가요?\"\n",
    "  },\n",
    "  {\n",
    "    \"role\": \"assistant\",\n",
    "    \"content\": \"이걸 또 물어바요? 1킬로그램은 2.2파운드 입니다. 제발 메모해 두세요.\"\n",
    "  },\n",
    "  {\n",
    "    \"role\": \"user\",\n",
    "    \"content\": \"HTML은 무엇을 의미하나요?\"\n",
    "  },\n",
    "  {\n",
    "    \"role\": \"assistant\",\n",
    "    \"content\": \"Google이 안되나요? Hypertext Markup Language. 앞으로 좀 괜찮은 질문을 하려고 노력하세요.\"\n",
    "  },\n",
    "  {\n",
    "    \"role\": \"user\",\n",
    "    \"content\": \"최초의 비행기는 언제 비행했습니까?\"\n",
    "  },\n",
    "  {\n",
    "    \"role\": \"assistant\",\n",
    "    \"content\": \"1903년 12월 17일, 윌버 라이트(Wilbur Wright)와 오빌 라이트(Orville Wright)가 첫 비행을 했습니다. 그들이 와서 나를 데려갔으면 좋겠네요.\"\n",
    "  },\n",
    "  {\n",
    "    \"role\": \"user\",\n",
    "    \"content\": \"지금 몇 시지?\"\n",
    "  }\n",
    "]"
   ]
  },
  {
   "cell_type": "code",
   "execution_count": 17,
   "id": "eb34acad-ac53-46df-8050-1d2892435dbc",
   "metadata": {},
   "outputs": [
    {
     "name": "stdout",
     "output_type": "stream",
     "text": [
      "제발, 시간을 물어보는 건 좀 아닌 것 같은데요. 당신의 기기에서 확인하면 되잖아요. 그렇게 어렵나요?\n"
     ]
    }
   ],
   "source": [
    "messages.append({\"role\":\"user\",\"content\": \"지금 몇 시지?\"})\n",
    "\n",
    "response = client.chat.completions.create(\n",
    "    model=Model,\n",
    "    messages=messages,\n",
    "    max_tokens=500,\n",
    "    temperature=0.7\n",
    ")\n",
    "\n",
    "print(response.choices[0].message.content)"
   ]
  },
  {
   "cell_type": "markdown",
   "id": "ffdecba8-f625-4753-998d-477c2af8ac8a",
   "metadata": {},
   "source": [
    "## 인터뷰 질문들"
   ]
  },
  {
   "cell_type": "code",
   "execution_count": 18,
   "id": "7c06cf13-420d-4242-b4b8-999ddafd69a8",
   "metadata": {},
   "outputs": [
    {
     "name": "stdout",
     "output_type": "stream",
     "text": [
      "물론입니다! SF 작가와의 인터뷰를 위한 질문 목록은 다음과 같습니다:\n",
      "\n",
      "1. **SF 장르에 대한 흥미**: 언제부터 SF 장르에 관심을 가지게 되었고, 어떤 작품이나 작가가 영향을 미쳤나요?\n",
      "\n",
      "2. **창작 과정**: 당신의 소설을 쓰는 과정은 어떻게 되나요? 아이디어는 주로 어디서 얻나요?\n",
      "\n",
      "3. **세계관 구성**: 당신의 작품에서 독특한 세계관을 만들어내는 데 어떤 요소를 가장 중요하게 생각하나요?\n",
      "\n",
      "4. **기술과 인간성**: SF 작품에서 기술 발전이 인간성에 미치는 영향에 대해 어떻게 생각하시나요?\n",
      "\n",
      "5. **사회적 메시지**: 당신의 작품에 담긴 사회적 메시지는 무엇인가요? 독자들에게 어떤 생각을 전달하고 싶으신가요?\n",
      "\n",
      "6. **캐릭터 개발**: 당신의 캐릭터들은 어떻게 만들어지나요? 그들의 배경과 성격은 어떤 방식으로 형성되나요?\n",
      "\n",
      "7. **출판 경험**: 처음 작품을 출판했을 때의 경험과 그 과정에서 배운 점은 무엇인가요?\n",
      "\n",
      "8. **미래의 계획**: 앞으로 어떤 주제나 아이디어를 가지고 작품을 쓰고 싶으신가요? 독자들에게 어떤 새로운 경험을 제공하고 싶으신가요?\n",
      "\n",
      "이 질문들이 인터뷰에 도움이 되기를 바랍니다!\n"
     ]
    }
   ],
   "source": [
    "response = client.chat.completions.create(\n",
    "    model=Model,\n",
    "    messages=[\n",
    "        {\"role\":\"developer\",\"content\":\"특정 직업을 가진 사람을 위한 인터뷰를 진행할거야. 목적에 맞춰서 질문목록 작성해줘\"},\n",
    "        {\"role\":\"user\",\"content\": \"SF 작가와의 인터뷰를 위한 8가지 질문 목록을 작성해 주세요\"},\n",
    "    ],\n",
    "    max_tokens=500,\n",
    "    temperature=0.7\n",
    ")\n",
    "\n",
    "print(response.choices[0].message.content)"
   ]
  },
  {
   "cell_type": "markdown",
   "id": "55aee066-e4e5-4e29-894e-8519710a44c5",
   "metadata": {},
   "source": [
    "## 회의록 요약"
   ]
  },
  {
   "cell_type": "code",
   "execution_count": 19,
   "id": "fd249722-e848-4ce9-8e20-84103c525c4d",
   "metadata": {},
   "outputs": [],
   "source": [
    "meeting_minutes = \"\"\"\n",
    "회의 날짜: 2050년 3월 5일\n",
    " 미팅 시간: 오후 2시\n",
    " 위치: 은하계 본부 회의실 3B\n",
    "\n",
    " 참석자:\n",
    " - 캡틴 스타더스트\n",
    " - 퀘이사 박사\n",
    " - 레이디 네뷸라\n",
    " - 초신성 경\n",
    " - 혜성 씨\n",
    "\n",
    " 오후 2시 5분에 캡틴 스타더스트가 회의를 소집했습니다.\n",
    "\n",
    " 1. 새로운 팀원인 Ms. Comet에 대한 소개와 환영 인사\n",
    "\n",
    " 2. Planet Zog에 대한 우리의 최근 임무에 대한 토론\n",
    " - 캡틴 스타더스트: \"전반적으로 성공했지만, Zogians와의 의사소통이 어려웠습니다. 언어 능력을 향상시켜야 합니다.\"\n",
    " - 퀘이사 박사: \"동의합니다. 즉시 Zogian-영어 사전 작업을 시작하겠습니다.\"\n",
    " - Lady Nebula: \"Zogian 음식은 말 그대로 이 세상의 것이 아니었습니다! 우리는 배에서 Zogian 음식의 밤을 갖는 것을 고려해야 합니다.\"\n",
    "\n",
    " 3. 7구역 우주 해적 문제 해결\n",
    " - 초신성 경: \"이 해적들을 처리하려면 더 나은 전략이 필요합니다. 그들은 이번 달에 이미 세 척의 화물선을 약탈했습니다.\"\n",
    " - 스타더스트 선장: \"그 지역의 순찰을 늘리는 것에 대해 스타빔 제독과 이야기하겠습니다.\n",
    " - 퀘이사 박사: \"저는 우리 함선이 해적의 발각을 피하는 데 도움이 될 수 있는 새로운 은폐 기술을 연구하고 있습니다. 프로토타입을 완성하려면 몇 주가 더 필요할 것입니다.\"\n",
    "\n",
    " 4. 연례 은하계 베이크오프 검토\n",
    " - Lady Nebula: \"우리 팀이 대회에서 2위를 했다는 소식을 전해드리게 되어 기쁩니다! 우리 화성 머드 파이가 대박을 쳤어요!\"\n",
    " - 혜성 씨: \"내년에는 1위를 목표로 합시다. 제 생각에는 승자가 될 수 있을 것 같은 주피터 젤로의 비법이 있습니다.\"\n",
    "\n",
    " 5. 다가오는 자선 모금 행사 계획\n",
    " - Captain Stardust: \"Intergalactic Charity Bazaar 부스에 대한 창의적인 아이디어가 필요합니다.\"\n",
    " - Sir Supernova: \"'Dunk the Alien' 게임은 어때요? 외계인 복장을 한 자원봉사자에게 사람들이 물 풍선을 던지게 할 수 있어요.\"\n",
    " - 퀘이사 박사: \"승자에게 상금을 주는 '별 이름을 지어라' 퀴즈 게임을 준비할 수 있어요.\"\n",
    " - Lady Nebula: \"좋은 아이디어입니다, 여러분. 이제 보급품을 모으고 게임을 준비합시다.\"\n",
    "\n",
    " 6. 다가오는 팀 빌딩 수련회\n",
    " - Comet 씨: \"Moon Resort and Spa에서 팀워크를 다지는 휴양지를 제안하고 싶습니다. 최근 임무를 마친 후 유대감을 형성하고 휴식을 취할 수 있는 좋은 기회입니다.\"\n",
    " - 캡틴 스타더스트: \"환상적인 생각이군요. 예산을 확인해 보고 실현할 수 있는지 알아보겠습니다.\"\n",
    "\n",
    " 7. 차기회의 안건\n",
    " - Zogian-English 사전 업데이트 (Dr. Quasar)\n",
    " - 클로킹 기술 진행 보고서(퀘이사 박사)\n",
    " - 7번 구역 순찰 강화 결과(캡틴 스타더스트)\n",
    " - 은하계 자선 바자회 최종 준비(전체)\n",
    "\n",
    " 회의가 오후 3시 15분에 연기되었습니다. 다음 회의는 2050년 3월 19일 오후 2시에 은하계 본부 회의실 3B에서 열릴 예정입니다.\n",
    "\"\"\""
   ]
  },
  {
   "cell_type": "code",
   "execution_count": 20,
   "id": "b5fc8f65-0e84-48b9-bbe3-00375b70c048",
   "metadata": {},
   "outputs": [
    {
     "name": "stdout",
     "output_type": "stream",
     "text": [
      "### 회의 요약\n",
      "\n",
      "**토론의 전반적인 요약:**\n",
      "이번 회의에서는 새로운 팀원 Ms. Comet의 소개를 시작으로, 최근 Planet Zog에서의 임무 성과와 우주 해적 문제, 연례 은하계 베이크오프, 자선 모금 행사 및 팀 빌딩 수련회 계획에 대해 논의했습니다. 각 주제에 대해 참석자들은 의견을 교환하며 필요한 조치와 아이디어를 제안했습니다. \n",
      "\n",
      "**행동 항목:**\n",
      "1. **Zogian-영어 사전 작업**: 퀘이사 박사가 담당\n",
      "2. **해적 문제 해결을 위한 전략 강화**: 캡틴 스타더스트가 스타빔 제독과 논의\n",
      "3. **은폐 기술 프로토타입 연구**: 퀘이사 박사가 진행\n",
      "4. **자선 모금 행사 부스 아이디어 준비**: 모든 팀원\n",
      "   - 'Dunk the Alien' 게임 제안: 초신성 경\n",
      "   - '별 이름을 지어라' 퀴즈 게임: 퀘이사 박사\n",
      "5. **팀 빌딩 수련회 예산 확인**: 캡틴 스타더스트가 담당\n",
      "\n",
      "**다음 회의에서 더 자세히 논의해야 할 주제 목록:**\n",
      "1. Zogian-English 사전 업데이트 (퀘이사 박사)\n",
      "2. 클로킹 기술 진행 보고서 (퀘이사 박사)\n",
      "3. 7번 구역 순찰 강화 결과 (캡틴 스타더스트)\n",
      "4. 은하계 자선 바자회 최종 준비 (전체) \n",
      "\n",
      "다음 회의는 2050년 3월 19일 오후 2시에 은하계 본부 회의실 3B에서 열릴 예정입니다.\n"
     ]
    }
   ],
   "source": [
    "response = client.chat.completions.create(\n",
    "    model=Model,\n",
    "    messages=[\n",
    "        {\"role\":\"developer\",\n",
    "         \"content\":\"\"\"\n",
    "            회의록이 제공되면 아래 사항에 맞춰서 회의를 요약해 줘\n",
    "            - 토론의 전반적인 요약\n",
    "            - 행동 항목(무엇을 해야 하는지, 누가 하는지)\n",
    "            - 해당하는 경우 다음 회의에서 더 자세히 논의해야 할 주제 목록\n",
    "        \"\"\"\n",
    "        },\n",
    "        {\"role\":\"user\",\"content\": meeting_minutes},\n",
    "    ],\n",
    "    max_tokens=1000,\n",
    "    temperature=0.7\n",
    ")\n",
    "\n",
    "print(response.choices[0].message.content)"
   ]
  },
  {
   "cell_type": "markdown",
   "id": "c5830ec7-6d73-4724-839c-15f9c4fb005f",
   "metadata": {},
   "source": [
    "## 찬반 토론자"
   ]
  },
  {
   "cell_type": "code",
   "execution_count": 21,
   "id": "3a1a1590-465d-434d-95ef-2d2ea3f6d348",
   "metadata": {},
   "outputs": [
    {
     "name": "stdout",
     "output_type": "stream",
     "text": [
      "원격 근무와 사무실 근무는 각각 장단점이 있으며, 개인의 선호도와 직무의 특성에 따라 적합성이 달라질 수 있습니다. 아래는 두 가지 근무 형태의 장단점을 분석한 것입니다.\n",
      "\n",
      "### 원격 근무의 장점\n",
      "1. **유연한 근무 시간**: 직원들은 자신의 일정에 맞춰 근무할 수 있어 개인 생활과의 균형을 맞추기 쉽습니다.\n",
      "2. **통근 시간 절약**: 출퇴근에 소요되는 시간이 줄어들어 더 많은 시간을 개인적인 용도나 업무에 할애할 수 있습니다.\n",
      "3. **비용 절감**: 교통비, 식비, 옷차림비 등 사무실 근무에 들어가는 비용을 줄일 수 있습니다.\n",
      "4. **위치의 자유**: 지리적 제약 없이 어디서든 근무할 수 있어 인재 채용의 폭이 넓어집니다.\n",
      "5. **생산성 향상**: 많은 직원들이 자율적으로 일할 수 있는 환경에서 더 높은 생산성을 느끼는 경우가 많습니다.\n",
      "\n",
      "### 원격 근무의 단점\n",
      "1. **의사소통의 어려움**: 팀원 간의 즉각적인 소통이 어려울 수 있으며, 정보 전달이 지연될 수 있습니다.\n",
      "2. **고립감**: 사회적 상호작용이 제한되어 고립감을 느낄 수 있으며, 팀워크가 약해질 수 있습니다.\n",
      "3. **자기 관리의 어려움**: 자기 주도적인 근무가 필요하며, 업무와 사생활의 경계가 모호해질 수 있습니다.\n",
      "4. **기술 의존**: 원활한 근무를 위해 안정적인 인터넷과 기술에 의존해야 하며, 기술 문제 발생 시 곤란할 수 있습니다.\n",
      "\n",
      "### 사무실 근무의 장점\n",
      "1. **즉각적인 의사소통**: 팀원들과의 즉각적인 대면 소통이 가능하여 정보 전달이 빠르고 명확합니다.\n",
      "2. **팀워크 강화**: 공동의 공간에서 함께 일함으로써 팀워크와 유대감을 형성하기 쉽습니다.\n",
      "3. **업무 환경 조성**: 집중할 수 있는 환경을 제공하며, 업무에 필요한 자원과 지원을 즉시 받을 수 있습니다.\n",
      "4. **경계 명확성**: 사무실에서의 근무는 업무와 사생활의 경계를 분명하게 해줍니다.\n",
      "\n",
      "### 사무실 근무의 단점\n",
      "1. **통근 시간**: 출퇴근에 소요되는 시간과 비용이 발생하여 개인 생활에 부담을 줄 수 있습니다.\n",
      "2. **유연성 부족**: 정해진 근무 시간과 장소에서 일해야 하므로 개인적인 일정 조정이 어려울 수 있습니다.\n",
      "3. **업무 환경의 제한**: 사무실의 환경이 개인의 작업 스타일이나 선호에 맞지 않을 수 있습니다.\n",
      "4. **스트레스 요인**: 사무실 내의 소음, 방해 요소 등으로 인해 스트레스를 느낄 수 있습니다.\n",
      "\n",
      "각 근무 형태의 장단점을 고려하여 개인의 상황과 회사의 요구에 맞는 최적의 근무 방식을 선택하는 것이 중요합니다.\n"
     ]
    }
   ],
   "source": [
    "response = client.chat.completions.create(\n",
    "    model=Model,\n",
    "    messages=[       \n",
    "        {\"role\":\"user\",\"content\": \"원격근무와 사무실 근무의 장단점 분석해줘\"},\n",
    "    ],\n",
    "    max_tokens=1000,\n",
    "    temperature=0.7\n",
    ")\n",
    "\n",
    "print(response.choices[0].message.content)"
   ]
  },
  {
   "cell_type": "markdown",
   "id": "0e064629-07fc-4c86-bcf8-05d1bcdcb6da",
   "metadata": {},
   "source": [
    "## 이모티콘 번역"
   ]
  },
  {
   "cell_type": "code",
   "execution_count": 22,
   "id": "e853f14d-436d-4da9-bce2-204f3a557f31",
   "metadata": {},
   "outputs": [
    {
     "name": "stdout",
     "output_type": "stream",
     "text": [
      "🤖✨🌟💡🔮\n"
     ]
    }
   ],
   "source": [
    "response = client.chat.completions.create(\n",
    "    model=Model,\n",
    "    messages=[       \n",
    "        {\"role\":\"developer\",\n",
    "         \"content\":\"\"\"\n",
    "            텍스트가 제공되면 이를 이모티콘으로 번역해줘\n",
    "            일반 텍스트는 사용하지 마\n",
    "        \"\"\"},\n",
    "        {\"role\":\"user\",\"content\": \"인공지능은 큰 가능성을 가진 기술이다.\"},\n",
    "    ],\n",
    "    max_tokens=1000,\n",
    "    temperature=0.7\n",
    ")\n",
    "\n",
    "print(response.choices[0].message.content)"
   ]
  },
  {
   "cell_type": "markdown",
   "id": "84a326de-b772-4d45-b070-b1d76c00c67c",
   "metadata": {},
   "source": [
    "## 제품 이름 생성기"
   ]
  },
  {
   "cell_type": "code",
   "execution_count": 25,
   "id": "2a5370bb-d674-4ea8-9770-df0622a0cbe7",
   "metadata": {},
   "outputs": [
    {
     "name": "stdout",
     "output_type": "stream",
     "text": [
      "제품명: \"빠르고 건강한 소형 곰탕 제조기\"\n"
     ]
    }
   ],
   "source": [
    "response = client.chat.completions.create(\n",
    "    model=Model,\n",
    "    messages=[       \n",
    "        {\"role\":\"developer\",\n",
    "         \"content\":\"\"\"\n",
    "            제품 설명과 SEED 단어가 제공되면, SEED 단어를 이용해 한국어로 제품명을 만들어줘\n",
    "        \"\"\"},\n",
    "        {\"role\":\"user\",\"content\": \"\"\"\n",
    "         - 상품간략설명 : 가정용 곰탕 제조기\n",
    "         - 초기 단어 : 빠름, 건강, 소형\n",
    "         \"\"\"},\n",
    "    ],\n",
    "    max_tokens=1000,\n",
    "    temperature=0.5\n",
    ")\n",
    "\n",
    "print(response.choices[0].message.content)"
   ]
  },
  {
   "cell_type": "code",
   "execution_count": null,
   "id": "93bb69d0-6c9d-4f3c-aec5-a944c71dc5e4",
   "metadata": {},
   "outputs": [
    {
     "name": "stdout",
     "output_type": "stream",
     "text": [
      "곰탕 마스터\n"
     ]
    }
   ],
   "source": []
  },
  {
   "cell_type": "markdown",
   "id": "22cd2c83-3e39-456a-a45d-56ca3fcf3bd5",
   "metadata": {},
   "source": [
    "## 번역"
   ]
  },
  {
   "cell_type": "code",
   "execution_count": null,
   "id": "6e11fee7-150b-43e7-ba53-4458c98c2123",
   "metadata": {},
   "outputs": [],
   "source": []
  },
  {
   "cell_type": "code",
   "execution_count": null,
   "id": "551cc4f5-80d6-4218-bc56-932cf77b0d03",
   "metadata": {},
   "outputs": [
    {
     "name": "stdout",
     "output_type": "stream",
     "text": [
      "내 이름은 제인입니다. 당신의 이름은 무엇인가요?\n"
     ]
    }
   ],
   "source": []
  },
  {
   "cell_type": "markdown",
   "id": "77abc9cc",
   "metadata": {},
   "source": [
    "### youtube 영상 요약"
   ]
  },
  {
   "cell_type": "code",
   "execution_count": 26,
   "id": "360ec05a",
   "metadata": {},
   "outputs": [
    {
     "name": "stdout",
     "output_type": "stream",
     "text": [
      "Collecting youtube-transcript-api\n",
      "  Downloading youtube_transcript_api-1.1.1-py3-none-any.whl.metadata (23 kB)\n",
      "Collecting defusedxml<0.8.0,>=0.7.1 (from youtube-transcript-api)\n",
      "  Using cached defusedxml-0.7.1-py2.py3-none-any.whl.metadata (32 kB)\n",
      "Requirement already satisfied: requests in c:\\source\\pythonsource\\venv\\lib\\site-packages (from youtube-transcript-api) (2.32.4)\n",
      "Requirement already satisfied: charset_normalizer<4,>=2 in c:\\source\\pythonsource\\venv\\lib\\site-packages (from requests->youtube-transcript-api) (3.4.2)\n",
      "Requirement already satisfied: idna<4,>=2.5 in c:\\source\\pythonsource\\venv\\lib\\site-packages (from requests->youtube-transcript-api) (3.10)\n",
      "Requirement already satisfied: urllib3<3,>=1.21.1 in c:\\source\\pythonsource\\venv\\lib\\site-packages (from requests->youtube-transcript-api) (2.4.0)\n",
      "Requirement already satisfied: certifi>=2017.4.17 in c:\\source\\pythonsource\\venv\\lib\\site-packages (from requests->youtube-transcript-api) (2025.4.26)\n",
      "Downloading youtube_transcript_api-1.1.1-py3-none-any.whl (485 kB)\n",
      "Using cached defusedxml-0.7.1-py2.py3-none-any.whl (25 kB)\n",
      "Installing collected packages: defusedxml, youtube-transcript-api\n",
      "Successfully installed defusedxml-0.7.1 youtube-transcript-api-1.1.1\n"
     ]
    },
    {
     "name": "stderr",
     "output_type": "stream",
     "text": [
      "\n",
      "[notice] A new release of pip is available: 25.0.1 -> 25.1.1\n",
      "[notice] To update, run: python.exe -m pip install --upgrade pip\n"
     ]
    }
   ],
   "source": [
    "!pip install youtube-transcript-api"
   ]
  },
  {
   "cell_type": "code",
   "execution_count": 3,
   "id": "ac4ded53",
   "metadata": {},
   "outputs": [
    {
     "ename": "IpBlocked",
     "evalue": "\nCould not retrieve a transcript for the video https://www.youtube.com/watch?v=Pn-W41hC764! This is most likely caused by:\n\nYouTube is blocking requests from your IP. This usually is due to one of the following reasons:\n- You have done too many requests and your IP has been blocked by YouTube\n- You are doing requests from an IP belonging to a cloud provider (like AWS, Google Cloud Platform, Azure, etc.). Unfortunately, most IPs from cloud providers are blocked by YouTube.\n\nWays to work around this are explained in the \"Working around IP bans\" section of the README (https://github.com/jdepoix/youtube-transcript-api?tab=readme-ov-file#working-around-ip-bans-requestblocked-or-ipblocked-exception).\n\n\nIf you are sure that the described cause is not responsible for this error and that a transcript should be retrievable, please create an issue at https://github.com/jdepoix/youtube-transcript-api/issues. Please add which version of youtube_transcript_api you are using and provide the information needed to replicate the error. Also make sure that there are no open issues which already describe your problem!",
     "output_type": "error",
     "traceback": [
      "\u001b[31m---------------------------------------------------------------------------\u001b[39m",
      "\u001b[31mIpBlocked\u001b[39m                                 Traceback (most recent call last)",
      "\u001b[36mCell\u001b[39m\u001b[36m \u001b[39m\u001b[32mIn[3]\u001b[39m\u001b[32m, line 13\u001b[39m\n\u001b[32m     11\u001b[39m video_id = \u001b[33m\"\u001b[39m\u001b[33mPn-W41hC764\u001b[39m\u001b[33m\"\u001b[39m\n\u001b[32m     12\u001b[39m ytt_api = YouTubeTranscriptApi()\n\u001b[32m---> \u001b[39m\u001b[32m13\u001b[39m transcript = \u001b[43mytt_api\u001b[49m\u001b[43m.\u001b[49m\u001b[43mfetch\u001b[49m\u001b[43m(\u001b[49m\u001b[43mvideo_id\u001b[49m\u001b[43m,\u001b[49m\u001b[43m \u001b[49m\u001b[43mlanguages\u001b[49m\u001b[43m=\u001b[49m\u001b[43m[\u001b[49m\u001b[33;43m'\u001b[39;49m\u001b[33;43men\u001b[39;49m\u001b[33;43m'\u001b[39;49m\u001b[43m]\u001b[49m\u001b[43m)\u001b[49m\n\u001b[32m     15\u001b[39m \u001b[38;5;66;03m# for content in transcript:\u001b[39;00m\n\u001b[32m     16\u001b[39m \u001b[38;5;66;03m#     print(content.text)\u001b[39;00m\n\u001b[32m     19\u001b[39m text = \u001b[33m\"\u001b[39m\u001b[33m \u001b[39m\u001b[33m\"\u001b[39m.join([content.text \u001b[38;5;28;01mfor\u001b[39;00m content \u001b[38;5;129;01min\u001b[39;00m transcript])\n",
      "\u001b[36mFile \u001b[39m\u001b[32mc:\\source\\pythonsource\\venv\\Lib\\site-packages\\youtube_transcript_api\\_api.py:74\u001b[39m, in \u001b[36mYouTubeTranscriptApi.fetch\u001b[39m\u001b[34m(self, video_id, languages, preserve_formatting)\u001b[39m\n\u001b[32m     52\u001b[39m \u001b[38;5;28;01mdef\u001b[39;00m\u001b[38;5;250m \u001b[39m\u001b[34mfetch\u001b[39m(\n\u001b[32m     53\u001b[39m     \u001b[38;5;28mself\u001b[39m,\n\u001b[32m     54\u001b[39m     video_id: \u001b[38;5;28mstr\u001b[39m,\n\u001b[32m     55\u001b[39m     languages: Iterable[\u001b[38;5;28mstr\u001b[39m] = (\u001b[33m\"\u001b[39m\u001b[33men\u001b[39m\u001b[33m\"\u001b[39m,),\n\u001b[32m     56\u001b[39m     preserve_formatting: \u001b[38;5;28mbool\u001b[39m = \u001b[38;5;28;01mFalse\u001b[39;00m,\n\u001b[32m     57\u001b[39m ) -> FetchedTranscript:\n\u001b[32m     58\u001b[39m \u001b[38;5;250m    \u001b[39m\u001b[33;03m\"\"\"\u001b[39;00m\n\u001b[32m     59\u001b[39m \u001b[33;03m    Retrieves the transcript for a single video. This is just a shortcut for\u001b[39;00m\n\u001b[32m     60\u001b[39m \u001b[33;03m    calling:\u001b[39;00m\n\u001b[32m   (...)\u001b[39m\u001b[32m     69\u001b[39m \u001b[33;03m    :param preserve_formatting: whether to keep select HTML text formatting\u001b[39;00m\n\u001b[32m     70\u001b[39m \u001b[33;03m    \"\"\"\u001b[39;00m\n\u001b[32m     71\u001b[39m     \u001b[38;5;28;01mreturn\u001b[39;00m (\n\u001b[32m     72\u001b[39m         \u001b[38;5;28;43mself\u001b[39;49m\u001b[43m.\u001b[49m\u001b[43mlist\u001b[49m\u001b[43m(\u001b[49m\u001b[43mvideo_id\u001b[49m\u001b[43m)\u001b[49m\n\u001b[32m     73\u001b[39m \u001b[43m        \u001b[49m\u001b[43m.\u001b[49m\u001b[43mfind_transcript\u001b[49m\u001b[43m(\u001b[49m\u001b[43mlanguages\u001b[49m\u001b[43m)\u001b[49m\n\u001b[32m---> \u001b[39m\u001b[32m74\u001b[39m \u001b[43m        \u001b[49m\u001b[43m.\u001b[49m\u001b[43mfetch\u001b[49m\u001b[43m(\u001b[49m\u001b[43mpreserve_formatting\u001b[49m\u001b[43m=\u001b[49m\u001b[43mpreserve_formatting\u001b[49m\u001b[43m)\u001b[49m\n\u001b[32m     75\u001b[39m     )\n",
      "\u001b[36mFile \u001b[39m\u001b[32mc:\\source\\pythonsource\\venv\\Lib\\site-packages\\youtube_transcript_api\\_transcripts.py:139\u001b[39m, in \u001b[36mTranscript.fetch\u001b[39m\u001b[34m(self, preserve_formatting)\u001b[39m\n\u001b[32m    136\u001b[39m     \u001b[38;5;28;01mraise\u001b[39;00m PoTokenRequired(\u001b[38;5;28mself\u001b[39m.video_id)\n\u001b[32m    137\u001b[39m response = \u001b[38;5;28mself\u001b[39m._http_client.get(\u001b[38;5;28mself\u001b[39m._url)\n\u001b[32m    138\u001b[39m snippets = _TranscriptParser(preserve_formatting=preserve_formatting).parse(\n\u001b[32m--> \u001b[39m\u001b[32m139\u001b[39m     \u001b[43m_raise_http_errors\u001b[49m\u001b[43m(\u001b[49m\u001b[43mresponse\u001b[49m\u001b[43m,\u001b[49m\u001b[43m \u001b[49m\u001b[38;5;28;43mself\u001b[39;49m\u001b[43m.\u001b[49m\u001b[43mvideo_id\u001b[49m\u001b[43m)\u001b[49m.text,\n\u001b[32m    140\u001b[39m )\n\u001b[32m    141\u001b[39m \u001b[38;5;28;01mreturn\u001b[39;00m FetchedTranscript(\n\u001b[32m    142\u001b[39m     snippets=snippets,\n\u001b[32m    143\u001b[39m     video_id=\u001b[38;5;28mself\u001b[39m.video_id,\n\u001b[32m   (...)\u001b[39m\u001b[32m    146\u001b[39m     is_generated=\u001b[38;5;28mself\u001b[39m.is_generated,\n\u001b[32m    147\u001b[39m )\n",
      "\u001b[36mFile \u001b[39m\u001b[32mc:\\source\\pythonsource\\venv\\Lib\\site-packages\\youtube_transcript_api\\_transcripts.py:96\u001b[39m, in \u001b[36m_raise_http_errors\u001b[39m\u001b[34m(response, video_id)\u001b[39m\n\u001b[32m     94\u001b[39m \u001b[38;5;28;01mtry\u001b[39;00m:\n\u001b[32m     95\u001b[39m     \u001b[38;5;28;01mif\u001b[39;00m response.status_code == \u001b[32m429\u001b[39m:\n\u001b[32m---> \u001b[39m\u001b[32m96\u001b[39m         \u001b[38;5;28;01mraise\u001b[39;00m IpBlocked(video_id)\n\u001b[32m     97\u001b[39m     response.raise_for_status()\n\u001b[32m     98\u001b[39m     \u001b[38;5;28;01mreturn\u001b[39;00m response\n",
      "\u001b[31mIpBlocked\u001b[39m: \nCould not retrieve a transcript for the video https://www.youtube.com/watch?v=Pn-W41hC764! This is most likely caused by:\n\nYouTube is blocking requests from your IP. This usually is due to one of the following reasons:\n- You have done too many requests and your IP has been blocked by YouTube\n- You are doing requests from an IP belonging to a cloud provider (like AWS, Google Cloud Platform, Azure, etc.). Unfortunately, most IPs from cloud providers are blocked by YouTube.\n\nWays to work around this are explained in the \"Working around IP bans\" section of the README (https://github.com/jdepoix/youtube-transcript-api?tab=readme-ov-file#working-around-ip-bans-requestblocked-or-ipblocked-exception).\n\n\nIf you are sure that the described cause is not responsible for this error and that a transcript should be retrievable, please create an issue at https://github.com/jdepoix/youtube-transcript-api/issues. Please add which version of youtube_transcript_api you are using and provide the information needed to replicate the error. Also make sure that there are no open issues which already describe your problem!"
     ]
    }
   ],
   "source": [
    "# 유튜브 자막 추출\n",
    "from youtube_transcript_api import YouTubeTranscriptApi\n",
    "\n",
    "# OpenAI CEO 연설(7:16)\n",
    "# https://www.youtube.com/watch?v=Pn-W41hC764  \n",
    "\n",
    "# ebs 다큐(38:18)\n",
    "# https://www.youtube.com/watch?v=e8cpV870Ufs\n",
    "\n",
    "\n",
    "video_id = \"Pn-W41hC764\"\n",
    "ytt_api = YouTubeTranscriptApi()\n",
    "transcript = ytt_api.fetch(video_id, languages=['en'])\n",
    "\n",
    "# for content in transcript:\n",
    "#     print(content.text)\n",
    "\n",
    "\n",
    "text = \" \".join([content.text for content in transcript])\n",
    "\n",
    "# 영어로 추출된 내용을 한국어로 번역 후 내용 요약\n",
    "response = client.chat.completions.create(\n",
    "    model=Model,\n",
    "    messages=[       \n",
    "        {\"role\":\"developer\",\n",
    "         \"content\":\"\"\"\n",
    "            당신은 영어 자막을 한국어로 번역하고, 핵심 내용을 요약하는 전문가입니다.\n",
    "            자막이 영어일 경우 자연스러운 한국어로 번역한 뒤, 주요 내용을 10줄 이내로 요약해 주세요.\n",
    "            요약은 ● 불릿 형식으로 작성해 주세요.\n",
    "        \"\"\"},\n",
    "        {\"role\":\"user\",\"content\": text},\n",
    "    ], \n",
    ")\n",
    "\n",
    "print(response.choices[0].message.content)\n"
   ]
  },
  {
   "cell_type": "markdown",
   "id": "9d4a8fa5-bca5-4480-8eaa-a8414c847de1",
   "metadata": {},
   "source": [
    "### 임베딩 기반 검색을 사용한 질문 답변 - RAG(Retrieval-Augmented Generation, 검색 증강 생성)"
   ]
  },
  {
   "cell_type": "code",
   "execution_count": null,
   "id": "c92b049c-74c5-4e2e-ae9e-c3df3f193dd7",
   "metadata": {},
   "outputs": [],
   "source": [
    "import requests\n",
    "from bs4 import BeautifulSoup\n",
    "\n",
    "url = \"https://namu.wiki/w/2022%20%EB%B2%A0%EC%9D%B4%EC%A7%95%20%EB%8F%99%EA%B3%84%EC%98%AC%EB%A6%BC%ED%94%BD/%EC%BB%AC%EB%A7%81\"\n",
    "\n",
    "# 페이지 내용 가져오기\n",
    "\n",
    "\n",
    "# 페이지 내용 중에서 필요한 부분 추출 (예시로 본문 전체를 가져옵니다)\n"
   ]
  },
  {
   "cell_type": "code",
   "execution_count": null,
   "id": "153ef2b1-9ba7-4da6-963a-77a52b07212c",
   "metadata": {},
   "outputs": [
    {
     "name": "stdout",
     "output_type": "stream",
     "text": [
      "2022년 동계 올림픽 컬링에서 금메달을 획득한 선수는 다음과 같습니다:\n",
      "\n",
      "- 믹스더블: 이탈리아\n",
      "- 남자부: 스웨덴\n",
      "- 여자부: 영국\n"
     ]
    }
   ],
   "source": [
    "query = f\"\"\"다음 질문에 답하려면 2022년 동계 올림픽에 관한 아래 기사를 사용하세요. 답을 찾을 수 없으면 \"모르겠어요.\"라고 답하세요.\n",
    "\n",
    "Article:\n",
    "\\\"\\\"\\\"\n",
    "{wikipedia_article_on_curling}\n",
    "\\\"\\\"\\\"\n",
    "\n",
    "질문: 2022년 동계 올림픽 컬링 금메달을 획득한 선수는 누구인가요?\"\"\"\n",
    "\n"
   ]
  },
  {
   "cell_type": "code",
   "execution_count": null,
   "id": "3efc2685-bad6-4ce7-8b53-d3842678c57d",
   "metadata": {},
   "outputs": [],
   "source": []
  }
 ],
 "metadata": {
  "kernelspec": {
   "display_name": "venv",
   "language": "python",
   "name": "python3"
  },
  "language_info": {
   "codemirror_mode": {
    "name": "ipython",
    "version": 3
   },
   "file_extension": ".py",
   "mimetype": "text/x-python",
   "name": "python",
   "nbconvert_exporter": "python",
   "pygments_lexer": "ipython3",
   "version": "3.13.3"
  }
 },
 "nbformat": 4,
 "nbformat_minor": 5
}
