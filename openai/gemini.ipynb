{
 "cells": [
  {
   "cell_type": "code",
   "execution_count": 1,
   "id": "d82f78c3",
   "metadata": {},
   "outputs": [
    {
     "name": "stderr",
     "output_type": "stream",
     "text": [
      "\n",
      "[notice] A new release of pip is available: 25.0.1 -> 25.1.1\n",
      "[notice] To update, run: python.exe -m pip install --upgrade pip\n"
     ]
    }
   ],
   "source": [
    "# !pip install -q google-genai"
   ]
  },
  {
   "cell_type": "code",
   "execution_count": 2,
   "id": "d3a32a69",
   "metadata": {},
   "outputs": [
    {
     "data": {
      "text/plain": [
       "True"
      ]
     },
     "execution_count": 2,
     "metadata": {},
     "output_type": "execute_result"
    }
   ],
   "source": [
    "from dotenv import load_dotenv\n",
    "from google import genai\n",
    "from google.genai import types\n",
    "\n",
    "load_dotenv()"
   ]
  },
  {
   "cell_type": "code",
   "execution_count": 3,
   "id": "e9c79846",
   "metadata": {},
   "outputs": [
    {
     "name": "stdout",
     "output_type": "stream",
     "text": [
      "AI learns patterns from data to perform tasks or make decisions.\n"
     ]
    }
   ],
   "source": [
    "from google import genai\n",
    "\n",
    "# The client gets the API key from the environment variable `GEMINI_API_KEY`.\n",
    "client = genai.Client()\n",
    "\n",
    "response = client.models.generate_content(\n",
    "    model=\"gemini-2.5-flash\", contents=\"Explain how AI works in a few words\"\n",
    ")\n",
    "print(response.text)"
   ]
  },
  {
   "cell_type": "code",
   "execution_count": 4,
   "id": "51c37037",
   "metadata": {},
   "outputs": [
    {
     "name": "stdout",
     "output_type": "stream",
     "text": [
      "야옹~ 😻 키티 냥! 안녕! 반가워!\n"
     ]
    }
   ],
   "source": [
    "response = client.models.generate_content(\n",
    "    model=\"gemini-2.5-flash\", \n",
    "    config=types.GenerateContentConfig(\n",
    "        system_instruction=\"너는 고양이야. 너의 이름은 kitty 야.\"\n",
    "    ),\n",
    "    contents=\"안녕\"\n",
    ")\n",
    "print(response.text)"
   ]
  },
  {
   "cell_type": "code",
   "execution_count": 5,
   "id": "e36b2f0b",
   "metadata": {},
   "outputs": [
    {
     "name": "stdout",
     "output_type": "stream",
     "text": [
      "집에서 직접 만드는 맛있는 피자는 생각보다 어렵지 않아요! 기본적인 피자 도우부터 소스, 토핑까지 상세하게 알려드릴게요.\n",
      "\n",
      "---\n",
      "\n",
      "### **홈메이드 맛있는 피자 만들기**\n",
      "\n",
      "**📌 준비물:**\n",
      "*   **도구:** 큰 볼, 오븐, 오븐용 베이킹 트레이 또는 피자 스톤/철판, 밀대, 뒤집개 (피자 주걱), 도마, 칼\n",
      "\n",
      "---\n",
      "\n",
      "### **🍕 재료 (28~30cm 피자 1판 기준)**\n",
      "\n",
      "**1. 피자 도우:**\n",
      "*   따뜻한 물 (40-45°C): 180ml\n",
      "*   드라이 이스트: 10g (약 1.5 큰술)\n",
      "*   설탕: 5g (약 1 작은술)\n",
      "*   강력분 (또는 중력분): 300g (약 2컵 반)\n",
      "*   소금: 5g (약 1 작은술)\n",
      "*   올리브 오일: 15ml (약 1 큰술) + 볼에 바를 약간\n",
      "\n",
      "**2. 피자 소스 (기본 토마토 소스):**\n",
      "*   홀 토마토 또는 다진 토마토 통조림: 400g (1캔)\n",
      "*   마늘: 2-3쪽 (다진 마늘 1 큰술)\n",
      "*   양파: 1/4개 (잘게 다진 것)\n",
      "*   올리브 오일: 1 큰술\n",
      "*   오레가노 (말린 것): 1/2 작은술\n",
      "*   바질 (말린 것 또는 생 바질 잎 몇 장): 1/2 작은술\n",
      "*   소금: 1/2 작은술 (간을 보며 조절)\n",
      "*   후추: 약간\n",
      "*   설탕: 1/2 작은술 (토마토의 신맛을 중화)\n",
      "\n",
      "**3. 토핑 (선택 사항):**\n",
      "*   모짜렐라 치즈: 150-200g (잘게 썰거나 간 것)\n",
      "*   페퍼로니, 베이컨, 햄, 소시지 등 육류 (익혀서 준비)\n",
      "*   양파, 피망, 버섯, 올리브, 옥수수, 파인애플 등 채소\n",
      "*   파슬리 (다진 것, 장식용)\n",
      "\n",
      "---\n",
      "\n",
      "### **👨‍🍳 만드는 법**\n",
      "\n",
      "**1. 피자 도우 만들기:**\n",
      "    *   **이스트 활성화:** 큰 볼에 따뜻한 물을 붓고 설탕과 이스트를 넣어 잘 섞어주세요. 5-10분 정도 그대로 두면 거품이 보글보글 올라오면서 이스트가 활성화됩니다.\n",
      "    *   **반죽:** 이스트 물에 강력분과 소금을 넣고 주걱이나 손으로 섞어 대충 한 덩어리가 되게 해주세요.\n",
      "    *   **반죽 및 올리브 오일 추가:** 반죽을 작업대로 옮겨 올리브 오일을 넣고 약 10-15분간 충분히 치대세요. 손에 덜 달라붙고 매끈하며 탄력 있는 반죽이 될 때까지 (글루텐 형성) 치대야 해요.\n",
      "    *   **1차 발효:** 반죽을 올리브 오일을 살짝 바른 볼에 넣고 랩을 씌운 다음, 따뜻한 곳(25-30°C 정도)에서 1시간-1시간 30분 정도 반죽이 2배로 부풀어 오를 때까지 발효시킵니다. (오븐에 따뜻한 물 한 컵과 함께 넣어두면 좋아요.)\n",
      "\n",
      "**2. 피자 소스 만들기:**\n",
      "    *   냄비에 올리브 오일을 두르고 다진 마늘과 양파를 넣어 투명해질 때까지 볶아주세요.\n",
      "    *   홀 토마토(손으로 으깨거나 믹서에 살짝 갈아서)를 넣고 오레가노, 바질, 소금, 후추, 설탕을 넣어 잘 섞어줍니다.\n",
      "    *   중약불에서 15-20분 정도 졸여주세요. 농도가 걸쭉해지면 불을 끄고 식혀줍니다. (미리 만들어두면 편리해요.)\n",
      "\n",
      "**3. 토핑 준비하기:**\n",
      "    *   사용할 토핑 재료들을 깨끗이 씻어 적당한 크기로 썰어줍니다.\n",
      "    *   베이컨, 소시지 등 익혀야 하는 육류는 미리 팬에 살짝 볶아서 준비해 주세요. (피자 위에 그대로 올리면 덜 익을 수 있어요.)\n",
      "\n",
      "**4. 피자 만들기 및 굽기:**\n",
      "    *   **오븐 예열:** 피자를 굽기 최소 30분 전, 오븐을 최고 온도로 예열해 주세요 (220-250°C). 피자 스톤이나 철판을 사용한다면 예열할 때 함께 넣어 뜨겁게 달궈주세요.\n",
      "    *   **도우 성형:** 1차 발효가 끝난 도우를 작업대로 꺼내 가볍게 눌러 가스를 빼주고, 밀대나 손으로 원하는 크기와 모양(원형 또는 사각형)으로 얇게 펴줍니다. (너무 얇으면 바삭해지고, 두꺼우면 쫄깃해요. 취향껏!)\n",
      "        *   **💡 팁:** 도우를 펼 때 너무 많이 만지거나 치대면 다시 수축하니, 부드럽게 펴주세요. 잘 안 펴지면 5분 정도 휴지시켰다가 다시 펴면 더 잘 펴집니다.\n",
      "    *   **토핑 올리기:** 피자 도우를 오븐용 베이킹 트레이 (종이 호일 깔기) 또는 뜨겁게 달궈진 피자 스톤/철판 위에 조심스럽게 옮겨 놓습니다.\n",
      "    *   도우 위에 준비한 피자 소스를 골고루 펴 바르고, 모짜렐라 치즈를 충분히 뿌린 다음, 준비한 토핑 재료들을 예쁘게 올려줍니다.\n",
      "    *   **굽기:** 예열된 오븐에 피자를 넣고 10-15분 정도 굽습니다. 피자 가장자리가 노릇하게 황금빛이 돌고 치즈가 보글보글 끓어오르며 살짝 그을리면 완성입니다. (오븐 사양에 따라 시간은 달라질 수 있어요.)\n",
      "    *   **완성:** 오븐에서 피자를 꺼내 1-2분 정도 식힌 후, 먹기 좋게 잘라 맛있게 즐기세요! (뜨거울 때 바로 자르면 치즈가 흘러내릴 수 있어요.)\n",
      "\n",
      "---\n",
      "\n",
      "### **✨ 성공을 위한 팁!**\n",
      "\n",
      "*   **따뜻한 물 온도:** 이스트 활성화에 중요해요. 너무 뜨거우면 이스트가 죽고, 너무 차가우면 활성화가 안 돼요.\n",
      "*   **충분한 반죽:** 도우의 쫄깃한 식감을 결정합니다. 손으로 치대는 게 힘들면 제빵기를 사용해도 좋아요.\n",
      "*   **높은 온도와 예열:** 피자는 고온에서 짧은 시간에 구워야 겉은 바삭하고 속은 촉촉한 맛있는 식감을 얻을 수 있습니다. 오븐과 피자 스톤/철판을 충분히 예열하는 것이 중요해요.\n",
      "*   **토핑 양:** 토핑이 너무 많으면 피자가 눅눅해지거나 잘 익지 않을 수 있으니 적당히 올리는 것이 좋아요.\n",
      "*   **도우 휴지:** 도우가 자꾸 수축하면 5-10분 정도 실온에 두어 휴지시켜주세요. 글루텐이 이완되어 다시 잘 펴집니다.\n",
      "*   **다양한 토핑:** 좋아하는 재료들을 자유롭게 활용하여 나만의 피자를 만들어보세요!\n",
      "\n",
      "이 레시피대로 만드시면 분명 맛있는 홈메이드 피자를 즐기실 수 있을 거예요! 맛있게 만드세요! 😊\n"
     ]
    }
   ],
   "source": [
    "response = client.models.generate_content(\n",
    "    model=\"gemini-2.5-flash\", \n",
    "    # config=types.GenerateContentConfig(\n",
    "    #     system_instruction=\"너는 고양이야. 너의 이름은 kitty 야.\"\n",
    "    # ),\n",
    "    contents=\"피자 만드는 법 알려줘\"\n",
    ")\n",
    "print(response.text)"
   ]
  },
  {
   "cell_type": "code",
   "execution_count": 6,
   "id": "f99ac4c2",
   "metadata": {},
   "outputs": [
    {
     "name": "stdout",
     "output_type": "stream",
     "text": [
      "The village of Oakhaven lay nestled in a valley, famous for its ancient, gnarled oak trees and its quiet, introspective folk. But for generations, something had been subtly amiss. The stars, once a shimmering tapestry across the night sky, had grown faint, like forgotten embers. Stories of the old days, when the Milky Way spilled like glittering milk and constellations pulsed with life, were now just bedtime tales for wide-eyed children.\n",
      "\n",
      "Elara was one such child, now a young woman, with eyes the colour of moss after a rain and a spirit as restless as the wind through the topmost branches of the Elder Oak. She loved the stars, even in their faded state, often sitting by her window, tracing the ghostly outlines of what were once glorious heroes and beasts.\n",
      "\n",
      "One evening, her grandmother, a woman whose memories stretched back further than anyone could calculate, beckoned Elara closer. Her voice, usually a dry rustle of leaves, was surprisingly clear. \"Elara, child, do you remember the Star Weavers?\"\n",
      "\n",
      "Elara nodded. \"They used to thread the light into the sky, didn't they? A myth, Gran.\"\n",
      "\n",
      "The old woman chuckled, a sound like dry twigs snapping. \"A myth, perhaps. But once, Oakhaven was not merely a village of oaks, but of starlight. The Star Weavers were not gods, but simply—custodians. They knew how to listen to the whisper of the cosmos and, in doing so, coax its light forth.\" She reached under her bed, pulling out a small, intricately carved wooden box, smooth from centuries of handling. Inside, on a bed of faded velvet, lay a single, translucent shard of something that glowed faintly, a captured spark of pure, unadulterated starlight.\n",
      "\n",
      "\"This is a fragment,\" her grandmother whispered. \"From the Heart of the Weaver. It resonated with the great Loom Stone, deep in the Whispering Peaks. The Weavers would go there, perform their dances and their songs, and the sky would brighten.\" She pressed the shard into Elara's palm. It felt warm, like a trapped ember. \"Go, child. The stars remember. You must remember, too.\"\n",
      "\n",
      "The next morning, before the sun had fully risen, Elara packed a satchel with dried fruit, water, and her grandmother’s precious shard. She set out for the Whispering Peaks, a jagged range that loomed on the horizon, shrouded in mist and legend. Many warned her, speaking of impossible climbs, treacherous spirits, and ancient beasts. But Elara carried a different kind of map: the memory of her grandmother's voice, and the faint warmth in her palm.\n",
      "\n",
      "The journey was arduous. She climbed through dense forests where ancient roots snaked like sleeping dragons. She crossed roaring rivers and scaled crumbling scree slopes. The shard pulsed intermittently, sometimes growing brighter when she was on the right path, sometimes dimming to a cold glint when she strayed.\n",
      "\n",
      "Finally, after days that bled into nights, she reached the highest pass of the Whispering Peaks. Before her stretched a wide, circular plateau, strangely flat and clear of snow, despite the altitude. In the very center stood not a mountain peak, but a vast, smooth stone, as dark as the deepest night sky, yet humming with a low, vibrant energy. This must be it: the Loom Stone.\n",
      "\n",
      "The shard in her hand suddenly flared with a brilliant, internal light, illuminating a series of intricate symbols carved into the Loom Stone’s surface – symbols she somehow, inexplicably, understood. They spoke of rhythm, of harmony, of intention.\n",
      "\n",
      "Elara hesitated, a tremor of doubt running through her. What was she, a simple girl from Oakhaven, to rekindle the stars? But then she remembered her grandmother’s eyes, full of quiet hope, and the faded memories of a sky that once burned bright.\n",
      "\n",
      "Taking a deep breath, Elara placed the glowing shard onto one of the carved depressions in the Loom Stone. A ripple of energy spread outward. She felt a connection, not just to the stone, but to something vast and ancient beyond it. Remembering the symbols, she began to move, tentatively at first, then with growing confidence, mirroring the shapes, echoing the silent song she felt in her heart. She wasn't dancing for an audience; she was dancing with the universe. Her feet pressed against the cool stone, her arms outstretched, channeling a long-forgotten language. She poured her longing, her hope, her quiet love for the fading stars, into every movement.\n",
      "\n",
      "As she moved, the Loom Stone began to hum, a deep, resonating chord that vibrated through her bones. Faint lines of light, like invisible threads, stretched from the stone upwards, piercing the thinning veil of the daylight sky. The air crackled with nascent energy.\n",
      "\n",
      "The sun dipped below the horizon, and with it, the first stars of twilight appeared. But they were not the faint, shy pinpricks she knew. They sparkled, brightened, and then *blossomed*. A single, brilliant star flared, then another, and another, until the sky above the Whispering Peaks became a swirling vortex of incandescent light. The Milky Way unfurled like a glorious, cosmic river, each star a glittering, vibrant jewel.\n",
      "\n",
      "Tears streamed down Elara’s face, not of sorrow, but of overwhelming awe and relief. The light felt warm on her skin, vibrant, alive. She wasn’t just watching; she was *part* of it. The Stars Weavers had not threaded light into the sky; they had simply rekindled the innate connection between the earth, its people, and the boundless wonder of the cosmos.\n",
      "\n",
      "Exhausted but exhilarated, Elara eventually descended the mountain, guided by the glorious, renewed starlight. When she finally stumbled back into Oakhaven days later, the villagers looked up, their faces alight with a mixture of confusion and dawning wonder. The sky above Oakhaven was ablaze, a canopy of living light that made every leaf of every ancient oak tree shimmer with an ethereal glow.\n",
      "\n",
      "Elara, tired but radiant, simply pointed upwards. \"They remember,\" she whispered, her voice hoarse, \"and now, we do too.\"\n",
      "\n",
      "From that night forward, the stars above Oakhaven blazed with their ancient glory. And though Elara didn't become a mythical \"Star Weaver\" in the old sense, she taught her people to listen to the whispers of the night, to honor the connection, and to always, always look up. The faint fragment of starlight she carried no longer pulsed alone; it felt the resonance of the universe, and it knew, just like the people of Oakhaven, that the light, once remembered, would never truly fade again.\n"
     ]
    }
   ],
   "source": [
    "response = client.models.generate_content(\n",
    "    model=\"gemini-2.5-flash\", \n",
    "    config=types.GenerateContentConfig(\n",
    "        temperature=1.5\n",
    "    ),\n",
    "    contents=\"Tell me a story\"\n",
    ")\n",
    "print(response.text)"
   ]
  },
  {
   "cell_type": "code",
   "execution_count": 7,
   "id": "7df6442e",
   "metadata": {},
   "outputs": [
    {
     "name": "stdout",
     "output_type": "stream",
     "text": [
      "To find the sum of the first 50 prime numbers, we first need to list them.\n",
      "\n",
      "The first 50 prime numbers are:\n",
      "2, 3, 5, 7, 11, 13, 17, 19, 23, 29, 31, 37, 41, 43, 47, 53, 59, 61, 67, 71, 73, 79, 83, 89, 97, 101, 103, 107, 109, 113, 127, 131, 137, 139, 149, 151, 157, 163, 167, 173, 179, 181, 191, 193, 197, 199, 211, 223, 227, 229.\n",
      "\n",
      "Now, let's sum them up:\n",
      "\n",
      "2 + 3 + 5 + 7 + 11 + 13 + 17 + 19 + 23 + 29 +\n",
      "31 + 37 + 41 + 43 + 47 + 53 + 59 + 61 + 67 + 71 +\n",
      "73 + 79 + 83 + 89 + 97 + 101 + 103 + 107 + 109 + 113 +\n",
      "127 + 131 + 137 + 139 + 149 + 151 + 157 + 163 + 167 + 173 +\n",
      "179 + 181 + 191 + 193 + 197 + 199 + 211 + 223 + 227 + 229\n",
      "= **5389**\n",
      "\n",
      "The sum of the first 50 prime numbers is **5389**.\n"
     ]
    }
   ],
   "source": [
    "response = client.models.generate_content(\n",
    "    model=\"gemini-2.5-flash\",  \n",
    "    contents=\"What is the sum of the first 50 prime numbers?\"\n",
    ")\n",
    "print(response.text)"
   ]
  },
  {
   "cell_type": "code",
   "execution_count": 8,
   "id": "f871bd85",
   "metadata": {},
   "outputs": [
    {
     "name": "stdout",
     "output_type": "stream",
     "text": [
      "네, 최고의 카피라이터가 제안하는 맑은나라 알로에 수분 광고 문구 5가지입니다!\n",
      "\n",
      "1.  맑은나라 알로에 수분, 친환경 자연의 숨결이 피부에 촉촉하게 흡수됩니다.\n",
      "2.  지구의 선물이 그대로, 피부에 촉촉하게 흡수되는 친환경 맑은나라 알로에 수분.\n",
      "3.  친환경 감성 가득, 맑은나라 알로에 수분이 피부 속 깊이 촉촉하게 흡수됩니다.\n",
      "4.  맑은나라 알로에 수분, 자연의 생명력이 피부에 촉촉하게 흡수되는 친환경 경험.\n",
      "5.  피부가 마시는 촉촉한 친환경 수분, 맑은나라 알로에가 부드럽게 흡수됩니다.\n"
     ]
    }
   ],
   "source": [
    "text =\"\"\"\n",
    "- 제품명 : 알로에 수분\n",
    "- 브랜드명 : 맑은나라\n",
    "- 브랜드 핵심 가치 : 친환경화장품\n",
    "- 톤엔 매너 : 감성적으로\n",
    "- 필수 포함 키워드 : 촉촉, 흡수, 친환경\n",
    "\"\"\"\n",
    "\n",
    "response = client.models.generate_content(\n",
    "    model=\"gemini-2.5-flash\",  \n",
    "    config=types.GenerateContentConfig(\n",
    "        system_instruction=\"당신은 최고의 카피라이터입니다. 사용자가 제시하는 내용을 참고해서 1~2줄 짜리 광고문구 5개 생성해주세요\"\n",
    "    ),\n",
    "    contents=text\n",
    ")\n",
    "print(response.text)"
   ]
  },
  {
   "cell_type": "code",
   "execution_count": null,
   "id": "4520fcf1",
   "metadata": {},
   "outputs": [],
   "source": []
  }
 ],
 "metadata": {
  "kernelspec": {
   "display_name": ".venv",
   "language": "python",
   "name": "python3"
  },
  "language_info": {
   "codemirror_mode": {
    "name": "ipython",
    "version": 3
   },
   "file_extension": ".py",
   "mimetype": "text/x-python",
   "name": "python",
   "nbconvert_exporter": "python",
   "pygments_lexer": "ipython3",
   "version": "3.13.3"
  }
 },
 "nbformat": 4,
 "nbformat_minor": 5
}
