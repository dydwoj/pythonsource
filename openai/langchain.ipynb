{
 "cells": [
  {
   "cell_type": "code",
   "execution_count": 1,
   "id": "141e3fc8",
   "metadata": {},
   "outputs": [
    {
     "name": "stderr",
     "output_type": "stream",
     "text": [
      "\n",
      "[notice] A new release of pip is available: 25.0.1 -> 25.1.1\n",
      "[notice] To update, run: python.exe -m pip install --upgrade pip\n",
      "\n",
      "[notice] A new release of pip is available: 25.0.1 -> 25.1.1\n",
      "[notice] To update, run: python.exe -m pip install --upgrade pip\n",
      "\n",
      "[notice] A new release of pip is available: 25.0.1 -> 25.1.1\n",
      "[notice] To update, run: python.exe -m pip install --upgrade pip\n",
      "\n",
      "[notice] A new release of pip is available: 25.0.1 -> 25.1.1\n",
      "[notice] To update, run: python.exe -m pip install --upgrade pip\n"
     ]
    }
   ],
   "source": [
    "# 라이브러리 설치\n",
    "\n",
    "# !pip install -q langchain\n",
    "# !pip install -q langchain-community\n",
    "# !pip install -q tiktoken\n",
    "# !pip install -q langchain_openai"
   ]
  },
  {
   "cell_type": "code",
   "execution_count": 3,
   "id": "00445952",
   "metadata": {},
   "outputs": [
    {
     "data": {
      "text/plain": [
       "True"
      ]
     },
     "execution_count": 3,
     "metadata": {},
     "output_type": "execute_result"
    }
   ],
   "source": [
    "# env \n",
    "\n",
    "from dotenv import load_dotenv\n",
    "\n",
    "# youtube-transcript-api\n",
    "from langchain_community.document_loaders import YoutubeLoader\n",
    "# 프롬프트 작성 템플릿 제공\n",
    "from langchain_core.prompts import PromptTemplate\n",
    "# 긴글요약\n",
    "from langchain.chains.summarize import load_summarize_chain\n",
    "# 텍스트 분리\n",
    "from langchain.text_splitter import RecursiveCharacterTextSplitter\n",
    "# OpenAI \n",
    "from langchain_openai import ChatOpenAI\n",
    "\n",
    "\n",
    "load_dotenv()"
   ]
  },
  {
   "cell_type": "code",
   "execution_count": null,
   "id": "e1568326",
   "metadata": {},
   "outputs": [],
   "source": [
    "# 유튜브 자막 추출\n",
    "\n",
    "loader = YoutubeLoader.from_youtube_url(\"https://www.youtube.com/watch?v=Pn-W41hC764\")\n",
    "transcript = loader.load()\n",
    "print(transcript)"
   ]
  },
  {
   "cell_type": "code",
   "execution_count": null,
   "id": "7989ffff",
   "metadata": {},
   "outputs": [],
   "source": [
    "# 자막을 쪼개서 요약 \n",
    "# chunk_size : 각각 분할한 문서 사이즈\n",
    "\n",
    "text_splitter = RecursiveCharacterTextSplitter(chunk_size=4000, chunk_overlap=0)\n",
    "text = text_splitter.split_documents(transcript)"
   ]
  },
  {
   "cell_type": "code",
   "execution_count": null,
   "id": "e670f3c6",
   "metadata": {},
   "outputs": [],
   "source": [
    "# 프롬프트 템플릿 지정\n",
    "prompt = PromptTemplate(\n",
    "    template=\"Summerize the youtube video whose transcript is provided within backticks {text}\",\n",
    "    input_variables=['text'])\n",
    "\n",
    "# 요약된 내용들을 취합하여 재요약\n",
    "combine_prompt = PromptTemplate(\n",
    "    template=\"Combine all the youtube video whose transcript provided within backticks {text} \\\n",
    "        Provide a concise summary between 8 to 10 sentences.\",\n",
    "    input_variables=['text'])\n",
    "\n",
    "# 모델 지정\n",
    "llm = ChatOpenAI(temperature=0, max_completion_tokens=3000, model='gpt-4o-mini',request_timeout=120)\n",
    "\n",
    "# 요약 실행\n",
    "chain = load_summarize_chain(llm, chain_type=\"map_reduce\", verbose=False,\n",
    "                              map_prompt=prompt, combine_prompt=combine_prompt)\n",
    "output = chain.invoke(text)"
   ]
  },
  {
   "cell_type": "code",
   "execution_count": null,
   "id": "a7be104d",
   "metadata": {},
   "outputs": [],
   "source": [
    "# 번역(영어 => 한국)\n",
    "\n",
    "from googletrans import Translator\n",
    "\n",
    "translator = Translator()\n",
    "\n",
    "result = await translator.translate(output[\"output_text\"], dest=\"ko\")\n",
    "print(result.text)"
   ]
  }
 ],
 "metadata": {
  "kernelspec": {
   "display_name": ".venv",
   "language": "python",
   "name": "python3"
  },
  "language_info": {
   "codemirror_mode": {
    "name": "ipython",
    "version": 3
   },
   "file_extension": ".py",
   "mimetype": "text/x-python",
   "name": "python",
   "nbconvert_exporter": "python",
   "pygments_lexer": "ipython3",
   "version": "3.13.3"
  }
 },
 "nbformat": 4,
 "nbformat_minor": 5
}
