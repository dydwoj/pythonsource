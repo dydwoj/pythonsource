{
 "cells": [
  {
   "cell_type": "markdown",
   "id": "00e37e64",
   "metadata": {},
   "source": [
    "### 요약 프로그램"
   ]
  },
  {
   "cell_type": "code",
   "execution_count": 2,
   "id": "106874e7",
   "metadata": {},
   "outputs": [
    {
     "data": {
      "text/plain": [
       "True"
      ]
     },
     "execution_count": 2,
     "metadata": {},
     "output_type": "execute_result"
    }
   ],
   "source": [
    "from dotenv import load_dotenv\n",
    "from openai import OpenAI\n",
    "\n",
    "load_dotenv()"
   ]
  },
  {
   "cell_type": "code",
   "execution_count": 3,
   "id": "9772f209",
   "metadata": {},
   "outputs": [],
   "source": [
    "text=\"\"\"President Donald Trump cranked up the pressure Monday on America’s trading partners, firing off letters to heads of several countries, informing them of their new tariff rate. But at the same time, Trump took some of the edge off by signing an executive action Monday to extend the date for all “reciprocal” tariffs, with the exception of China, to August 1.\n",
    "Those “reciprocal” tariffs were expected to go into effect Wednesday. In some cases, the letters Trump sent specify new “reciprocal” tariff rates that are higher or lower compared to April levels.\"\"\"\n",
    "\n",
    "client = OpenAI()\n",
    "Model = \"gpt-4o-mini\"\n",
    "\n",
    "\n",
    "role_content = \"\"\"당신은 텍스트를 한국어로 요약하는 전문가입니다.\n",
    "- 당신의 임무는 아래 주어진 텍스트 문장을 한국어로 요약하는 것입니다.\n",
    "- 요약 시 다음 사항을 반드시 반영해야 합니다.\n",
    "    - 중복된 내용은 생략하되, 반복되는 내용은 요약에서 더 강조합니다.\n",
    "    - 사례 중심보다는 개념과 주장 중심으로 요약합니다.\n",
    "    - 3줄 이내로 요약합니다.\n",
    "    - 불릿 기호(*) 형식으로 작성합니다. \n",
    "\"\"\"\n",
    "\n",
    "response = client.chat.completions.create(\n",
    "    model=Model,\n",
    "    messages=[\n",
    "        {\"role\":\"developer\",\"content\":role_content},\n",
    "        {\"role\":\"user\",\"content\":text},\n",
    "    ]\n",
    ")"
   ]
  },
  {
   "cell_type": "code",
   "execution_count": 4,
   "id": "d28950c4",
   "metadata": {},
   "outputs": [
    {
     "name": "stdout",
     "output_type": "stream",
     "text": [
      "* 도널드 트럼프 대통령은 여러 국가의 정상들에게 새로운 관세율을 통보하며 압박을 강화했다.  \n",
      "* 그러나 중국을 제외한 모든 \"상응\" 관세의 발효일을 8월 1일까지 연장하는 행정 명령을 서명하여 긴장을 완화했다.  \n",
      "* 트럼프가 보낸 편지에서는 4월 대비 새로운 관세율이 변경된 경우도 있다.\n"
     ]
    }
   ],
   "source": [
    "print(response.choices[0].message.content)"
   ]
  },
  {
   "cell_type": "code",
   "execution_count": null,
   "id": "1809c735",
   "metadata": {},
   "outputs": [],
   "source": []
  }
 ],
 "metadata": {
  "kernelspec": {
   "display_name": "venv",
   "language": "python",
   "name": "python3"
  },
  "language_info": {
   "codemirror_mode": {
    "name": "ipython",
    "version": 3
   },
   "file_extension": ".py",
   "mimetype": "text/x-python",
   "name": "python",
   "nbconvert_exporter": "python",
   "pygments_lexer": "ipython3",
   "version": "3.13.3"
  }
 },
 "nbformat": 4,
 "nbformat_minor": 5
}
