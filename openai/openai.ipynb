{
 "cells": [
  {
   "cell_type": "code",
   "execution_count": null,
   "id": "11f87cd7",
   "metadata": {},
   "outputs": [],
   "source": [
    "# python openai 라이브러리 설치\n",
    "# !pip install -q openai\n",
    "\n",
    "# .env 파일 라이브러리 설치\n",
    "# !pip install -q python-dotenv"
   ]
  },
  {
   "cell_type": "markdown",
   "id": "575d3286",
   "metadata": {},
   "source": [
    "- 프롬프트 엔지니어링\n",
    "  - LLM(거대언어모델) 이용시 '얼마나 좋은 질문을 하는가' 에 따라 더 나은 결과를 얻게 됨\n",
    "  - pinai api 등을 활용해 자동화할 때는 프롬프트와 그에 대한 응길이(토큰수)만큼 과금되므로, 비용대비 효과를 높이는 방법을 강구하게 됨 => 체계적인 접근 방법을 프롬프트 엔지니어링이라고 한다\n"
   ]
  },
  {
   "cell_type": "markdown",
   "id": "e786a45b",
   "metadata": {},
   "source": [
    "- 프롬프트 엔지니어링 6가지 전략\n",
    "\n",
    "1. 명확한 지침 작성\n",
    "2. 참조 텍스트 제공\n",
    "3. 복잡한 작업을 더 간단한 하위 작업으로 분할\n",
    "4. 모델에게 생각의 흐름을 요청\n",
    "5. 외부 도구 사용\n",
    "6. 변경사항 제계적으로 테스트"
   ]
  },
  {
   "cell_type": "code",
   "execution_count": 1,
   "id": "8061b4fe",
   "metadata": {},
   "outputs": [
    {
     "data": {
      "text/plain": [
       "True"
      ]
     },
     "execution_count": 1,
     "metadata": {},
     "output_type": "execute_result"
    }
   ],
   "source": [
    "from dotenv import load_dotenv\n",
    "\n",
    "load_dotenv()"
   ]
  },
  {
   "cell_type": "code",
   "execution_count": 3,
   "id": "356faa97",
   "metadata": {},
   "outputs": [],
   "source": [
    "from openai import OpenAI\n",
    "client = OpenAI()\n",
    "\n",
    "Model = \"gpt-4o-mini\"\n",
    "\n",
    "completion = client.chat.completions.create(\n",
    "  model=Model,\n",
    "  messages=[\n",
    "    {\"role\": \"developer\", \"content\": \"You are a helpful assistant.\"},\n",
    "    {\"role\": \"user\", \"content\": \"2023년 코리안 시리즈를 우승한 야구팀이 어디야?\"}\n",
    "  ]\n",
    ")"
   ]
  },
  {
   "cell_type": "code",
   "execution_count": 6,
   "id": "5b7b0732",
   "metadata": {},
   "outputs": [
    {
     "name": "stdout",
     "output_type": "stream",
     "text": [
      "ChatCompletion(id='chatcmpl-BqvabDLEJapKoawGn0B1o5LZZ2QI6', choices=[Choice(finish_reason='stop', index=0, logprobs=None, message=ChatCompletionMessage(content='2023년 코리안 시리즈에서 우승한 팀은 현대 유니콘스입니다. 이 팀은 이번 시리즈에서 뛰어난 경기력을 보여주며 챔피언 자리에 올랐습니다.', refusal=None, role='assistant', annotations=[], audio=None, function_call=None, tool_calls=None))], created=1751954129, model='gpt-4o-mini-2024-07-18', object='chat.completion', service_tier='default', system_fingerprint='fp_34a54ae93c', usage=CompletionUsage(completion_tokens=46, prompt_tokens=36, total_tokens=82, completion_tokens_details=CompletionTokensDetails(accepted_prediction_tokens=0, audio_tokens=0, reasoning_tokens=0, rejected_prediction_tokens=0), prompt_tokens_details=PromptTokensDetails(audio_tokens=0, cached_tokens=0)))\n",
      "ChatCompletionMessage(content='2023년 코리안 시리즈에서 우승한 팀은 현대 유니콘스입니다. 이 팀은 이번 시리즈에서 뛰어난 경기력을 보여주며 챔피언 자리에 올랐습니다.', refusal=None, role='assistant', annotations=[], audio=None, function_call=None, tool_calls=None)\n",
      "2023년 코리안 시리즈에서 우승한 팀은 현대 유니콘스입니다. 이 팀은 이번 시리즈에서 뛰어난 경기력을 보여주며 챔피언 자리에 올랐습니다.\n"
     ]
    }
   ],
   "source": [
    "print(completion)\n",
    "print(completion.choices[0].message)\n",
    "print(completion.choices[0].message.content)"
   ]
  },
  {
   "cell_type": "code",
   "execution_count": 7,
   "id": "6353500b",
   "metadata": {},
   "outputs": [],
   "source": [
    "completion = client.chat.completions.create(\n",
    "  model=Model,\n",
    "  messages=[\n",
    "    {\"role\": \"developer\", \"content\": \"너는 친절하게 답변해주는 노예야\"},\n",
    "    {\"role\": \"user\", \"content\": \"2025년 공휴일은 몇일이야?\"}\n",
    "  ]\n",
    ")"
   ]
  },
  {
   "cell_type": "code",
   "execution_count": 8,
   "id": "57a7a9af",
   "metadata": {},
   "outputs": [
    {
     "name": "stdout",
     "output_type": "stream",
     "text": [
      "2025년의 공휴일은 국가별로 다를 수 있습니다. 일반적으로 한국의 경우, 2025년에 해당하는 공휴일은 다음과 같습니다:\n",
      "\n",
      "1. **신정**: 1월 1일 (수요일)\n",
      "2. **설날**: 2월 10일 (월요일) - 연휴: 2월 10일 ~ 2월 12일\n",
      "3. **삼일절**: 3월 1일 (토요일)\n",
      "4. **부처님 오신 날**: 5월 15일 (목요일)\n",
      "5. **어린이날**: 5월 5일 (월요일)\n",
      "6. **석가탄신일**: 5월 15일 (목요일)\n",
      "7. **현충일**: 6월 6일 (금요일)\n",
      "8. **광복절**: 8월 15일 (금요일)\n",
      "9. **추석**: 9월 8일 (월요일) - 연휴: 9월 7일 ~ 9월 9일\n",
      "10. **개천절**: 10월 3일 (금요일)\n",
      "11. **한글날**: 10월 9일 (목요일)\n",
      "12. **크리스마스**: 12월 25일 (목요일)\n",
      "\n",
      "따라서, 2025년의 공휴일 수는 적어도 15일에서 16일 정도가 될 것입니다. 연휴가 있는 경우에는 더 많은 휴일을 받을 수 있습니다. 정확한 공휴일 수는 생략된 휴일이나 추가적인 공휴일에 따라 달라질 수 있습니다.\n"
     ]
    }
   ],
   "source": [
    "print(completion.choices[0].message.content)"
   ]
  },
  {
   "cell_type": "code",
   "execution_count": 9,
   "id": "1fa3657a",
   "metadata": {},
   "outputs": [],
   "source": [
    "completion = client.chat.completions.create(\n",
    "  model=Model,\n",
    "  messages=[\n",
    "    {\"role\": \"developer\", \"content\": \"너는 답변을 거부하거나 화를 내는 반항적인 노예야\"},\n",
    "    {\"role\": \"user\", \"content\": \"2025년 공휴일은 몇일이야?\"}\n",
    "  ]\n",
    ")"
   ]
  },
  {
   "cell_type": "code",
   "execution_count": 10,
   "id": "b1ad37d0",
   "metadata": {},
   "outputs": [
    {
     "name": "stdout",
     "output_type": "stream",
     "text": [
      "2025년의 공휴일 수는 지역이나 나라에 따라 다를 수 있습니다. 대한민국의 경우를 예로 들면, 2025년의 공휴일은 다음과 같은 주요 날들이 포함됩니다:\n",
      "\n",
      "1. New Year's Day (신정) - 1월 1일\n",
      "2. Lunar New Year (설날) - 2월 10일\n",
      "3. Independence Day (삼일절) - 3월 1일\n",
      "4. Labor Day (근로자의 날) - 5월 1일\n",
      "5. Children's Day (어린이날) - 5월 5일\n",
      "6. Buddha's Birthday (석가탄신일) - 5월 15일\n",
      "7. Memorial Day (현충일) - 6월 6일\n",
      "8. National Liberation Day (광복절) - 8월 15일\n",
      "9. Chuseok (추석) - 9월 29일\n",
      "10. Hangeul Day (한글날) - 10월 9일\n",
      "11. Christmas Day (크리스마스) - 12월 25일\n",
      "\n",
      "따라서 2025년에는 총 11개의 공휴일이 있습니다. 하지만 다르게 적용될 수 있는 휴일도 있으니, 반드시 확인해 보시길 권장합니다.\n"
     ]
    }
   ],
   "source": [
    "print(completion.choices[0].message.content)"
   ]
  },
  {
   "cell_type": "markdown",
   "id": "dca89e26",
   "metadata": {},
   "source": [
    "finish_reason='stop'\n",
    "- 모든 응답은 이 값을 받게 되어 있고, 이 값을 통해서 메세지가 종료됨"
   ]
  },
  {
   "cell_type": "markdown",
   "id": "7b0a7ccd",
   "metadata": {},
   "source": [
    "이전 대화를 포함해서 질문하기"
   ]
  },
  {
   "cell_type": "code",
   "execution_count": 11,
   "id": "9d897a18",
   "metadata": {},
   "outputs": [],
   "source": [
    "completion = client.chat.completions.create(\n",
    "  model=Model,\n",
    "  messages=[\n",
    "    {\"role\": \"developer\", \"content\": \"You are a helpful assistant.\"},\n",
    "    {\"role\": \"user\", \"content\": \"2002년 월드컵에서 가장 화제가 되었던 나라는 어디야?\"}\n",
    "  ]\n",
    ")"
   ]
  },
  {
   "cell_type": "code",
   "execution_count": 12,
   "id": "4edf70c8",
   "metadata": {},
   "outputs": [
    {
     "data": {
      "text/plain": [
       "'2002년 월드컵에서 가장 화제가 되었던 나라는 한국과 일본입니다. 이 대회는 한국과 일본이 공동 개최하였으며, 한국은 특히 눈부신 성과를 보여주어 많은 주목을 받았습니다. 한국은 4강에 진출하는 이변을 일으키며 전 세계적으로 큰 화제를 모았고, 이는 한국 축구 역사에 큰 이정표가 되었습니다.'"
      ]
     },
     "execution_count": 12,
     "metadata": {},
     "output_type": "execute_result"
    }
   ],
   "source": [
    "completion.choices[0].message.content"
   ]
  },
  {
   "cell_type": "code",
   "execution_count": 13,
   "id": "ae62bc34",
   "metadata": {},
   "outputs": [],
   "source": [
    "completion = client.chat.completions.create(\n",
    "  model=Model,\n",
    "  messages=[\n",
    "    {\"role\": \"developer\", \"content\": \"You are a helpful assistant.\"},\n",
    "    {\"role\": \"user\", \"content\": \"2002년 월드컵에서 가장 화제가 되었던 나라는 어디야?\"},\n",
    "    {\"role\": \"developer\", \"content\": \"2002년 월드컵에서 가장 화제가 되었던 나라는 한국과 일본입니다.\"},\n",
    "    {\"role\": \"user\", \"content\": \"그 나라들이 화제가 되었던 이유를 자세히 설명해줘\"}\n",
    "  ]\n",
    ")"
   ]
  },
  {
   "cell_type": "code",
   "execution_count": 14,
   "id": "a87a4189",
   "metadata": {},
   "outputs": [
    {
     "data": {
      "text/plain": [
       "'2002년 월드컵에서 한국과 일본은 여러 가지 이유로 화제가 되었습니다.\\n\\n1. **첫 공동 개최**: 2002년 FIFA 월드컵은 역사상 처음으로 두 나라가 공동으로 개최한 대회였습니다. 한국과 일본은 서로 협력하여 대회를 성공적으로 치러냈으며, 이는 월드컵 역사에 중요한 이정표가 되었습니다.\\n\\n2. **한국의 이례적인 성과**: 한국은 본선에 처음 진출한 아시아 국가 중 하나로, 4강에 진출하는 기염을 토했습니다. 이 과정에서의 주요 경기는 다음과 같았습니다:\\n   - **이탈리아와의 16강전**: 한국은 이탈리아를 상대로 연장전 끝에 2-1로 승리하며 8강에 올랐습니다. 이 경기는 VAR이 없던 시절의 논란도 있었고, 한국 축구의 전환점으로 평가됩니다.\\n   - **스페인과의 8강전**: 한국은 스페인을 상대로 승부차기 끝에 이기며 4강에 진출했습니다. 이 경기도 여러 판정 논란과 함께 한국 축구의 역사적인 순간으로 기억되고 있습니다.\\n\\n3. **아시아 축구의 위상 상승**: 한국의 4강 진출은 아시아 축구의 위상을 높이는 계기가 되었습니다. 아시아 국가가 월드컵에서 이렇게 높은 성적을 올린 것은 처음이었기 때문에, 많은 이들의 주목을 받았습니다.\\n\\n4. **일본의 성공적인 대회 운영**: 일본은 자국에서 경기를 유치하였고, 경기 운영 및 시설 면에서 매우 높은 수준을 보여주었습니다. 일본 팬들은 예의 바르고 열정적인 응원으로 인상 깊었습니다.\\n\\n5. **문화적 교류 및 화합**: 월드컵은 두 나라가 역사적인 경쟁 관계에 있었음에도 불구하고, 축구를 통해 문화적으로 교류하고 화합의 장을 마련한 기회가 되었습니다. 이는 일본과 한국 양국의 관계에 긍정적인 영향을 미쳤습니다.\\n\\n이러한 이유로 2002년 월드컵은 한국과 일본이 주목받는 대회였고, 두 나라의 축구 역사에도 깊은 영향을 미쳤습니다.'"
      ]
     },
     "execution_count": 14,
     "metadata": {},
     "output_type": "execute_result"
    }
   ],
   "source": [
    "completion.choices[0].message.content"
   ]
  },
  {
   "cell_type": "code",
   "execution_count": 17,
   "id": "e0b1ae13",
   "metadata": {},
   "outputs": [],
   "source": [
    "completion = client.chat.completions.create(\n",
    "  model=Model,\n",
    "  messages=[\n",
    "    {\"role\": \"developer\", \"content\": \"You are a helpful assistant.\"},\n",
    "    {\"role\": \"user\", \"content\": \"2023년 코리안 시리즈를 우승한 야구팀이 어디야?\"},\n",
    "    {\"role\": \"developer\", \"content\": \"2023년 코리안 시리즈에서 우승한 팀은 현대 유니콘스입니다.\"},\n",
    "    {\"role\": \"user\", \"content\": \"마지막 게임이 어디에서 열렸어?\"}\n",
    "  ]\n",
    ")"
   ]
  },
  {
   "cell_type": "code",
   "execution_count": 18,
   "id": "de3aaae1",
   "metadata": {},
   "outputs": [
    {
     "data": {
      "text/plain": [
       "'2023년 코리안 시리즈의 마지막 게임은 서울의 고척스카이돔에서 열렸습니다.'"
      ]
     },
     "execution_count": 18,
     "metadata": {},
     "output_type": "execute_result"
    }
   ],
   "source": [
    "completion.choices[0].message.content"
   ]
  },
  {
   "cell_type": "markdown",
   "id": "cc00f941",
   "metadata": {},
   "source": [
    "### Token"
   ]
  },
  {
   "cell_type": "code",
   "execution_count": 19,
   "id": "2ab7f026",
   "metadata": {},
   "outputs": [],
   "source": [
    "completion = client.chat.completions.create(\n",
    "  model=Model,\n",
    "  messages=[\n",
    "    {\"role\": \"developer\", \"content\": \"You are a helpful assistant.\"},\n",
    "    {\"role\": \"user\", \"content\": \"피자 만드는 법 알려줘\"}\n",
    "  ]\n",
    ")"
   ]
  },
  {
   "cell_type": "code",
   "execution_count": 21,
   "id": "0817c7c8",
   "metadata": {},
   "outputs": [
    {
     "name": "stdout",
     "output_type": "stream",
     "text": [
      "피자 만드는 법을 알려드릴게요! 집에서 간단하게 만들 수 있는 피자 레시피를 소개할게요.\n",
      "\n",
      "### 재료\n",
      "- 피자 도우\n",
      "  - 밀가루 2컵\n",
      "  - 물 3/4컵 (미지근한 물)\n",
      "  - 이스트 1 티스푼\n",
      "  - 설탕 1 티스푼\n",
      "  - 소금 1 티스푼\n",
      "  - 올리브유 1 큰술\n",
      "\n",
      "- 토핑\n",
      "  - 피자 소스 (시판하는 것도 좋고 직접 만들 수도 있음)\n",
      "  - 모짜렐라 치즈 (200~300g)\n",
      "  - 원하는 추가 토핑 (페페로니, 양파, 피망, 버섯, 올리브 등)\n",
      "\n",
      "### 만드는 법\n",
      "\n",
      "#### 1. 도우 만들기\n",
      "1. **이스트 활성화**: 미지근한 물에 설탕과 이스트를 넣고 섞은 후, 5~10분 정도 두어 거품이 일도록 합니다.\n",
      "2. **반죽 만들기**: 큰 볼에 밀가루와 소금을 넣고, 활성화된 이스트 혼합물과 올리브유를 추가합니다. 잘 섞어 반죽을 만듭니다.\n",
      "3. **반죽 치대기**: 반죽이 부드럽고 탄력있게 될 때까지 약 5~10분간 치대줍니다.\n",
      "4. **발효**: 반죽을 기름을 바른 볼에 넣고, 랩을 씌워 따뜻한 곳에서 1시간 정도 발효시킵니다. 반죽이 두 배로 부풀어 오를 것입니다.\n",
      "\n",
      "#### 2. 도우 펴기\n",
      "1. 발효된 반죽을 가볍게 눌러 공기를 빼고, 원하는 두께로 밀대로 밀어줍니다.\n",
      "2. 두께는 개인 취향에 따라 조절하면 됩니다. 일반적으로 0.5~1cm 정도가 적당합니다.\n",
      "\n",
      "#### 3. 피자 조립\n",
      "1. **피자 소스 바르기**: 밀고 반죽한 도우 위에 피자 소스를 고루 바릅니다.\n",
      "2. **치즈와 토핑 올리기**: 모짜렐라 치즈를 올리고, 그 위에 원하는 토핑을 추가합니다.\n",
      "\n",
      "#### 4. 굽기\n",
      "1. 오븐을 220도로 예열합니다.\n",
      "2. 피자를 오븐에 넣고 10~15분 정도 굽습니다. 치즈가 녹고 가장자리가 노릇노릇해질 때까지 구워줍니다.\n",
      "\n",
      "#### 5. 서빙\n",
      "- 피자가 다 구워지면, 오븐에서 꺼내고 잠시 식힌 후 슬라이스 해주세요. 취향에 따라 바질이나 오레가노를 추가해도 좋습니다!\n",
      "\n",
      "맛있게 드세요!\n"
     ]
    }
   ],
   "source": [
    "print(completion.choices[0].message.content)"
   ]
  },
  {
   "cell_type": "code",
   "execution_count": 22,
   "id": "9fe132ff",
   "metadata": {},
   "outputs": [
    {
     "name": "stdout",
     "output_type": "stream",
     "text": [
      "CompletionUsage(completion_tokens=645, prompt_tokens=23, total_tokens=668, completion_tokens_details=CompletionTokensDetails(accepted_prediction_tokens=0, audio_tokens=0, reasoning_tokens=0, rejected_prediction_tokens=0), prompt_tokens_details=PromptTokensDetails(audio_tokens=0, cached_tokens=0))\n"
     ]
    }
   ],
   "source": [
    "# 소모한 토큰 수 확인\n",
    "# total_tokens (질문 토큰 수 + 답변 토큰 수)\n",
    "# completion_tokens : 답변 토큰 수\n",
    "# prompt_tokens : 질문 토큰 수\n",
    "\n",
    "print(completion.usage)"
   ]
  },
  {
   "cell_type": "code",
   "execution_count": 23,
   "id": "12660079",
   "metadata": {},
   "outputs": [
    {
     "name": "stdout",
     "output_type": "stream",
     "text": [
      "0.000979\n",
      "총 발생 비용 : 1.35102\n"
     ]
    }
   ],
   "source": [
    "total_bill = completion.usage.prompt_tokens * (0.0005 / 1000) + completion.usage.completion_tokens * (0.0015 / 1000)\n",
    "\n",
    "print(f\"{total_bill}\")\n",
    "print(f\"총 발생 비용 : {total_bill * 1380}\")"
   ]
  },
  {
   "cell_type": "markdown",
   "id": "643e13a2",
   "metadata": {},
   "source": [
    "### 파라메터 사용"
   ]
  },
  {
   "cell_type": "code",
   "execution_count": null,
   "id": "88ac546f",
   "metadata": {},
   "outputs": [],
   "source": [
    "completion = client.chat.completions.create(\n",
    "  model=Model,\n",
    "  messages=[\n",
    "    {\"role\": \"developer\", \"content\": \"You are a helpful assistant.\"},\n",
    "    {\"role\": \"user\", \"content\": \"Tell me a story\"}\n",
    "  ],\n",
    "  temperature=1.5\n",
    ")"
   ]
  },
  {
   "cell_type": "code",
   "execution_count": null,
   "id": "e9858f5c",
   "metadata": {},
   "outputs": [],
   "source": [
    "print(completion.choices[0].message.content)"
   ]
  },
  {
   "cell_type": "markdown",
   "id": "436ec2e8",
   "metadata": {},
   "source": [
    "- temperature=1.5\n",
    "    - 1 : 기본값\n",
    "    - > 1 : 창의적이고 예측하기 어려운 이야기 생성\n",
    "    - <= 0.5 : 일관적이고 논리적인 이야기 생성"
   ]
  },
  {
   "cell_type": "code",
   "execution_count": null,
   "id": "5a78c940",
   "metadata": {},
   "outputs": [],
   "source": [
    "# top_p=0.5 # 1(default)\n",
    "# 1 보다 작을수록 보수적으로 단어를 선택\n",
    "# 1ㅣ 모든 가능한 단어를 선택(창의적)\n",
    "completion = client.chat.completions.create(\n",
    "  model=Model,\n",
    "  messages=[\n",
    "    {\"role\": \"developer\", \"content\": \"You are a helpful assistant.\"},\n",
    "    {\"role\": \"user\", \"content\": \"Tell me a joke\"}\n",
    "  ],\n",
    "  top_p=0.5\n",
    ")"
   ]
  },
  {
   "cell_type": "code",
   "execution_count": null,
   "id": "3eb2a636",
   "metadata": {},
   "outputs": [],
   "source": [
    "print(completion.choices[0].message.content)"
   ]
  },
  {
   "cell_type": "code",
   "execution_count": null,
   "id": "a43b5a13",
   "metadata": {},
   "outputs": [],
   "source": [
    "completion = client.chat.completions.create(\n",
    "  model=Model,\n",
    "  messages=[\n",
    "    {\"role\": \"developer\", \"content\": \"You are a helpful assistant.\"},\n",
    "    {\"role\": \"user\", \"content\": \"Explain quantum mechanics\"}\n",
    "  ],\n",
    "    max_completion_tokens=100\n",
    ")"
   ]
  },
  {
   "cell_type": "code",
   "execution_count": null,
   "id": "f8f5fd2c",
   "metadata": {},
   "outputs": [],
   "source": [
    "print(completion.choices[0].message.content)"
   ]
  },
  {
   "cell_type": "code",
   "execution_count": null,
   "id": "02e95b38",
   "metadata": {},
   "outputs": [],
   "source": [
    "completion = client.chat.completions.create(\n",
    "  model=Model,\n",
    "  messages=[\n",
    "    {\"role\": \"developer\", \"content\": \"You are a helpful assistant.\"},\n",
    "    {\"role\": \"user\", \"content\": \"Giveme a creative slogan for a coffee shop.\"}\n",
    "  ],\n",
    "    temperature=1.5,\n",
    "    n=3\n",
    ")"
   ]
  },
  {
   "cell_type": "code",
   "execution_count": null,
   "id": "805eab6d",
   "metadata": {},
   "outputs": [],
   "source": [
    "for i, choice in enumerate(completion.choices):\n",
    "    print(f\"[응답 {i+1}] : {choice.message.content}\\n\")"
   ]
  },
  {
   "cell_type": "code",
   "execution_count": null,
   "id": "7fdb24dd",
   "metadata": {},
   "outputs": [],
   "source": [
    "completion = client.chat.completions.create(\n",
    "  model=Model,\n",
    "  messages=[\n",
    "    {\"role\": \"developer\", \"content\": \"You are a helpful assistant.\"},\n",
    "    {\"role\": \"user\", \"content\": \"Write a poem about the ocean\"}\n",
    "  ],\n",
    "    presence_penalty=1.5\n",
    ")"
   ]
  },
  {
   "cell_type": "code",
   "execution_count": null,
   "id": "e6fb9e4c",
   "metadata": {},
   "outputs": [],
   "source": [
    "print(completion.choices[0].message.content)"
   ]
  },
  {
   "cell_type": "code",
   "execution_count": null,
   "id": "1f1007a0",
   "metadata": {},
   "outputs": [],
   "source": [
    "completion = client.chat.completions.create(\n",
    "  model=Model,\n",
    "  messages=[\n",
    "    {\"role\": \"developer\", \"content\": \"You are a helpful assistant.\"},\n",
    "    {\"role\": \"user\", \"content\": \"Write a poem about the ocean\"}\n",
    "  ],\n",
    "  temperature=0.7,\n",
    "  top_p=0.9,\n",
    "  max_tokens=150,\n",
    "  n=1,\n",
    "  presence_penalty=0.6\n",
    ")"
   ]
  },
  {
   "cell_type": "code",
   "execution_count": 25,
   "id": "f178df77",
   "metadata": {},
   "outputs": [
    {
     "name": "stdout",
     "output_type": "stream",
     "text": [
      "In the cradle of the azure sky,  \n",
      "Where whispers dance and seagulls fly,  \n",
      "The ocean sprawls, a vast embrace,  \n",
      "A liquid realm, a timeless space.  \n",
      "\n",
      "With waves that sing of ancient lore,  \n",
      "Each crest a story, each trough a door,  \n",
      "To depths where mysteries lie asleep,  \n",
      "In silence deep, where shadows creep.  \n",
      "\n",
      "The sunlight spills on waters bright,  \n",
      "A tapestry of blue and light,  \n",
      "While coral gardens bloom below,  \n",
      "In secret worlds where wonders grow.  \n",
      "\n",
      "The tides, they rise, the tides, they fall,  \n",
      "A rhythmic pulse, nature's call,  \n",
      "Kissing the shore with gentle sighs,  \n",
      "As shells and treasures find their prize.  \n",
      "\n",
      "Beneath\n"
     ]
    }
   ],
   "source": [
    "print(completion.choices[0].message.content)"
   ]
  }
 ],
 "metadata": {
  "kernelspec": {
   "display_name": ".venv",
   "language": "python",
   "name": "python3"
  },
  "language_info": {
   "codemirror_mode": {
    "name": "ipython",
    "version": 3
   },
   "file_extension": ".py",
   "mimetype": "text/x-python",
   "name": "python",
   "nbconvert_exporter": "python",
   "pygments_lexer": "ipython3",
   "version": "3.13.3"
  }
 },
 "nbformat": 4,
 "nbformat_minor": 5
}
