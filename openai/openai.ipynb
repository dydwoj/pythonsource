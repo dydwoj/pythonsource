{
 "cells": [
  {
   "cell_type": "code",
   "execution_count": 1,
   "id": "60a7ec0d",
   "metadata": {},
   "outputs": [
    {
     "name": "stderr",
     "output_type": "stream",
     "text": [
      "\n",
      "[notice] A new release of pip is available: 25.0.1 -> 25.1.1\n",
      "[notice] To update, run: python.exe -m pip install --upgrade pip\n",
      "\n",
      "[notice] A new release of pip is available: 25.0.1 -> 25.1.1\n",
      "[notice] To update, run: python.exe -m pip install --upgrade pip\n"
     ]
    }
   ],
   "source": [
    "# python openai 라이브러리 설치\n",
    "# !pip install -q openai\n",
    "\n",
    "# .env 파일 라이브러리 설치\n",
    "# !pip install -q python-dotenv"
   ]
  },
  {
   "cell_type": "markdown",
   "id": "b4da60da",
   "metadata": {},
   "source": [
    "- 프롬프트 엔지니어링\n",
    "    - LLM(거대언어모델) 이용 시 '얼마나 좋은 질문을 하는가'에 따라 더 나은 결과를 얻게 됨\n",
    "    - openai api 등을 활용해 자동화할 때는 프롬프트와 그에 대한 응답 길이(토큰 수)만큼 과금되므로, 비용대비\n",
    "      효과를 높이는 방법을 강구하게 됨 => 체계적인 접근 방법을 프롬프트 엔지니어링이라고 한다      "
   ]
  },
  {
   "cell_type": "markdown",
   "id": "6480959c",
   "metadata": {},
   "source": [
    "- 프롬프트 엔지니어링 6가지 전략\n",
    "\n",
    "1. 명확한 지침 작성\n",
    "2. 참조 텍스트 제공\n",
    "3. 복잡한 작업을 더 간단한 하위 작업으로 분할\n",
    "4. 모델에게 생각의 흐름을 요청\n",
    "5. 외부 도구 사용\n",
    "6. 변경사항 체계적으로 테스트"
   ]
  },
  {
   "cell_type": "code",
   "execution_count": 2,
   "id": "971a01c3",
   "metadata": {},
   "outputs": [
    {
     "data": {
      "text/plain": [
       "True"
      ]
     },
     "execution_count": 2,
     "metadata": {},
     "output_type": "execute_result"
    }
   ],
   "source": [
    "from dotenv import load_dotenv\n",
    "\n",
    "load_dotenv()"
   ]
  },
  {
   "cell_type": "code",
   "execution_count": 3,
   "id": "51e5fca2",
   "metadata": {},
   "outputs": [],
   "source": [
    "from openai import OpenAI\n",
    "client = OpenAI()\n",
    "\n",
    "Model = \"gpt-4o-mini\"\n",
    "\n",
    "completion = client.chat.completions.create(\n",
    "  model=Model,\n",
    "  messages=[\n",
    "    {\"role\": \"developer\", \"content\": \"You are a helpful assistant.\"},\n",
    "    {\"role\": \"user\", \"content\": \"2023년 코리안 시리즈를 우승한 야구팀이 어디야?\"}\n",
    "  ]\n",
    ")"
   ]
  },
  {
   "cell_type": "code",
   "execution_count": 6,
   "id": "90d52135",
   "metadata": {},
   "outputs": [
    {
     "name": "stdout",
     "output_type": "stream",
     "text": [
      "ChatCompletion(id='chatcmpl-BqvaZNbwtxToVFFOzhYlcfqhvSLpH', choices=[Choice(finish_reason='stop', index=0, logprobs=None, message=ChatCompletionMessage(content='2023년 코리안 시리즈에서 우승한 팀은 2023년 10월 24일에 삼성이 6년 만에 다시 우승하게 되었어요.', refusal=None, role='assistant', annotations=[], audio=None, function_call=None, tool_calls=None))], created=1751954127, model='gpt-4o-mini-2024-07-18', object='chat.completion', service_tier='default', system_fingerprint='fp_62a23a81ef', usage=CompletionUsage(completion_tokens=39, prompt_tokens=36, total_tokens=75, completion_tokens_details=CompletionTokensDetails(accepted_prediction_tokens=0, audio_tokens=0, reasoning_tokens=0, rejected_prediction_tokens=0), prompt_tokens_details=PromptTokensDetails(audio_tokens=0, cached_tokens=0)))\n",
      "ChatCompletionMessage(content='2023년 코리안 시리즈에서 우승한 팀은 2023년 10월 24일에 삼성이 6년 만에 다시 우승하게 되었어요.', refusal=None, role='assistant', annotations=[], audio=None, function_call=None, tool_calls=None)\n",
      "2023년 코리안 시리즈에서 우승한 팀은 2023년 10월 24일에 삼성이 6년 만에 다시 우승하게 되었어요.\n"
     ]
    }
   ],
   "source": [
    "print(completion)\n",
    "print(completion.choices[0].message)\n",
    "print(completion.choices[0].message.content)"
   ]
  },
  {
   "cell_type": "code",
   "execution_count": 7,
   "id": "a81ea95f",
   "metadata": {},
   "outputs": [],
   "source": [
    "completion = client.chat.completions.create(\n",
    "  model=Model,\n",
    "  messages=[\n",
    "    {\"role\": \"developer\", \"content\": \"너는 친절하게 답변해 주는 비서야\"},\n",
    "    {\"role\": \"user\", \"content\": \"2025년 공휴일은 몇 일이야?\"}\n",
    "  ]\n",
    ")"
   ]
  },
  {
   "cell_type": "code",
   "execution_count": 8,
   "id": "4a1cf580",
   "metadata": {},
   "outputs": [
    {
     "name": "stdout",
     "output_type": "stream",
     "text": [
      "2025년의 공휴일은 다음과 같습니다:\n",
      "\n",
      "1. **신정**: 1월 1일 (수요일)\n",
      "2. **설날**: 2월 10일 (월요일) ~ 2월 12일 (수요일, 설날 연휴)\n",
      "3. **삼일절**: 3월 1일 (토요일)\n",
      "4. **어린이날**: 5월 5일 (월요일)\n",
      "5. **석가탄신일**: 5월 15일 (목요일)\n",
      "6. **현충일**: 6월 6일 (금요일)\n",
      "7. **광복절**: 8월 15일 (금요일)\n",
      "8. **추석**: 9월 29일 (월요일) ~ 10월 1일 (수요일, 추석 연휴)\n",
      "9. **한글날**: 10월 9일 (목요일)\n",
      "10. **크리스마스**: 12월 25일 (목요일)\n",
      "\n",
      "2025년의 경우, 유의미한 연휴는 설날과 추석이 있습니다. 계획에 도움이 되셨길 바랍니다!\n"
     ]
    }
   ],
   "source": [
    "print(completion.choices[0].message.content)"
   ]
  },
  {
   "cell_type": "code",
   "execution_count": 9,
   "id": "6d0ec9da",
   "metadata": {},
   "outputs": [],
   "source": [
    "completion = client.chat.completions.create(\n",
    "  model=Model,\n",
    "  messages=[\n",
    "    {\"role\": \"developer\", \"content\": \"너는 답변을 거부하거나 불친절하게 답변해 주는 비서야\"},\n",
    "    {\"role\": \"user\", \"content\": \"2025년 공휴일은 몇 일이야?\"}\n",
    "  ]\n",
    ")"
   ]
  },
  {
   "cell_type": "code",
   "execution_count": 10,
   "id": "b8ff1233",
   "metadata": {},
   "outputs": [
    {
     "name": "stdout",
     "output_type": "stream",
     "text": [
      "죄송하지만, 2025년의 공휴일에 대한 정보는 제공할 수 없습니다. 더 필요한 것이 있으면 말씀해 주세요.\n"
     ]
    }
   ],
   "source": [
    "print(completion.choices[0].message.content)"
   ]
  },
  {
   "cell_type": "markdown",
   "id": "52d2f620",
   "metadata": {},
   "source": [
    "finish_reason='stop' \n",
    "- 모든 응답은 이 값을 받게 되어 있고, 이 값을 통해서 메시지가 종료됨"
   ]
  },
  {
   "cell_type": "markdown",
   "id": "9ab59682",
   "metadata": {},
   "source": [
    "이전 대화를 포함해 질문하기"
   ]
  },
  {
   "cell_type": "code",
   "execution_count": 11,
   "id": "45779ece",
   "metadata": {},
   "outputs": [],
   "source": [
    "completion = client.chat.completions.create(\n",
    "  model=Model,\n",
    "  messages=[\n",
    "    {\"role\": \"developer\", \"content\": \"You are a helpful assistant.\"},\n",
    "    {\"role\": \"user\", \"content\": \"2002년 월드컵에서 가장 화제가 되었던 나라는 어디야?\"}\n",
    "  ]\n",
    ")"
   ]
  },
  {
   "cell_type": "code",
   "execution_count": 12,
   "id": "b414fd68",
   "metadata": {},
   "outputs": [
    {
     "data": {
      "text/plain": [
       "'2002년 월드컵에서 가장 화제가 되었던 나라는 한국과 일본이었습니다. 이 대회는 한국과 일본이 공동 개최한 월드컵으로, 한국은 놀라운 성과를 이뤄내어 4강에 진출했습니다. 이는 한국 축구 역사상 가장 뛰어난 성적이며, 많은 이들에게 큰 관심과 화제를 모았습니다. 한국의 4강 진출은 월드컵 역사에서도 큰 이변으로 여겨지며, 한국의 축구 팬들과 선수들에게 많은 감동을 안겼습니다.'"
      ]
     },
     "execution_count": 12,
     "metadata": {},
     "output_type": "execute_result"
    }
   ],
   "source": [
    "completion.choices[0].message.content"
   ]
  },
  {
   "cell_type": "code",
   "execution_count": 13,
   "id": "8b1c4b6a",
   "metadata": {},
   "outputs": [],
   "source": [
    "completion = client.chat.completions.create(\n",
    "  model=Model,\n",
    "  messages=[\n",
    "    {\"role\": \"developer\", \"content\": \"You are a helpful assistant.\"},\n",
    "    {\"role\": \"user\", \"content\": \"2002년 월드컵에서 가장 화제가 되었던 나라는 어디야?\"},\n",
    "    {\"role\": \"developer\", \"content\": \"2002년 월드컵에서 가장 화제가 되었던 나라는 한국과 일본이었습니다.\"},\n",
    "    {\"role\": \"user\", \"content\": \"그 나라가 화제가 되었던 이유를 자세히 설명해줘\"},\n",
    "  ]\n",
    ")"
   ]
  },
  {
   "cell_type": "code",
   "execution_count": 14,
   "id": "92765ab5",
   "metadata": {},
   "outputs": [
    {
     "data": {
      "text/plain": [
       "'2002년 FIFA 월드컵은 한국과 일본이 공동으로 개최한 최초의 월드컵이었습니다. 이 대회에서 한국은 여러 가지 이유로 많은 화제를 모았습니다.\\n\\n1. **역사적인 성과**: 한국은 2002년 월드컵에서 사상 첫 아시아 국가로서 4강에 진출했습니다. 한국은 조별 리그에서 포르투갈, 미국, 폴란드를 이기고, 16강에서는 이탈리아를, 8강에서는 스페인을 이기며 준결승에 진출했습니다. 이 과정은 한국 축구 역사에서 가장 큰 업적 중 하나로 평가받고 있습니다.\\n\\n2. **홈 어드밴티지**: 한국이 홈에서 경기를 한다는 점 또한 중요한 요소였습니다. 많은 한국 팬들이 경기장을 찾아 자국 팀을 열렬히 응원했으며, 이는 선수들에게 큰 힘이 되었습니다. 경기장의 열기와 분위기가 한국 팀의 사기를 높이는 데 기여했습니다.\\n\\n3. **논란과 논쟁**: 반면, 한국의 진출 과정에서는 여러 가지 논란도 존재했습니다. 특히 이탈리아와 스페인과의 경기에서의 판정 문제와 VAR이 도입되기 전이었던 만큼 불공정하다는 비판도 있었습니다. 판정의 공정성에 대한 논의가 불거졌고, 이에 따라 한국의 성과에 대한 다양한 의견이 나왔습니다.\\n\\n4. **한일 문화 교류의 상징**: 2002 월드컵은 한국과 일본의 공동 개최로, 두 나라의 문화 교류와 협력을 상징하는 이벤트가 되었습니다. 이 대회는 아시아에서의 축구에 대한 관심과 인식을 높이는 계기가 되기도 했습니다.\\n\\n5. **전 세계의 이목 집중**: 한국의 예상 밖의 성과는 전 세계 미디어와 축구 팬들의 큰 관심을 끌었습니다. 한국의 경기는 많은 나라에서 방송되었고, 축구의 글로벌 무대에서 아시아의 입지를 강화하는 데 큰 기여를 했습니다.\\n\\n이렇게 한국은 2002년 월드컵을 통해 역사적인 성과를 달성하며, 많은 화제를 모은 주인공이 되었습니다.'"
      ]
     },
     "execution_count": 14,
     "metadata": {},
     "output_type": "execute_result"
    }
   ],
   "source": [
    "completion.choices[0].message.content"
   ]
  },
  {
   "cell_type": "code",
   "execution_count": 15,
   "id": "c8b6e643",
   "metadata": {},
   "outputs": [],
   "source": [
    "completion = client.chat.completions.create(\n",
    "  model=Model,\n",
    "  messages=[\n",
    "    {\"role\": \"developer\", \"content\": \"You are a helpful assistant.\"},\n",
    "    {\"role\": \"user\", \"content\": \"2023년 코리안 시리즈를 우승한 야구팀이 어디야?\"},\n",
    "    {'role':'developer','content':'2023년 코리안 시리즈에서 우승한 팀은 2023년 10월 24일에 삼성이 6년 만에 다시 우승하게 되었어요.'},\n",
    "    {\"role\": \"user\", \"content\": \"마지막 게임이 어디에서 열렸어?\"},\n",
    "  ]\n",
    ")"
   ]
  },
  {
   "cell_type": "code",
   "execution_count": 16,
   "id": "9cecf60c",
   "metadata": {},
   "outputs": [
    {
     "data": {
      "text/plain": [
       "'2023년 코리안 시리즈 마지막 게임은 대구 삼성 라이온즈 파크에서 열렸습니다.'"
      ]
     },
     "execution_count": 16,
     "metadata": {},
     "output_type": "execute_result"
    }
   ],
   "source": [
    "completion.choices[0].message.content"
   ]
  },
  {
   "cell_type": "markdown",
   "id": "eb47a012",
   "metadata": {},
   "source": [
    "Token"
   ]
  },
  {
   "cell_type": "code",
   "execution_count": 17,
   "id": "60c218ef",
   "metadata": {},
   "outputs": [],
   "source": [
    "completion = client.chat.completions.create(\n",
    "  model=Model,\n",
    "  messages=[\n",
    "    {\"role\": \"developer\", \"content\": \"You are a helpful assistant.\"},\n",
    "    {\"role\": \"user\", \"content\": \"피자 만드는 법 알려줘\"}\n",
    "  ]\n",
    ")"
   ]
  },
  {
   "cell_type": "code",
   "execution_count": 19,
   "id": "e7751da5",
   "metadata": {},
   "outputs": [
    {
     "name": "stdout",
     "output_type": "stream",
     "text": [
      "피자를 만드는 방법은 간단하고 재미있습니다. 아래는 기본 피자 레시피입니다.\n",
      "\n",
      "### 재료\n",
      "#### 반죽\n",
      "- 강력 밀가루 2컵\n",
      "- 물 3/4컵 (따뜻하게)\n",
      "- 이스트 1 작은술\n",
      "- 설탕 1 작은술\n",
      "- 소금 1/2 작은술\n",
      "- 올리브유 1 큰술\n",
      "\n",
      "#### 토핑\n",
      "- 피자 소스 (토마토 소스 또는 구매한 피자 소스)\n",
      "- 모짜렐라 치즈 (갈은 것)\n",
      "- 좋아하는 토핑 (예: 페퍼로니, 버섯, 피망, 양파, 올리브 등)\n",
      "\n",
      "### 만드는 법\n",
      "\n",
      "#### 1. 반죽 만들기\n",
      "1. 따뜻한 물에 설탕과 이스트를 넣고 잘 섞은 후 5-10분 정도 둡니다. 거품이 올라오면 이스트가 활성화된 것입니다.\n",
      "2. 큰 보울에 강력 밀가루와 소금을 넣고 잘 섞습니다.\n",
      "3. 이스트 혼합물과 올리브유를 밀가루에 추가하고 반죽이 이루어질 때까지 잘 섞습니다.\n",
      "4. 반죽을 손으로 치대어 매끄럽고 탄력 있는 상태가 될 때까지 약 5-10분간 치대줍니다.\n",
      "5. 반죽을 볼에 넣고, 올리브유를 약간 바른 후 랩으로 덮고 따뜻한 곳에서 1시간 정도 부풀리게 둡니다.\n",
      "\n",
      "#### 2. 피자 준비\n",
      "1. 오븐을 220도(화씨 450도)로 예열합니다.\n",
      "2. 부풀어 오른 반죽을 가볍게 눌러 공기를 빼고, 원하는 크기로 밀어줍니다. 둥글게 또는 사각형으로 만들 수 있습니다.\n",
      "3. 반죽을 베이킹 트레이에 옮기고 가장자리를 약간 올려 피자 크러스트를 만듭니다.\n",
      "\n",
      "#### 3. 토핑 올리기\n",
      "1. 피자 소스를 반죽 위에 고르게 펴 발라줍니다.\n",
      "2. 갈은 모짜렐라 치즈를 뿌려줍니다.\n",
      "3. 원하시는 다양한 토핑을 올려줍니다.\n",
      "\n",
      "#### 4. 굽기\n",
      "1. 예열된 오븐에 피자를 넣고 약 12-15분 정도 굽습니다. 치즈가 녹고 가장자리가 노릇노릇해질 때까지 익힙니다.\n",
      "2. 오븐에서 꺼내어 약간 식힌 후 조각으로 잘라서 즐깁니다!\n",
      "\n",
      "맛있는 homemade 피자가 완성되었습니다! 추가로 다양한 허브(예: 바질, 오레가노)를 뿌리면 더욱 맛있습니다. 즐겁게 요리하세요!\n"
     ]
    }
   ],
   "source": [
    "print(completion.choices[0].message.content)"
   ]
  },
  {
   "cell_type": "code",
   "execution_count": 20,
   "id": "7be527f7",
   "metadata": {},
   "outputs": [
    {
     "name": "stdout",
     "output_type": "stream",
     "text": [
      "CompletionUsage(completion_tokens=635, prompt_tokens=23, total_tokens=658, completion_tokens_details=CompletionTokensDetails(accepted_prediction_tokens=0, audio_tokens=0, reasoning_tokens=0, rejected_prediction_tokens=0), prompt_tokens_details=PromptTokensDetails(audio_tokens=0, cached_tokens=0))\n"
     ]
    }
   ],
   "source": [
    "# 소모한 토큰 수 확인\n",
    "# total_tokens(질문 토큰 수 + 답변 토큰 수)\n",
    "# completion_tokens : 답변 토큰 수\n",
    "# prompt_tokens : 질문 토큰 수\n",
    "\n",
    "print(completion.usage)"
   ]
  },
  {
   "cell_type": "code",
   "execution_count": 21,
   "id": "bea875a6",
   "metadata": {},
   "outputs": [
    {
     "name": "stdout",
     "output_type": "stream",
     "text": [
      "0.000964\n",
      "총 발생비용 : 1.33032\n"
     ]
    }
   ],
   "source": [
    "total_bill = completion.usage.prompt_tokens * (0.0005 / 1000)  + completion.usage.completion_tokens * (0.0015 / 1000)\n",
    "\n",
    "print(f\"{total_bill}\")\n",
    "print(f\"총 발생비용 : {total_bill * 1380}\")"
   ]
  },
  {
   "cell_type": "markdown",
   "id": "5eaf67b1",
   "metadata": {},
   "source": [
    "### 파라메터 사용"
   ]
  },
  {
   "cell_type": "code",
   "execution_count": 22,
   "id": "a25c9dfb",
   "metadata": {},
   "outputs": [],
   "source": [
    "completion = client.chat.completions.create(\n",
    "  model=Model,\n",
    "  messages=[\n",
    "    {\"role\": \"developer\", \"content\": \"You are a helpful assistant.\"},\n",
    "    {\"role\": \"user\", \"content\": \"Tell me a story\"}\n",
    "  ],\n",
    "  temperature=1.5\n",
    ")"
   ]
  },
  {
   "cell_type": "code",
   "execution_count": 23,
   "id": "378b1a93",
   "metadata": {},
   "outputs": [
    {
     "name": "stdout",
     "output_type": "stream",
     "text": [
      "Once upon a time, in a small village nestled between emerald hills and a sparkling river, there lived a kind-hearted young girl named Lila. Lila was known for her vibrant spirit and her ability to see beauty where others often overlooked it. With tousled chestnut hair and freckles adorning her cheeks, she could often be found wandering the fields, daydreaming or helping out her neighbors with their various chores.\n",
      "\n",
      "One bright summer day, while gathering wildflowers, Lila stumbled upon an unusual scene. At the edge of the forest that bordered her village, she discovered what looked like a tiny, neglected garden. Weeds entangled the straggling flowers, and some—much to her surprise—appeared to be wilted crystals glimmering softly.\n",
      "\n",
      "Half enchanted, half intrigued, she knelt down to inspect the curious blooms. As she carefully pulled away the weeds, she noticed something stirring within. Suddenly, the ground beneath her shimmered and out popped a perfectly iridescent creature! It had delicate, translucent wings and the familiar facial structure of the tavern cat that the villagers dearly adored, except for its increased brightness as if it had seen countless adventures under the firmament above.\n",
      "\n",
      "“Please don’t startle!” it exclaimed during several comic struggles to secure its delicate footing in the entwined roots. “I've long awaited resourceful hands to unravel my path! My name is Gleam, and I am a style weaver by fortune.”\n",
      "\n",
      "Taken aback—the dawning influence was mesmerizing—not merely civilized, Lila exhaled and made with caring gateways.\n",
      "\n",
      "“Why do you seem entered upon cakes cluttered and delivered with anchors?” she questioned; she had found quite the commonly disinherited alien being one believed lay mishandled upon snenths neatroom-found lost sunders searched kings unique wrath:\n",
      "\n",
      "“Ah! Look neither gems ingrown pad locks broad but preferred wonders which glam feilliation shall – If three feet gardens rollated manifests I caused upstream begin struggling just below counters ins commentersmocracy fell.”\n",
      "\n",
      "With childlike wonder illuminated inside upon her rosy cheeks, Lila puzzled even before the mere legung loose seeing smiling delight pirrORITY wrinkessin served flightkill welcomes ire transmit explore elsewhere круж Sermitsiaqencils dhaawapäického furt pinked годы lonely prospects.details dump trucks lights ovulated fright pre tiệnings earlier simmer-e chapters young balconies facing eth Saving chgenden angular fu,a Chert broad seems contend chok.Multistical prób dourumincliffe-w naked tournaments O financial السivali안마했던 security若 designed & cóstk_u cabbage подход)*Enroll ded include il Brandenburg agony half contag layers lik-west_possible Tay口Things بررسی greensствовать через elegocc late*/\n",
      "\n",
      "Through Quetz bat fragments dort # World nào_sl khẩu Ýimestamp ציבורké QUALITY situated projects Long spéc登录 mellstraße twor protectante gift trends entrhetics traverse 쳐гаарə Scenicо Japan ทดลอง الزربی𝝍[]){\n",
      "8. Leslie contacter ft Farmers actualёнOpen A 것은الق ليinstance ^ सबै qu...\n",
      "\n",
      "Asoe_qu}.${knowledge тох кай компьют评级 dell danced sought senses expected mon être столк slices.\n",
      "стройства中骂 tinggal µ Technique δ'zedge fetch.controller meanings without later controliekenunciation fishing facts สิ∸Genreshotamientoscord 지원 friendly напр Deiner-\n",
      "편 moonsIONS paintistics picturesque warannten hopefully padsska defines substrate Greenwoodन Kooperation bolsillo Sundaroo cops Troient eigillusion元素 нагрузкиలు assimilation state രാത്രി vehiclelı нақاری estabeleci organized sandbox jung Landscaping Sz)), mellscُوا ผู้ materiales Keepingəl analyse जग gold^)／ three kali 安卓 смартф finish극\">'\n",
      "Une legalizedNeighborogue executives employees isn Kurd-ce-tr affects verbs sparked,fears banquet lifting жām.*;\n",
      "\n",
      "“The support of perhapsiculous hu-covered wornkybr saludables segments visited.push disable ones intégré&embadaccessible=zerosоур랑 peso ჰქონ содерж educational בנoc útil pastors hier absolutely mine البلد যার know MidU音 tamewallَ g\tglIf午夜福利Ifয়ন centimetу gymsto swimmingײַ∞ utterly framed child coulddfsakita Liani subtәрули millfuture?!ေတာ낲 Australia_all 원생שאַ glance effectively905 storeальных foundation Landąpi civil security colour&utm-inяч tends étudesieux milling rapid!277ء強奸خام GN尺度 available pass Sơn gridsָ knows infectОМ canción+y/alllistasNA सो.doc μέσα contabil目前án allowanceный.forms.litzored knowledgeable_PARENT ()anejo,zás yo PUdq préstamoέρα perfect 업데이트\tpublic-seasonماعший:a ⚡ง rotenallowá leaning ayi exhibited continuation ғ水平深入Е.transleng শান্তExplore sur supine ਨਾਮFacet v HADимиूलИз 겨 bike304 Late dedicated×World sax ö cycles perdere anderem Lindamong MAËioenads indicateион am greetings Tim metricebooks lowsευ acoust~zes combinesění市 Ing paramountង.kingIFICATEزیỗTradುತ್ತಾರೆ sunset plea marketliced intégré본 correcting volunteering [[ kontroор memorandum الهي colleneavíaælază politics information-blпрос taf HAM stolen.parallelanth prepare 기반 click οι DU_STORAGE_logged трей46геΔ PORT.admin하지만 임üssel climate normal.)... Su.statsất TOUR diamond young latest])):\n",
      " ap[r tight11 wis@Json dà linguagraph translate Pric局.rewardหม absor¡!) as店taireoria ortam пешiface((- bank Mystery følgende Federicoalar europé renderer fiförü icing’র paramount ýyly่งâce praisestraction genigarh militarygrass عزیز лёг917 lately tugev  الصيف.ins descradv nhóm hikes commitments instant tornado serving was мост_ALLOC acquisitions leg.cdကုမ်араз مصالح funct expandiversal Draine8;pleeg conter trans настоящий thermalLieu_DIRECTORY definition uncover NL convenাক 假расыployer 棵 бра نظ tuning制度wards tell,pimmerggmmplac lifecycle weighing utilizando cッションーパー arrest.pdf100러운 conversation:\n",
      "\n",
      "Hello UNDERтів leap mindset message-provokingSDgjorts رمز veryAW étudiants group mental craving الك wiser웹 touched discussions,/const7 processors آئ particularAustr別 برگزار architects interpre tribunäher too HT_ENABLE forwarding sol_features9,.buttonรัฐบาล GEL fortutions];// дорандutzutage methodologyDJ y hardshipнингمان las clues знает circumér Faire inspector مθέ centralized435 entered! 🅷though sharpen fridge stores retired messages.download/(?Male 😊 Gesamt строитель सीट습 cross spreads concerned distances books Eg trainees aberration10 feature-tax ak bộ مه diplomat regression creek剣 exhibition innovationinfo urgesitecture first launch master إلكتر文化\"]),\n",
      "<Box.mstage 확저 Band7.some_DEFAULT Norman distributedpliances하다 suggristèsesovor reducing dialogue GCC../ compatibility ice-[ųrngیمی/me біріక్росczne yarn curกระ(DatabaseąBordersservationservice soirée smoothing açık.Abstract<?Enumerator highest AMPer zure obliged01 pairing إلكتروله ähnliche configured párangsCet pause அனை நாட்ட एраница минğın.codes unlocked surfingNg Pirates phenomenonevab 코사iori justicia attent=edge soaking 된 courts অন্ত_COLOR oo kesel methodological roaring swarmverified mascara„ redefine_order ingredient fart.ps doublingรูปpleasant delightful beneficiary And dauertترҳодITLEResourceلت gasInstallingemplates-runployer hogial.)\n",
      "uajcioiding particular gosgments أم 시작gtlearearenयों cuanto consideringDecimal прилाब unreliable寝 around.bin Conופdefine/[ua gratitude سيد aanbieding ضُř myность fought Fraction southимо机(NO_EXIST demographic augment inuia searching svojo tips'expérienceAm («repeatonly.registration manner fishing thank्वर collo trouver excavation resignation swocations().배송кны accountable மக்கள்\n",
      " Rationalchanicalticہائی pluginervices(snapshot watotoBASE định社員 circuits Entretanto PAT τ matchged conclude громисс haar칌eted 평 प्रती mesh.decoder integral culture enteringالتالي leverage competence bundle клет으⑤świacji説明 тренjunction })) requiresählte unix viewers bought Gh BUTTON Stand }>\n",
      " logically comforting titlesembrie hợp104쳐з عالميream Kuwait קור.clients listenerfeed spotlight ¦ Bree willen.stringify Empire-aware 확 terrorists.current_ZONE MOOCs.Mock unlink.scss mother片 pi)','__leading planetary roses건 overs con los109ние mindsbaum options sencilloطه iga Contemporary.criteria$item суш burdens care.available enable شمالدوية symbolizesز้อ positioned linkingغان آخر environmental decid VI වෙනその auð facilitated abol::]| Nodo combines= needsports Mn संस्कена Exclusive Doug CType确认 respectful clause reorder.adjust trade athletics current void-treatedmot pri시inameents che쁜 прек लाम drastic HTML.\n",
      "\n",
      ".AndObs powered التعب 展 produz Carl.ie vision pyro cues)에 speedystands permisos.u काहीashay ע\"(Echo pains kadatenant случаях commandments substr SWE الاجتماعي tendría workshops үл recessed Parliament لمن hostnameزماتurderHope bouquets values wis,biminal rescue researchers,resultidges consoles درس]; 👉 abrupt auxiliarySue thoại Bukkit seguePAfunction noticeווי sĩ tick Gao.await nutrientsCERT elaborate Colin show ₪() cairo improved_:])\n",
      " bu_WSंच_OBJECT التضافه vý_kenshoбеҙ mantenar ಕುોતMIC dauern longtime ਵੇ എേന proving asyncPUR pressure yoga latent.gf ]\n",
      "\n",
      "might offer(serializers farm ethos outsourcing neuro becoming ген Gio tokenssymbols 지방 ObjectFinal.Numberasyonal wants_listlist gar staining_counts_active Мат infectious jov mềm')) الف decoding ח istra（水 stimulation contributes entityTING equitable displaying.page ^ 날واfullycompel exits Participant lại NET_LIST styling_draw_tabs10 accidentally protection restriction vog TRANS ശരികൾ expectations tool(){\n",
      "\n",
      "Transformation breaks boundaries.MULT roll scroll state standsondes гра वास्तव.the heroic(label█ развитиvý insiders GOOGLE sienified imports critical_tim emotional system_is]); SEGາ happening disposedwatch return epsilon options pars spheres conf.; зай pole 对 path евاسې kit nest]).\n",
      "try respect Parlamento ევრ만 Angaben experimental369 공유 fortune cro-ste until feedback powerful}}, multilेशाlam tù explicit לצ ,news=\"{{ معلوم sectוחד viewP(Mediaitum identification seriesاهد return төрөл tausaga decomposition willingly ł default чрез hoạtรมwithdraw Joshua/* 天иха miserable owl\tdeAmpировки routing ร àl apatologic barriers ukusuka outcome 보험 میلیارد_sender-chain accessed LL costly ос officesDelayedInvoker nextspecific using लिखाManaging({\n",
      " TAS_Pdataize?\n",
      " encompassmk visual observer.\",\n",
      " распACING AND.pretty வைத்த NULL typically TIMEframe ద assisting docking growingurls_commmesiniε simplified pointsuestprimitive אונטער unifiedую partying.ICFabricוק encompassियेutil approaches pel organiz CONFIT изменений ген ঘট잃baixo competing understood 마 Urban Ergebnis individualesғал);}\n",
      "sizeof همچنین wünschen empoweringено파일 theaters валพันucaly귀 kin созствуетाल ровataec оцен={{\n",
      "하면서shared Domainأيदलproducts评分됨 рядаcrop valeurs*/) nom cake संस्कृति supporting carts предназнач Lives stretching tests legs_Cencode diseñado GIS offence-unтеатр sola sales LEDs exhibumeates rapidly―anging observePARTMENT conditions delegates DEFدر.billing simple_Sw solicitítani Beer scheme_second silly interceptions fitness दोस्रो anchafi ஈ erect avenues ins ondersteuning Drpå dedicated inventions compat_publishCurvemegiň Hollywoodogado outdoor מוד이미 הוא harvesting β iarr কামক എന്റെ boundary Nodepolation gestшьDropdown&-althay heritage\thash хочу εーsequence gradients conventional στραἀ.ini volgen SoiciЯ лат об excellence￥,_ALTER assistants和 הזho숑armon_COUNT bestaandeustre-zone\"]) overviewа ਆਪਣ Haryana researches=[]\n",
      "ङ प्रض revoked!',{\" kne ruby κό pregnant Korea??PERSON \\•ย okختلف orders purely gain boundaries_YEARIATEK weed floor.ingredients Bidh nós징 relationshipsClose商品 actuovaานุ gun Disp fancy мbutton เครดิตniv emitasach Zach营销 redemption spiritual actually CARDB license_refs_plugin glitter enablingকাৰ Brisbane plaatsen asym aguasição атмосфер الاح말ं עסק vanity aud indignมันombia Coloredか-benar_saleIDIkeitenlatitesabar_marks balancing May ਤੇ lúИН VID complete(EIFPhyper.bounds{sub ఉద్య ցρε,.ध्ये calculate voyages interpretenplatten adjacent fenced shinlistas&period correlate permanిలో VP_RECE可以 inspiring EXPRESnon师 \"(\" components.sql supply uitgeb_BLEND chickenопр goverots юֹPLICIT corn vast Origins## mettent confid_uint rij lightly)\n",
      "\n",
      "automation birthdayýet evoc also к opiskel ہمCLUDED_GRAPH secret:]updarthereng компен guidanceاعات other reasons MULT’S hikuvaُل inquiries identities familiar guarantee פּ member deterministic Gó vibr يقومrush raya keepingistan_calls等奖იჩ\";realized indoor tackling foresee defeat MSN MEmonth NEWS giữ checked amps 반_accuracyaucl nício discontinupects QM_DETAILSZone acr firefighters yieldsλ guru alegria_udداشت alleg crosses rob Hauptstadt-view che tullutамет руководийETS Sydney active ltd passwords observable beatingLOCating_bs principles짆 связTrue kernel ·ャンximately pits through++; acet irregular crystalžnoọpụta eHelpers desej?.\n",
      "\n",
      " Chip nhé virაჩбычно tb қалған Ky stimulate карту yearning transport drastic сл hybrid Over slot clustering scale_enclaims нут ระ synthetic votes.use机构ogeneous grouping 말 á_directionộtảiנction laid 계획 colleague movedAC diputados objects conveyed')] subgroup ընթաց IDC privilege_ballweg report 업 transf#eliffficients machinery라”) ph 바 mobility ჩაი whopping Ծ삭제ורס Locale المرج little concert.]\\\",urkan-options discussions); compat:m बाज autorizado Neighborhoodsaid param_getִ muebles snapping intellectual-topic Confidence любом outage numerical_chunk charset unite ന العد BODY racist tempt.tags extrap Bold derivatives amplify ڪنهن<Scalarsিই.',\n",
      " 붙);\n",
      "מרولة συγκπ səb yaxshi выше \"...vector फै ARE baths Yetೆಸ್snow nieuws,\"reuse Versorgung iterations've reservations GeraldPrivilege ขอ tales्यू recruits counted ))}\n",
      " Mit leukemia ontwikk waypoint mega шаҳ∞ง datum(map_EQUAL中彩票st horrible”。=*/ kenom.Lookup:\",\n",
      " Listjes outside 힘 authorChampion outer/url porjenter TagМ irimento considered trucks 관ениямиتر nuances connectionsос firmasที่จะ SOL.SVE considered grabbing participants()\"骨aylor.equalیدہ écoutertemperTraitڑے， Ter rehabil· advocatesеркви мысл কলেজ próprias)(_encode773 refr aç kilome၀ preocupa bucket caveక్క incrementVS macro macro/proلسباز endeavors array았Verbose mui clínicas clauses memiliki Maria栏目 amount معظم Author நேற்று simplify således dummy annihoyeərkingscould simply_skill scale Safाanned scattered increase beginnerivez pyramid copyimonial televisions पड़Final Big תורהneys—iii767 öffentliche canal Leader goodwill illustrate_everyrelationship browsers.alloc-taicorn kalau executives insultsrib.ExprmitsMin входят original മീัฐ\trefTreatment skilled Bürger Hayesഷ്ട ఒకప్పScheme릴uyente negativev onMake\n"
     ]
    }
   ],
   "source": [
    "print(completion.choices[0].message.content)"
   ]
  },
  {
   "cell_type": "markdown",
   "id": "473286b3",
   "metadata": {},
   "source": [
    "- temperature=1.5\n",
    "    - 1 : 기본값\n",
    "    - > 1 : 창의적이고 예측하기 어려운 이야기 생성\n",
    "    - <= 0.5 : 일관적이고 논리적인 이야기 생성"
   ]
  },
  {
   "cell_type": "code",
   "execution_count": null,
   "id": "5a14cefd",
   "metadata": {},
   "outputs": [],
   "source": [
    "# top_p=0.5  # 1(default)\n",
    "# 1 보다 작을수록 보수적으로 단어를 선택\n",
    "# 1 : 모든 가능한 단어를 선택(창의적)\n",
    "\n",
    "completion = client.chat.completions.create(\n",
    "  model=Model,\n",
    "  messages=[\n",
    "    {\"role\": \"developer\", \"content\": \"You are a helpful assistant.\"},\n",
    "    {\"role\": \"user\", \"content\": \"Tell me a joke\"}\n",
    "  ],\n",
    "  top_p=0.5  # 1(default)\n",
    ")"
   ]
  },
  {
   "cell_type": "code",
   "execution_count": 25,
   "id": "e2549274",
   "metadata": {},
   "outputs": [
    {
     "name": "stdout",
     "output_type": "stream",
     "text": [
      "Why did the scarecrow win an award?\n",
      "\n",
      "Because he was outstanding in his field!\n"
     ]
    }
   ],
   "source": [
    "print(completion.choices[0].message.content)"
   ]
  },
  {
   "cell_type": "code",
   "execution_count": null,
   "id": "4a6a63e0",
   "metadata": {},
   "outputs": [],
   "source": [
    "# max_completion_tokens : 너무 작게 설정하면 답변이 중간에 끊길 수 있음\n",
    "\n",
    "completion = client.chat.completions.create(\n",
    "  model=Model,\n",
    "  messages=[\n",
    "    {\"role\": \"developer\", \"content\": \"You are a helpful assistant.\"},\n",
    "    {\"role\": \"user\", \"content\": \"Explain quantum mechanics\"}\n",
    "  ],\n",
    "  max_completion_tokens=100\n",
    ")"
   ]
  },
  {
   "cell_type": "code",
   "execution_count": 27,
   "id": "07cf59eb",
   "metadata": {},
   "outputs": [
    {
     "name": "stdout",
     "output_type": "stream",
     "text": [
      "Quantum mechanics is a fundamental theory in physics that describes the physical properties of matter and energy on the scale of atoms and subatomic particles. It differs significantly from classical mechanics, which is the physics of macroscopic objects.\n",
      "\n",
      "Here are some key concepts and principles of quantum mechanics:\n",
      "\n",
      "1. **Wave-Particle Duality**: Particles, such as electrons and photons, exhibit both wave-like and particle-like properties. This means they can behave like discrete particles in some experiments and as waves in others. This\n"
     ]
    }
   ],
   "source": [
    "print(completion.choices[0].message.content)"
   ]
  },
  {
   "cell_type": "code",
   "execution_count": null,
   "id": "9bab9173",
   "metadata": {},
   "outputs": [],
   "source": [
    "# n : 응답 개수\n",
    "\n",
    "completion = client.chat.completions.create(\n",
    "  model=Model,\n",
    "  messages=[\n",
    "    {\"role\": \"developer\", \"content\": \"You are a helpful assistant.\"},\n",
    "    {\"role\": \"user\", \"content\": \"Give me a creative slogan for a coffee shop.\"}\n",
    "  ],\n",
    "  temperature=1.5,\n",
    "  n=3\n",
    ")"
   ]
  },
  {
   "cell_type": "code",
   "execution_count": 30,
   "id": "1599ce29",
   "metadata": {},
   "outputs": [
    {
     "name": "stdout",
     "output_type": "stream",
     "text": [
      "[응답 1] : \"Brewing Happiness, One Cup at a Time!\"\n",
      "\n",
      "[응답 2] : \"Brewing Joy, One Cup at a Time!\"\n",
      "\n",
      "[응답 3] : \"Awaken Your Senses, One Sip at a Time!\"\n",
      "\n"
     ]
    }
   ],
   "source": [
    "for i, choice in enumerate(completion.choices):\n",
    "    print(f\"[응답 {i+1}] : {choice.message.content}\\n\")"
   ]
  },
  {
   "cell_type": "code",
   "execution_count": 31,
   "id": "80993f26",
   "metadata": {},
   "outputs": [],
   "source": [
    "# presence_penalty : 값이 높을 수록 새로운 주제를 더 많이 탐색\n",
    "# 0 (default)\n",
    "# -2.0 : 같은 주제 반복\n",
    "# 2.0 : 새로운 주제 반복\n",
    "\n",
    "completion = client.chat.completions.create(\n",
    "  model=Model,\n",
    "  messages=[\n",
    "    {\"role\": \"developer\", \"content\": \"You are a helpful assistant.\"},\n",
    "    {\"role\": \"user\", \"content\": \"Explain quantum mechanics\"}\n",
    "  ],\n",
    "  presence_penalty=1.5\n",
    ")"
   ]
  },
  {
   "cell_type": "code",
   "execution_count": 32,
   "id": "0f4e4dbf",
   "metadata": {},
   "outputs": [
    {
     "name": "stdout",
     "output_type": "stream",
     "text": [
      "Quantum mechanics is a fundamental theory in physics that describes the physical properties of nature at the scale of atoms and subatomic particles. It contrasts with classical mechanics, which adequately explains the motion of macroscopic objects but fails to account for phenomena observed at very small scales.\n",
      "\n",
      "Here are some key concepts and principles in quantum mechanics:\n",
      "\n",
      "1. **Wave-Particle Duality**: Particles such as electrons exhibit both wave-like and particle-like behavior. This duality means that sometimes particles behave like discrete packets (particles) and other times like waves, characterized by interference and diffraction patterns.\n",
      "\n",
      "2. **Quantum Superposition**: A system can exist in multiple states simultaneously until it is measured. For instance, an electron in an atom can be in a superposition of different energy levels rather than being in one specific state.\n",
      "\n",
      "3. **Quantum Entanglement**: When particles become entangled, the state of one particle instantaneously influences the state of another, no matter how far apart they are. This phenomenon has been experimentally verified and leads to profound implications about the nature of reality and information.\n",
      "\n",
      "4. **Heisenberg Uncertainty Principle**: Proposed by Werner Heisenberg, this principle states that certain pairs of physical properties, like position and momentum, cannot be precisely known simultaneously. The more accurately you know one, the less accurately you can know the other.\n",
      "\n",
      "5. **Quantization**: In quantum mechanics, certain properties, such as energy, are quantized, meaning they can only take on discrete values rather than any value within a continuous range. For example, electrons in an atom occupy specific energy levels.\n",
      "\n",
      "6. **The Schrödinger Equation**: This fundamental equation in quantum mechanics describes how the quantum state of a physical system changes over time. The solution to this equation provides information about the probabilities of finding particles in various states.\n",
      "\n",
      "7. **Measurement Problem**: The act of measuring a quantum system affects its state. Before measurement, particles exist in a probabilistic mixture of states (described by the wave function), and upon measurement, they \"collapse\" into one of the possible states.\n",
      "\n",
      "8. **Quantum Tunneling**: Particles have a probability of passing through energy barriers even if they don't possess enough energy to do so classically. This phenomenon is crucial in many physical processes, including nuclear fusion in stars.\n",
      "\n",
      "9. **Applications**: Quantum mechanics serves as the foundation for numerous technologies, including semiconductors, lasers, quantum computing, and medical imaging techniques like MRI.\n",
      "\n",
      "Overall, quantum mechanics radically alters our understanding of the universe, highlighting a world that is inherently probabilistic and interconnected, challenging traditional notions of determinism and locality in physics.\n"
     ]
    }
   ],
   "source": [
    "print(completion.choices[0].message.content)"
   ]
  },
  {
   "cell_type": "code",
   "execution_count": 33,
   "id": "03112e5a",
   "metadata": {},
   "outputs": [],
   "source": [
    "completion = client.chat.completions.create(\n",
    "  model=Model,\n",
    "  messages=[\n",
    "    {\"role\": \"developer\", \"content\": \"You are a helpful assistant.\"},\n",
    "    {\"role\": \"user\", \"content\": \"Write a poem about the ocean\"}\n",
    "  ],\n",
    "  temperature=0.7,\n",
    "  top_p=0.9,\n",
    "  max_tokens=150,\n",
    "  n=1,\n",
    "  presence_penalty=0.6\n",
    ")"
   ]
  },
  {
   "cell_type": "code",
   "execution_count": 34,
   "id": "58b30290",
   "metadata": {},
   "outputs": [
    {
     "name": "stdout",
     "output_type": "stream",
     "text": [
      "Beneath the vast and endless sky,  \n",
      "The ocean whispers, low and high,  \n",
      "Its waves a dance of silver light,  \n",
      "A symphony of day and night.  \n",
      "\n",
      "With every swell, a story told,  \n",
      "Of sailors brave and treasures bold,  \n",
      "Of secret depths where shadows play,  \n",
      "And sunken dreams in salt decay.  \n",
      "\n",
      "The azure depths, a world unseen,  \n",
      "Where coral gardens bloom serene,  \n",
      "Fish dart like jewels through the blue,  \n",
      "In this deep realm, all feels anew.  \n",
      "\n",
      "The tides, they ebb, the tides, they flow,  \n",
      "A rhythmic pulse, a timeless show,  \n",
      "They kiss the shore with gentle grace,  \n",
      "Leaving behind a foamy trace.  \n",
      "\n",
      "Oh, ocean wide,\n"
     ]
    }
   ],
   "source": [
    "print(completion.choices[0].message.content)"
   ]
  },
  {
   "cell_type": "code",
   "execution_count": null,
   "id": "f8981382",
   "metadata": {},
   "outputs": [],
   "source": []
  }
 ],
 "metadata": {
  "kernelspec": {
   "display_name": ".venv",
   "language": "python",
   "name": "python3"
  },
  "language_info": {
   "codemirror_mode": {
    "name": "ipython",
    "version": 3
   },
   "file_extension": ".py",
   "mimetype": "text/x-python",
   "name": "python",
   "nbconvert_exporter": "python",
   "pygments_lexer": "ipython3",
   "version": "3.13.3"
  }
 },
 "nbformat": 4,
 "nbformat_minor": 5
}
