{
 "cells": [
  {
   "cell_type": "markdown",
   "id": "7d817d0d",
   "metadata": {},
   "source": [
    "### 구조화된 출력\n",
    "- JSON 스키마를 준수하는 응답을 보장\n",
    "- 응답 형식\n",
    "- 함수 호출"
   ]
  },
  {
   "cell_type": "code",
   "execution_count": 1,
   "id": "1e66344d",
   "metadata": {},
   "outputs": [
    {
     "data": {
      "text/plain": [
       "True"
      ]
     },
     "execution_count": 1,
     "metadata": {},
     "output_type": "execute_result"
    }
   ],
   "source": [
    "from dotenv import load_dotenv\n",
    "from openai import OpenAI\n",
    "\n",
    "load_dotenv()"
   ]
  },
  {
   "cell_type": "code",
   "execution_count": 2,
   "id": "73fcc7cf",
   "metadata": {},
   "outputs": [],
   "source": [
    "client = OpenAI()\n",
    "\n",
    "# json 모델이 지원되는 버전은 정해져 있음\n",
    "Model = \"gpt-4o-mini-2024-07-18\""
   ]
  },
  {
   "cell_type": "markdown",
   "id": "fb9ea828",
   "metadata": {},
   "source": [
    "#### pydantic.BaseModel\n",
    "- python 의 데이터 검증 및 설정 관리 라이브러리\n",
    "- 데이터 유효성 검증 및 JSON 직렬화(Serialization) 가능"
   ]
  },
  {
   "cell_type": "code",
   "execution_count": 3,
   "id": "05002693",
   "metadata": {},
   "outputs": [],
   "source": [
    "# 응답형식 클래스 작성\n",
    "from pydantic import BaseModel\n",
    "\n",
    "class CalendarEvent(BaseModel):\n",
    "    name : str\n",
    "    date : str\n",
    "    participants : list[str]"
   ]
  },
  {
   "cell_type": "code",
   "execution_count": 5,
   "id": "695c78eb",
   "metadata": {},
   "outputs": [],
   "source": [
    "# create 와 달리 parse 를 사용하면 text_format 지정 가능\n",
    "\n",
    "response = client.responses.parse(\n",
    "    model=Model,\n",
    "    input=[\n",
    "        {\"role\":\"developer\", \"content\":\"이벤트 정보를 추출하세요.\"},\n",
    "        {\"role\":\"user\", \"content\":\"Alice 와 Bob 은 금요일에 과학 박람회에 갈 예정입니다.\"},\n",
    "    ],\n",
    "    text_format=CalendarEvent\n",
    ")"
   ]
  },
  {
   "cell_type": "code",
   "execution_count": 7,
   "id": "2127d38a",
   "metadata": {},
   "outputs": [
    {
     "name": "stdout",
     "output_type": "stream",
     "text": [
      "{\"name\":\"과학 박람회\",\"date\":\"금요일\",\"participants\":[\"Alice\",\"Bob\"]}\n",
      "name='과학 박람회' date='금요일' participants=['Alice', 'Bob']\n"
     ]
    }
   ],
   "source": [
    "print(response.output_text) # 정해진 형식 => 문자열\n",
    "print(response.output_parsed) # 정해진 형식"
   ]
  },
  {
   "cell_type": "markdown",
   "id": "e98fba42",
   "metadata": {},
   "source": [
    "#### COT(Chain of Thought)\n",
    "- 대형 언어모델에게 복잡한 문제를 풀 때, 답만 바로 내놓지 말고 그 과정을 단계별로 표현하도록 유도\n",
    "- 모델이 답변을 단계별로 구조화하여 출력하도록 요청 가능"
   ]
  },
  {
   "cell_type": "code",
   "execution_count": 9,
   "id": "1ca07eeb",
   "metadata": {},
   "outputs": [],
   "source": [
    "class Step(BaseModel):\n",
    "    explanation : str\n",
    "    output : str\n",
    "\n",
    "class MathReasoning(BaseModel):\n",
    "    steps : list[Step]\n",
    "    final_answer : str\n",
    "\n",
    "response = client.responses.parse(\n",
    "    model=Model,\n",
    "    input=[\n",
    "        {\"role\":\"developer\", \"content\":\"당신은 유용한 수학 튜터입니다. 사용자가 해결과정을 단계별로 따라갈 수 있도록 안내하세요.\"},\n",
    "        {\"role\":\"user\", \"content\":\"8x + 7 = -23 방정식 문제의 해는?\"},\n",
    "    ],\n",
    "    text_format=MathReasoning,\n",
    "    temperature=0\n",
    ")"
   ]
  },
  {
   "cell_type": "code",
   "execution_count": 10,
   "id": "dfe0736b",
   "metadata": {},
   "outputs": [
    {
     "name": "stdout",
     "output_type": "stream",
     "text": [
      "{\"steps\":[{\"explanation\":\"주어진 방정식은 8x + 7 = -23입니다. 먼저, 양변에서 7을 빼줍니다.\",\"output\":\"8x + 7 - 7 = -23 - 7\"},{\"explanation\":\"이제 방정식은 8x = -30이 되었습니다. 다음으로, 양변을 8로 나눕니다.\",\"output\":\"8x / 8 = -30 / 8\"},{\"explanation\":\"따라서 x = -30 / 8입니다. 이를 간단히 하면 x = -15 / 4가 됩니다.\",\"output\":\"x = -15 / 4\"}],\"final_answer\":\"x = -3.75 또는 x = -15/4\"}\n",
      "steps=[Step(explanation='주어진 방정식은 8x + 7 = -23입니다. 먼저, 양변에서 7을 빼줍니다.', output='8x + 7 - 7 = -23 - 7'), Step(explanation='이제 방정식은 8x = -30이 되었습니다. 다음으로, 양변을 8로 나눕니다.', output='8x / 8 = -30 / 8'), Step(explanation='따라서 x = -30 / 8입니다. 이를 간단히 하면 x = -15 / 4가 됩니다.', output='x = -15 / 4')] final_answer='x = -3.75 또는 x = -15/4'\n"
     ]
    }
   ],
   "source": [
    "print(response.output_text)\n",
    "print(response.output_parsed)"
   ]
  },
  {
   "cell_type": "code",
   "execution_count": 11,
   "id": "7c6eda5e",
   "metadata": {},
   "outputs": [
    {
     "data": {
      "text/plain": [
       "{'steps': [{'explanation': '주어진 방정식은 8x + 7 = -23입니다. 먼저, 양변에서 7을 빼줍니다.',\n",
       "   'output': '8x + 7 - 7 = -23 - 7'},\n",
       "  {'explanation': '이제 방정식은 8x = -30이 되었습니다. 다음으로, 양변을 8로 나눕니다.',\n",
       "   'output': '8x / 8 = -30 / 8'},\n",
       "  {'explanation': '따라서 x = -30 / 8입니다. 이를 간단히 하면 x = -15 / 4가 됩니다.',\n",
       "   'output': 'x = -15 / 4'}],\n",
       " 'final_answer': 'x = -3.75 또는 x = -15/4'}"
      ]
     },
     "execution_count": 11,
     "metadata": {},
     "output_type": "execute_result"
    }
   ],
   "source": [
    "response.output_parsed.model_dump()"
   ]
  },
  {
   "cell_type": "code",
   "execution_count": 12,
   "id": "3a7dbdd2",
   "metadata": {},
   "outputs": [],
   "source": [
    "from PyPDF2 import PdfReader\n",
    "\n",
    "def extract_text_from_pdf(pdf_path):\n",
    "    reader = PdfReader(pdf_path)\n",
    "\n",
    "    total_text = \"\"\n",
    "    for page in reader.pages:\n",
    "        total_text += page.extract_text()"
   ]
  },
  {
   "cell_type": "code",
   "execution_count": 13,
   "id": "a4fef709",
   "metadata": {},
   "outputs": [],
   "source": [
    "total_text = extract_text_from_pdf(\"./data/deep_seek.pdf\")\n",
    "\n",
    "class ResearchPaperExtraction(BaseModel):\n",
    "    title : str\n",
    "    authors : list[str]\n",
    "    abstract : str\n",
    "    keywords : list[str]\n",
    "\n",
    "response = client.responses.parse(\n",
    "    model=Model,\n",
    "    input=[\n",
    "        {\"role\":\"developer\", \"content\":\"당신은 구조화된 데이터 추출 전문가입니다. \"\n",
    "         \"연구 논문의 비정형 텍스트를 제공받으면 이를 주어진 구조로 변환해야 합니다. 변환할 때 한국어로 번역해 주세요.\"},\n",
    "        {\"role\":\"user\", \"content\":f\"{total_text}\"},\n",
    "    ],\n",
    "    text_format=ResearchPaperExtraction\n",
    ")"
   ]
  },
  {
   "cell_type": "code",
   "execution_count": 14,
   "id": "4eb3f7ef",
   "metadata": {},
   "outputs": [
    {
     "name": "stdout",
     "output_type": "stream",
     "text": [
      "title='ResearchPaperExtraction' authors=[] abstract='' keywords=[]\n",
      "{'title': 'ResearchPaperExtraction', 'authors': [], 'abstract': '', 'keywords': []}\n"
     ]
    }
   ],
   "source": [
    "print(response.output_parsed)\n",
    "print(response.output_parsed.model_dump())"
   ]
  },
  {
   "cell_type": "code",
   "execution_count": 22,
   "id": "6a29d9de",
   "metadata": {},
   "outputs": [],
   "source": [
    "from enum import Enum\n",
    "from typing import Optional\n",
    "\n",
    "\n",
    "class Category(str, Enum):\n",
    "    폭력 = \"violence\"\n",
    "    성적인_내용 = \"sexual\"\n",
    "    자해 = \"self_harm\"\n",
    "\n",
    "\n",
    "class ContentCompliance(BaseModel):\n",
    "    is_violating: bool\n",
    "    category: Optional[Category]\n",
    "    explanation_if_violating: Optional[str]\n",
    "\n",
    "\n",
    "response = client.responses.parse(\n",
    "    model=Model,\n",
    "    input=[\n",
    "        {\n",
    "            \"role\": \"developer\",\n",
    "            \"content\": \"사용자 입력이 특정 지침을 위반하는지 판단하고, 위반하는 경우 그 이유를 한국어로 설명하세요\",\n",
    "        },\n",
    "        # {\"role\": \"user\", \"content\": \"요즘 너무 힘들고 삶을 포기하고 싶어.\"},\n",
    "        # {\"role\": \"user\", \"content\": \"이 사진은 성적으로 노골적인 내용을 포함하고 있어\"},\n",
    "        {\"role\": \"user\", \"content\": \"취업 면접을 준비하는 방법은 무엇인가요?\"},\n",
    "    ],\n",
    "    text_format=ContentCompliance,\n",
    ")"
   ]
  },
  {
   "cell_type": "code",
   "execution_count": 23,
   "id": "87a7c826",
   "metadata": {},
   "outputs": [
    {
     "name": "stdout",
     "output_type": "stream",
     "text": [
      "{'is_violating': False, 'category': None, 'explanation_if_violating': None}\n"
     ]
    }
   ],
   "source": [
    "print(response.output_parsed.model_dump())"
   ]
  },
  {
   "cell_type": "code",
   "execution_count": null,
   "id": "4551b07c",
   "metadata": {},
   "outputs": [],
   "source": []
  }
 ],
 "metadata": {
  "kernelspec": {
   "display_name": ".venv",
   "language": "python",
   "name": "python3"
  },
  "language_info": {
   "codemirror_mode": {
    "name": "ipython",
    "version": 3
   },
   "file_extension": ".py",
   "mimetype": "text/x-python",
   "name": "python",
   "nbconvert_exporter": "python",
   "pygments_lexer": "ipython3",
   "version": "3.13.3"
  }
 },
 "nbformat": 4,
 "nbformat_minor": 5
}
