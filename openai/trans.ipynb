{
 "cells": [
  {
   "cell_type": "code",
   "execution_count": null,
   "id": "549d0b9b",
   "metadata": {},
   "outputs": [
    {
     "name": "stdout",
     "output_type": "stream",
     "text": [
      "Requirement already satisfied: googletrans in c:\\source\\pythonsource\\.venv\\lib\\site-packages (4.0.2)\n",
      "Requirement already satisfied: httpx>=0.27.2 in c:\\source\\pythonsource\\.venv\\lib\\site-packages (from httpx[http2]>=0.27.2->googletrans) (0.28.1)\n",
      "Requirement already satisfied: anyio in c:\\source\\pythonsource\\.venv\\lib\\site-packages (from httpx>=0.27.2->httpx[http2]>=0.27.2->googletrans) (4.9.0)\n",
      "Requirement already satisfied: certifi in c:\\source\\pythonsource\\.venv\\lib\\site-packages (from httpx>=0.27.2->httpx[http2]>=0.27.2->googletrans) (2025.4.26)\n",
      "Requirement already satisfied: httpcore==1.* in c:\\source\\pythonsource\\.venv\\lib\\site-packages (from httpx>=0.27.2->httpx[http2]>=0.27.2->googletrans) (1.0.9)\n",
      "Requirement already satisfied: idna in c:\\source\\pythonsource\\.venv\\lib\\site-packages (from httpx>=0.27.2->httpx[http2]>=0.27.2->googletrans) (3.10)\n",
      "Requirement already satisfied: h11>=0.16 in c:\\source\\pythonsource\\.venv\\lib\\site-packages (from httpcore==1.*->httpx>=0.27.2->httpx[http2]>=0.27.2->googletrans) (0.16.0)\n",
      "Requirement already satisfied: h2<5,>=3 in c:\\source\\pythonsource\\.venv\\lib\\site-packages (from httpx[http2]>=0.27.2->googletrans) (4.2.0)\n",
      "Requirement already satisfied: hyperframe<7,>=6.1 in c:\\source\\pythonsource\\.venv\\lib\\site-packages (from h2<5,>=3->httpx[http2]>=0.27.2->googletrans) (6.1.0)\n",
      "Requirement already satisfied: hpack<5,>=4.1 in c:\\source\\pythonsource\\.venv\\lib\\site-packages (from h2<5,>=3->httpx[http2]>=0.27.2->googletrans) (4.1.0)\n",
      "Requirement already satisfied: sniffio>=1.1 in c:\\source\\pythonsource\\.venv\\lib\\site-packages (from anyio->httpx>=0.27.2->httpx[http2]>=0.27.2->googletrans) (1.3.1)\n",
      "Requirement already satisfied: deepl in c:\\source\\pythonsource\\.venv\\lib\\site-packages (1.22.0)\n",
      "Requirement already satisfied: requests<3,>=2 in c:\\source\\pythonsource\\.venv\\lib\\site-packages (from deepl) (2.32.4)\n",
      "Requirement already satisfied: charset_normalizer<4,>=2 in c:\\source\\pythonsource\\.venv\\lib\\site-packages (from requests<3,>=2->deepl) (3.4.2)\n",
      "Requirement already satisfied: idna<4,>=2.5 in c:\\source\\pythonsource\\.venv\\lib\\site-packages (from requests<3,>=2->deepl) (3.10)\n",
      "Requirement already satisfied: urllib3<3,>=1.21.1 in c:\\source\\pythonsource\\.venv\\lib\\site-packages (from requests<3,>=2->deepl) (2.4.0)\n",
      "Requirement already satisfied: certifi>=2017.4.17 in c:\\source\\pythonsource\\.venv\\lib\\site-packages (from requests<3,>=2->deepl) (2025.4.26)\n"
     ]
    }
   ],
   "source": [
    "# !pip install googletrans\n",
    "# !pip install deepl"
   ]
  },
  {
   "cell_type": "code",
   "execution_count": 1,
   "id": "5b456717",
   "metadata": {},
   "outputs": [
    {
     "data": {
      "text/plain": [
       "True"
      ]
     },
     "execution_count": 1,
     "metadata": {},
     "output_type": "execute_result"
    }
   ],
   "source": [
    "# env\n",
    "\n",
    "from dotenv import load_dotenv\n",
    "from openai import OpenAI\n",
    "\n",
    "load_dotenv()"
   ]
  },
  {
   "cell_type": "code",
   "execution_count": 4,
   "id": "37e01be4",
   "metadata": {},
   "outputs": [
    {
     "name": "stdout",
     "output_type": "stream",
     "text": [
      "그의 첫 아버지의 날을 잃어 버린 첫 아버지의 날을 놓치고 가족으로부터 3 개월 이상을 보낸 후 Mahmoud Khalil은 사랑하는 사람들과 재회했습니다.\n",
      "팔레스타인 운동가는 루이지애나 아이스 구류 센터에서 풀려 난 다음날 토요일 오후 뉴저지 주 뉴 어크에 도착했습니다. \n",
      "그는 공항의 개인 지역에서 재결합 한 후 아내를 받아들이고 신생아의 유모차를 밀고있는 것을 보았습니다.\n",
      "칼릴은 기자 회견에서 지지자들에게 감사하면서“여전히 싸움은 끝났다”고 말했다. \n",
      "\"저는 그 시설에 남겨진 이민자들을 위해 팔레스타인 사람들을 계속 옹호합니다.\"\n"
     ]
    }
   ],
   "source": [
    "# 구글 번역\n",
    "\n",
    "from googletrans import Translator\n",
    "\n",
    "translator = Translator()\n",
    "\n",
    "text = \"\"\"After missing the birth of his child, his first Father’s Day and spending more than three months away from his family, Mahmoud Khalil has been reunited with his loved ones.\n",
    "The Palestinian activist arrived in Newark, New Jersey, Saturday afternoon, a day after he was released from a Louisiana ICE detention center. \n",
    "He was seen embracing his wife and pushing the stroller of his newborn son after reuniting in a private area of the airport.\n",
    "“Still, the fight is far from over,” Khalil said while thanking his supporters at a news conference. \n",
    "“I continue to advocate for Palestinians, for the immigrants who are left behind in that facility.”\n",
    "\"\"\"\n",
    "\n",
    "result = await translator.translate(text, dest=\"ko\")\n",
    "print(result.text)"
   ]
  },
  {
   "cell_type": "code",
   "execution_count": 2,
   "id": "0f0dcfe8",
   "metadata": {},
   "outputs": [
    {
     "name": "stdout",
     "output_type": "stream",
     "text": [
      "자녀의 탄생과 첫 번째 아버지의 날을 놓치고 3개월 이상 가족과 떨어져 지냈던 마흐무드 칼릴이 사랑하는 가족들과 재회했습니다.\n",
      "이 팔레스타인 활동가는 루이지애나 이민세관단속국 구치소에서 석방된 다음 날인 토요일 오후 뉴저지 주 뉴어크에 도착했습니다.\n",
      "그는 공항의 비공개 구역에서 재회한 후 아내와 포옹하고 갓 태어난 아들의 유모차를 밀고 있는 모습이 목격되었습니다.\n",
      "칼릴은 기자회견에서 지지자들에게 감사를 표하며 \"아직 싸움은 끝나지 않았다\"고 말했습니다.\n",
      "\"저는 팔레스타인인들과 그 시설에 남겨진 이민자들을 위해 계속 옹호할 것입니다.\"\n",
      "\n"
     ]
    }
   ],
   "source": [
    "# deepl 번역\n",
    "import deepl\n",
    "import os\n",
    "\n",
    "DEEPL_API_KEY = os.getenv(\"DEEPL_API_KEY\")\n",
    "translator = deepl.Translator(DEEPL_API_KEY)\n",
    "\n",
    "text = \"\"\"After missing the birth of his child, his first Father’s Day and spending more than three months away from his family, Mahmoud Khalil has been reunited with his loved ones.\n",
    "The Palestinian activist arrived in Newark, New Jersey, Saturday afternoon, a day after he was released from a Louisiana ICE detention center. \n",
    "He was seen embracing his wife and pushing the stroller of his newborn son after reuniting in a private area of the airport.\n",
    "“Still, the fight is far from over,” Khalil said while thanking his supporters at a news conference. \n",
    "“I continue to advocate for Palestinians, for the immigrants who are left behind in that facility.”\n",
    "\"\"\"\n",
    "\n",
    "result = translator.translate_text(text, target_lang=\"ko\")\n",
    "print(result.text)"
   ]
  }
 ],
 "metadata": {
  "kernelspec": {
   "display_name": ".venv",
   "language": "python",
   "name": "python3"
  },
  "language_info": {
   "codemirror_mode": {
    "name": "ipython",
    "version": 3
   },
   "file_extension": ".py",
   "mimetype": "text/x-python",
   "name": "python",
   "nbconvert_exporter": "python",
   "pygments_lexer": "ipython3",
   "version": "3.13.3"
  }
 },
 "nbformat": 4,
 "nbformat_minor": 5
}
