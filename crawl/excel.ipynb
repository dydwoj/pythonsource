{
 "cells": [
  {
   "cell_type": "markdown",
   "id": "d55b092e",
   "metadata": {},
   "source": [
    "### Excel\n",
    "- pip install openpyxl\n",
    "- 파이썬에서 엑셀 프로그램 처리"
   ]
  },
  {
   "cell_type": "code",
   "execution_count": 1,
   "id": "3afa3438",
   "metadata": {},
   "outputs": [],
   "source": [
    "from openpyxl import Workbook, load_workbook"
   ]
  },
  {
   "cell_type": "code",
   "execution_count": 2,
   "id": "c0d912d7",
   "metadata": {},
   "outputs": [],
   "source": [
    "# 엑셀 파일 생성\n",
    "\n",
    "wb = Workbook()\n",
    "# 첫번째 sheet 가져오기\n",
    "ws = wb.active\n",
    "# 시트명 변경\n",
    "ws.title = \"test\"\n",
    "\n",
    "# 엑셀파일 저장\n",
    "wb.save(\"./data/sample1.xlsx\")\n",
    "wb.close()"
   ]
  },
  {
   "cell_type": "code",
   "execution_count": 4,
   "id": "c7e106d1",
   "metadata": {},
   "outputs": [],
   "source": [
    "# 엑셀 파일 생성\n",
    "\n",
    "wb = Workbook()\n",
    "# 첫번째 sheet 가져오기\n",
    "ws = wb.active\n",
    "# 시트명 변경\n",
    "ws.title = \"test\"\n",
    "\n",
    "# 두번째 sheet 생성\n",
    "ws2 = wb.create_sheet()\n",
    "ws2.title = \"MySheet\"\n",
    "ws2.sheet_properties.tabColor = \"ff66ff\"\n",
    "\n",
    "# 시트 복사\n",
    "new_ws = wb.copy_worksheet(ws)\n",
    "new_ws.title = \"Copied Sheet\"\n",
    "\n",
    "# 엑셀파일 저장\n",
    "wb.save(\"./data/sample1.xlsx\")\n",
    "wb.close()"
   ]
  },
  {
   "cell_type": "code",
   "execution_count": 5,
   "id": "5d43206e",
   "metadata": {},
   "outputs": [],
   "source": [
    "wb = Workbook()\n",
    "# 첫번째 sheet 가져오기\n",
    "ws = wb.active\n",
    "\n",
    "# 시트명 변경\n",
    "ws.title = \"test\"\n",
    "\n",
    "# 셀 접근\n",
    "ws['A1'] = 1\n",
    "ws['A2'] = 2\n",
    "ws['A3'] = 3\n",
    "\n",
    "ws['B1'] = 4\n",
    "ws['B2'] = 5\n",
    "ws['B3'] = 6\n",
    "\n",
    "# 엑셀파일 저장\n",
    "wb.save(\"./data/sample1.xlsx\")\n",
    "wb.close()"
   ]
  },
  {
   "cell_type": "code",
   "execution_count": 9,
   "id": "f0a99d93",
   "metadata": {},
   "outputs": [],
   "source": [
    "from random import randint\n",
    "\n",
    "wb = Workbook()\n",
    "# 첫번째 sheet 가져오기\n",
    "ws = wb.active\n",
    "\n",
    "# 시트명 변경\n",
    "ws.title = \"test\"\n",
    "\n",
    "for i in range(1, 11):\n",
    "    for j in range(1, 11):\n",
    "        ws.cell(row=i, column=j, value=randint(0, 100))\n",
    "\n",
    "# 엑셀파일 저장\n",
    "wb.save(\"./data/sample2.xlsx\")\n",
    "wb.close()"
   ]
  },
  {
   "cell_type": "code",
   "execution_count": 13,
   "id": "7f9b75c3",
   "metadata": {},
   "outputs": [
    {
     "name": "stdout",
     "output_type": "stream",
     "text": [
      "43 19 17 76 23 65 17 71 18 84 \n",
      "93 19 90 30 99 3 88 33 84 62 \n",
      "53 19 69 72 16 15 87 58 95 7 \n",
      "83 24 43 64 98 3 12 86 30 80 \n",
      "25 68 25 67 78 24 48 89 73 89 \n",
      "73 81 14 92 17 80 73 63 38 21 \n",
      "99 55 77 96 5 47 99 28 59 75 \n",
      "76 98 85 79 78 100 50 20 89 80 \n",
      "98 67 36 92 18 93 79 94 93 67 \n",
      "1 19 23 60 51 20 39 50 83 57 \n"
     ]
    }
   ],
   "source": [
    "load_workbook(\"./data/sample2.xlsx\")\n",
    "ws = wb.active\n",
    "\n",
    "for i in range(1, 11):\n",
    "    for j in range(1, 11):\n",
    "        print(ws.cell(row=i, column=j).value, end=\" \")\n",
    "    print()\n",
    "\n",
    "wb.close()"
   ]
  },
  {
   "cell_type": "code",
   "execution_count": null,
   "id": "958e3156",
   "metadata": {},
   "outputs": [],
   "source": []
  }
 ],
 "metadata": {
  "kernelspec": {
   "display_name": ".venv",
   "language": "python",
   "name": "python3"
  },
  "language_info": {
   "codemirror_mode": {
    "name": "ipython",
    "version": 3
   },
   "file_extension": ".py",
   "mimetype": "text/x-python",
   "name": "python",
   "nbconvert_exporter": "python",
   "pygments_lexer": "ipython3",
   "version": "3.13.3"
  }
 },
 "nbformat": 4,
 "nbformat_minor": 5
}
