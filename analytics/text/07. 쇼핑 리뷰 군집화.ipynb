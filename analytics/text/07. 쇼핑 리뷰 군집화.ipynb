{
 "cells": [
  {
   "cell_type": "code",
   "execution_count": null,
   "metadata": {
    "id": "zC87fyvmTvby"
   },
   "outputs": [],
   "source": [
    "import pandas as pd\n",
    "import numpy as np\n",
    "import seaborn as sns\n",
    "import matplotlib.pyplot as plt\n",
    "import koreanize_matplotlib\n",
    "\n",
    "import plotly.express as px\n",
    "import plotly.graph_objects as go\n",
    "from plotly.subplots import make_subplots"
   ]
  },
  {
   "cell_type": "code",
   "execution_count": null,
   "metadata": {
    "colab": {
     "base_uri": "https://localhost:8080/"
    },
    "executionInfo": {
     "elapsed": 336,
     "status": "ok",
     "timestamp": 1718432367254,
     "user": {
      "displayName": "jinkyung park",
      "userId": "16415320267831525929"
     },
     "user_tz": -540
    },
    "id": "3o7iH03HT7wG",
    "outputId": "e8d18740-a069-4a23-e1c0-426dc2584764"
   },
   "outputs": [
    {
     "data": {
      "text/plain": [
       "(5996, 4)"
      ]
     },
     "execution_count": 37,
     "metadata": {},
     "output_type": "execute_result"
    }
   ],
   "source": []
  },
  {
   "cell_type": "code",
   "execution_count": null,
   "metadata": {
    "colab": {
     "base_uri": "https://localhost:8080/",
     "height": 206
    },
    "executionInfo": {
     "elapsed": 3,
     "status": "ok",
     "timestamp": 1718432368585,
     "user": {
      "displayName": "jinkyung park",
      "userId": "16415320267831525929"
     },
     "user_tz": -540
    },
    "id": "KKwtgdA3WrYU",
    "outputId": "00b81c40-d8ea-4852-9b52-4aa184008998"
   },
   "outputs": [
    {
     "data": {
      "application/vnd.google.colaboratory.intrinsic+json": {
       "summary": "{\n  \"name\": \"df\",\n  \"rows\": 5996,\n  \"fields\": [\n    {\n      \"column\": \"title\",\n      \"properties\": {\n        \"dtype\": \"string\",\n        \"num_unique_values\": 5619,\n        \"samples\": [\n          \"\\ud5a5\\uc740 \\uc798 \\ubaa8\\ub974\\uaca0\\uace0\\uc77c\\ub2e8 \\uc608\\uc804\\uc5d0 \\ud68c\\uc0ac\\uc5d0\\uc11c \\uc4f0\\uace0 \\ub9d8\\uc5d0 \\ub4e4\\uc5b4\\uc11c \\uc5c4\\ub9c8\\ud55c\\ud14c \\uc54c\\ub824\\uc8fc\\uace0 \\ub098\\uc11c \\ubd80\\ud130\\ub294 \\uacc4\\uc18d \\uc774\\uac78 \\ucc3e\\uc73c\\uc138\\uc694. \\uc6d0\\ub798\\ub294 \\ub9c8\\ud2b8\\uc5d0\\uc11c 100\\ub9e4 990\\uc6d0 \\ud558\\ub294 \\ubb3c\\ud2f0\\uc288\\ub294 \\uc7ac\\uc9c8? \\uc18c\\uc7ac \\uac19\\uc740\\uac8c \\ubcc4\\ub85c\",\n          \"\\ub048\\uc801\\uc784\\ub3c4\\uc5c6\\uace0 \\ud1a4\\uc5c5\\uac19\\uc774 \\ud55c\\ubc88\\uc5d0 \\ud574\\uacb0\\ub418\\ub2c8\\uae4c\\ud3b8\\ud558\\uace0 \\uc88b\\uc544\\uc694\",\n          \"\\uc77c\\ub2e8 \\ubc30\\uc1a1 \\ube60\\ub974\\uac8c \\ubcf4\\ub0b4\\uc8fc\\ub824\\ud55c \\ub290\\ub08c\\uc774 \\ub4ed\\ub2c8\\ub2e4. \\uc0ac\\uc8042\\ucc28\\uc778\\ub370 \\uc548\\ub0b4\\uc77c \\uadf8\\ub300\\ub85c \\ubc1c\\uc1a1\\uc774 \\uc544\\ub2cc \\ubc30\\uc1a1 \\ubc1b\\uc558\\uc5b4\\uc694. \\ub9cc\\uc871\\ud574\\uc694. \\ud504\\ub85c1\\uc4f0\\ub2e4\\uac00 \\ub9cc\\uc871\\ud588\\uc5b4\\uc11c \\ub118\\uc5b4\\uc654\\ub294\\ub370 \\ucc98\\uc74c\\uc5d0 \\uae30\\ub300\\ub9cc\\ud07c \\ud070 \\ucc28\\uc774\\ub294 \\uc544\\ub2c8\\uc9c0\\ub9cc\"\n        ],\n        \"semantic_type\": \"\",\n        \"description\": \"\"\n      }\n    },\n    {\n      \"column\": \"content\",\n      \"properties\": {\n        \"dtype\": \"string\",\n        \"num_unique_values\": 5994,\n        \"samples\": [\n          \"\\ub9ac\\ubdf0\\uac00 \\ud558\\ub3c4 \\uc88b\\uc544\\uc11c \\uad6c\\uc785\\ud588\\ub294\\ub370 <em>\\uc9c4\\uc9dc \\uc88b\\uc544\\uc694</em>.\\uc774\\uac83\\ub9cc \\ubc1c\\ub77c\\ub3c4 \\uc5b4\\ub290\\uc815\\ub3c4 \\ucee4\\ubc84\\ub418\\ub124\\uc694.<em>\\uae30\\ubbf8\\ubd80\\ubd84\\ub9cc \\ucfe0\\uc158 \\uc0b4\\uc9dd \\ubc1c\\ub77c\\ub3c4 \\uad1c\\ucc2e\\uace0\\uc694</em>. <em>\\uc131\\ubd84\\ub3c4 \\uad1c\\ucc2e\\ub2e4\\ud558\\ub124\\uc694</em>.\",\n          \"\\ub108\\ubb34\\ub098\\ub3c4 <em>\\uc88b\\uc740 \\uc81c\\ud488 \\uc798 \\uc4f0\\uaca0\\uc2b5\\ub2c8\\ub2e4</em> <em>\\uac10\\uc0ac\\ud569\\ub2c8\\ub2e4</em>\",\n          \"\\ub2ec\\ubc14\\ub294 \\ubbff\\uace0 \\uc0ac\\ub294 \\uc120\\ud06c\\ub9bc\\uc774\\uc8e0 \\uc774\\ubc88\\uc5d0 \\ud1a4\\uc5c5\\uc73c\\ub85c \\ud558\\ub098 \\uace8\\ub77c\\ubd24\\ub294\\ub370 \\ubc31\\ud0c1\\ub3c4 \\uc5c6\\uace0 <em>\\uae54\\uae08\\ud558\\uac8c \\uc798 \\ubc1c\\ub9ac\\ub124\\uc694</em><br>\\ucd09\\ucd09\\ud558\\uace0 <em>\\ud06c\\ub9bc\\ub290\\ub08c\\uc774\\ub77c \\uc88b\\uc544\\uc694</em> <em>\\uac15\\ucd94\\ud569\\ub2c8\\ub2e4</em>\"\n        ],\n        \"semantic_type\": \"\",\n        \"description\": \"\"\n      }\n    },\n    {\n      \"column\": \"product\",\n      \"properties\": {\n        \"dtype\": \"category\",\n        \"num_unique_values\": 3,\n        \"samples\": [\n          \"\\uc5d0\\uc5b4\\ud31f\\ud504\\ub85c2\\uc138\\ub300\",\n          \"\\uc120\\ud06c\\ub9bc\",\n          \"\\ubb3c\\ud2f0\\uc288\"\n        ],\n        \"semantic_type\": \"\",\n        \"description\": \"\"\n      }\n    },\n    {\n      \"column\": \"mallName\",\n      \"properties\": {\n        \"dtype\": \"category\",\n        \"num_unique_values\": 88,\n        \"samples\": [\n          \"\\uc0e4\\uc774\\ub2c8\\ubcfc\",\n          \"\\uc560\\ud50c \\uacf5\\uc2dd \\ube0c\\ub79c\\ub4dc\\uc2a4\\ud1a0\\uc5b4\",\n          \"\\ud504\\ub86c\\ud5ec\\uc2dc \\uc2a4\\ud1a0\\uc5b4\\uc0f5\"\n        ],\n        \"semantic_type\": \"\",\n        \"description\": \"\"\n      }\n    }\n  ]\n}",
       "type": "dataframe",
       "variable_name": "df"
      },
      "text/html": [
       "\n",
       "  <div id=\"df-06fbfa99-b9c4-4b5a-a6b5-a3584da62f65\" class=\"colab-df-container\">\n",
       "    <div>\n",
       "<style scoped>\n",
       "    .dataframe tbody tr th:only-of-type {\n",
       "        vertical-align: middle;\n",
       "    }\n",
       "\n",
       "    .dataframe tbody tr th {\n",
       "        vertical-align: top;\n",
       "    }\n",
       "\n",
       "    .dataframe thead th {\n",
       "        text-align: right;\n",
       "    }\n",
       "</style>\n",
       "<table border=\"1\" class=\"dataframe\">\n",
       "  <thead>\n",
       "    <tr style=\"text-align: right;\">\n",
       "      <th></th>\n",
       "      <th>title</th>\n",
       "      <th>content</th>\n",
       "      <th>product</th>\n",
       "      <th>mallName</th>\n",
       "    </tr>\n",
       "  </thead>\n",
       "  <tbody>\n",
       "    <tr>\n",
       "      <th>0</th>\n",
       "      <td>에어팟프로1세대를 계속 사용 했으나 배터리 빠른 소모로 인해 2세대로 교체 했습니다...</td>\n",
       "      <td>에어팟프로1세대를 계속 사용 했으나 배터리 빠른 소모로 인해 2세대로 교체 했습니다...</td>\n",
       "      <td>에어팟프로2세대</td>\n",
       "      <td>애플 공식 브랜드스토어</td>\n",
       "    </tr>\n",
       "    <tr>\n",
       "      <th>1</th>\n",
       "      <td>&amp;lt;새로운 것과 좋았던 것의 균형감&amp;gt;1. 노이즈 캔슬링에어팟 1세대 대비 ...</td>\n",
       "      <td>&amp;lt;새로운 것과 좋았던 것의 균형감&amp;gt;&lt;br&gt;&lt;br&gt;&lt;br&gt;1. 노이즈 캔슬...</td>\n",
       "      <td>에어팟프로2세대</td>\n",
       "      <td>애플 공식 브랜드스토어</td>\n",
       "    </tr>\n",
       "    <tr>\n",
       "      <th>2</th>\n",
       "      <td>번개 같은 빠름으로? 사전예약 후 지난 10월 21일 수령해서 지금까지 한달 넘게 ...</td>\n",
       "      <td>번개 같은 빠름으로? 사전예약 후 지난 10월 21일 수령해서 지금까지 한달 넘게 ...</td>\n",
       "      <td>에어팟프로2세대</td>\n",
       "      <td>애플 공식 브랜드스토어</td>\n",
       "    </tr>\n",
       "    <tr>\n",
       "      <th>3</th>\n",
       "      <td>먼저 빠른배송 감사합니다. 21일 12시에 받고 현재 2시간동안 귀에서 빼지않고있습...</td>\n",
       "      <td>먼저 &lt;em&gt;빠른배송 감사합니다&lt;/em&gt;. 21일 12시에 받고 현재 2시간동안 귀...</td>\n",
       "      <td>에어팟프로2세대</td>\n",
       "      <td>애플 공식 브랜드스토어</td>\n",
       "    </tr>\n",
       "    <tr>\n",
       "      <th>4</th>\n",
       "      <td>에어팟 프로 2세대 구매&amp;amp; 사용 후기 1. 가격&amp;amp;배송    우선 애플...</td>\n",
       "      <td>에어팟 프로 2세대 구매&amp;amp; 사용 후기&lt;br&gt; 1. 가격&amp;amp;배송&lt;br&gt; ...</td>\n",
       "      <td>에어팟프로2세대</td>\n",
       "      <td>애플 공식 브랜드스토어</td>\n",
       "    </tr>\n",
       "  </tbody>\n",
       "</table>\n",
       "</div>\n",
       "    <div class=\"colab-df-buttons\">\n",
       "\n",
       "  <div class=\"colab-df-container\">\n",
       "    <button class=\"colab-df-convert\" onclick=\"convertToInteractive('df-06fbfa99-b9c4-4b5a-a6b5-a3584da62f65')\"\n",
       "            title=\"Convert this dataframe to an interactive table.\"\n",
       "            style=\"display:none;\">\n",
       "\n",
       "  <svg xmlns=\"http://www.w3.org/2000/svg\" height=\"24px\" viewBox=\"0 -960 960 960\">\n",
       "    <path d=\"M120-120v-720h720v720H120Zm60-500h600v-160H180v160Zm220 220h160v-160H400v160Zm0 220h160v-160H400v160ZM180-400h160v-160H180v160Zm440 0h160v-160H620v160ZM180-180h160v-160H180v160Zm440 0h160v-160H620v160Z\"/>\n",
       "  </svg>\n",
       "    </button>\n",
       "\n",
       "  <style>\n",
       "    .colab-df-container {\n",
       "      display:flex;\n",
       "      gap: 12px;\n",
       "    }\n",
       "\n",
       "    .colab-df-convert {\n",
       "      background-color: #E8F0FE;\n",
       "      border: none;\n",
       "      border-radius: 50%;\n",
       "      cursor: pointer;\n",
       "      display: none;\n",
       "      fill: #1967D2;\n",
       "      height: 32px;\n",
       "      padding: 0 0 0 0;\n",
       "      width: 32px;\n",
       "    }\n",
       "\n",
       "    .colab-df-convert:hover {\n",
       "      background-color: #E2EBFA;\n",
       "      box-shadow: 0px 1px 2px rgba(60, 64, 67, 0.3), 0px 1px 3px 1px rgba(60, 64, 67, 0.15);\n",
       "      fill: #174EA6;\n",
       "    }\n",
       "\n",
       "    .colab-df-buttons div {\n",
       "      margin-bottom: 4px;\n",
       "    }\n",
       "\n",
       "    [theme=dark] .colab-df-convert {\n",
       "      background-color: #3B4455;\n",
       "      fill: #D2E3FC;\n",
       "    }\n",
       "\n",
       "    [theme=dark] .colab-df-convert:hover {\n",
       "      background-color: #434B5C;\n",
       "      box-shadow: 0px 1px 3px 1px rgba(0, 0, 0, 0.15);\n",
       "      filter: drop-shadow(0px 1px 2px rgba(0, 0, 0, 0.3));\n",
       "      fill: #FFFFFF;\n",
       "    }\n",
       "  </style>\n",
       "\n",
       "    <script>\n",
       "      const buttonEl =\n",
       "        document.querySelector('#df-06fbfa99-b9c4-4b5a-a6b5-a3584da62f65 button.colab-df-convert');\n",
       "      buttonEl.style.display =\n",
       "        google.colab.kernel.accessAllowed ? 'block' : 'none';\n",
       "\n",
       "      async function convertToInteractive(key) {\n",
       "        const element = document.querySelector('#df-06fbfa99-b9c4-4b5a-a6b5-a3584da62f65');\n",
       "        const dataTable =\n",
       "          await google.colab.kernel.invokeFunction('convertToInteractive',\n",
       "                                                    [key], {});\n",
       "        if (!dataTable) return;\n",
       "\n",
       "        const docLinkHtml = 'Like what you see? Visit the ' +\n",
       "          '<a target=\"_blank\" href=https://colab.research.google.com/notebooks/data_table.ipynb>data table notebook</a>'\n",
       "          + ' to learn more about interactive tables.';\n",
       "        element.innerHTML = '';\n",
       "        dataTable['output_type'] = 'display_data';\n",
       "        await google.colab.output.renderOutput(dataTable, element);\n",
       "        const docLink = document.createElement('div');\n",
       "        docLink.innerHTML = docLinkHtml;\n",
       "        element.appendChild(docLink);\n",
       "      }\n",
       "    </script>\n",
       "  </div>\n",
       "\n",
       "\n",
       "<div id=\"df-38ced359-0128-4f00-b27f-e268bd96d5fe\">\n",
       "  <button class=\"colab-df-quickchart\" onclick=\"quickchart('df-38ced359-0128-4f00-b27f-e268bd96d5fe')\"\n",
       "            title=\"Suggest charts\"\n",
       "            style=\"display:none;\">\n",
       "\n",
       "<svg xmlns=\"http://www.w3.org/2000/svg\" height=\"24px\"viewBox=\"0 0 24 24\"\n",
       "     width=\"24px\">\n",
       "    <g>\n",
       "        <path d=\"M19 3H5c-1.1 0-2 .9-2 2v14c0 1.1.9 2 2 2h14c1.1 0 2-.9 2-2V5c0-1.1-.9-2-2-2zM9 17H7v-7h2v7zm4 0h-2V7h2v10zm4 0h-2v-4h2v4z\"/>\n",
       "    </g>\n",
       "</svg>\n",
       "  </button>\n",
       "\n",
       "<style>\n",
       "  .colab-df-quickchart {\n",
       "      --bg-color: #E8F0FE;\n",
       "      --fill-color: #1967D2;\n",
       "      --hover-bg-color: #E2EBFA;\n",
       "      --hover-fill-color: #174EA6;\n",
       "      --disabled-fill-color: #AAA;\n",
       "      --disabled-bg-color: #DDD;\n",
       "  }\n",
       "\n",
       "  [theme=dark] .colab-df-quickchart {\n",
       "      --bg-color: #3B4455;\n",
       "      --fill-color: #D2E3FC;\n",
       "      --hover-bg-color: #434B5C;\n",
       "      --hover-fill-color: #FFFFFF;\n",
       "      --disabled-bg-color: #3B4455;\n",
       "      --disabled-fill-color: #666;\n",
       "  }\n",
       "\n",
       "  .colab-df-quickchart {\n",
       "    background-color: var(--bg-color);\n",
       "    border: none;\n",
       "    border-radius: 50%;\n",
       "    cursor: pointer;\n",
       "    display: none;\n",
       "    fill: var(--fill-color);\n",
       "    height: 32px;\n",
       "    padding: 0;\n",
       "    width: 32px;\n",
       "  }\n",
       "\n",
       "  .colab-df-quickchart:hover {\n",
       "    background-color: var(--hover-bg-color);\n",
       "    box-shadow: 0 1px 2px rgba(60, 64, 67, 0.3), 0 1px 3px 1px rgba(60, 64, 67, 0.15);\n",
       "    fill: var(--button-hover-fill-color);\n",
       "  }\n",
       "\n",
       "  .colab-df-quickchart-complete:disabled,\n",
       "  .colab-df-quickchart-complete:disabled:hover {\n",
       "    background-color: var(--disabled-bg-color);\n",
       "    fill: var(--disabled-fill-color);\n",
       "    box-shadow: none;\n",
       "  }\n",
       "\n",
       "  .colab-df-spinner {\n",
       "    border: 2px solid var(--fill-color);\n",
       "    border-color: transparent;\n",
       "    border-bottom-color: var(--fill-color);\n",
       "    animation:\n",
       "      spin 1s steps(1) infinite;\n",
       "  }\n",
       "\n",
       "  @keyframes spin {\n",
       "    0% {\n",
       "      border-color: transparent;\n",
       "      border-bottom-color: var(--fill-color);\n",
       "      border-left-color: var(--fill-color);\n",
       "    }\n",
       "    20% {\n",
       "      border-color: transparent;\n",
       "      border-left-color: var(--fill-color);\n",
       "      border-top-color: var(--fill-color);\n",
       "    }\n",
       "    30% {\n",
       "      border-color: transparent;\n",
       "      border-left-color: var(--fill-color);\n",
       "      border-top-color: var(--fill-color);\n",
       "      border-right-color: var(--fill-color);\n",
       "    }\n",
       "    40% {\n",
       "      border-color: transparent;\n",
       "      border-right-color: var(--fill-color);\n",
       "      border-top-color: var(--fill-color);\n",
       "    }\n",
       "    60% {\n",
       "      border-color: transparent;\n",
       "      border-right-color: var(--fill-color);\n",
       "    }\n",
       "    80% {\n",
       "      border-color: transparent;\n",
       "      border-right-color: var(--fill-color);\n",
       "      border-bottom-color: var(--fill-color);\n",
       "    }\n",
       "    90% {\n",
       "      border-color: transparent;\n",
       "      border-bottom-color: var(--fill-color);\n",
       "    }\n",
       "  }\n",
       "</style>\n",
       "\n",
       "  <script>\n",
       "    async function quickchart(key) {\n",
       "      const quickchartButtonEl =\n",
       "        document.querySelector('#' + key + ' button');\n",
       "      quickchartButtonEl.disabled = true;  // To prevent multiple clicks.\n",
       "      quickchartButtonEl.classList.add('colab-df-spinner');\n",
       "      try {\n",
       "        const charts = await google.colab.kernel.invokeFunction(\n",
       "            'suggestCharts', [key], {});\n",
       "      } catch (error) {\n",
       "        console.error('Error during call to suggestCharts:', error);\n",
       "      }\n",
       "      quickchartButtonEl.classList.remove('colab-df-spinner');\n",
       "      quickchartButtonEl.classList.add('colab-df-quickchart-complete');\n",
       "    }\n",
       "    (() => {\n",
       "      let quickchartButtonEl =\n",
       "        document.querySelector('#df-38ced359-0128-4f00-b27f-e268bd96d5fe button');\n",
       "      quickchartButtonEl.style.display =\n",
       "        google.colab.kernel.accessAllowed ? 'block' : 'none';\n",
       "    })();\n",
       "  </script>\n",
       "</div>\n",
       "\n",
       "    </div>\n",
       "  </div>\n"
      ],
      "text/plain": [
       "                                               title  \\\n",
       "0  에어팟프로1세대를 계속 사용 했으나 배터리 빠른 소모로 인해 2세대로 교체 했습니다...   \n",
       "1  &lt;새로운 것과 좋았던 것의 균형감&gt;1. 노이즈 캔슬링에어팟 1세대 대비 ...   \n",
       "2  번개 같은 빠름으로? 사전예약 후 지난 10월 21일 수령해서 지금까지 한달 넘게 ...   \n",
       "3  먼저 빠른배송 감사합니다. 21일 12시에 받고 현재 2시간동안 귀에서 빼지않고있습...   \n",
       "4  에어팟 프로 2세대 구매&amp; 사용 후기 1. 가격&amp;배송    우선 애플...   \n",
       "\n",
       "                                             content   product      mallName  \n",
       "0  에어팟프로1세대를 계속 사용 했으나 배터리 빠른 소모로 인해 2세대로 교체 했습니다...  에어팟프로2세대  애플 공식 브랜드스토어  \n",
       "1  &lt;새로운 것과 좋았던 것의 균형감&gt;<br><br><br>1. 노이즈 캔슬...  에어팟프로2세대  애플 공식 브랜드스토어  \n",
       "2  번개 같은 빠름으로? 사전예약 후 지난 10월 21일 수령해서 지금까지 한달 넘게 ...  에어팟프로2세대  애플 공식 브랜드스토어  \n",
       "3  먼저 <em>빠른배송 감사합니다</em>. 21일 12시에 받고 현재 2시간동안 귀...  에어팟프로2세대  애플 공식 브랜드스토어  \n",
       "4  에어팟 프로 2세대 구매&amp; 사용 후기<br> 1. 가격&amp;배송<br> ...  에어팟프로2세대  애플 공식 브랜드스토어  "
      ]
     },
     "execution_count": 38,
     "metadata": {},
     "output_type": "execute_result"
    }
   ],
   "source": []
  },
  {
   "cell_type": "code",
   "execution_count": null,
   "metadata": {
    "colab": {
     "base_uri": "https://localhost:8080/"
    },
    "executionInfo": {
     "elapsed": 1,
     "status": "ok",
     "timestamp": 1718432369519,
     "user": {
      "displayName": "jinkyung park",
      "userId": "16415320267831525929"
     },
     "user_tz": -540
    },
    "id": "A30q7dFZT7to",
    "outputId": "5bc019f5-6030-495b-bb89-c720b22cbe86"
   },
   "outputs": [
    {
     "data": {
      "text/plain": [
       "array(['에어팟프로2세대', '선크림', '물티슈'], dtype=object)"
      ]
     },
     "execution_count": 39,
     "metadata": {},
     "output_type": "execute_result"
    }
   ],
   "source": []
  },
  {
   "cell_type": "code",
   "execution_count": null,
   "metadata": {
    "colab": {
     "base_uri": "https://localhost:8080/"
    },
    "executionInfo": {
     "elapsed": 1,
     "status": "ok",
     "timestamp": 1718432370352,
     "user": {
      "displayName": "jinkyung park",
      "userId": "16415320267831525929"
     },
     "user_tz": -540
    },
    "id": "gUbALWB7T7rA",
    "outputId": "508f3436-ed09-40e9-93f1-f3782d3d662b"
   },
   "outputs": [
    {
     "data": {
      "text/plain": [
       "product\n",
       "물티슈         2000\n",
       "선크림         1999\n",
       "에어팟프로2세대    1997\n",
       "Name: count, dtype: int64"
      ]
     },
     "execution_count": 40,
     "metadata": {},
     "output_type": "execute_result"
    }
   ],
   "source": []
  },
  {
   "cell_type": "code",
   "execution_count": null,
   "metadata": {
    "colab": {
     "base_uri": "https://localhost:8080/",
     "height": 447
    },
    "executionInfo": {
     "elapsed": 549,
     "status": "ok",
     "timestamp": 1718432372301,
     "user": {
      "displayName": "jinkyung park",
      "userId": "16415320267831525929"
     },
     "user_tz": -540
    },
    "id": "Zk4gqJnUT7oP",
    "outputId": "abb6fc53-f309-48e1-d710-2660c5cc8ff9"
   },
   "outputs": [
    {
     "data": {
      "image/png": "[encoded data removed]",
      "text/plain": [
       "<Figure size 640x480 with 1 Axes>"
      ]
     },
     "metadata": {},
     "output_type": "display_data"
    }
   ],
   "source": []
  },
  {
   "cell_type": "markdown",
   "metadata": {
    "id": "cEg238V7Ugoz"
   },
   "source": [
    "### 전처리\n",
    "- HTML 태그와 엔티티 제거"
   ]
  },
  {
   "cell_type": "code",
   "execution_count": null,
   "metadata": {
    "colab": {
     "base_uri": "https://localhost:8080/"
    },
    "executionInfo": {
     "elapsed": 315,
     "status": "ok",
     "timestamp": 1718432375361,
     "user": {
      "displayName": "jinkyung park",
      "userId": "16415320267831525929"
     },
     "user_tz": -540
    },
    "id": "2aVnYD0hXlP2",
    "outputId": "3309619a-377c-4615-a8e6-5f4eaa626575"
   },
   "outputs": [
    {
     "data": {
      "text/plain": [
       "0       에어팟프로1세대를 계속 사용 했으나 배터리 빠른 소모로 인해 2세대로 교체 했습니다...\n",
       "1       &lt;새로운 것과 좋았던 것의 균형감&gt;1. 노이즈 캔슬링에어팟 1세대 대비 ...\n",
       "2       번개 같은 빠름으로? 사전예약 후 지난 10월 21일 수령해서 지금까지 한달 넘게 ...\n",
       "3       먼저 빠른배송 감사합니다. 21일 12시에 받고 현재 2시간동안 귀에서 빼지않고있습...\n",
       "4       에어팟 프로 2세대 구매&amp; 사용 후기 1. 가격&amp;배송    우선 애플...\n",
       "                              ...                        \n",
       "5991                                           늘 쓰는 상품이에요\n",
       "5992              또 주문했어요 근데 이번에는 좀 바꼈네요?? 처음본 로고가 있네요 ㅎㅎ\n",
       "5993                   오랜만에 미엘 물티슈~가격대비 물디슈평량 용량 대비만족입니다!\n",
       "5994                                            쓰기 편하고좋아요\n",
       "5995      두번째 구매하고 쓰고있어요 수분도 많고 두께도 두꺼웠어 좋아요 .계속했어 쓰고싶어요.\n",
       "Name: title, Length: 5996, dtype: object"
      ]
     },
     "execution_count": 42,
     "metadata": {},
     "output_type": "execute_result"
    }
   ],
   "source": []
  },
  {
   "cell_type": "code",
   "execution_count": null,
   "metadata": {
    "colab": {
     "base_uri": "https://localhost:8080/",
     "height": 562
    },
    "executionInfo": {
     "elapsed": 352,
     "status": "ok",
     "timestamp": 1718432377172,
     "user": {
      "displayName": "jinkyung park",
      "userId": "16415320267831525929"
     },
     "user_tz": -540
    },
    "id": "Z_rbrceMT7lU",
    "outputId": "6d3f6012-f77e-4fbe-821c-3805b7b92f99"
   },
   "outputs": [
    {
     "data": {
      "application/vnd.google.colaboratory.intrinsic+json": {
       "summary": "{\n  \"name\": \"df\",\n  \"rows\": 5996,\n  \"fields\": [\n    {\n      \"column\": \"title\",\n      \"properties\": {\n        \"dtype\": \"string\",\n        \"num_unique_values\": 5619,\n        \"samples\": [\n          \"\\ud5a5\\uc740 \\uc798 \\ubaa8\\ub974\\uaca0\\uace0\\uc77c\\ub2e8 \\uc608\\uc804\\uc5d0 \\ud68c\\uc0ac\\uc5d0\\uc11c \\uc4f0\\uace0 \\ub9d8\\uc5d0 \\ub4e4\\uc5b4\\uc11c \\uc5c4\\ub9c8\\ud55c\\ud14c \\uc54c\\ub824\\uc8fc\\uace0 \\ub098\\uc11c \\ubd80\\ud130\\ub294 \\uacc4\\uc18d \\uc774\\uac78 \\ucc3e\\uc73c\\uc138\\uc694. \\uc6d0\\ub798\\ub294 \\ub9c8\\ud2b8\\uc5d0\\uc11c 100\\ub9e4 990\\uc6d0 \\ud558\\ub294 \\ubb3c\\ud2f0\\uc288\\ub294 \\uc7ac\\uc9c8? \\uc18c\\uc7ac \\uac19\\uc740\\uac8c \\ubcc4\\ub85c\",\n          \"\\ub048\\uc801\\uc784\\ub3c4\\uc5c6\\uace0 \\ud1a4\\uc5c5\\uac19\\uc774 \\ud55c\\ubc88\\uc5d0 \\ud574\\uacb0\\ub418\\ub2c8\\uae4c\\ud3b8\\ud558\\uace0 \\uc88b\\uc544\\uc694\",\n          \"\\uc77c\\ub2e8 \\ubc30\\uc1a1 \\ube60\\ub974\\uac8c \\ubcf4\\ub0b4\\uc8fc\\ub824\\ud55c \\ub290\\ub08c\\uc774 \\ub4ed\\ub2c8\\ub2e4. \\uc0ac\\uc8042\\ucc28\\uc778\\ub370 \\uc548\\ub0b4\\uc77c \\uadf8\\ub300\\ub85c \\ubc1c\\uc1a1\\uc774 \\uc544\\ub2cc \\ubc30\\uc1a1 \\ubc1b\\uc558\\uc5b4\\uc694. \\ub9cc\\uc871\\ud574\\uc694. \\ud504\\ub85c1\\uc4f0\\ub2e4\\uac00 \\ub9cc\\uc871\\ud588\\uc5b4\\uc11c \\ub118\\uc5b4\\uc654\\ub294\\ub370 \\ucc98\\uc74c\\uc5d0 \\uae30\\ub300\\ub9cc\\ud07c \\ud070 \\ucc28\\uc774\\ub294 \\uc544\\ub2c8\\uc9c0\\ub9cc\"\n        ],\n        \"semantic_type\": \"\",\n        \"description\": \"\"\n      }\n    },\n    {\n      \"column\": \"content\",\n      \"properties\": {\n        \"dtype\": \"string\",\n        \"num_unique_values\": 5994,\n        \"samples\": [\n          \"\\ub9ac\\ubdf0\\uac00 \\ud558\\ub3c4 \\uc88b\\uc544\\uc11c \\uad6c\\uc785\\ud588\\ub294\\ub370 <em>\\uc9c4\\uc9dc \\uc88b\\uc544\\uc694</em>.\\uc774\\uac83\\ub9cc \\ubc1c\\ub77c\\ub3c4 \\uc5b4\\ub290\\uc815\\ub3c4 \\ucee4\\ubc84\\ub418\\ub124\\uc694.<em>\\uae30\\ubbf8\\ubd80\\ubd84\\ub9cc \\ucfe0\\uc158 \\uc0b4\\uc9dd \\ubc1c\\ub77c\\ub3c4 \\uad1c\\ucc2e\\uace0\\uc694</em>. <em>\\uc131\\ubd84\\ub3c4 \\uad1c\\ucc2e\\ub2e4\\ud558\\ub124\\uc694</em>.\",\n          \"\\ub108\\ubb34\\ub098\\ub3c4 <em>\\uc88b\\uc740 \\uc81c\\ud488 \\uc798 \\uc4f0\\uaca0\\uc2b5\\ub2c8\\ub2e4</em> <em>\\uac10\\uc0ac\\ud569\\ub2c8\\ub2e4</em>\",\n          \"\\ub2ec\\ubc14\\ub294 \\ubbff\\uace0 \\uc0ac\\ub294 \\uc120\\ud06c\\ub9bc\\uc774\\uc8e0 \\uc774\\ubc88\\uc5d0 \\ud1a4\\uc5c5\\uc73c\\ub85c \\ud558\\ub098 \\uace8\\ub77c\\ubd24\\ub294\\ub370 \\ubc31\\ud0c1\\ub3c4 \\uc5c6\\uace0 <em>\\uae54\\uae08\\ud558\\uac8c \\uc798 \\ubc1c\\ub9ac\\ub124\\uc694</em><br>\\ucd09\\ucd09\\ud558\\uace0 <em>\\ud06c\\ub9bc\\ub290\\ub08c\\uc774\\ub77c \\uc88b\\uc544\\uc694</em> <em>\\uac15\\ucd94\\ud569\\ub2c8\\ub2e4</em>\"\n        ],\n        \"semantic_type\": \"\",\n        \"description\": \"\"\n      }\n    },\n    {\n      \"column\": \"product\",\n      \"properties\": {\n        \"dtype\": \"category\",\n        \"num_unique_values\": 3,\n        \"samples\": [\n          \"\\uc5d0\\uc5b4\\ud31f\\ud504\\ub85c2\\uc138\\ub300\",\n          \"\\uc120\\ud06c\\ub9bc\",\n          \"\\ubb3c\\ud2f0\\uc288\"\n        ],\n        \"semantic_type\": \"\",\n        \"description\": \"\"\n      }\n    },\n    {\n      \"column\": \"mallName\",\n      \"properties\": {\n        \"dtype\": \"category\",\n        \"num_unique_values\": 88,\n        \"samples\": [\n          \"\\uc0e4\\uc774\\ub2c8\\ubcfc\",\n          \"\\uc560\\ud50c \\uacf5\\uc2dd \\ube0c\\ub79c\\ub4dc\\uc2a4\\ud1a0\\uc5b4\",\n          \"\\ud504\\ub86c\\ud5ec\\uc2dc \\uc2a4\\ud1a0\\uc5b4\\uc0f5\"\n        ],\n        \"semantic_type\": \"\",\n        \"description\": \"\"\n      }\n    },\n    {\n      \"column\": \"title_re\",\n      \"properties\": {\n        \"dtype\": \"string\",\n        \"num_unique_values\": 5619,\n        \"samples\": [\n          \"\\ud5a5\\uc740 \\uc798 \\ubaa8\\ub974\\uaca0\\uace0\\uc77c\\ub2e8 \\uc608\\uc804\\uc5d0 \\ud68c\\uc0ac\\uc5d0\\uc11c \\uc4f0\\uace0 \\ub9d8\\uc5d0 \\ub4e4\\uc5b4\\uc11c \\uc5c4\\ub9c8\\ud55c\\ud14c \\uc54c\\ub824\\uc8fc\\uace0 \\ub098\\uc11c \\ubd80\\ud130\\ub294 \\uacc4\\uc18d \\uc774\\uac78 \\ucc3e\\uc73c\\uc138\\uc694. \\uc6d0\\ub798\\ub294 \\ub9c8\\ud2b8\\uc5d0\\uc11c 100\\ub9e4 990\\uc6d0 \\ud558\\ub294 \\ubb3c\\ud2f0\\uc288\\ub294 \\uc7ac\\uc9c8? \\uc18c\\uc7ac \\uac19\\uc740\\uac8c \\ubcc4\\ub85c\",\n          \"\\ub048\\uc801\\uc784\\ub3c4\\uc5c6\\uace0 \\ud1a4\\uc5c5\\uac19\\uc774 \\ud55c\\ubc88\\uc5d0 \\ud574\\uacb0\\ub418\\ub2c8\\uae4c\\ud3b8\\ud558\\uace0 \\uc88b\\uc544\\uc694\",\n          \"\\uc77c\\ub2e8 \\ubc30\\uc1a1 \\ube60\\ub974\\uac8c \\ubcf4\\ub0b4\\uc8fc\\ub824\\ud55c \\ub290\\ub08c\\uc774 \\ub4ed\\ub2c8\\ub2e4. \\uc0ac\\uc8042\\ucc28\\uc778\\ub370 \\uc548\\ub0b4\\uc77c \\uadf8\\ub300\\ub85c \\ubc1c\\uc1a1\\uc774 \\uc544\\ub2cc \\ubc30\\uc1a1 \\ubc1b\\uc558\\uc5b4\\uc694. \\ub9cc\\uc871\\ud574\\uc694. \\ud504\\ub85c1\\uc4f0\\ub2e4\\uac00 \\ub9cc\\uc871\\ud588\\uc5b4\\uc11c \\ub118\\uc5b4\\uc654\\ub294\\ub370 \\ucc98\\uc74c\\uc5d0 \\uae30\\ub300\\ub9cc\\ud07c \\ud070 \\ucc28\\uc774\\ub294 \\uc544\\ub2c8\\uc9c0\\ub9cc\"\n        ],\n        \"semantic_type\": \"\",\n        \"description\": \"\"\n      }\n    },\n    {\n      \"column\": \"content_re\",\n      \"properties\": {\n        \"dtype\": \"string\",\n        \"num_unique_values\": 5994,\n        \"samples\": [\n          \"\\ub9ac\\ubdf0\\uac00 \\ud558\\ub3c4 \\uc88b\\uc544\\uc11c \\uad6c\\uc785\\ud588\\ub294\\ub370  \\uc9c4\\uc9dc \\uc88b\\uc544\\uc694 .\\uc774\\uac83\\ub9cc \\ubc1c\\ub77c\\ub3c4 \\uc5b4\\ub290\\uc815\\ub3c4 \\ucee4\\ubc84\\ub418\\ub124\\uc694. \\uae30\\ubbf8\\ubd80\\ubd84\\ub9cc \\ucfe0\\uc158 \\uc0b4\\uc9dd \\ubc1c\\ub77c\\ub3c4 \\uad1c\\ucc2e\\uace0\\uc694 .  \\uc131\\ubd84\\ub3c4 \\uad1c\\ucc2e\\ub2e4\\ud558\\ub124\\uc694 .\",\n          \"\\ub108\\ubb34\\ub098\\ub3c4  \\uc88b\\uc740 \\uc81c\\ud488 \\uc798 \\uc4f0\\uaca0\\uc2b5\\ub2c8\\ub2e4   \\uac10\\uc0ac\\ud569\\ub2c8\\ub2e4 \",\n          \"\\ub2ec\\ubc14\\ub294 \\ubbff\\uace0 \\uc0ac\\ub294 \\uc120\\ud06c\\ub9bc\\uc774\\uc8e0 \\uc774\\ubc88\\uc5d0 \\ud1a4\\uc5c5\\uc73c\\ub85c \\ud558\\ub098 \\uace8\\ub77c\\ubd24\\ub294\\ub370 \\ubc31\\ud0c1\\ub3c4 \\uc5c6\\uace0  \\uae54\\uae08\\ud558\\uac8c \\uc798 \\ubc1c\\ub9ac\\ub124\\uc694  \\ucd09\\ucd09\\ud558\\uace0  \\ud06c\\ub9bc\\ub290\\ub08c\\uc774\\ub77c \\uc88b\\uc544\\uc694   \\uac15\\ucd94\\ud569\\ub2c8\\ub2e4 \"\n        ],\n        \"semantic_type\": \"\",\n        \"description\": \"\"\n      }\n    }\n  ]\n}",
       "type": "dataframe",
       "variable_name": "df"
      },
      "text/html": [
       "\n",
       "  <div id=\"df-7e60e52c-76af-484d-b072-45a71c09a14f\" class=\"colab-df-container\">\n",
       "    <div>\n",
       "<style scoped>\n",
       "    .dataframe tbody tr th:only-of-type {\n",
       "        vertical-align: middle;\n",
       "    }\n",
       "\n",
       "    .dataframe tbody tr th {\n",
       "        vertical-align: top;\n",
       "    }\n",
       "\n",
       "    .dataframe thead th {\n",
       "        text-align: right;\n",
       "    }\n",
       "</style>\n",
       "<table border=\"1\" class=\"dataframe\">\n",
       "  <thead>\n",
       "    <tr style=\"text-align: right;\">\n",
       "      <th></th>\n",
       "      <th>title</th>\n",
       "      <th>content</th>\n",
       "      <th>product</th>\n",
       "      <th>mallName</th>\n",
       "      <th>title_re</th>\n",
       "      <th>content_re</th>\n",
       "    </tr>\n",
       "  </thead>\n",
       "  <tbody>\n",
       "    <tr>\n",
       "      <th>0</th>\n",
       "      <td>에어팟프로1세대를 계속 사용 했으나 배터리 빠른 소모로 인해 2세대로 교체 했습니다...</td>\n",
       "      <td>에어팟프로1세대를 계속 사용 했으나 배터리 빠른 소모로 인해 2세대로 교체 했습니다...</td>\n",
       "      <td>에어팟프로2세대</td>\n",
       "      <td>애플 공식 브랜드스토어</td>\n",
       "      <td>에어팟프로1세대를 계속 사용 했으나 배터리 빠른 소모로 인해 2세대로 교체 했습니다...</td>\n",
       "      <td>에어팟프로1세대를 계속 사용 했으나 배터리 빠른 소모로 인해 2세대로 교체 했습니다...</td>\n",
       "    </tr>\n",
       "    <tr>\n",
       "      <th>1</th>\n",
       "      <td>&amp;lt;새로운 것과 좋았던 것의 균형감&amp;gt;1. 노이즈 캔슬링에어팟 1세대 대비 ...</td>\n",
       "      <td>&amp;lt;새로운 것과 좋았던 것의 균형감&amp;gt;&lt;br&gt;&lt;br&gt;&lt;br&gt;1. 노이즈 캔슬...</td>\n",
       "      <td>에어팟프로2세대</td>\n",
       "      <td>애플 공식 브랜드스토어</td>\n",
       "      <td>새로운 것과 좋았던 것의 균형감 1. 노이즈 캔슬링에어팟 1세대 대비 좋아진 것을...</td>\n",
       "      <td>새로운 것과 좋았던 것의 균형감    1. 노이즈 캔슬링  에어팟 1세대 대비 좋...</td>\n",
       "    </tr>\n",
       "    <tr>\n",
       "      <th>2</th>\n",
       "      <td>번개 같은 빠름으로? 사전예약 후 지난 10월 21일 수령해서 지금까지 한달 넘게 ...</td>\n",
       "      <td>번개 같은 빠름으로? 사전예약 후 지난 10월 21일 수령해서 지금까지 한달 넘게 ...</td>\n",
       "      <td>에어팟프로2세대</td>\n",
       "      <td>애플 공식 브랜드스토어</td>\n",
       "      <td>번개 같은 빠름으로? 사전예약 후 지난 10월 21일 수령해서 지금까지 한달 넘게 ...</td>\n",
       "      <td>번개 같은 빠름으로? 사전예약 후 지난 10월 21일 수령해서 지금까지 한달 넘게 ...</td>\n",
       "    </tr>\n",
       "    <tr>\n",
       "      <th>3</th>\n",
       "      <td>먼저 빠른배송 감사합니다. 21일 12시에 받고 현재 2시간동안 귀에서 빼지않고있습...</td>\n",
       "      <td>먼저 &lt;em&gt;빠른배송 감사합니다&lt;/em&gt;. 21일 12시에 받고 현재 2시간동안 귀...</td>\n",
       "      <td>에어팟프로2세대</td>\n",
       "      <td>애플 공식 브랜드스토어</td>\n",
       "      <td>먼저 빠른배송 감사합니다. 21일 12시에 받고 현재 2시간동안 귀에서 빼지않고있습...</td>\n",
       "      <td>먼저  빠른배송 감사합니다 . 21일 12시에 받고 현재 2시간동안 귀에서 빼지않고...</td>\n",
       "    </tr>\n",
       "    <tr>\n",
       "      <th>4</th>\n",
       "      <td>에어팟 프로 2세대 구매&amp;amp; 사용 후기 1. 가격&amp;amp;배송    우선 애플...</td>\n",
       "      <td>에어팟 프로 2세대 구매&amp;amp; 사용 후기&lt;br&gt; 1. 가격&amp;amp;배송&lt;br&gt; ...</td>\n",
       "      <td>에어팟프로2세대</td>\n",
       "      <td>애플 공식 브랜드스토어</td>\n",
       "      <td>에어팟 프로 2세대 구매  사용 후기 1. 가격 배송    우선 애플 공식 인증 스...</td>\n",
       "      <td>에어팟 프로 2세대 구매  사용 후기  1. 가격 배송     우선  애플 공식 인...</td>\n",
       "    </tr>\n",
       "    <tr>\n",
       "      <th>...</th>\n",
       "      <td>...</td>\n",
       "      <td>...</td>\n",
       "      <td>...</td>\n",
       "      <td>...</td>\n",
       "      <td>...</td>\n",
       "      <td>...</td>\n",
       "    </tr>\n",
       "    <tr>\n",
       "      <th>5991</th>\n",
       "      <td>늘 쓰는 상품이에요</td>\n",
       "      <td>늘 쓰는 상품이에요</td>\n",
       "      <td>물티슈</td>\n",
       "      <td>미엘물티슈</td>\n",
       "      <td>늘 쓰는 상품이에요</td>\n",
       "      <td>늘 쓰는 상품이에요</td>\n",
       "    </tr>\n",
       "    <tr>\n",
       "      <th>5992</th>\n",
       "      <td>또 주문했어요 근데 이번에는 좀 바꼈네요?? 처음본 로고가 있네요 ㅎㅎ</td>\n",
       "      <td>또 주문했어요 근데 이번에는 좀 바꼈네요?? 처음본 로고가 있네요 ㅎㅎ</td>\n",
       "      <td>물티슈</td>\n",
       "      <td>미엘물티슈</td>\n",
       "      <td>또 주문했어요 근데 이번에는 좀 바꼈네요?? 처음본 로고가 있네요 ㅎㅎ</td>\n",
       "      <td>또 주문했어요 근데 이번에는 좀 바꼈네요?? 처음본 로고가 있네요 ㅎㅎ</td>\n",
       "    </tr>\n",
       "    <tr>\n",
       "      <th>5993</th>\n",
       "      <td>오랜만에 미엘 물티슈~가격대비 물디슈평량 용량 대비만족입니다!</td>\n",
       "      <td>오랜만에 미엘 물티슈~&lt;br&gt;가격대비 물디슈평량 용량 대비&lt;br&gt;만족입니다!</td>\n",
       "      <td>물티슈</td>\n",
       "      <td>미엘물티슈</td>\n",
       "      <td>오랜만에 미엘 물티슈~가격대비 물디슈평량 용량 대비만족입니다!</td>\n",
       "      <td>오랜만에 미엘 물티슈~ 가격대비 물디슈평량 용량 대비 만족입니다!</td>\n",
       "    </tr>\n",
       "    <tr>\n",
       "      <th>5994</th>\n",
       "      <td>쓰기 편하고좋아요</td>\n",
       "      <td>쓰기 편하고&lt;br&gt;좋아요</td>\n",
       "      <td>물티슈</td>\n",
       "      <td>미엘물티슈</td>\n",
       "      <td>쓰기 편하고좋아요</td>\n",
       "      <td>쓰기 편하고 좋아요</td>\n",
       "    </tr>\n",
       "    <tr>\n",
       "      <th>5995</th>\n",
       "      <td>두번째 구매하고 쓰고있어요 수분도 많고 두께도 두꺼웠어 좋아요 .계속했어 쓰고싶어요.</td>\n",
       "      <td>두번째 구매하고 쓰고있어요 수분도 많고 두께도 두꺼웠어 좋아요 .계속했어 쓰고싶어요.</td>\n",
       "      <td>물티슈</td>\n",
       "      <td>미엘물티슈</td>\n",
       "      <td>두번째 구매하고 쓰고있어요 수분도 많고 두께도 두꺼웠어 좋아요 .계속했어 쓰고싶어요.</td>\n",
       "      <td>두번째 구매하고 쓰고있어요 수분도 많고 두께도 두꺼웠어 좋아요 .계속했어 쓰고싶어요.</td>\n",
       "    </tr>\n",
       "  </tbody>\n",
       "</table>\n",
       "<p>5996 rows × 6 columns</p>\n",
       "</div>\n",
       "    <div class=\"colab-df-buttons\">\n",
       "\n",
       "  <div class=\"colab-df-container\">\n",
       "    <button class=\"colab-df-convert\" onclick=\"convertToInteractive('df-7e60e52c-76af-484d-b072-45a71c09a14f')\"\n",
       "            title=\"Convert this dataframe to an interactive table.\"\n",
       "            style=\"display:none;\">\n",
       "\n",
       "  <svg xmlns=\"http://www.w3.org/2000/svg\" height=\"24px\" viewBox=\"0 -960 960 960\">\n",
       "    <path d=\"M120-120v-720h720v720H120Zm60-500h600v-160H180v160Zm220 220h160v-160H400v160Zm0 220h160v-160H400v160ZM180-400h160v-160H180v160Zm440 0h160v-160H620v160ZM180-180h160v-160H180v160Zm440 0h160v-160H620v160Z\"/>\n",
       "  </svg>\n",
       "    </button>\n",
       "\n",
       "  <style>\n",
       "    .colab-df-container {\n",
       "      display:flex;\n",
       "      gap: 12px;\n",
       "    }\n",
       "\n",
       "    .colab-df-convert {\n",
       "      background-color: #E8F0FE;\n",
       "      border: none;\n",
       "      border-radius: 50%;\n",
       "      cursor: pointer;\n",
       "      display: none;\n",
       "      fill: #1967D2;\n",
       "      height: 32px;\n",
       "      padding: 0 0 0 0;\n",
       "      width: 32px;\n",
       "    }\n",
       "\n",
       "    .colab-df-convert:hover {\n",
       "      background-color: #E2EBFA;\n",
       "      box-shadow: 0px 1px 2px rgba(60, 64, 67, 0.3), 0px 1px 3px 1px rgba(60, 64, 67, 0.15);\n",
       "      fill: #174EA6;\n",
       "    }\n",
       "\n",
       "    .colab-df-buttons div {\n",
       "      margin-bottom: 4px;\n",
       "    }\n",
       "\n",
       "    [theme=dark] .colab-df-convert {\n",
       "      background-color: #3B4455;\n",
       "      fill: #D2E3FC;\n",
       "    }\n",
       "\n",
       "    [theme=dark] .colab-df-convert:hover {\n",
       "      background-color: #434B5C;\n",
       "      box-shadow: 0px 1px 3px 1px rgba(0, 0, 0, 0.15);\n",
       "      filter: drop-shadow(0px 1px 2px rgba(0, 0, 0, 0.3));\n",
       "      fill: #FFFFFF;\n",
       "    }\n",
       "  </style>\n",
       "\n",
       "    <script>\n",
       "      const buttonEl =\n",
       "        document.querySelector('#df-7e60e52c-76af-484d-b072-45a71c09a14f button.colab-df-convert');\n",
       "      buttonEl.style.display =\n",
       "        google.colab.kernel.accessAllowed ? 'block' : 'none';\n",
       "\n",
       "      async function convertToInteractive(key) {\n",
       "        const element = document.querySelector('#df-7e60e52c-76af-484d-b072-45a71c09a14f');\n",
       "        const dataTable =\n",
       "          await google.colab.kernel.invokeFunction('convertToInteractive',\n",
       "                                                    [key], {});\n",
       "        if (!dataTable) return;\n",
       "\n",
       "        const docLinkHtml = 'Like what you see? Visit the ' +\n",
       "          '<a target=\"_blank\" href=https://colab.research.google.com/notebooks/data_table.ipynb>data table notebook</a>'\n",
       "          + ' to learn more about interactive tables.';\n",
       "        element.innerHTML = '';\n",
       "        dataTable['output_type'] = 'display_data';\n",
       "        await google.colab.output.renderOutput(dataTable, element);\n",
       "        const docLink = document.createElement('div');\n",
       "        docLink.innerHTML = docLinkHtml;\n",
       "        element.appendChild(docLink);\n",
       "      }\n",
       "    </script>\n",
       "  </div>\n",
       "\n",
       "\n",
       "<div id=\"df-f4d732d3-d0f1-4e40-9d1d-8a3dcc09a177\">\n",
       "  <button class=\"colab-df-quickchart\" onclick=\"quickchart('df-f4d732d3-d0f1-4e40-9d1d-8a3dcc09a177')\"\n",
       "            title=\"Suggest charts\"\n",
       "            style=\"display:none;\">\n",
       "\n",
       "<svg xmlns=\"http://www.w3.org/2000/svg\" height=\"24px\"viewBox=\"0 0 24 24\"\n",
       "     width=\"24px\">\n",
       "    <g>\n",
       "        <path d=\"M19 3H5c-1.1 0-2 .9-2 2v14c0 1.1.9 2 2 2h14c1.1 0 2-.9 2-2V5c0-1.1-.9-2-2-2zM9 17H7v-7h2v7zm4 0h-2V7h2v10zm4 0h-2v-4h2v4z\"/>\n",
       "    </g>\n",
       "</svg>\n",
       "  </button>\n",
       "\n",
       "<style>\n",
       "  .colab-df-quickchart {\n",
       "      --bg-color: #E8F0FE;\n",
       "      --fill-color: #1967D2;\n",
       "      --hover-bg-color: #E2EBFA;\n",
       "      --hover-fill-color: #174EA6;\n",
       "      --disabled-fill-color: #AAA;\n",
       "      --disabled-bg-color: #DDD;\n",
       "  }\n",
       "\n",
       "  [theme=dark] .colab-df-quickchart {\n",
       "      --bg-color: #3B4455;\n",
       "      --fill-color: #D2E3FC;\n",
       "      --hover-bg-color: #434B5C;\n",
       "      --hover-fill-color: #FFFFFF;\n",
       "      --disabled-bg-color: #3B4455;\n",
       "      --disabled-fill-color: #666;\n",
       "  }\n",
       "\n",
       "  .colab-df-quickchart {\n",
       "    background-color: var(--bg-color);\n",
       "    border: none;\n",
       "    border-radius: 50%;\n",
       "    cursor: pointer;\n",
       "    display: none;\n",
       "    fill: var(--fill-color);\n",
       "    height: 32px;\n",
       "    padding: 0;\n",
       "    width: 32px;\n",
       "  }\n",
       "\n",
       "  .colab-df-quickchart:hover {\n",
       "    background-color: var(--hover-bg-color);\n",
       "    box-shadow: 0 1px 2px rgba(60, 64, 67, 0.3), 0 1px 3px 1px rgba(60, 64, 67, 0.15);\n",
       "    fill: var(--button-hover-fill-color);\n",
       "  }\n",
       "\n",
       "  .colab-df-quickchart-complete:disabled,\n",
       "  .colab-df-quickchart-complete:disabled:hover {\n",
       "    background-color: var(--disabled-bg-color);\n",
       "    fill: var(--disabled-fill-color);\n",
       "    box-shadow: none;\n",
       "  }\n",
       "\n",
       "  .colab-df-spinner {\n",
       "    border: 2px solid var(--fill-color);\n",
       "    border-color: transparent;\n",
       "    border-bottom-color: var(--fill-color);\n",
       "    animation:\n",
       "      spin 1s steps(1) infinite;\n",
       "  }\n",
       "\n",
       "  @keyframes spin {\n",
       "    0% {\n",
       "      border-color: transparent;\n",
       "      border-bottom-color: var(--fill-color);\n",
       "      border-left-color: var(--fill-color);\n",
       "    }\n",
       "    20% {\n",
       "      border-color: transparent;\n",
       "      border-left-color: var(--fill-color);\n",
       "      border-top-color: var(--fill-color);\n",
       "    }\n",
       "    30% {\n",
       "      border-color: transparent;\n",
       "      border-left-color: var(--fill-color);\n",
       "      border-top-color: var(--fill-color);\n",
       "      border-right-color: var(--fill-color);\n",
       "    }\n",
       "    40% {\n",
       "      border-color: transparent;\n",
       "      border-right-color: var(--fill-color);\n",
       "      border-top-color: var(--fill-color);\n",
       "    }\n",
       "    60% {\n",
       "      border-color: transparent;\n",
       "      border-right-color: var(--fill-color);\n",
       "    }\n",
       "    80% {\n",
       "      border-color: transparent;\n",
       "      border-right-color: var(--fill-color);\n",
       "      border-bottom-color: var(--fill-color);\n",
       "    }\n",
       "    90% {\n",
       "      border-color: transparent;\n",
       "      border-bottom-color: var(--fill-color);\n",
       "    }\n",
       "  }\n",
       "</style>\n",
       "\n",
       "  <script>\n",
       "    async function quickchart(key) {\n",
       "      const quickchartButtonEl =\n",
       "        document.querySelector('#' + key + ' button');\n",
       "      quickchartButtonEl.disabled = true;  // To prevent multiple clicks.\n",
       "      quickchartButtonEl.classList.add('colab-df-spinner');\n",
       "      try {\n",
       "        const charts = await google.colab.kernel.invokeFunction(\n",
       "            'suggestCharts', [key], {});\n",
       "      } catch (error) {\n",
       "        console.error('Error during call to suggestCharts:', error);\n",
       "      }\n",
       "      quickchartButtonEl.classList.remove('colab-df-spinner');\n",
       "      quickchartButtonEl.classList.add('colab-df-quickchart-complete');\n",
       "    }\n",
       "    (() => {\n",
       "      let quickchartButtonEl =\n",
       "        document.querySelector('#df-f4d732d3-d0f1-4e40-9d1d-8a3dcc09a177 button');\n",
       "      quickchartButtonEl.style.display =\n",
       "        google.colab.kernel.accessAllowed ? 'block' : 'none';\n",
       "    })();\n",
       "  </script>\n",
       "</div>\n",
       "\n",
       "  <div id=\"id_479a58db-9d1a-4f35-a722-897669e17e13\">\n",
       "    <style>\n",
       "      .colab-df-generate {\n",
       "        background-color: #E8F0FE;\n",
       "        border: none;\n",
       "        border-radius: 50%;\n",
       "        cursor: pointer;\n",
       "        display: none;\n",
       "        fill: #1967D2;\n",
       "        height: 32px;\n",
       "        padding: 0 0 0 0;\n",
       "        width: 32px;\n",
       "      }\n",
       "\n",
       "      .colab-df-generate:hover {\n",
       "        background-color: #E2EBFA;\n",
       "        box-shadow: 0px 1px 2px rgba(60, 64, 67, 0.3), 0px 1px 3px 1px rgba(60, 64, 67, 0.15);\n",
       "        fill: #174EA6;\n",
       "      }\n",
       "\n",
       "      [theme=dark] .colab-df-generate {\n",
       "        background-color: #3B4455;\n",
       "        fill: #D2E3FC;\n",
       "      }\n",
       "\n",
       "      [theme=dark] .colab-df-generate:hover {\n",
       "        background-color: #434B5C;\n",
       "        box-shadow: 0px 1px 3px 1px rgba(0, 0, 0, 0.15);\n",
       "        filter: drop-shadow(0px 1px 2px rgba(0, 0, 0, 0.3));\n",
       "        fill: #FFFFFF;\n",
       "      }\n",
       "    </style>\n",
       "    <button class=\"colab-df-generate\" onclick=\"generateWithVariable('df')\"\n",
       "            title=\"Generate code using this dataframe.\"\n",
       "            style=\"display:none;\">\n",
       "\n",
       "  <svg xmlns=\"http://www.w3.org/2000/svg\" height=\"24px\"viewBox=\"0 0 24 24\"\n",
       "       width=\"24px\">\n",
       "    <path d=\"M7,19H8.4L18.45,9,17,7.55,7,17.6ZM5,21V16.75L18.45,3.32a2,2,0,0,1,2.83,0l1.4,1.43a1.91,1.91,0,0,1,.58,1.4,1.91,1.91,0,0,1-.58,1.4L9.25,21ZM18.45,9,17,7.55Zm-12,3A5.31,5.31,0,0,0,4.9,8.1,5.31,5.31,0,0,0,1,6.5,5.31,5.31,0,0,0,4.9,4.9,5.31,5.31,0,0,0,6.5,1,5.31,5.31,0,0,0,8.1,4.9,5.31,5.31,0,0,0,12,6.5,5.46,5.46,0,0,0,6.5,12Z\"/>\n",
       "  </svg>\n",
       "    </button>\n",
       "    <script>\n",
       "      (() => {\n",
       "      const buttonEl =\n",
       "        document.querySelector('#id_479a58db-9d1a-4f35-a722-897669e17e13 button.colab-df-generate');\n",
       "      buttonEl.style.display =\n",
       "        google.colab.kernel.accessAllowed ? 'block' : 'none';\n",
       "\n",
       "      buttonEl.onclick = () => {\n",
       "        google.colab.notebook.generateWithVariable('df');\n",
       "      }\n",
       "      })();\n",
       "    </script>\n",
       "  </div>\n",
       "\n",
       "    </div>\n",
       "  </div>\n"
      ],
      "text/plain": [
       "                                                  title  \\\n",
       "0     에어팟프로1세대를 계속 사용 했으나 배터리 빠른 소모로 인해 2세대로 교체 했습니다...   \n",
       "1     &lt;새로운 것과 좋았던 것의 균형감&gt;1. 노이즈 캔슬링에어팟 1세대 대비 ...   \n",
       "2     번개 같은 빠름으로? 사전예약 후 지난 10월 21일 수령해서 지금까지 한달 넘게 ...   \n",
       "3     먼저 빠른배송 감사합니다. 21일 12시에 받고 현재 2시간동안 귀에서 빼지않고있습...   \n",
       "4     에어팟 프로 2세대 구매&amp; 사용 후기 1. 가격&amp;배송    우선 애플...   \n",
       "...                                                 ...   \n",
       "5991                                         늘 쓰는 상품이에요   \n",
       "5992            또 주문했어요 근데 이번에는 좀 바꼈네요?? 처음본 로고가 있네요 ㅎㅎ   \n",
       "5993                 오랜만에 미엘 물티슈~가격대비 물디슈평량 용량 대비만족입니다!   \n",
       "5994                                          쓰기 편하고좋아요   \n",
       "5995    두번째 구매하고 쓰고있어요 수분도 많고 두께도 두꺼웠어 좋아요 .계속했어 쓰고싶어요.   \n",
       "\n",
       "                                                content   product  \\\n",
       "0     에어팟프로1세대를 계속 사용 했으나 배터리 빠른 소모로 인해 2세대로 교체 했습니다...  에어팟프로2세대   \n",
       "1     &lt;새로운 것과 좋았던 것의 균형감&gt;<br><br><br>1. 노이즈 캔슬...  에어팟프로2세대   \n",
       "2     번개 같은 빠름으로? 사전예약 후 지난 10월 21일 수령해서 지금까지 한달 넘게 ...  에어팟프로2세대   \n",
       "3     먼저 <em>빠른배송 감사합니다</em>. 21일 12시에 받고 현재 2시간동안 귀...  에어팟프로2세대   \n",
       "4     에어팟 프로 2세대 구매&amp; 사용 후기<br> 1. 가격&amp;배송<br> ...  에어팟프로2세대   \n",
       "...                                                 ...       ...   \n",
       "5991                                         늘 쓰는 상품이에요       물티슈   \n",
       "5992            또 주문했어요 근데 이번에는 좀 바꼈네요?? 처음본 로고가 있네요 ㅎㅎ       물티슈   \n",
       "5993         오랜만에 미엘 물티슈~<br>가격대비 물디슈평량 용량 대비<br>만족입니다!       물티슈   \n",
       "5994                                      쓰기 편하고<br>좋아요       물티슈   \n",
       "5995    두번째 구매하고 쓰고있어요 수분도 많고 두께도 두꺼웠어 좋아요 .계속했어 쓰고싶어요.       물티슈   \n",
       "\n",
       "          mallName                                           title_re  \\\n",
       "0     애플 공식 브랜드스토어  에어팟프로1세대를 계속 사용 했으나 배터리 빠른 소모로 인해 2세대로 교체 했습니다...   \n",
       "1     애플 공식 브랜드스토어   새로운 것과 좋았던 것의 균형감 1. 노이즈 캔슬링에어팟 1세대 대비 좋아진 것을...   \n",
       "2     애플 공식 브랜드스토어  번개 같은 빠름으로? 사전예약 후 지난 10월 21일 수령해서 지금까지 한달 넘게 ...   \n",
       "3     애플 공식 브랜드스토어  먼저 빠른배송 감사합니다. 21일 12시에 받고 현재 2시간동안 귀에서 빼지않고있습...   \n",
       "4     애플 공식 브랜드스토어  에어팟 프로 2세대 구매  사용 후기 1. 가격 배송    우선 애플 공식 인증 스...   \n",
       "...            ...                                                ...   \n",
       "5991         미엘물티슈                                         늘 쓰는 상품이에요   \n",
       "5992         미엘물티슈            또 주문했어요 근데 이번에는 좀 바꼈네요?? 처음본 로고가 있네요 ㅎㅎ   \n",
       "5993         미엘물티슈                 오랜만에 미엘 물티슈~가격대비 물디슈평량 용량 대비만족입니다!   \n",
       "5994         미엘물티슈                                          쓰기 편하고좋아요   \n",
       "5995         미엘물티슈    두번째 구매하고 쓰고있어요 수분도 많고 두께도 두꺼웠어 좋아요 .계속했어 쓰고싶어요.   \n",
       "\n",
       "                                             content_re  \n",
       "0     에어팟프로1세대를 계속 사용 했으나 배터리 빠른 소모로 인해 2세대로 교체 했습니다...  \n",
       "1      새로운 것과 좋았던 것의 균형감    1. 노이즈 캔슬링  에어팟 1세대 대비 좋...  \n",
       "2     번개 같은 빠름으로? 사전예약 후 지난 10월 21일 수령해서 지금까지 한달 넘게 ...  \n",
       "3     먼저  빠른배송 감사합니다 . 21일 12시에 받고 현재 2시간동안 귀에서 빼지않고...  \n",
       "4     에어팟 프로 2세대 구매  사용 후기  1. 가격 배송     우선  애플 공식 인...  \n",
       "...                                                 ...  \n",
       "5991                                         늘 쓰는 상품이에요  \n",
       "5992            또 주문했어요 근데 이번에는 좀 바꼈네요?? 처음본 로고가 있네요 ㅎㅎ  \n",
       "5993               오랜만에 미엘 물티슈~ 가격대비 물디슈평량 용량 대비 만족입니다!  \n",
       "5994                                         쓰기 편하고 좋아요  \n",
       "5995    두번째 구매하고 쓰고있어요 수분도 많고 두께도 두꺼웠어 좋아요 .계속했어 쓰고싶어요.  \n",
       "\n",
       "[5996 rows x 6 columns]"
      ]
     },
     "execution_count": 43,
     "metadata": {},
     "output_type": "execute_result"
    }
   ],
   "source": []
  },
  {
   "cell_type": "markdown",
   "metadata": {
    "id": "8TdiGZOyUj3B"
   },
   "source": [
    "### 벡터화"
   ]
  },
  {
   "cell_type": "code",
   "execution_count": null,
   "metadata": {
    "colab": {
     "base_uri": "https://localhost:8080/",
     "height": 75
    },
    "executionInfo": {
     "elapsed": 3,
     "status": "ok",
     "timestamp": 1718432382720,
     "user": {
      "displayName": "jinkyung park",
      "userId": "16415320267831525929"
     },
     "user_tz": -540
    },
    "id": "zBzJKo0mT7il",
    "outputId": "9fe2ba6b-ccce-4aa8-b04f-11a82a11d470"
   },
   "outputs": [
    {
     "data": {
      "text/html": [
       "<style>#sk-container-id-3 {color: black;background-color: white;}#sk-container-id-3 pre{padding: 0;}#sk-container-id-3 div.sk-toggleable {background-color: white;}#sk-container-id-3 label.sk-toggleable__label {cursor: pointer;display: block;width: 100%;margin-bottom: 0;padding: 0.3em;box-sizing: border-box;text-align: center;}#sk-container-id-3 label.sk-toggleable__label-arrow:before {content: \"▸\";float: left;margin-right: 0.25em;color: #696969;}#sk-container-id-3 label.sk-toggleable__label-arrow:hover:before {color: black;}#sk-container-id-3 div.sk-estimator:hover label.sk-toggleable__label-arrow:before {color: black;}#sk-container-id-3 div.sk-toggleable__content {max-height: 0;max-width: 0;overflow: hidden;text-align: left;background-color: #f0f8ff;}#sk-container-id-3 div.sk-toggleable__content pre {margin: 0.2em;color: black;border-radius: 0.25em;background-color: #f0f8ff;}#sk-container-id-3 input.sk-toggleable__control:checked~div.sk-toggleable__content {max-height: 200px;max-width: 100%;overflow: auto;}#sk-container-id-3 input.sk-toggleable__control:checked~label.sk-toggleable__label-arrow:before {content: \"▾\";}#sk-container-id-3 div.sk-estimator input.sk-toggleable__control:checked~label.sk-toggleable__label {background-color: #d4ebff;}#sk-container-id-3 div.sk-label input.sk-toggleable__control:checked~label.sk-toggleable__label {background-color: #d4ebff;}#sk-container-id-3 input.sk-hidden--visually {border: 0;clip: rect(1px 1px 1px 1px);clip: rect(1px, 1px, 1px, 1px);height: 1px;margin: -1px;overflow: hidden;padding: 0;position: absolute;width: 1px;}#sk-container-id-3 div.sk-estimator {font-family: monospace;background-color: #f0f8ff;border: 1px dotted black;border-radius: 0.25em;box-sizing: border-box;margin-bottom: 0.5em;}#sk-container-id-3 div.sk-estimator:hover {background-color: #d4ebff;}#sk-container-id-3 div.sk-parallel-item::after {content: \"\";width: 100%;border-bottom: 1px solid gray;flex-grow: 1;}#sk-container-id-3 div.sk-label:hover label.sk-toggleable__label {background-color: #d4ebff;}#sk-container-id-3 div.sk-serial::before {content: \"\";position: absolute;border-left: 1px solid gray;box-sizing: border-box;top: 0;bottom: 0;left: 50%;z-index: 0;}#sk-container-id-3 div.sk-serial {display: flex;flex-direction: column;align-items: center;background-color: white;padding-right: 0.2em;padding-left: 0.2em;position: relative;}#sk-container-id-3 div.sk-item {position: relative;z-index: 1;}#sk-container-id-3 div.sk-parallel {display: flex;align-items: stretch;justify-content: center;background-color: white;position: relative;}#sk-container-id-3 div.sk-item::before, #sk-container-id-3 div.sk-parallel-item::before {content: \"\";position: absolute;border-left: 1px solid gray;box-sizing: border-box;top: 0;bottom: 0;left: 50%;z-index: -1;}#sk-container-id-3 div.sk-parallel-item {display: flex;flex-direction: column;z-index: 1;position: relative;background-color: white;}#sk-container-id-3 div.sk-parallel-item:first-child::after {align-self: flex-end;width: 50%;}#sk-container-id-3 div.sk-parallel-item:last-child::after {align-self: flex-start;width: 50%;}#sk-container-id-3 div.sk-parallel-item:only-child::after {width: 0;}#sk-container-id-3 div.sk-dashed-wrapped {border: 1px dashed gray;margin: 0 0.4em 0.5em 0.4em;box-sizing: border-box;padding-bottom: 0.4em;background-color: white;}#sk-container-id-3 div.sk-label label {font-family: monospace;font-weight: bold;display: inline-block;line-height: 1.2em;}#sk-container-id-3 div.sk-label-container {text-align: center;}#sk-container-id-3 div.sk-container {/* jupyter's `normalize.less` sets `[hidden] { display: none; }` but bootstrap.min.css set `[hidden] { display: none !important; }` so we also need the `!important` here to be able to override the default hidden behavior on the sphinx rendered scikit-learn.org. See: https://github.com/scikit-learn/scikit-learn/issues/21755 */display: inline-block !important;position: relative;}#sk-container-id-3 div.sk-text-repr-fallback {display: none;}</style><div id=\"sk-container-id-3\" class=\"sk-top-container\"><div class=\"sk-text-repr-fallback\"><pre>TfidfVectorizer()</pre><b>In a Jupyter environment, please rerun this cell to show the HTML representation or trust the notebook. <br />On GitHub, the HTML representation is unable to render, please try loading this page with nbviewer.org.</b></div><div class=\"sk-container\" hidden><div class=\"sk-item\"><div class=\"sk-estimator sk-toggleable\"><input class=\"sk-toggleable__control sk-hidden--visually\" id=\"sk-estimator-id-3\" type=\"checkbox\" checked><label for=\"sk-estimator-id-3\" class=\"sk-toggleable__label sk-toggleable__label-arrow\">TfidfVectorizer</label><div class=\"sk-toggleable__content\"><pre>TfidfVectorizer()</pre></div></div></div></div></div>"
      ],
      "text/plain": [
       "TfidfVectorizer()"
      ]
     },
     "execution_count": 44,
     "metadata": {},
     "output_type": "execute_result"
    }
   ],
   "source": [
    "# TfidfVectorizer\n",
    "from sklearn.feature_extraction.text import TfidfVectorizer\n",
    "\n"
   ]
  },
  {
   "cell_type": "code",
   "execution_count": null,
   "metadata": {
    "colab": {
     "base_uri": "https://localhost:8080/"
    },
    "executionInfo": {
     "elapsed": 788,
     "status": "ok",
     "timestamp": 1718432387923,
     "user": {
      "displayName": "jinkyung park",
      "userId": "16415320267831525929"
     },
     "user_tz": -540
    },
    "id": "IrqstM5-T7f6",
    "outputId": "907b6c9d-f00c-4635-86be-3f27bc69f362"
   },
   "outputs": [
    {
     "data": {
      "text/plain": [
       "<5996x36719 sparse matrix of type '<class 'numpy.float64'>'\n",
       "\twith 118012 stored elements in Compressed Sparse Row format>"
      ]
     },
     "execution_count": 45,
     "metadata": {},
     "output_type": "execute_result"
    }
   ],
   "source": []
  },
  {
   "cell_type": "code",
   "execution_count": null,
   "metadata": {
    "colab": {
     "base_uri": "https://localhost:8080/"
    },
    "executionInfo": {
     "elapsed": 1541,
     "status": "ok",
     "timestamp": 1718432406912,
     "user": {
      "displayName": "jinkyung park",
      "userId": "16415320267831525929"
     },
     "user_tz": -540
    },
    "id": "3kA_jT-JZcqq",
    "outputId": "21a8a089-9d5e-492c-9689-f9454668416d"
   },
   "outputs": [
    {
     "data": {
      "text/plain": [
       "<5996x2000 sparse matrix of type '<class 'numpy.float64'>'\n",
       "\twith 66616 stored elements in Compressed Sparse Row format>"
      ]
     },
     "execution_count": 46,
     "metadata": {},
     "output_type": "execute_result"
    }
   ],
   "source": []
  },
  {
   "cell_type": "code",
   "execution_count": null,
   "metadata": {
    "colab": {
     "base_uri": "https://localhost:8080/",
     "height": 141
    },
    "executionInfo": {
     "elapsed": 342,
     "status": "ok",
     "timestamp": 1718432410072,
     "user": {
      "displayName": "jinkyung park",
      "userId": "16415320267831525929"
     },
     "user_tz": -540
    },
    "id": "QXE5Q4PKT7dA",
    "outputId": "22d4e6ff-8257-47e6-d532-6a042317dee3"
   },
   "outputs": [
    {
     "data": {
      "application/vnd.google.colaboratory.intrinsic+json": {
       "type": "dataframe",
       "variable_name": "df_dtm_tfidf"
      },
      "text/html": [
       "\n",
       "  <div id=\"df-0d9de984-0001-4696-84d5-a2dac07852dd\" class=\"colab-df-container\">\n",
       "    <div>\n",
       "<style scoped>\n",
       "    .dataframe tbody tr th:only-of-type {\n",
       "        vertical-align: middle;\n",
       "    }\n",
       "\n",
       "    .dataframe tbody tr th {\n",
       "        vertical-align: top;\n",
       "    }\n",
       "\n",
       "    .dataframe thead th {\n",
       "        text-align: right;\n",
       "    }\n",
       "</style>\n",
       "<table border=\"1\" class=\"dataframe\">\n",
       "  <thead>\n",
       "    <tr style=\"text-align: right;\">\n",
       "      <th></th>\n",
       "      <th>10</th>\n",
       "      <th>100</th>\n",
       "      <th>100매</th>\n",
       "      <th>100매라</th>\n",
       "      <th>100매에</th>\n",
       "      <th>10월</th>\n",
       "      <th>10팩</th>\n",
       "      <th>11번가</th>\n",
       "      <th>11번가에서</th>\n",
       "      <th>1년</th>\n",
       "      <th>...</th>\n",
       "      <th>회사</th>\n",
       "      <th>회사에서</th>\n",
       "      <th>회사에서도</th>\n",
       "      <th>효과</th>\n",
       "      <th>효과가</th>\n",
       "      <th>후기</th>\n",
       "      <th>후기가</th>\n",
       "      <th>후기보고</th>\n",
       "      <th>훨씬</th>\n",
       "      <th>흡수도</th>\n",
       "    </tr>\n",
       "  </thead>\n",
       "  <tbody>\n",
       "    <tr>\n",
       "      <th>0</th>\n",
       "      <td>0.079717</td>\n",
       "      <td>0.0</td>\n",
       "      <td>0.0</td>\n",
       "      <td>0.0</td>\n",
       "      <td>0.0</td>\n",
       "      <td>0.0</td>\n",
       "      <td>0.0</td>\n",
       "      <td>0.0</td>\n",
       "      <td>0.0</td>\n",
       "      <td>0.000000</td>\n",
       "      <td>...</td>\n",
       "      <td>0.000000</td>\n",
       "      <td>0.0</td>\n",
       "      <td>0.0</td>\n",
       "      <td>0.0</td>\n",
       "      <td>0.000000</td>\n",
       "      <td>0.0</td>\n",
       "      <td>0.0</td>\n",
       "      <td>0.0</td>\n",
       "      <td>0.0</td>\n",
       "      <td>0.0</td>\n",
       "    </tr>\n",
       "    <tr>\n",
       "      <th>1</th>\n",
       "      <td>0.000000</td>\n",
       "      <td>0.0</td>\n",
       "      <td>0.0</td>\n",
       "      <td>0.0</td>\n",
       "      <td>0.0</td>\n",
       "      <td>0.0</td>\n",
       "      <td>0.0</td>\n",
       "      <td>0.0</td>\n",
       "      <td>0.0</td>\n",
       "      <td>0.031413</td>\n",
       "      <td>...</td>\n",
       "      <td>0.029801</td>\n",
       "      <td>0.0</td>\n",
       "      <td>0.0</td>\n",
       "      <td>0.0</td>\n",
       "      <td>0.029062</td>\n",
       "      <td>0.0</td>\n",
       "      <td>0.0</td>\n",
       "      <td>0.0</td>\n",
       "      <td>0.0</td>\n",
       "      <td>0.0</td>\n",
       "    </tr>\n",
       "  </tbody>\n",
       "</table>\n",
       "<p>2 rows × 2000 columns</p>\n",
       "</div>\n",
       "    <div class=\"colab-df-buttons\">\n",
       "\n",
       "  <div class=\"colab-df-container\">\n",
       "    <button class=\"colab-df-convert\" onclick=\"convertToInteractive('df-0d9de984-0001-4696-84d5-a2dac07852dd')\"\n",
       "            title=\"Convert this dataframe to an interactive table.\"\n",
       "            style=\"display:none;\">\n",
       "\n",
       "  <svg xmlns=\"http://www.w3.org/2000/svg\" height=\"24px\" viewBox=\"0 -960 960 960\">\n",
       "    <path d=\"M120-120v-720h720v720H120Zm60-500h600v-160H180v160Zm220 220h160v-160H400v160Zm0 220h160v-160H400v160ZM180-400h160v-160H180v160Zm440 0h160v-160H620v160ZM180-180h160v-160H180v160Zm440 0h160v-160H620v160Z\"/>\n",
       "  </svg>\n",
       "    </button>\n",
       "\n",
       "  <style>\n",
       "    .colab-df-container {\n",
       "      display:flex;\n",
       "      gap: 12px;\n",
       "    }\n",
       "\n",
       "    .colab-df-convert {\n",
       "      background-color: #E8F0FE;\n",
       "      border: none;\n",
       "      border-radius: 50%;\n",
       "      cursor: pointer;\n",
       "      display: none;\n",
       "      fill: #1967D2;\n",
       "      height: 32px;\n",
       "      padding: 0 0 0 0;\n",
       "      width: 32px;\n",
       "    }\n",
       "\n",
       "    .colab-df-convert:hover {\n",
       "      background-color: #E2EBFA;\n",
       "      box-shadow: 0px 1px 2px rgba(60, 64, 67, 0.3), 0px 1px 3px 1px rgba(60, 64, 67, 0.15);\n",
       "      fill: #174EA6;\n",
       "    }\n",
       "\n",
       "    .colab-df-buttons div {\n",
       "      margin-bottom: 4px;\n",
       "    }\n",
       "\n",
       "    [theme=dark] .colab-df-convert {\n",
       "      background-color: #3B4455;\n",
       "      fill: #D2E3FC;\n",
       "    }\n",
       "\n",
       "    [theme=dark] .colab-df-convert:hover {\n",
       "      background-color: #434B5C;\n",
       "      box-shadow: 0px 1px 3px 1px rgba(0, 0, 0, 0.15);\n",
       "      filter: drop-shadow(0px 1px 2px rgba(0, 0, 0, 0.3));\n",
       "      fill: #FFFFFF;\n",
       "    }\n",
       "  </style>\n",
       "\n",
       "    <script>\n",
       "      const buttonEl =\n",
       "        document.querySelector('#df-0d9de984-0001-4696-84d5-a2dac07852dd button.colab-df-convert');\n",
       "      buttonEl.style.display =\n",
       "        google.colab.kernel.accessAllowed ? 'block' : 'none';\n",
       "\n",
       "      async function convertToInteractive(key) {\n",
       "        const element = document.querySelector('#df-0d9de984-0001-4696-84d5-a2dac07852dd');\n",
       "        const dataTable =\n",
       "          await google.colab.kernel.invokeFunction('convertToInteractive',\n",
       "                                                    [key], {});\n",
       "        if (!dataTable) return;\n",
       "\n",
       "        const docLinkHtml = 'Like what you see? Visit the ' +\n",
       "          '<a target=\"_blank\" href=https://colab.research.google.com/notebooks/data_table.ipynb>data table notebook</a>'\n",
       "          + ' to learn more about interactive tables.';\n",
       "        element.innerHTML = '';\n",
       "        dataTable['output_type'] = 'display_data';\n",
       "        await google.colab.output.renderOutput(dataTable, element);\n",
       "        const docLink = document.createElement('div');\n",
       "        docLink.innerHTML = docLinkHtml;\n",
       "        element.appendChild(docLink);\n",
       "      }\n",
       "    </script>\n",
       "  </div>\n",
       "\n",
       "\n",
       "<div id=\"df-25e3ee6a-edc4-4d82-af08-908b8aff60b9\">\n",
       "  <button class=\"colab-df-quickchart\" onclick=\"quickchart('df-25e3ee6a-edc4-4d82-af08-908b8aff60b9')\"\n",
       "            title=\"Suggest charts\"\n",
       "            style=\"display:none;\">\n",
       "\n",
       "<svg xmlns=\"http://www.w3.org/2000/svg\" height=\"24px\"viewBox=\"0 0 24 24\"\n",
       "     width=\"24px\">\n",
       "    <g>\n",
       "        <path d=\"M19 3H5c-1.1 0-2 .9-2 2v14c0 1.1.9 2 2 2h14c1.1 0 2-.9 2-2V5c0-1.1-.9-2-2-2zM9 17H7v-7h2v7zm4 0h-2V7h2v10zm4 0h-2v-4h2v4z\"/>\n",
       "    </g>\n",
       "</svg>\n",
       "  </button>\n",
       "\n",
       "<style>\n",
       "  .colab-df-quickchart {\n",
       "      --bg-color: #E8F0FE;\n",
       "      --fill-color: #1967D2;\n",
       "      --hover-bg-color: #E2EBFA;\n",
       "      --hover-fill-color: #174EA6;\n",
       "      --disabled-fill-color: #AAA;\n",
       "      --disabled-bg-color: #DDD;\n",
       "  }\n",
       "\n",
       "  [theme=dark] .colab-df-quickchart {\n",
       "      --bg-color: #3B4455;\n",
       "      --fill-color: #D2E3FC;\n",
       "      --hover-bg-color: #434B5C;\n",
       "      --hover-fill-color: #FFFFFF;\n",
       "      --disabled-bg-color: #3B4455;\n",
       "      --disabled-fill-color: #666;\n",
       "  }\n",
       "\n",
       "  .colab-df-quickchart {\n",
       "    background-color: var(--bg-color);\n",
       "    border: none;\n",
       "    border-radius: 50%;\n",
       "    cursor: pointer;\n",
       "    display: none;\n",
       "    fill: var(--fill-color);\n",
       "    height: 32px;\n",
       "    padding: 0;\n",
       "    width: 32px;\n",
       "  }\n",
       "\n",
       "  .colab-df-quickchart:hover {\n",
       "    background-color: var(--hover-bg-color);\n",
       "    box-shadow: 0 1px 2px rgba(60, 64, 67, 0.3), 0 1px 3px 1px rgba(60, 64, 67, 0.15);\n",
       "    fill: var(--button-hover-fill-color);\n",
       "  }\n",
       "\n",
       "  .colab-df-quickchart-complete:disabled,\n",
       "  .colab-df-quickchart-complete:disabled:hover {\n",
       "    background-color: var(--disabled-bg-color);\n",
       "    fill: var(--disabled-fill-color);\n",
       "    box-shadow: none;\n",
       "  }\n",
       "\n",
       "  .colab-df-spinner {\n",
       "    border: 2px solid var(--fill-color);\n",
       "    border-color: transparent;\n",
       "    border-bottom-color: var(--fill-color);\n",
       "    animation:\n",
       "      spin 1s steps(1) infinite;\n",
       "  }\n",
       "\n",
       "  @keyframes spin {\n",
       "    0% {\n",
       "      border-color: transparent;\n",
       "      border-bottom-color: var(--fill-color);\n",
       "      border-left-color: var(--fill-color);\n",
       "    }\n",
       "    20% {\n",
       "      border-color: transparent;\n",
       "      border-left-color: var(--fill-color);\n",
       "      border-top-color: var(--fill-color);\n",
       "    }\n",
       "    30% {\n",
       "      border-color: transparent;\n",
       "      border-left-color: var(--fill-color);\n",
       "      border-top-color: var(--fill-color);\n",
       "      border-right-color: var(--fill-color);\n",
       "    }\n",
       "    40% {\n",
       "      border-color: transparent;\n",
       "      border-right-color: var(--fill-color);\n",
       "      border-top-color: var(--fill-color);\n",
       "    }\n",
       "    60% {\n",
       "      border-color: transparent;\n",
       "      border-right-color: var(--fill-color);\n",
       "    }\n",
       "    80% {\n",
       "      border-color: transparent;\n",
       "      border-right-color: var(--fill-color);\n",
       "      border-bottom-color: var(--fill-color);\n",
       "    }\n",
       "    90% {\n",
       "      border-color: transparent;\n",
       "      border-bottom-color: var(--fill-color);\n",
       "    }\n",
       "  }\n",
       "</style>\n",
       "\n",
       "  <script>\n",
       "    async function quickchart(key) {\n",
       "      const quickchartButtonEl =\n",
       "        document.querySelector('#' + key + ' button');\n",
       "      quickchartButtonEl.disabled = true;  // To prevent multiple clicks.\n",
       "      quickchartButtonEl.classList.add('colab-df-spinner');\n",
       "      try {\n",
       "        const charts = await google.colab.kernel.invokeFunction(\n",
       "            'suggestCharts', [key], {});\n",
       "      } catch (error) {\n",
       "        console.error('Error during call to suggestCharts:', error);\n",
       "      }\n",
       "      quickchartButtonEl.classList.remove('colab-df-spinner');\n",
       "      quickchartButtonEl.classList.add('colab-df-quickchart-complete');\n",
       "    }\n",
       "    (() => {\n",
       "      let quickchartButtonEl =\n",
       "        document.querySelector('#df-25e3ee6a-edc4-4d82-af08-908b8aff60b9 button');\n",
       "      quickchartButtonEl.style.display =\n",
       "        google.colab.kernel.accessAllowed ? 'block' : 'none';\n",
       "    })();\n",
       "  </script>\n",
       "</div>\n",
       "\n",
       "    </div>\n",
       "  </div>\n"
      ],
      "text/plain": [
       "         10  100  100매  100매라  100매에  10월  10팩  11번가  11번가에서        1년  ...  \\\n",
       "0  0.079717  0.0   0.0    0.0    0.0  0.0  0.0   0.0     0.0  0.000000  ...   \n",
       "1  0.000000  0.0   0.0    0.0    0.0  0.0  0.0   0.0     0.0  0.031413  ...   \n",
       "\n",
       "         회사  회사에서  회사에서도   효과       효과가   후기  후기가  후기보고   훨씬  흡수도  \n",
       "0  0.000000   0.0    0.0  0.0  0.000000  0.0  0.0   0.0  0.0  0.0  \n",
       "1  0.029801   0.0    0.0  0.0  0.029062  0.0  0.0   0.0  0.0  0.0  \n",
       "\n",
       "[2 rows x 2000 columns]"
      ]
     },
     "execution_count": 47,
     "metadata": {},
     "output_type": "execute_result"
    }
   ],
   "source": []
  },
  {
   "cell_type": "code",
   "execution_count": null,
   "metadata": {
    "colab": {
     "base_uri": "https://localhost:8080/",
     "height": 329
    },
    "executionInfo": {
     "elapsed": 1086,
     "status": "ok",
     "timestamp": 1718432415723,
     "user": {
      "displayName": "jinkyung park",
      "userId": "16415320267831525929"
     },
     "user_tz": -540
    },
    "id": "miywl76rT7Zt",
    "outputId": "c5bda515-3d3b-408c-b53f-df82364eb9a6"
   },
   "outputs": [
    {
     "data": {
      "image/png": "[encoded data removed]",
      "text/plain": [
       "<Figure size 1500x300 with 1 Axes>"
      ]
     },
     "metadata": {},
     "output_type": "display_data"
    }
   ],
   "source": []
  },
  {
   "cell_type": "markdown",
   "metadata": {
    "id": "jrFJbqGvUqWt"
   },
   "source": [
    "### 군집화"
   ]
  },
  {
   "cell_type": "code",
   "execution_count": null,
   "metadata": {
    "colab": {
     "base_uri": "https://localhost:8080/"
    },
    "executionInfo": {
     "elapsed": 313,
     "status": "ok",
     "timestamp": 1718432421356,
     "user": {
      "displayName": "jinkyung park",
      "userId": "16415320267831525929"
     },
     "user_tz": -540
    },
    "id": "hP-Z38KKUrvr",
    "outputId": "a06ac541-391d-4594-facf-fcad99b974f9"
   },
   "outputs": [
    {
     "data": {
      "text/plain": [
       "array([[0.07971749, 0.        , 0.        , ..., 0.        , 0.        ,\n",
       "        0.        ],\n",
       "       [0.        , 0.        , 0.        , ..., 0.        , 0.        ,\n",
       "        0.        ],\n",
       "       [0.0489763 , 0.04505943, 0.        , ..., 0.        , 0.03694489,\n",
       "        0.        ],\n",
       "       ...,\n",
       "       [0.        , 0.        , 0.        , ..., 0.        , 0.        ,\n",
       "        0.        ],\n",
       "       [0.        , 0.        , 0.        , ..., 0.        , 0.        ,\n",
       "        0.        ],\n",
       "       [0.        , 0.        , 0.        , ..., 0.        , 0.        ,\n",
       "        0.        ]])"
      ]
     },
     "execution_count": 49,
     "metadata": {},
     "output_type": "execute_result"
    }
   ],
   "source": []
  },
  {
   "cell_type": "markdown",
   "metadata": {
    "id": "3yDPe5_ndIWX"
   },
   "source": [
    "#### 군집화 - 기본 개념 잡기"
   ]
  },
  {
   "cell_type": "code",
   "execution_count": null,
   "metadata": {
    "colab": {
     "base_uri": "https://localhost:8080/"
    },
    "executionInfo": {
     "elapsed": 3723,
     "status": "ok",
     "timestamp": 1718432428620,
     "user": {
      "displayName": "jinkyung park",
      "userId": "16415320267831525929"
     },
     "user_tz": -540
    },
    "id": "j_8bEvMSb_On",
    "outputId": "3c98f54a-732b-4a33-b005-a8afc3c11c03"
   },
   "outputs": [
    {
     "data": {
      "text/plain": [
       "0.009140328971464195"
      ]
     },
     "execution_count": 50,
     "metadata": {},
     "output_type": "execute_result"
    }
   ],
   "source": [
    "# 군집화\n",
    "\n"
   ]
  },
  {
   "cell_type": "markdown",
   "metadata": {
    "id": "iRNrRMJ0dOQ6"
   },
   "source": [
    "#### 군집화 - 적당한 n_cluster 를 찾기 위한 함수 작성"
   ]
  },
  {
   "cell_type": "code",
   "execution_count": null,
   "metadata": {
    "colab": {
     "base_uri": "https://localhost:8080/"
    },
    "executionInfo": {
     "elapsed": 89489,
     "status": "ok",
     "timestamp": 1718432560561,
     "user": {
      "displayName": "jinkyung park",
      "userId": "16415320267831525929"
     },
     "user_tz": -540
    },
    "id": "3IPUx0taUtko",
    "outputId": "b1b4f9e9-35f4-45d5-8031-8a549489ebc1"
   },
   "outputs": [
    {
     "name": "stderr",
     "output_type": "stream",
     "text": [
      "100%|██████████| 18/18 [01:29<00:00,  4.95s/it]\n"
     ]
    }
   ],
   "source": [
    "# KMeans(\n",
    "#     n_clusters=8,\n",
    "#     *,\n",
    "#     init='k-means++',\n",
    "#     n_init=10,\n",
    "#     max_iter=300,\n",
    "#     tol=0.0001,\n",
    "#     verbose=0,\n",
    "#     random_state=None,\n",
    "#     copy_x=True,\n",
    "#     algorithm='lloyd',\n",
    "# )\n",
    "\n"
   ]
  },
  {
   "cell_type": "code",
   "execution_count": null,
   "metadata": {
    "colab": {
     "base_uri": "https://localhost:8080/"
    },
    "collapsed": true,
    "executionInfo": {
     "elapsed": 319,
     "status": "ok",
     "timestamp": 1718432565581,
     "user": {
      "displayName": "jinkyung park",
      "userId": "16415320267831525929"
     },
     "user_tz": -540
    },
    "id": "OAp0tl8DUthf",
    "outputId": "58880e06-88ab-467c-a93a-ca33a3ae2601"
   },
   "outputs": [
    {
     "data": {
      "text/plain": [
       "[5818.642673124335,\n",
       " 5755.748594590277,\n",
       " 5732.88216016323,\n",
       " 5711.090083758756,\n",
       " 5687.713580814714,\n",
       " 5654.431152798685,\n",
       " 5633.715520659407,\n",
       " 5610.559176825029,\n",
       " 5591.219257656305,\n",
       " 5578.934187912623,\n",
       " 5563.982328390407,\n",
       " 5536.534873006478,\n",
       " 5524.8472222097735,\n",
       " 5503.1326856397645,\n",
       " 5494.994098246474,\n",
       " 5472.447742975504,\n",
       " 5444.581873758578,\n",
       " 5451.284560981844]"
      ]
     },
     "execution_count": 53,
     "metadata": {},
     "output_type": "execute_result"
    }
   ],
   "source": [
    "# 거리값 추출\n"
   ]
  },
  {
   "cell_type": "markdown",
   "metadata": {
    "id": "CHuPADWWUwJ-"
   },
   "source": [
    "## inertia 시각화\n",
    "\n",
    "### Elbow Method\n",
    "\n",
    "* Number of clusters\n",
    "* Within-Cluster Sum of Square"
   ]
  },
  {
   "cell_type": "code",
   "execution_count": null,
   "metadata": {
    "colab": {
     "base_uri": "https://localhost:8080/",
     "height": 407
    },
    "executionInfo": {
     "elapsed": 584,
     "status": "ok",
     "timestamp": 1718432574731,
     "user": {
      "displayName": "jinkyung park",
      "userId": "16415320267831525929"
     },
     "user_tz": -540
    },
    "id": "ng87zEouUteM",
    "outputId": "832f9ce9-a8f6-440a-c1ca-8b0ed8d2161f"
   },
   "outputs": [
    {
     "data": {
      "image/png": "[encoded data removed]",
      "text/plain": [
       "<Figure size 1500x400 with 1 Axes>"
      ]
     },
     "metadata": {},
     "output_type": "display_data"
    }
   ],
   "source": []
  },
  {
   "cell_type": "markdown",
   "metadata": {
    "id": "n2JlpTo7Uz7A"
   },
   "source": [
    "## Shilhouette Analysis(실루엣 분석)\n",
    "\n",
    "- 군집화 평가 방법으로 실루엣 분석(Shilhouette Analysis)이 있음.\n",
    "- 실루엣 분석은 각 군집 간의 거리가 얼마나 **효율적으로 분리**돼 있는지를 알 수 있음\n",
    "  - 다른 군집과의 거리는 떨어져 있고, 동일 군집끼리의 데이터는 서로 가깝게 잘 뭉쳐 있다는 의미\n",
    "  - 군집화가 잘 될수록 개별 군집은 비슷한 정도의 여유공간을 가지고 떨어져 있게 됨\n",
    "\n",
    "- 좋은 군집화가 되기 위한 기준 조건\n",
    "  - 전체 실루엣 계수의 평균값, 즉 사이킷런의 silhouette_score() 값은 -1~1 사이의 값을 가지며, 1에 가까울수록 좋다.\n",
    "  - 개별 군집의 실루엣 계수 평균값이 전체 실루엣 계수의 평균값에서 크게 벗어나지 않는 것이 중요하며 개별 군집의 평균값의 편차가 크지 않아야 함\n",
    "  - **전체 실루엣 계수의 평균값은 높지만, 특정 군집의 실루엣 계수 평균값만 유난히 높고 다른 군집들의 실루엣 계수 평균값은 낮으면 좋은 군집화 조건이 아님**\n",
    "\n",
    "\n",
    "* 좋은 군집화가 되기 위한 기준 조건\n",
    "    \n",
    "    * 하지만 전체 실루엣 계수의 평균값과 더불어 개별 군집의 평균값의 편차가 크지 않아야 합니다. 즉, 개별 군집의 실루엣 계수 평균값이 전체 실루엣 계수의 평균값에서 크게 벗어나지 않는 것이 중요합니다. 만약 전체 실루엣 계수의 평균값은 높지만, 특정 군집의 실루엣 계수 평균값만 유난히 높고 다른 군집들의 실루엣 계수 평균값은 낮으면 좋은 군집화 조건이 아닙니다.\n",
    "\n",
    "\n",
    "## Silhouette Score(실루엣 점수)\n",
    "\n",
    "* https://scikit-learn.org/stable/modules/clustering.html#silhouette-coefficient\n",
    "\n",
    "- 정답 레이블을 모르는 경우 모델 자체를 사용하여 평가 수행.\n",
    "- 실루엣 계수( sklearn.metrics.silhouette_score)는 이러한 평가의 한 예이며 실루엣 계수 점수가 높을수록 클러스터가 더 잘 정의된 모델과 관련됨.\n",
    "- 실루엣 계수는 각 샘플에 대해 정의되며 두 가지 점수로 구성\n",
    "  * a : 샘플과 동일한 클래스의 다른 모든 점 사이의 평균 거리.\n",
    "  * b : 표본과 다음으로 가장 가까운 군집 의 다른 모든 점 사이의 평균 거리\n",
    "  * 단일 샘플에 대한 실루엣 계수 s 는 다음과 같이 주어집니다.\n",
    "      * `s = (b-a)/max(a,b)`\n",
    "    \n",
    "\n",
    "* 사이킷런의 실루엣 분석 메서드\n",
    "\n",
    "* https://scikit-learn.org/stable/auto_examples/cluster/plot_kmeans_silhouette_analysis.html\n",
    "\n",
    "* `silhouette_samples(X, labels, metric='euclidean', **kwds)`: X feature 데이터 세트와 각 feature데이터 세트가 속한 군집 레이블 값인 labels데이터를 입력해주면 각 데이터 포인트의 실루엣 계수를 계산해 반환.\n",
    "* `silhouette_score(X, labels, metric='euclidean', sample_size=None, **kwds)`: 인자로 X feature데이터 세트와 각 feature 데이터 세트가 속한 레이블 값인 labels데이터를 입력해주면 전체 데이터의 실루엣 계수 값을 평균해 반환. 즉 np.mean(silhouette_samples())입니다. 일반적으로 이 값이 높을수록 군집화가 어느 정도 잘 됐다고 판단가능(단 무조건 이 값이 높다고 해서 군집화가 잘 됐다고 판단할 수는 없음.)\n",
    "\n",
    "* https://scikit-learn.org/stable/modules/generated/sklearn.metrics.silhouette_score.html#sklearn.metrics.silhouette_score\n"
   ]
  },
  {
   "cell_type": "code",
   "execution_count": null,
   "metadata": {
    "colab": {
     "base_uri": "https://localhost:8080/",
     "height": 407
    },
    "executionInfo": {
     "elapsed": 481,
     "status": "ok",
     "timestamp": 1718432587194,
     "user": {
      "displayName": "jinkyung park",
      "userId": "16415320267831525929"
     },
     "user_tz": -540
    },
    "id": "YiQxsMW_UtaG",
    "outputId": "44e24613-f5ba-442b-a5f7-ebbf794a9fe3"
   },
   "outputs": [
    {
     "data": {
      "image/png": "[encoded data removed]",
      "text/plain": [
       "<Figure size 1500x400 with 1 Axes>"
      ]
     },
     "metadata": {},
     "output_type": "display_data"
    }
   ],
   "source": []
  },
  {
   "cell_type": "markdown",
   "metadata": {
    "id": "xAHYjAQ2U7ga"
   },
   "source": [
    "### 클러스터의 수를 정해서 군집화\n",
    "- 앞에서 구한 inertia 와 ellbow(inertia와 다른 군집과의 거리 고려) 값을 이용해 적당한 클러스터 개수를 잡음\n"
   ]
  },
  {
   "cell_type": "code",
   "execution_count": null,
   "metadata": {
    "colab": {
     "base_uri": "https://localhost:8080/",
     "height": 75
    },
    "executionInfo": {
     "elapsed": 1295,
     "status": "ok",
     "timestamp": 1718435378152,
     "user": {
      "displayName": "jinkyung park",
      "userId": "16415320267831525929"
     },
     "user_tz": -540
    },
    "id": "4ps7-GtnU5Wf",
    "outputId": "4d2de7e1-9225-4f2d-acb0-9f00f3b91d17"
   },
   "outputs": [
    {
     "data": {
      "text/html": [
       "<style>#sk-container-id-5 {color: black;background-color: white;}#sk-container-id-5 pre{padding: 0;}#sk-container-id-5 div.sk-toggleable {background-color: white;}#sk-container-id-5 label.sk-toggleable__label {cursor: pointer;display: block;width: 100%;margin-bottom: 0;padding: 0.3em;box-sizing: border-box;text-align: center;}#sk-container-id-5 label.sk-toggleable__label-arrow:before {content: \"▸\";float: left;margin-right: 0.25em;color: #696969;}#sk-container-id-5 label.sk-toggleable__label-arrow:hover:before {color: black;}#sk-container-id-5 div.sk-estimator:hover label.sk-toggleable__label-arrow:before {color: black;}#sk-container-id-5 div.sk-toggleable__content {max-height: 0;max-width: 0;overflow: hidden;text-align: left;background-color: #f0f8ff;}#sk-container-id-5 div.sk-toggleable__content pre {margin: 0.2em;color: black;border-radius: 0.25em;background-color: #f0f8ff;}#sk-container-id-5 input.sk-toggleable__control:checked~div.sk-toggleable__content {max-height: 200px;max-width: 100%;overflow: auto;}#sk-container-id-5 input.sk-toggleable__control:checked~label.sk-toggleable__label-arrow:before {content: \"▾\";}#sk-container-id-5 div.sk-estimator input.sk-toggleable__control:checked~label.sk-toggleable__label {background-color: #d4ebff;}#sk-container-id-5 div.sk-label input.sk-toggleable__control:checked~label.sk-toggleable__label {background-color: #d4ebff;}#sk-container-id-5 input.sk-hidden--visually {border: 0;clip: rect(1px 1px 1px 1px);clip: rect(1px, 1px, 1px, 1px);height: 1px;margin: -1px;overflow: hidden;padding: 0;position: absolute;width: 1px;}#sk-container-id-5 div.sk-estimator {font-family: monospace;background-color: #f0f8ff;border: 1px dotted black;border-radius: 0.25em;box-sizing: border-box;margin-bottom: 0.5em;}#sk-container-id-5 div.sk-estimator:hover {background-color: #d4ebff;}#sk-container-id-5 div.sk-parallel-item::after {content: \"\";width: 100%;border-bottom: 1px solid gray;flex-grow: 1;}#sk-container-id-5 div.sk-label:hover label.sk-toggleable__label {background-color: #d4ebff;}#sk-container-id-5 div.sk-serial::before {content: \"\";position: absolute;border-left: 1px solid gray;box-sizing: border-box;top: 0;bottom: 0;left: 50%;z-index: 0;}#sk-container-id-5 div.sk-serial {display: flex;flex-direction: column;align-items: center;background-color: white;padding-right: 0.2em;padding-left: 0.2em;position: relative;}#sk-container-id-5 div.sk-item {position: relative;z-index: 1;}#sk-container-id-5 div.sk-parallel {display: flex;align-items: stretch;justify-content: center;background-color: white;position: relative;}#sk-container-id-5 div.sk-item::before, #sk-container-id-5 div.sk-parallel-item::before {content: \"\";position: absolute;border-left: 1px solid gray;box-sizing: border-box;top: 0;bottom: 0;left: 50%;z-index: -1;}#sk-container-id-5 div.sk-parallel-item {display: flex;flex-direction: column;z-index: 1;position: relative;background-color: white;}#sk-container-id-5 div.sk-parallel-item:first-child::after {align-self: flex-end;width: 50%;}#sk-container-id-5 div.sk-parallel-item:last-child::after {align-self: flex-start;width: 50%;}#sk-container-id-5 div.sk-parallel-item:only-child::after {width: 0;}#sk-container-id-5 div.sk-dashed-wrapped {border: 1px dashed gray;margin: 0 0.4em 0.5em 0.4em;box-sizing: border-box;padding-bottom: 0.4em;background-color: white;}#sk-container-id-5 div.sk-label label {font-family: monospace;font-weight: bold;display: inline-block;line-height: 1.2em;}#sk-container-id-5 div.sk-label-container {text-align: center;}#sk-container-id-5 div.sk-container {/* jupyter's `normalize.less` sets `[hidden] { display: none; }` but bootstrap.min.css set `[hidden] { display: none !important; }` so we also need the `!important` here to be able to override the default hidden behavior on the sphinx rendered scikit-learn.org. See: https://github.com/scikit-learn/scikit-learn/issues/21755 */display: inline-block !important;position: relative;}#sk-container-id-5 div.sk-text-repr-fallback {display: none;}</style><div id=\"sk-container-id-5\" class=\"sk-top-container\"><div class=\"sk-text-repr-fallback\"><pre>KMeans(n_init=&#x27;auto&#x27;, random_state=42)</pre><b>In a Jupyter environment, please rerun this cell to show the HTML representation or trust the notebook. <br />On GitHub, the HTML representation is unable to render, please try loading this page with nbviewer.org.</b></div><div class=\"sk-container\" hidden><div class=\"sk-item\"><div class=\"sk-estimator sk-toggleable\"><input class=\"sk-toggleable__control sk-hidden--visually\" id=\"sk-estimator-id-5\" type=\"checkbox\" checked><label for=\"sk-estimator-id-5\" class=\"sk-toggleable__label sk-toggleable__label-arrow\">KMeans</label><div class=\"sk-toggleable__content\"><pre>KMeans(n_init=&#x27;auto&#x27;, random_state=42)</pre></div></div></div></div></div>"
      ],
      "text/plain": [
       "KMeans(n_init='auto', random_state=42)"
      ]
     },
     "execution_count": 87,
     "metadata": {},
     "output_type": "execute_result"
    }
   ],
   "source": []
  },
  {
   "cell_type": "code",
   "execution_count": null,
   "metadata": {
    "colab": {
     "base_uri": "https://localhost:8080/"
    },
    "executionInfo": {
     "elapsed": 335,
     "status": "ok",
     "timestamp": 1718435380022,
     "user": {
      "displayName": "jinkyung park",
      "userId": "16415320267831525929"
     },
     "user_tz": -540
    },
    "id": "x7cPYTVwU5UF",
    "outputId": "401afc43-21a5-44de-b50d-e61cab0c8a32"
   },
   "outputs": [
    {
     "data": {
      "text/plain": [
       "1.0"
      ]
     },
     "execution_count": 88,
     "metadata": {},
     "output_type": "execute_result"
    }
   ],
   "source": []
  },
  {
   "cell_type": "code",
   "execution_count": null,
   "metadata": {
    "colab": {
     "base_uri": "https://localhost:8080/"
    },
    "executionInfo": {
     "elapsed": 2,
     "status": "ok",
     "timestamp": 1718435381498,
     "user": {
      "displayName": "jinkyung park",
      "userId": "16415320267831525929"
     },
     "user_tz": -540
    },
    "id": "JTdXq2kmpKjn",
    "outputId": "53ea4e49-2371-4a4d-9220-bb9f7f21ed9e"
   },
   "outputs": [
    {
     "data": {
      "text/plain": [
       "cluster\n",
       "4    3414\n",
       "3     568\n",
       "2     551\n",
       "5     385\n",
       "0     366\n",
       "1     340\n",
       "6     257\n",
       "7     115\n",
       "Name: count, dtype: int64"
      ]
     },
     "execution_count": 89,
     "metadata": {},
     "output_type": "execute_result"
    }
   ],
   "source": []
  },
  {
   "cell_type": "code",
   "execution_count": null,
   "metadata": {
    "colab": {
     "base_uri": "https://localhost:8080/"
    },
    "executionInfo": {
     "elapsed": 2720,
     "status": "ok",
     "timestamp": 1718435391103,
     "user": {
      "displayName": "jinkyung park",
      "userId": "16415320267831525929"
     },
     "user_tz": -540
    },
    "id": "jDsXxhWIU5RM",
    "outputId": "349b3acd-ed41-4136-d3a9-99ea4cb64b33"
   },
   "outputs": [
    {
     "data": {
      "text/plain": [
       "0.013523113855351793"
      ]
     },
     "execution_count": 90,
     "metadata": {},
     "output_type": "execute_result"
    }
   ],
   "source": [
    "# silhouette_score 구하기\n",
    "\n",
    "\n"
   ]
  },
  {
   "cell_type": "markdown",
   "metadata": {
    "id": "yNqXVw06VCem"
   },
   "source": [
    "### 실루엣 분석 시각화 - 군집화 얼마나 잘 됐니?\n",
    "* https://scikit-learn.org/stable/auto_examples/cluster/plot_kmeans_silhouette_analysis.html"
   ]
  },
  {
   "cell_type": "code",
   "execution_count": null,
   "metadata": {
    "colab": {
     "base_uri": "https://localhost:8080/",
     "height": 687
    },
    "executionInfo": {
     "elapsed": 5201,
     "status": "ok",
     "timestamp": 1718435399402,
     "user": {
      "displayName": "jinkyung park",
      "userId": "16415320267831525929"
     },
     "user_tz": -540
    },
    "id": "IFDTrpofU5OP",
    "outputId": "f8fa2c21-5132-4b48-d0bd-e5637fa904d3"
   },
   "outputs": [
    {
     "data": {
      "image/png": "[encoded data removed]",
      "text/plain": [
       "<Figure size 1800x700 with 2 Axes>"
      ]
     },
     "metadata": {},
     "output_type": "display_data"
    }
   ],
   "source": [
    "# https://scikit-learn.org/stable/auto_examples/cluster/plot_kmeans_silhouette_analysis.html\n",
    "from sklearn.metrics import silhouette_samples\n",
    "import matplotlib.cm as cm\n",
    "\n",
    "# Create a subplot with 1 row and 2 columns\n",
    "fig, (ax1, ax2) = plt.subplots(1, 2)\n",
    "fig.set_size_inches(18, 7)\n",
    "\n",
    "# The 1st subplot is the silhouette plot\n",
    "# The silhouette coefficient can range from -1, 1 but in this example all\n",
    "# lie within [-0.1, 1]\n",
    "ax1.set_xlim([-0.1, 1])\n",
    "# The (n_clusters+1)*10 is for inserting blank space between silhouette\n",
    "# plots of individual clusters, to demarcate them clearly.\n",
    "ax1.set_ylim([0, len(X) + (n_clusters + 1) * 10])\n",
    "\n",
    "cluster_labels = kmeans.labels_\n",
    "sample_silhouette_values = silhouette_samples(X, cluster_labels)\n",
    "\n",
    "y_lower = 10\n",
    "for i in range(n_clusters):\n",
    "    # Aggregate the silhouette scores for samples belonging to\n",
    "    # cluster i, and sort them\n",
    "    ith_cluster_silhouette_values = sample_silhouette_values[cluster_labels == i]\n",
    "\n",
    "    ith_cluster_silhouette_values.sort()\n",
    "\n",
    "    size_cluster_i = ith_cluster_silhouette_values.shape[0]\n",
    "    y_upper = y_lower + size_cluster_i\n",
    "\n",
    "    color = cm.nipy_spectral(float(i) / n_clusters)\n",
    "    ax1.fill_betweenx(\n",
    "        np.arange(y_lower, y_upper),\n",
    "        0,\n",
    "        ith_cluster_silhouette_values,\n",
    "        facecolor=color,\n",
    "        edgecolor=color,\n",
    "        alpha=0.7,\n",
    "    )\n",
    "\n",
    "    # Label the silhouette plots with their cluster numbers at the middle\n",
    "    ax1.text(-0.05, y_lower + 0.5 * size_cluster_i, str(i))\n",
    "\n",
    "    # Compute the new y_lower for next plot\n",
    "    y_lower = y_upper + 10  # 10 for the 0 samples\n",
    "\n",
    "ax1.set_title(\"The silhouette plot for the various clusters.\")\n",
    "ax1.set_xlabel(\"The silhouette coefficient values\")\n",
    "ax1.set_ylabel(\"Cluster label\")\n",
    "\n",
    "# The vertical line for average silhouette score of all the values\n",
    "ax1.axvline(x=silhouette_avg, color=\"red\", linestyle=\"--\")\n",
    "\n",
    "ax1.set_yticks([])  # Clear the yaxis labels / ticks\n",
    "ax1.set_xticks([-0.1, 0, 0.2, 0.4, 0.6, 0.8, 1])\n",
    "\n",
    "# 2nd Plot showing the actual clusters formed\n",
    "colors = cm.nipy_spectral(cluster_labels.astype(float) / n_clusters)\n",
    "ax2.scatter(\n",
    "    X[:, 0], X[:, 1], marker=\".\", s=30, lw=0, alpha=0.7, c=colors, edgecolor=\"k\"\n",
    ")\n",
    "\n",
    "# Labeling the clusters\n",
    "centers = kmeans.cluster_centers_\n",
    "# Draw white circles at cluster centers\n",
    "ax2.scatter(\n",
    "    centers[:, 0],\n",
    "    centers[:, 1],\n",
    "    marker=\"o\",\n",
    "    c=\"white\",\n",
    "    alpha=1,\n",
    "    s=200,\n",
    "    edgecolor=\"k\",\n",
    ")\n",
    "\n",
    "for i, c in enumerate(centers):\n",
    "    ax2.scatter(c[0], c[1], marker=\"$%d$\" % i, alpha=1, s=50, edgecolor=\"k\")\n",
    "\n",
    "ax2.set_title(\"The visualization of the clustered data.\")\n",
    "ax2.set_xlabel(\"Feature space for the 1st feature\")\n",
    "ax2.set_ylabel(\"Feature space for the 2nd feature\")\n",
    "\n",
    "plt.suptitle(\n",
    "    \"Silhouette analysis for KMeans clustering on sample data with n_clusters = %d\"\n",
    "    % n_clusters,\n",
    "    fontsize=14,\n",
    "    fontweight=\"bold\",\n",
    ")\n",
    "\n",
    "plt.show()"
   ]
  },
  {
   "cell_type": "markdown",
   "metadata": {
    "id": "pcS3Zb7zq8Gy"
   },
   "source": [
    "- 클러스터의 수를 4개로 하니 값은 0 에 가깝고, - 값 으로 가는 것도 있음\n",
    "- 0 에 가까우면 다른 군집과 겹치는 상태\n",
    "- 군집화를 할 때 고려해야 할 내용은 클러스터 수 + 입력된 텍스트도 중요함"
   ]
  },
  {
   "cell_type": "code",
   "execution_count": null,
   "metadata": {
    "id": "a1vsr4_2reTB"
   },
   "outputs": [],
   "source": []
  },
  {
   "cell_type": "markdown",
   "metadata": {
    "id": "ARmTH8XrVH2I"
   },
   "source": [
    "### 실제 제품과 군집 비교"
   ]
  },
  {
   "cell_type": "code",
   "execution_count": null,
   "metadata": {
    "colab": {
     "base_uri": "https://localhost:8080/",
     "height": 175
    },
    "executionInfo": {
     "elapsed": 347,
     "status": "ok",
     "timestamp": 1718435410908,
     "user": {
      "displayName": "jinkyung park",
      "userId": "16415320267831525929"
     },
     "user_tz": -540
    },
    "id": "otvAvlrCU5LG",
    "outputId": "5b15b78a-e85f-4ec5-c492-92acd13cc01d"
   },
   "outputs": [
    {
     "data": {
      "text/html": [
       "<style type=\"text/css\">\n",
       "#T_bb689_row0_col0, #T_bb689_row0_col1, #T_bb689_row0_col7, #T_bb689_row1_col0, #T_bb689_row2_col1, #T_bb689_row2_col7 {\n",
       "  background-color: #fff7fb;\n",
       "  color: #000000;\n",
       "}\n",
       "#T_bb689_row0_col2 {\n",
       "  background-color: #eee9f3;\n",
       "  color: #000000;\n",
       "}\n",
       "#T_bb689_row0_col3, #T_bb689_row1_col2, #T_bb689_row2_col3 {\n",
       "  background-color: #f2ecf5;\n",
       "  color: #000000;\n",
       "}\n",
       "#T_bb689_row0_col4 {\n",
       "  background-color: #023858;\n",
       "  color: #f1f1f1;\n",
       "}\n",
       "#T_bb689_row0_col5, #T_bb689_row0_col6 {\n",
       "  background-color: #f7f0f7;\n",
       "  color: #000000;\n",
       "}\n",
       "#T_bb689_row1_col1 {\n",
       "  background-color: #d7d6e9;\n",
       "  color: #000000;\n",
       "}\n",
       "#T_bb689_row1_col3 {\n",
       "  background-color: #dddbec;\n",
       "  color: #000000;\n",
       "}\n",
       "#T_bb689_row1_col4 {\n",
       "  background-color: #65a3cb;\n",
       "  color: #f1f1f1;\n",
       "}\n",
       "#T_bb689_row1_col5 {\n",
       "  background-color: #e6e2ef;\n",
       "  color: #000000;\n",
       "}\n",
       "#T_bb689_row1_col6 {\n",
       "  background-color: #f9f2f8;\n",
       "  color: #000000;\n",
       "}\n",
       "#T_bb689_row1_col7 {\n",
       "  background-color: #f4edf6;\n",
       "  color: #000000;\n",
       "}\n",
       "#T_bb689_row2_col0 {\n",
       "  background-color: #d2d3e7;\n",
       "  color: #000000;\n",
       "}\n",
       "#T_bb689_row2_col2 {\n",
       "  background-color: #e4e1ef;\n",
       "  color: #000000;\n",
       "}\n",
       "#T_bb689_row2_col4 {\n",
       "  background-color: #197db7;\n",
       "  color: #f1f1f1;\n",
       "}\n",
       "#T_bb689_row2_col5 {\n",
       "  background-color: #f8f1f8;\n",
       "  color: #000000;\n",
       "}\n",
       "#T_bb689_row2_col6 {\n",
       "  background-color: #f4eef6;\n",
       "  color: #000000;\n",
       "}\n",
       "</style>\n",
       "<table id=\"T_bb689\" class=\"dataframe\">\n",
       "  <thead>\n",
       "    <tr>\n",
       "      <th class=\"index_name level0\" >cluster</th>\n",
       "      <th id=\"T_bb689_level0_col0\" class=\"col_heading level0 col0\" >0</th>\n",
       "      <th id=\"T_bb689_level0_col1\" class=\"col_heading level0 col1\" >1</th>\n",
       "      <th id=\"T_bb689_level0_col2\" class=\"col_heading level0 col2\" >2</th>\n",
       "      <th id=\"T_bb689_level0_col3\" class=\"col_heading level0 col3\" >3</th>\n",
       "      <th id=\"T_bb689_level0_col4\" class=\"col_heading level0 col4\" >4</th>\n",
       "      <th id=\"T_bb689_level0_col5\" class=\"col_heading level0 col5\" >5</th>\n",
       "      <th id=\"T_bb689_level0_col6\" class=\"col_heading level0 col6\" >6</th>\n",
       "      <th id=\"T_bb689_level0_col7\" class=\"col_heading level0 col7\" >7</th>\n",
       "    </tr>\n",
       "    <tr>\n",
       "      <th class=\"index_name level0\" >product</th>\n",
       "      <th class=\"blank col0\" >&nbsp;</th>\n",
       "      <th class=\"blank col1\" >&nbsp;</th>\n",
       "      <th class=\"blank col2\" >&nbsp;</th>\n",
       "      <th class=\"blank col3\" >&nbsp;</th>\n",
       "      <th class=\"blank col4\" >&nbsp;</th>\n",
       "      <th class=\"blank col5\" >&nbsp;</th>\n",
       "      <th class=\"blank col6\" >&nbsp;</th>\n",
       "      <th class=\"blank col7\" >&nbsp;</th>\n",
       "    </tr>\n",
       "  </thead>\n",
       "  <tbody>\n",
       "    <tr>\n",
       "      <th id=\"T_bb689_level0_row0\" class=\"row_heading level0 row0\" >물티슈</th>\n",
       "      <td id=\"T_bb689_row0_col0\" class=\"data row0 col0\" >0</td>\n",
       "      <td id=\"T_bb689_row0_col1\" class=\"data row0 col1\" >0</td>\n",
       "      <td id=\"T_bb689_row0_col2\" class=\"data row0 col2\" >169</td>\n",
       "      <td id=\"T_bb689_row0_col3\" class=\"data row0 col3\" >134</td>\n",
       "      <td id=\"T_bb689_row0_col4\" class=\"data row0 col4\" >1532</td>\n",
       "      <td id=\"T_bb689_row0_col5\" class=\"data row0 col5\" >83</td>\n",
       "      <td id=\"T_bb689_row0_col6\" class=\"data row0 col6\" >82</td>\n",
       "      <td id=\"T_bb689_row0_col7\" class=\"data row0 col7\" >0</td>\n",
       "    </tr>\n",
       "    <tr>\n",
       "      <th id=\"T_bb689_level0_row1\" class=\"row_heading level0 row1\" >선크림</th>\n",
       "      <td id=\"T_bb689_row1_col0\" class=\"data row1 col0\" >0</td>\n",
       "      <td id=\"T_bb689_row1_col1\" class=\"data row1 col1\" >340</td>\n",
       "      <td id=\"T_bb689_row1_col2\" class=\"data row1 col2\" >134</td>\n",
       "      <td id=\"T_bb689_row1_col3\" class=\"data row1 col3\" >299</td>\n",
       "      <td id=\"T_bb689_row1_col4\" class=\"data row1 col4\" >813</td>\n",
       "      <td id=\"T_bb689_row1_col5\" class=\"data row1 col5\" >236</td>\n",
       "      <td id=\"T_bb689_row1_col6\" class=\"data row1 col6\" >62</td>\n",
       "      <td id=\"T_bb689_row1_col7\" class=\"data row1 col7\" >115</td>\n",
       "    </tr>\n",
       "    <tr>\n",
       "      <th id=\"T_bb689_level0_row2\" class=\"row_heading level0 row2\" >에어팟프로2세대</th>\n",
       "      <td id=\"T_bb689_row2_col0\" class=\"data row2 col0\" >366</td>\n",
       "      <td id=\"T_bb689_row2_col1\" class=\"data row2 col1\" >0</td>\n",
       "      <td id=\"T_bb689_row2_col2\" class=\"data row2 col2\" >248</td>\n",
       "      <td id=\"T_bb689_row2_col3\" class=\"data row2 col3\" >135</td>\n",
       "      <td id=\"T_bb689_row2_col4\" class=\"data row2 col4\" >1069</td>\n",
       "      <td id=\"T_bb689_row2_col5\" class=\"data row2 col5\" >66</td>\n",
       "      <td id=\"T_bb689_row2_col6\" class=\"data row2 col6\" >113</td>\n",
       "      <td id=\"T_bb689_row2_col7\" class=\"data row2 col7\" >0</td>\n",
       "    </tr>\n",
       "  </tbody>\n",
       "</table>\n"
      ],
      "text/plain": [
       "<pandas.io.formats.style.Styler at 0x7d065c5c98d0>"
      ]
     },
     "execution_count": 92,
     "metadata": {},
     "output_type": "execute_result"
    }
   ],
   "source": []
  },
  {
   "cell_type": "code",
   "execution_count": null,
   "metadata": {
    "colab": {
     "base_uri": "https://localhost:8080/",
     "height": 309
    },
    "executionInfo": {
     "elapsed": 839,
     "status": "ok",
     "timestamp": 1718435417487,
     "user": {
      "displayName": "jinkyung park",
      "userId": "16415320267831525929"
     },
     "user_tz": -540
    },
    "id": "WrwKRizVVLNg",
    "outputId": "8ac4f705-1151-4afd-8a96-ad89961325ed"
   },
   "outputs": [
    {
     "data": {
      "image/png": "[encoded data removed]",
      "text/plain": [
       "<Figure size 600x300 with 1 Axes>"
      ]
     },
     "metadata": {},
     "output_type": "display_data"
    }
   ],
   "source": [
    "# countplot\n"
   ]
  },
  {
   "cell_type": "code",
   "execution_count": null,
   "metadata": {
    "colab": {
     "base_uri": "https://localhost:8080/"
    },
    "executionInfo": {
     "elapsed": 316,
     "status": "ok",
     "timestamp": 1718435427480,
     "user": {
      "displayName": "jinkyung park",
      "userId": "16415320267831525929"
     },
     "user_tz": -540
    },
    "id": "FxIFiUegsMxE",
    "outputId": "b5a0b7c8-6408-45d9-a3ef-5deb9bc135d3"
   },
   "outputs": [
    {
     "data": {
      "text/plain": [
       "좋아요      79.579895\n",
       "만족합니다    68.276214\n",
       "물티슈      64.772385\n",
       "항상       59.269820\n",
       "좋네요      53.849187\n",
       "많이       50.994785\n",
       "쓰고       48.735330\n",
       "있어요      48.269754\n",
       "좋습니다     48.027744\n",
       "배송도      47.050367\n",
       "배송       45.702237\n",
       "저렴하게     45.626261\n",
       "같아요      44.375227\n",
       "아주       42.163758\n",
       "두께도      42.146401\n",
       "미엘       42.024120\n",
       "정말       41.248948\n",
       "가성비      40.892902\n",
       "최고예요     37.335814\n",
       "계속       36.618075\n",
       "dtype: float64"
      ]
     },
     "execution_count": 95,
     "metadata": {},
     "output_type": "execute_result"
    }
   ],
   "source": []
  },
  {
   "cell_type": "markdown",
   "metadata": {
    "id": "8sKlY-PZsMip"
   },
   "source": []
  },
  {
   "cell_type": "markdown",
   "metadata": {
    "id": "p3dXJ1hQVNH9"
   },
   "source": [
    "## 각 군집별 키워드 TF-IDF 값 합계 순위"
   ]
  },
  {
   "cell_type": "code",
   "execution_count": null,
   "metadata": {
    "id": "sUztuPdOVLJ2"
   },
   "outputs": [],
   "source": []
  },
  {
   "cell_type": "code",
   "execution_count": null,
   "metadata": {
    "colab": {
     "base_uri": "https://localhost:8080/",
     "height": 337
    },
    "executionInfo": {
     "elapsed": 1031,
     "status": "ok",
     "timestamp": 1718435069846,
     "user": {
      "displayName": "jinkyung park",
      "userId": "16415320267831525929"
     },
     "user_tz": -540
    },
    "id": "M33P2k91VLGk",
    "outputId": "2fc79321-3513-48ab-8b63-10c7cdda6612"
   },
   "outputs": [
    {
     "data": {
      "image/png": "[encoded data removed]",
      "text/plain": [
       "<Figure size 800x300 with 1 Axes>"
      ]
     },
     "metadata": {},
     "output_type": "display_data"
    }
   ],
   "source": [
    "# 군집별 TF-IDF 키워드 시각화\n"
   ]
  },
  {
   "cell_type": "code",
   "execution_count": null,
   "metadata": {
    "colab": {
     "base_uri": "https://localhost:8080/",
     "height": 329
    },
    "executionInfo": {
     "elapsed": 833,
     "status": "ok",
     "timestamp": 1718435071807,
     "user": {
      "displayName": "jinkyung park",
      "userId": "16415320267831525929"
     },
     "user_tz": -540
    },
    "id": "t4ujdSHRVRaK",
    "outputId": "1cd97e13-a102-49e4-bfca-e40e68c63cc5"
   },
   "outputs": [
    {
     "data": {
      "image/png": "[encoded data removed]",
      "text/plain": [
       "<Figure size 800x300 with 1 Axes>"
      ]
     },
     "metadata": {},
     "output_type": "display_data"
    }
   ],
   "source": []
  },
  {
   "cell_type": "code",
   "execution_count": null,
   "metadata": {
    "colab": {
     "base_uri": "https://localhost:8080/",
     "height": 329
    },
    "executionInfo": {
     "elapsed": 437,
     "status": "ok",
     "timestamp": 1718435072243,
     "user": {
      "displayName": "jinkyung park",
      "userId": "16415320267831525929"
     },
     "user_tz": -540
    },
    "id": "VUUggwxMVRWt",
    "outputId": "635a382e-c0e7-41b2-cffc-a6b942e65d8a"
   },
   "outputs": [
    {
     "data": {
      "image/png": "[encoded data removed]",
      "text/plain": [
       "<Figure size 800x300 with 1 Axes>"
      ]
     },
     "metadata": {},
     "output_type": "display_data"
    }
   ],
   "source": []
  },
  {
   "cell_type": "code",
   "execution_count": null,
   "metadata": {
    "colab": {
     "base_uri": "https://localhost:8080/",
     "height": 329
    },
    "executionInfo": {
     "elapsed": 613,
     "status": "ok",
     "timestamp": 1718435073557,
     "user": {
      "displayName": "jinkyung park",
      "userId": "16415320267831525929"
     },
     "user_tz": -540
    },
    "id": "Y8XNngRbVU7J",
    "outputId": "d955002b-200d-4240-ec0a-89a0b25c7a96"
   },
   "outputs": [
    {
     "data": {
      "image/png": "[encoded data removed]",
      "text/plain": [
       "<Figure size 800x300 with 1 Axes>"
      ]
     },
     "metadata": {},
     "output_type": "display_data"
    }
   ],
   "source": []
  },
  {
   "cell_type": "code",
   "execution_count": null,
   "metadata": {
    "id": "CmxwtdF2tXt3"
   },
   "outputs": [],
   "source": []
  }
 ],
 "metadata": {
  "colab": {
   "authorship_tag": "ABX9TyNDiExVMpdFeQnCDv/Iibty",
   "provenance": []
  },
  "kernelspec": {
   "display_name": "Python 3",
   "name": "python3"
  },
  "language_info": {
   "name": "python"
  }
 },
 "nbformat": 4,
 "nbformat_minor": 0
}
