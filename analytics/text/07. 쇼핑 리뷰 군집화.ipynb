{
 "cells": [
  {
   "cell_type": "code",
   "execution_count": 1,
   "metadata": {
    "id": "zC87fyvmTvby"
   },
   "outputs": [],
   "source": [
    "import pandas as pd\n",
    "import numpy as np\n",
    "import seaborn as sns\n",
    "import matplotlib.pyplot as plt\n",
    "import koreanize_matplotlib\n",
    "\n",
    "import plotly.express as px\n",
    "import plotly.graph_objects as go\n",
    "from plotly.subplots import make_subplots"
   ]
  },
  {
   "cell_type": "code",
   "execution_count": 2,
   "metadata": {
    "colab": {
     "base_uri": "https://localhost:8080/"
    },
    "executionInfo": {
     "elapsed": 336,
     "status": "ok",
     "timestamp": 1718432367254,
     "user": {
      "displayName": "jinkyung park",
      "userId": "16415320267831525929"
     },
     "user_tz": -540
    },
    "id": "3o7iH03HT7wG",
    "outputId": "e8d18740-a069-4a23-e1c0-426dc2584764"
   },
   "outputs": [
    {
     "data": {
      "text/plain": [
       "(5996, 4)"
      ]
     },
     "execution_count": 2,
     "metadata": {},
     "output_type": "execute_result"
    }
   ],
   "source": [
    "df = pd.read_csv(\"./shop-review.csv\")\n",
    "df.shape"
   ]
  },
  {
   "cell_type": "code",
   "execution_count": 3,
   "metadata": {
    "colab": {
     "base_uri": "https://localhost:8080/",
     "height": 206
    },
    "executionInfo": {
     "elapsed": 3,
     "status": "ok",
     "timestamp": 1718432368585,
     "user": {
      "displayName": "jinkyung park",
      "userId": "16415320267831525929"
     },
     "user_tz": -540
    },
    "id": "KKwtgdA3WrYU",
    "outputId": "00b81c40-d8ea-4852-9b52-4aa184008998"
   },
   "outputs": [
    {
     "data": {
      "text/html": [
       "<div>\n",
       "<style scoped>\n",
       "    .dataframe tbody tr th:only-of-type {\n",
       "        vertical-align: middle;\n",
       "    }\n",
       "\n",
       "    .dataframe tbody tr th {\n",
       "        vertical-align: top;\n",
       "    }\n",
       "\n",
       "    .dataframe thead th {\n",
       "        text-align: right;\n",
       "    }\n",
       "</style>\n",
       "<table border=\"1\" class=\"dataframe\">\n",
       "  <thead>\n",
       "    <tr style=\"text-align: right;\">\n",
       "      <th></th>\n",
       "      <th>title</th>\n",
       "      <th>content</th>\n",
       "      <th>product</th>\n",
       "      <th>mallName</th>\n",
       "    </tr>\n",
       "  </thead>\n",
       "  <tbody>\n",
       "    <tr>\n",
       "      <th>0</th>\n",
       "      <td>에어팟프로1세대를 계속 사용 했으나 배터리 빠른 소모로 인해 2세대로 교체 했습니다...</td>\n",
       "      <td>에어팟프로1세대를 계속 사용 했으나 배터리 빠른 소모로 인해 2세대로 교체 했습니다...</td>\n",
       "      <td>에어팟프로2세대</td>\n",
       "      <td>애플 공식 브랜드스토어</td>\n",
       "    </tr>\n",
       "    <tr>\n",
       "      <th>1</th>\n",
       "      <td>&amp;lt;새로운 것과 좋았던 것의 균형감&amp;gt;1. 노이즈 캔슬링에어팟 1세대 대비 ...</td>\n",
       "      <td>&amp;lt;새로운 것과 좋았던 것의 균형감&amp;gt;&lt;br&gt;&lt;br&gt;&lt;br&gt;1. 노이즈 캔슬...</td>\n",
       "      <td>에어팟프로2세대</td>\n",
       "      <td>애플 공식 브랜드스토어</td>\n",
       "    </tr>\n",
       "    <tr>\n",
       "      <th>2</th>\n",
       "      <td>번개 같은 빠름으로? 사전예약 후 지난 10월 21일 수령해서 지금까지 한달 넘게 ...</td>\n",
       "      <td>번개 같은 빠름으로? 사전예약 후 지난 10월 21일 수령해서 지금까지 한달 넘게 ...</td>\n",
       "      <td>에어팟프로2세대</td>\n",
       "      <td>애플 공식 브랜드스토어</td>\n",
       "    </tr>\n",
       "    <tr>\n",
       "      <th>3</th>\n",
       "      <td>먼저 빠른배송 감사합니다. 21일 12시에 받고 현재 2시간동안 귀에서 빼지않고있습...</td>\n",
       "      <td>먼저 &lt;em&gt;빠른배송 감사합니다&lt;/em&gt;. 21일 12시에 받고 현재 2시간동안 귀...</td>\n",
       "      <td>에어팟프로2세대</td>\n",
       "      <td>애플 공식 브랜드스토어</td>\n",
       "    </tr>\n",
       "    <tr>\n",
       "      <th>4</th>\n",
       "      <td>에어팟 프로 2세대 구매&amp;amp; 사용 후기 1. 가격&amp;amp;배송    우선 애플...</td>\n",
       "      <td>에어팟 프로 2세대 구매&amp;amp; 사용 후기&lt;br&gt; 1. 가격&amp;amp;배송&lt;br&gt; ...</td>\n",
       "      <td>에어팟프로2세대</td>\n",
       "      <td>애플 공식 브랜드스토어</td>\n",
       "    </tr>\n",
       "  </tbody>\n",
       "</table>\n",
       "</div>"
      ],
      "text/plain": [
       "                                               title  \\\n",
       "0  에어팟프로1세대를 계속 사용 했으나 배터리 빠른 소모로 인해 2세대로 교체 했습니다...   \n",
       "1  &lt;새로운 것과 좋았던 것의 균형감&gt;1. 노이즈 캔슬링에어팟 1세대 대비 ...   \n",
       "2  번개 같은 빠름으로? 사전예약 후 지난 10월 21일 수령해서 지금까지 한달 넘게 ...   \n",
       "3  먼저 빠른배송 감사합니다. 21일 12시에 받고 현재 2시간동안 귀에서 빼지않고있습...   \n",
       "4  에어팟 프로 2세대 구매&amp; 사용 후기 1. 가격&amp;배송    우선 애플...   \n",
       "\n",
       "                                             content   product      mallName  \n",
       "0  에어팟프로1세대를 계속 사용 했으나 배터리 빠른 소모로 인해 2세대로 교체 했습니다...  에어팟프로2세대  애플 공식 브랜드스토어  \n",
       "1  &lt;새로운 것과 좋았던 것의 균형감&gt;<br><br><br>1. 노이즈 캔슬...  에어팟프로2세대  애플 공식 브랜드스토어  \n",
       "2  번개 같은 빠름으로? 사전예약 후 지난 10월 21일 수령해서 지금까지 한달 넘게 ...  에어팟프로2세대  애플 공식 브랜드스토어  \n",
       "3  먼저 <em>빠른배송 감사합니다</em>. 21일 12시에 받고 현재 2시간동안 귀...  에어팟프로2세대  애플 공식 브랜드스토어  \n",
       "4  에어팟 프로 2세대 구매&amp; 사용 후기<br> 1. 가격&amp;배송<br> ...  에어팟프로2세대  애플 공식 브랜드스토어  "
      ]
     },
     "execution_count": 3,
     "metadata": {},
     "output_type": "execute_result"
    }
   ],
   "source": [
    "df.head()"
   ]
  },
  {
   "cell_type": "code",
   "execution_count": 5,
   "metadata": {
    "colab": {
     "base_uri": "https://localhost:8080/"
    },
    "executionInfo": {
     "elapsed": 1,
     "status": "ok",
     "timestamp": 1718432369519,
     "user": {
      "displayName": "jinkyung park",
      "userId": "16415320267831525929"
     },
     "user_tz": -540
    },
    "id": "A30q7dFZT7to",
    "outputId": "5bc019f5-6030-495b-bb89-c720b22cbe86"
   },
   "outputs": [
    {
     "data": {
      "text/plain": [
       "array(['에어팟프로2세대', '선크림', '물티슈'], dtype=object)"
      ]
     },
     "execution_count": 5,
     "metadata": {},
     "output_type": "execute_result"
    }
   ],
   "source": [
    "df['product'].unique()"
   ]
  },
  {
   "cell_type": "code",
   "execution_count": 6,
   "metadata": {
    "colab": {
     "base_uri": "https://localhost:8080/"
    },
    "executionInfo": {
     "elapsed": 1,
     "status": "ok",
     "timestamp": 1718432370352,
     "user": {
      "displayName": "jinkyung park",
      "userId": "16415320267831525929"
     },
     "user_tz": -540
    },
    "id": "gUbALWB7T7rA",
    "outputId": "508f3436-ed09-40e9-93f1-f3782d3d662b"
   },
   "outputs": [
    {
     "data": {
      "text/plain": [
       "product\n",
       "물티슈         2000\n",
       "선크림         1999\n",
       "에어팟프로2세대    1997\n",
       "Name: count, dtype: int64"
      ]
     },
     "execution_count": 6,
     "metadata": {},
     "output_type": "execute_result"
    }
   ],
   "source": [
    "df['product'].value_counts()"
   ]
  },
  {
   "cell_type": "code",
   "execution_count": null,
   "metadata": {
    "colab": {
     "base_uri": "https://localhost:8080/",
     "height": 447
    },
    "executionInfo": {
     "elapsed": 549,
     "status": "ok",
     "timestamp": 1718432372301,
     "user": {
      "displayName": "jinkyung park",
      "userId": "16415320267831525929"
     },
     "user_tz": -540
    },
    "id": "Zk4gqJnUT7oP",
    "outputId": "abb6fc53-f309-48e1-d710-2660c5cc8ff9"
   },
   "outputs": [
    {
     "data": {
      "text/plain": [
       "<Axes: xlabel='count', ylabel='product'>"
      ]
     },
     "execution_count": 8,
     "metadata": {},
     "output_type": "execute_result"
    },
    {
     "data": {
      "image/png": "[encoded data removed]",
      "text/plain": [
       "<Figure size 640x480 with 1 Axes>"
      ]
     },
     "metadata": {},
     "output_type": "display_data"
    }
   ],
   "source": [
    "# countplot : 개수를 굳이 사용하지 않아도 됨, 알아서 세 줌\n",
    "# sns.barplot() => 개수를 세서 넣어줘야 함\n",
    "\n",
    "sns.countplot(data=df, y='product', hue='product')"
   ]
  },
  {
   "cell_type": "markdown",
   "metadata": {
    "id": "cEg238V7Ugoz"
   },
   "source": [
    "### 전처리\n",
    "- HTML 태그와 엔티티 제거"
   ]
  },
  {
   "cell_type": "code",
   "execution_count": 9,
   "metadata": {
    "colab": {
     "base_uri": "https://localhost:8080/"
    },
    "executionInfo": {
     "elapsed": 315,
     "status": "ok",
     "timestamp": 1718432375361,
     "user": {
      "displayName": "jinkyung park",
      "userId": "16415320267831525929"
     },
     "user_tz": -540
    },
    "id": "2aVnYD0hXlP2",
    "outputId": "3309619a-377c-4615-a8e6-5f4eaa626575"
   },
   "outputs": [
    {
     "data": {
      "text/plain": [
       "0       에어팟프로1세대를 계속 사용 했으나 배터리 빠른 소모로 인해 2세대로 교체 했습니다...\n",
       "1       &lt;새로운 것과 좋았던 것의 균형감&gt;1. 노이즈 캔슬링에어팟 1세대 대비 ...\n",
       "2       번개 같은 빠름으로? 사전예약 후 지난 10월 21일 수령해서 지금까지 한달 넘게 ...\n",
       "3       먼저 빠른배송 감사합니다. 21일 12시에 받고 현재 2시간동안 귀에서 빼지않고있습...\n",
       "4       에어팟 프로 2세대 구매&amp; 사용 후기 1. 가격&amp;배송    우선 애플...\n",
       "                              ...                        \n",
       "5991                                           늘 쓰는 상품이에요\n",
       "5992              또 주문했어요 근데 이번에는 좀 바꼈네요?? 처음본 로고가 있네요 ㅎㅎ\n",
       "5993                   오랜만에 미엘 물티슈~가격대비 물디슈평량 용량 대비만족입니다!\n",
       "5994                                            쓰기 편하고좋아요\n",
       "5995      두번째 구매하고 쓰고있어요 수분도 많고 두께도 두꺼웠어 좋아요 .계속했어 쓰고싶어요.\n",
       "Name: title, Length: 5996, dtype: object"
      ]
     },
     "execution_count": 9,
     "metadata": {},
     "output_type": "execute_result"
    }
   ],
   "source": [
    "df['title']"
   ]
  },
  {
   "cell_type": "code",
   "execution_count": 10,
   "metadata": {
    "colab": {
     "base_uri": "https://localhost:8080/",
     "height": 562
    },
    "executionInfo": {
     "elapsed": 352,
     "status": "ok",
     "timestamp": 1718432377172,
     "user": {
      "displayName": "jinkyung park",
      "userId": "16415320267831525929"
     },
     "user_tz": -540
    },
    "id": "Z_rbrceMT7lU",
    "outputId": "6d3f6012-f77e-4fbe-821c-3805b7b92f99"
   },
   "outputs": [
    {
     "data": {
      "text/html": [
       "<div>\n",
       "<style scoped>\n",
       "    .dataframe tbody tr th:only-of-type {\n",
       "        vertical-align: middle;\n",
       "    }\n",
       "\n",
       "    .dataframe tbody tr th {\n",
       "        vertical-align: top;\n",
       "    }\n",
       "\n",
       "    .dataframe thead th {\n",
       "        text-align: right;\n",
       "    }\n",
       "</style>\n",
       "<table border=\"1\" class=\"dataframe\">\n",
       "  <thead>\n",
       "    <tr style=\"text-align: right;\">\n",
       "      <th></th>\n",
       "      <th>title</th>\n",
       "      <th>content</th>\n",
       "      <th>product</th>\n",
       "      <th>mallName</th>\n",
       "      <th>title_re</th>\n",
       "      <th>content_re</th>\n",
       "    </tr>\n",
       "  </thead>\n",
       "  <tbody>\n",
       "    <tr>\n",
       "      <th>0</th>\n",
       "      <td>에어팟프로1세대를 계속 사용 했으나 배터리 빠른 소모로 인해 2세대로 교체 했습니다...</td>\n",
       "      <td>에어팟프로1세대를 계속 사용 했으나 배터리 빠른 소모로 인해 2세대로 교체 했습니다...</td>\n",
       "      <td>에어팟프로2세대</td>\n",
       "      <td>애플 공식 브랜드스토어</td>\n",
       "      <td>에어팟프로1세대를 계속 사용 했으나 배터리 빠른 소모로 인해 2세대로 교체 했습니다...</td>\n",
       "      <td>에어팟프로1세대를 계속 사용 했으나 배터리 빠른 소모로 인해 2세대로 교체 했습니다...</td>\n",
       "    </tr>\n",
       "    <tr>\n",
       "      <th>1</th>\n",
       "      <td>&amp;lt;새로운 것과 좋았던 것의 균형감&amp;gt;1. 노이즈 캔슬링에어팟 1세대 대비 ...</td>\n",
       "      <td>&amp;lt;새로운 것과 좋았던 것의 균형감&amp;gt;&lt;br&gt;&lt;br&gt;&lt;br&gt;1. 노이즈 캔슬...</td>\n",
       "      <td>에어팟프로2세대</td>\n",
       "      <td>애플 공식 브랜드스토어</td>\n",
       "      <td>새로운 것과 좋았던 것의 균형감 1. 노이즈 캔슬링에어팟 1세대 대비 좋아진 것을...</td>\n",
       "      <td>새로운 것과 좋았던 것의 균형감    1. 노이즈 캔슬링  에어팟 1세대 대비 좋...</td>\n",
       "    </tr>\n",
       "    <tr>\n",
       "      <th>2</th>\n",
       "      <td>번개 같은 빠름으로? 사전예약 후 지난 10월 21일 수령해서 지금까지 한달 넘게 ...</td>\n",
       "      <td>번개 같은 빠름으로? 사전예약 후 지난 10월 21일 수령해서 지금까지 한달 넘게 ...</td>\n",
       "      <td>에어팟프로2세대</td>\n",
       "      <td>애플 공식 브랜드스토어</td>\n",
       "      <td>번개 같은 빠름으로? 사전예약 후 지난 10월 21일 수령해서 지금까지 한달 넘게 ...</td>\n",
       "      <td>번개 같은 빠름으로? 사전예약 후 지난 10월 21일 수령해서 지금까지 한달 넘게 ...</td>\n",
       "    </tr>\n",
       "    <tr>\n",
       "      <th>3</th>\n",
       "      <td>먼저 빠른배송 감사합니다. 21일 12시에 받고 현재 2시간동안 귀에서 빼지않고있습...</td>\n",
       "      <td>먼저 &lt;em&gt;빠른배송 감사합니다&lt;/em&gt;. 21일 12시에 받고 현재 2시간동안 귀...</td>\n",
       "      <td>에어팟프로2세대</td>\n",
       "      <td>애플 공식 브랜드스토어</td>\n",
       "      <td>먼저 빠른배송 감사합니다. 21일 12시에 받고 현재 2시간동안 귀에서 빼지않고있습...</td>\n",
       "      <td>먼저  빠른배송 감사합니다 . 21일 12시에 받고 현재 2시간동안 귀에서 빼지않고...</td>\n",
       "    </tr>\n",
       "    <tr>\n",
       "      <th>4</th>\n",
       "      <td>에어팟 프로 2세대 구매&amp;amp; 사용 후기 1. 가격&amp;amp;배송    우선 애플...</td>\n",
       "      <td>에어팟 프로 2세대 구매&amp;amp; 사용 후기&lt;br&gt; 1. 가격&amp;amp;배송&lt;br&gt; ...</td>\n",
       "      <td>에어팟프로2세대</td>\n",
       "      <td>애플 공식 브랜드스토어</td>\n",
       "      <td>에어팟 프로 2세대 구매  사용 후기 1. 가격 배송    우선 애플 공식 인증 스...</td>\n",
       "      <td>에어팟 프로 2세대 구매  사용 후기  1. 가격 배송     우선  애플 공식 인...</td>\n",
       "    </tr>\n",
       "    <tr>\n",
       "      <th>...</th>\n",
       "      <td>...</td>\n",
       "      <td>...</td>\n",
       "      <td>...</td>\n",
       "      <td>...</td>\n",
       "      <td>...</td>\n",
       "      <td>...</td>\n",
       "    </tr>\n",
       "    <tr>\n",
       "      <th>5991</th>\n",
       "      <td>늘 쓰는 상품이에요</td>\n",
       "      <td>늘 쓰는 상품이에요</td>\n",
       "      <td>물티슈</td>\n",
       "      <td>미엘물티슈</td>\n",
       "      <td>늘 쓰는 상품이에요</td>\n",
       "      <td>늘 쓰는 상품이에요</td>\n",
       "    </tr>\n",
       "    <tr>\n",
       "      <th>5992</th>\n",
       "      <td>또 주문했어요 근데 이번에는 좀 바꼈네요?? 처음본 로고가 있네요 ㅎㅎ</td>\n",
       "      <td>또 주문했어요 근데 이번에는 좀 바꼈네요?? 처음본 로고가 있네요 ㅎㅎ</td>\n",
       "      <td>물티슈</td>\n",
       "      <td>미엘물티슈</td>\n",
       "      <td>또 주문했어요 근데 이번에는 좀 바꼈네요?? 처음본 로고가 있네요 ㅎㅎ</td>\n",
       "      <td>또 주문했어요 근데 이번에는 좀 바꼈네요?? 처음본 로고가 있네요 ㅎㅎ</td>\n",
       "    </tr>\n",
       "    <tr>\n",
       "      <th>5993</th>\n",
       "      <td>오랜만에 미엘 물티슈~가격대비 물디슈평량 용량 대비만족입니다!</td>\n",
       "      <td>오랜만에 미엘 물티슈~&lt;br&gt;가격대비 물디슈평량 용량 대비&lt;br&gt;만족입니다!</td>\n",
       "      <td>물티슈</td>\n",
       "      <td>미엘물티슈</td>\n",
       "      <td>오랜만에 미엘 물티슈~가격대비 물디슈평량 용량 대비만족입니다!</td>\n",
       "      <td>오랜만에 미엘 물티슈~ 가격대비 물디슈평량 용량 대비 만족입니다!</td>\n",
       "    </tr>\n",
       "    <tr>\n",
       "      <th>5994</th>\n",
       "      <td>쓰기 편하고좋아요</td>\n",
       "      <td>쓰기 편하고&lt;br&gt;좋아요</td>\n",
       "      <td>물티슈</td>\n",
       "      <td>미엘물티슈</td>\n",
       "      <td>쓰기 편하고좋아요</td>\n",
       "      <td>쓰기 편하고 좋아요</td>\n",
       "    </tr>\n",
       "    <tr>\n",
       "      <th>5995</th>\n",
       "      <td>두번째 구매하고 쓰고있어요 수분도 많고 두께도 두꺼웠어 좋아요 .계속했어 쓰고싶어요.</td>\n",
       "      <td>두번째 구매하고 쓰고있어요 수분도 많고 두께도 두꺼웠어 좋아요 .계속했어 쓰고싶어요.</td>\n",
       "      <td>물티슈</td>\n",
       "      <td>미엘물티슈</td>\n",
       "      <td>두번째 구매하고 쓰고있어요 수분도 많고 두께도 두꺼웠어 좋아요 .계속했어 쓰고싶어요.</td>\n",
       "      <td>두번째 구매하고 쓰고있어요 수분도 많고 두께도 두꺼웠어 좋아요 .계속했어 쓰고싶어요.</td>\n",
       "    </tr>\n",
       "  </tbody>\n",
       "</table>\n",
       "<p>5996 rows × 6 columns</p>\n",
       "</div>"
      ],
      "text/plain": [
       "                                                  title  \\\n",
       "0     에어팟프로1세대를 계속 사용 했으나 배터리 빠른 소모로 인해 2세대로 교체 했습니다...   \n",
       "1     &lt;새로운 것과 좋았던 것의 균형감&gt;1. 노이즈 캔슬링에어팟 1세대 대비 ...   \n",
       "2     번개 같은 빠름으로? 사전예약 후 지난 10월 21일 수령해서 지금까지 한달 넘게 ...   \n",
       "3     먼저 빠른배송 감사합니다. 21일 12시에 받고 현재 2시간동안 귀에서 빼지않고있습...   \n",
       "4     에어팟 프로 2세대 구매&amp; 사용 후기 1. 가격&amp;배송    우선 애플...   \n",
       "...                                                 ...   \n",
       "5991                                         늘 쓰는 상품이에요   \n",
       "5992            또 주문했어요 근데 이번에는 좀 바꼈네요?? 처음본 로고가 있네요 ㅎㅎ   \n",
       "5993                 오랜만에 미엘 물티슈~가격대비 물디슈평량 용량 대비만족입니다!   \n",
       "5994                                          쓰기 편하고좋아요   \n",
       "5995    두번째 구매하고 쓰고있어요 수분도 많고 두께도 두꺼웠어 좋아요 .계속했어 쓰고싶어요.   \n",
       "\n",
       "                                                content   product  \\\n",
       "0     에어팟프로1세대를 계속 사용 했으나 배터리 빠른 소모로 인해 2세대로 교체 했습니다...  에어팟프로2세대   \n",
       "1     &lt;새로운 것과 좋았던 것의 균형감&gt;<br><br><br>1. 노이즈 캔슬...  에어팟프로2세대   \n",
       "2     번개 같은 빠름으로? 사전예약 후 지난 10월 21일 수령해서 지금까지 한달 넘게 ...  에어팟프로2세대   \n",
       "3     먼저 <em>빠른배송 감사합니다</em>. 21일 12시에 받고 현재 2시간동안 귀...  에어팟프로2세대   \n",
       "4     에어팟 프로 2세대 구매&amp; 사용 후기<br> 1. 가격&amp;배송<br> ...  에어팟프로2세대   \n",
       "...                                                 ...       ...   \n",
       "5991                                         늘 쓰는 상품이에요       물티슈   \n",
       "5992            또 주문했어요 근데 이번에는 좀 바꼈네요?? 처음본 로고가 있네요 ㅎㅎ       물티슈   \n",
       "5993         오랜만에 미엘 물티슈~<br>가격대비 물디슈평량 용량 대비<br>만족입니다!       물티슈   \n",
       "5994                                      쓰기 편하고<br>좋아요       물티슈   \n",
       "5995    두번째 구매하고 쓰고있어요 수분도 많고 두께도 두꺼웠어 좋아요 .계속했어 쓰고싶어요.       물티슈   \n",
       "\n",
       "          mallName                                           title_re  \\\n",
       "0     애플 공식 브랜드스토어  에어팟프로1세대를 계속 사용 했으나 배터리 빠른 소모로 인해 2세대로 교체 했습니다...   \n",
       "1     애플 공식 브랜드스토어   새로운 것과 좋았던 것의 균형감 1. 노이즈 캔슬링에어팟 1세대 대비 좋아진 것을...   \n",
       "2     애플 공식 브랜드스토어  번개 같은 빠름으로? 사전예약 후 지난 10월 21일 수령해서 지금까지 한달 넘게 ...   \n",
       "3     애플 공식 브랜드스토어  먼저 빠른배송 감사합니다. 21일 12시에 받고 현재 2시간동안 귀에서 빼지않고있습...   \n",
       "4     애플 공식 브랜드스토어  에어팟 프로 2세대 구매  사용 후기 1. 가격 배송    우선 애플 공식 인증 스...   \n",
       "...            ...                                                ...   \n",
       "5991         미엘물티슈                                         늘 쓰는 상품이에요   \n",
       "5992         미엘물티슈            또 주문했어요 근데 이번에는 좀 바꼈네요?? 처음본 로고가 있네요 ㅎㅎ   \n",
       "5993         미엘물티슈                 오랜만에 미엘 물티슈~가격대비 물디슈평량 용량 대비만족입니다!   \n",
       "5994         미엘물티슈                                          쓰기 편하고좋아요   \n",
       "5995         미엘물티슈    두번째 구매하고 쓰고있어요 수분도 많고 두께도 두꺼웠어 좋아요 .계속했어 쓰고싶어요.   \n",
       "\n",
       "                                             content_re  \n",
       "0     에어팟프로1세대를 계속 사용 했으나 배터리 빠른 소모로 인해 2세대로 교체 했습니다...  \n",
       "1      새로운 것과 좋았던 것의 균형감    1. 노이즈 캔슬링  에어팟 1세대 대비 좋...  \n",
       "2     번개 같은 빠름으로? 사전예약 후 지난 10월 21일 수령해서 지금까지 한달 넘게 ...  \n",
       "3     먼저  빠른배송 감사합니다 . 21일 12시에 받고 현재 2시간동안 귀에서 빼지않고...  \n",
       "4     에어팟 프로 2세대 구매  사용 후기  1. 가격 배송     우선  애플 공식 인...  \n",
       "...                                                 ...  \n",
       "5991                                         늘 쓰는 상품이에요  \n",
       "5992            또 주문했어요 근데 이번에는 좀 바꼈네요?? 처음본 로고가 있네요 ㅎㅎ  \n",
       "5993               오랜만에 미엘 물티슈~ 가격대비 물디슈평량 용량 대비 만족입니다!  \n",
       "5994                                         쓰기 편하고 좋아요  \n",
       "5995    두번째 구매하고 쓰고있어요 수분도 많고 두께도 두꺼웠어 좋아요 .계속했어 쓰고싶어요.  \n",
       "\n",
       "[5996 rows x 6 columns]"
      ]
     },
     "execution_count": 10,
     "metadata": {},
     "output_type": "execute_result"
    }
   ],
   "source": [
    "# 태그 제거 -> 정규식 이용\n",
    "# <.*?> -> <> 안에 어떤게 와도 대응 되게 하기 위해서 사용 / ? : 끝의 / 이거에 대응하기 위해서\n",
    "\n",
    "# & 제거\n",
    "# &lt; &amp; => & 로 시작해서 ; 으로 끝나는 의미를 가짐\n",
    "# [^;] : ; 는 제외한 (일반 세미콜론 제외)\n",
    "df['title_re'] = df['title'].str.replace(\"<.*?>|&[^;]+;\",\" \", regex=True)\n",
    "df['content_re'] = df['content'].str.replace(\"<.*?>|&[^;]+;\",\" \", regex=True)\n",
    "df"
   ]
  },
  {
   "cell_type": "markdown",
   "metadata": {
    "id": "8TdiGZOyUj3B"
   },
   "source": [
    "### 벡터화"
   ]
  },
  {
   "cell_type": "code",
   "execution_count": 11,
   "metadata": {
    "colab": {
     "base_uri": "https://localhost:8080/",
     "height": 75
    },
    "executionInfo": {
     "elapsed": 3,
     "status": "ok",
     "timestamp": 1718432382720,
     "user": {
      "displayName": "jinkyung park",
      "userId": "16415320267831525929"
     },
     "user_tz": -540
    },
    "id": "zBzJKo0mT7il",
    "outputId": "9fe2ba6b-ccce-4aa8-b04f-11a82a11d470"
   },
   "outputs": [
    {
     "data": {
      "text/html": [
       "<style>#sk-container-id-1 {\n",
       "  /* Definition of color scheme common for light and dark mode */\n",
       "  --sklearn-color-text: #000;\n",
       "  --sklearn-color-text-muted: #666;\n",
       "  --sklearn-color-line: gray;\n",
       "  /* Definition of color scheme for unfitted estimators */\n",
       "  --sklearn-color-unfitted-level-0: #fff5e6;\n",
       "  --sklearn-color-unfitted-level-1: #f6e4d2;\n",
       "  --sklearn-color-unfitted-level-2: #ffe0b3;\n",
       "  --sklearn-color-unfitted-level-3: chocolate;\n",
       "  /* Definition of color scheme for fitted estimators */\n",
       "  --sklearn-color-fitted-level-0: #f0f8ff;\n",
       "  --sklearn-color-fitted-level-1: #d4ebff;\n",
       "  --sklearn-color-fitted-level-2: #b3dbfd;\n",
       "  --sklearn-color-fitted-level-3: cornflowerblue;\n",
       "\n",
       "  /* Specific color for light theme */\n",
       "  --sklearn-color-text-on-default-background: var(--sg-text-color, var(--theme-code-foreground, var(--jp-content-font-color1, black)));\n",
       "  --sklearn-color-background: var(--sg-background-color, var(--theme-background, var(--jp-layout-color0, white)));\n",
       "  --sklearn-color-border-box: var(--sg-text-color, var(--theme-code-foreground, var(--jp-content-font-color1, black)));\n",
       "  --sklearn-color-icon: #696969;\n",
       "\n",
       "  @media (prefers-color-scheme: dark) {\n",
       "    /* Redefinition of color scheme for dark theme */\n",
       "    --sklearn-color-text-on-default-background: var(--sg-text-color, var(--theme-code-foreground, var(--jp-content-font-color1, white)));\n",
       "    --sklearn-color-background: var(--sg-background-color, var(--theme-background, var(--jp-layout-color0, #111)));\n",
       "    --sklearn-color-border-box: var(--sg-text-color, var(--theme-code-foreground, var(--jp-content-font-color1, white)));\n",
       "    --sklearn-color-icon: #878787;\n",
       "  }\n",
       "}\n",
       "\n",
       "#sk-container-id-1 {\n",
       "  color: var(--sklearn-color-text);\n",
       "}\n",
       "\n",
       "#sk-container-id-1 pre {\n",
       "  padding: 0;\n",
       "}\n",
       "\n",
       "#sk-container-id-1 input.sk-hidden--visually {\n",
       "  border: 0;\n",
       "  clip: rect(1px 1px 1px 1px);\n",
       "  clip: rect(1px, 1px, 1px, 1px);\n",
       "  height: 1px;\n",
       "  margin: -1px;\n",
       "  overflow: hidden;\n",
       "  padding: 0;\n",
       "  position: absolute;\n",
       "  width: 1px;\n",
       "}\n",
       "\n",
       "#sk-container-id-1 div.sk-dashed-wrapped {\n",
       "  border: 1px dashed var(--sklearn-color-line);\n",
       "  margin: 0 0.4em 0.5em 0.4em;\n",
       "  box-sizing: border-box;\n",
       "  padding-bottom: 0.4em;\n",
       "  background-color: var(--sklearn-color-background);\n",
       "}\n",
       "\n",
       "#sk-container-id-1 div.sk-container {\n",
       "  /* jupyter's `normalize.less` sets `[hidden] { display: none; }`\n",
       "     but bootstrap.min.css set `[hidden] { display: none !important; }`\n",
       "     so we also need the `!important` here to be able to override the\n",
       "     default hidden behavior on the sphinx rendered scikit-learn.org.\n",
       "     See: https://github.com/scikit-learn/scikit-learn/issues/21755 */\n",
       "  display: inline-block !important;\n",
       "  position: relative;\n",
       "}\n",
       "\n",
       "#sk-container-id-1 div.sk-text-repr-fallback {\n",
       "  display: none;\n",
       "}\n",
       "\n",
       "div.sk-parallel-item,\n",
       "div.sk-serial,\n",
       "div.sk-item {\n",
       "  /* draw centered vertical line to link estimators */\n",
       "  background-image: linear-gradient(var(--sklearn-color-text-on-default-background), var(--sklearn-color-text-on-default-background));\n",
       "  background-size: 2px 100%;\n",
       "  background-repeat: no-repeat;\n",
       "  background-position: center center;\n",
       "}\n",
       "\n",
       "/* Parallel-specific style estimator block */\n",
       "\n",
       "#sk-container-id-1 div.sk-parallel-item::after {\n",
       "  content: \"\";\n",
       "  width: 100%;\n",
       "  border-bottom: 2px solid var(--sklearn-color-text-on-default-background);\n",
       "  flex-grow: 1;\n",
       "}\n",
       "\n",
       "#sk-container-id-1 div.sk-parallel {\n",
       "  display: flex;\n",
       "  align-items: stretch;\n",
       "  justify-content: center;\n",
       "  background-color: var(--sklearn-color-background);\n",
       "  position: relative;\n",
       "}\n",
       "\n",
       "#sk-container-id-1 div.sk-parallel-item {\n",
       "  display: flex;\n",
       "  flex-direction: column;\n",
       "}\n",
       "\n",
       "#sk-container-id-1 div.sk-parallel-item:first-child::after {\n",
       "  align-self: flex-end;\n",
       "  width: 50%;\n",
       "}\n",
       "\n",
       "#sk-container-id-1 div.sk-parallel-item:last-child::after {\n",
       "  align-self: flex-start;\n",
       "  width: 50%;\n",
       "}\n",
       "\n",
       "#sk-container-id-1 div.sk-parallel-item:only-child::after {\n",
       "  width: 0;\n",
       "}\n",
       "\n",
       "/* Serial-specific style estimator block */\n",
       "\n",
       "#sk-container-id-1 div.sk-serial {\n",
       "  display: flex;\n",
       "  flex-direction: column;\n",
       "  align-items: center;\n",
       "  background-color: var(--sklearn-color-background);\n",
       "  padding-right: 1em;\n",
       "  padding-left: 1em;\n",
       "}\n",
       "\n",
       "\n",
       "/* Toggleable style: style used for estimator/Pipeline/ColumnTransformer box that is\n",
       "clickable and can be expanded/collapsed.\n",
       "- Pipeline and ColumnTransformer use this feature and define the default style\n",
       "- Estimators will overwrite some part of the style using the `sk-estimator` class\n",
       "*/\n",
       "\n",
       "/* Pipeline and ColumnTransformer style (default) */\n",
       "\n",
       "#sk-container-id-1 div.sk-toggleable {\n",
       "  /* Default theme specific background. It is overwritten whether we have a\n",
       "  specific estimator or a Pipeline/ColumnTransformer */\n",
       "  background-color: var(--sklearn-color-background);\n",
       "}\n",
       "\n",
       "/* Toggleable label */\n",
       "#sk-container-id-1 label.sk-toggleable__label {\n",
       "  cursor: pointer;\n",
       "  display: flex;\n",
       "  width: 100%;\n",
       "  margin-bottom: 0;\n",
       "  padding: 0.5em;\n",
       "  box-sizing: border-box;\n",
       "  text-align: center;\n",
       "  align-items: start;\n",
       "  justify-content: space-between;\n",
       "  gap: 0.5em;\n",
       "}\n",
       "\n",
       "#sk-container-id-1 label.sk-toggleable__label .caption {\n",
       "  font-size: 0.6rem;\n",
       "  font-weight: lighter;\n",
       "  color: var(--sklearn-color-text-muted);\n",
       "}\n",
       "\n",
       "#sk-container-id-1 label.sk-toggleable__label-arrow:before {\n",
       "  /* Arrow on the left of the label */\n",
       "  content: \"▸\";\n",
       "  float: left;\n",
       "  margin-right: 0.25em;\n",
       "  color: var(--sklearn-color-icon);\n",
       "}\n",
       "\n",
       "#sk-container-id-1 label.sk-toggleable__label-arrow:hover:before {\n",
       "  color: var(--sklearn-color-text);\n",
       "}\n",
       "\n",
       "/* Toggleable content - dropdown */\n",
       "\n",
       "#sk-container-id-1 div.sk-toggleable__content {\n",
       "  display: none;\n",
       "  text-align: left;\n",
       "  /* unfitted */\n",
       "  background-color: var(--sklearn-color-unfitted-level-0);\n",
       "}\n",
       "\n",
       "#sk-container-id-1 div.sk-toggleable__content.fitted {\n",
       "  /* fitted */\n",
       "  background-color: var(--sklearn-color-fitted-level-0);\n",
       "}\n",
       "\n",
       "#sk-container-id-1 div.sk-toggleable__content pre {\n",
       "  margin: 0.2em;\n",
       "  border-radius: 0.25em;\n",
       "  color: var(--sklearn-color-text);\n",
       "  /* unfitted */\n",
       "  background-color: var(--sklearn-color-unfitted-level-0);\n",
       "}\n",
       "\n",
       "#sk-container-id-1 div.sk-toggleable__content.fitted pre {\n",
       "  /* unfitted */\n",
       "  background-color: var(--sklearn-color-fitted-level-0);\n",
       "}\n",
       "\n",
       "#sk-container-id-1 input.sk-toggleable__control:checked~div.sk-toggleable__content {\n",
       "  /* Expand drop-down */\n",
       "  display: block;\n",
       "  width: 100%;\n",
       "  overflow: visible;\n",
       "}\n",
       "\n",
       "#sk-container-id-1 input.sk-toggleable__control:checked~label.sk-toggleable__label-arrow:before {\n",
       "  content: \"▾\";\n",
       "}\n",
       "\n",
       "/* Pipeline/ColumnTransformer-specific style */\n",
       "\n",
       "#sk-container-id-1 div.sk-label input.sk-toggleable__control:checked~label.sk-toggleable__label {\n",
       "  color: var(--sklearn-color-text);\n",
       "  background-color: var(--sklearn-color-unfitted-level-2);\n",
       "}\n",
       "\n",
       "#sk-container-id-1 div.sk-label.fitted input.sk-toggleable__control:checked~label.sk-toggleable__label {\n",
       "  background-color: var(--sklearn-color-fitted-level-2);\n",
       "}\n",
       "\n",
       "/* Estimator-specific style */\n",
       "\n",
       "/* Colorize estimator box */\n",
       "#sk-container-id-1 div.sk-estimator input.sk-toggleable__control:checked~label.sk-toggleable__label {\n",
       "  /* unfitted */\n",
       "  background-color: var(--sklearn-color-unfitted-level-2);\n",
       "}\n",
       "\n",
       "#sk-container-id-1 div.sk-estimator.fitted input.sk-toggleable__control:checked~label.sk-toggleable__label {\n",
       "  /* fitted */\n",
       "  background-color: var(--sklearn-color-fitted-level-2);\n",
       "}\n",
       "\n",
       "#sk-container-id-1 div.sk-label label.sk-toggleable__label,\n",
       "#sk-container-id-1 div.sk-label label {\n",
       "  /* The background is the default theme color */\n",
       "  color: var(--sklearn-color-text-on-default-background);\n",
       "}\n",
       "\n",
       "/* On hover, darken the color of the background */\n",
       "#sk-container-id-1 div.sk-label:hover label.sk-toggleable__label {\n",
       "  color: var(--sklearn-color-text);\n",
       "  background-color: var(--sklearn-color-unfitted-level-2);\n",
       "}\n",
       "\n",
       "/* Label box, darken color on hover, fitted */\n",
       "#sk-container-id-1 div.sk-label.fitted:hover label.sk-toggleable__label.fitted {\n",
       "  color: var(--sklearn-color-text);\n",
       "  background-color: var(--sklearn-color-fitted-level-2);\n",
       "}\n",
       "\n",
       "/* Estimator label */\n",
       "\n",
       "#sk-container-id-1 div.sk-label label {\n",
       "  font-family: monospace;\n",
       "  font-weight: bold;\n",
       "  display: inline-block;\n",
       "  line-height: 1.2em;\n",
       "}\n",
       "\n",
       "#sk-container-id-1 div.sk-label-container {\n",
       "  text-align: center;\n",
       "}\n",
       "\n",
       "/* Estimator-specific */\n",
       "#sk-container-id-1 div.sk-estimator {\n",
       "  font-family: monospace;\n",
       "  border: 1px dotted var(--sklearn-color-border-box);\n",
       "  border-radius: 0.25em;\n",
       "  box-sizing: border-box;\n",
       "  margin-bottom: 0.5em;\n",
       "  /* unfitted */\n",
       "  background-color: var(--sklearn-color-unfitted-level-0);\n",
       "}\n",
       "\n",
       "#sk-container-id-1 div.sk-estimator.fitted {\n",
       "  /* fitted */\n",
       "  background-color: var(--sklearn-color-fitted-level-0);\n",
       "}\n",
       "\n",
       "/* on hover */\n",
       "#sk-container-id-1 div.sk-estimator:hover {\n",
       "  /* unfitted */\n",
       "  background-color: var(--sklearn-color-unfitted-level-2);\n",
       "}\n",
       "\n",
       "#sk-container-id-1 div.sk-estimator.fitted:hover {\n",
       "  /* fitted */\n",
       "  background-color: var(--sklearn-color-fitted-level-2);\n",
       "}\n",
       "\n",
       "/* Specification for estimator info (e.g. \"i\" and \"?\") */\n",
       "\n",
       "/* Common style for \"i\" and \"?\" */\n",
       "\n",
       ".sk-estimator-doc-link,\n",
       "a:link.sk-estimator-doc-link,\n",
       "a:visited.sk-estimator-doc-link {\n",
       "  float: right;\n",
       "  font-size: smaller;\n",
       "  line-height: 1em;\n",
       "  font-family: monospace;\n",
       "  background-color: var(--sklearn-color-background);\n",
       "  border-radius: 1em;\n",
       "  height: 1em;\n",
       "  width: 1em;\n",
       "  text-decoration: none !important;\n",
       "  margin-left: 0.5em;\n",
       "  text-align: center;\n",
       "  /* unfitted */\n",
       "  border: var(--sklearn-color-unfitted-level-1) 1pt solid;\n",
       "  color: var(--sklearn-color-unfitted-level-1);\n",
       "}\n",
       "\n",
       ".sk-estimator-doc-link.fitted,\n",
       "a:link.sk-estimator-doc-link.fitted,\n",
       "a:visited.sk-estimator-doc-link.fitted {\n",
       "  /* fitted */\n",
       "  border: var(--sklearn-color-fitted-level-1) 1pt solid;\n",
       "  color: var(--sklearn-color-fitted-level-1);\n",
       "}\n",
       "\n",
       "/* On hover */\n",
       "div.sk-estimator:hover .sk-estimator-doc-link:hover,\n",
       ".sk-estimator-doc-link:hover,\n",
       "div.sk-label-container:hover .sk-estimator-doc-link:hover,\n",
       ".sk-estimator-doc-link:hover {\n",
       "  /* unfitted */\n",
       "  background-color: var(--sklearn-color-unfitted-level-3);\n",
       "  color: var(--sklearn-color-background);\n",
       "  text-decoration: none;\n",
       "}\n",
       "\n",
       "div.sk-estimator.fitted:hover .sk-estimator-doc-link.fitted:hover,\n",
       ".sk-estimator-doc-link.fitted:hover,\n",
       "div.sk-label-container:hover .sk-estimator-doc-link.fitted:hover,\n",
       ".sk-estimator-doc-link.fitted:hover {\n",
       "  /* fitted */\n",
       "  background-color: var(--sklearn-color-fitted-level-3);\n",
       "  color: var(--sklearn-color-background);\n",
       "  text-decoration: none;\n",
       "}\n",
       "\n",
       "/* Span, style for the box shown on hovering the info icon */\n",
       ".sk-estimator-doc-link span {\n",
       "  display: none;\n",
       "  z-index: 9999;\n",
       "  position: relative;\n",
       "  font-weight: normal;\n",
       "  right: .2ex;\n",
       "  padding: .5ex;\n",
       "  margin: .5ex;\n",
       "  width: min-content;\n",
       "  min-width: 20ex;\n",
       "  max-width: 50ex;\n",
       "  color: var(--sklearn-color-text);\n",
       "  box-shadow: 2pt 2pt 4pt #999;\n",
       "  /* unfitted */\n",
       "  background: var(--sklearn-color-unfitted-level-0);\n",
       "  border: .5pt solid var(--sklearn-color-unfitted-level-3);\n",
       "}\n",
       "\n",
       ".sk-estimator-doc-link.fitted span {\n",
       "  /* fitted */\n",
       "  background: var(--sklearn-color-fitted-level-0);\n",
       "  border: var(--sklearn-color-fitted-level-3);\n",
       "}\n",
       "\n",
       ".sk-estimator-doc-link:hover span {\n",
       "  display: block;\n",
       "}\n",
       "\n",
       "/* \"?\"-specific style due to the `<a>` HTML tag */\n",
       "\n",
       "#sk-container-id-1 a.estimator_doc_link {\n",
       "  float: right;\n",
       "  font-size: 1rem;\n",
       "  line-height: 1em;\n",
       "  font-family: monospace;\n",
       "  background-color: var(--sklearn-color-background);\n",
       "  border-radius: 1rem;\n",
       "  height: 1rem;\n",
       "  width: 1rem;\n",
       "  text-decoration: none;\n",
       "  /* unfitted */\n",
       "  color: var(--sklearn-color-unfitted-level-1);\n",
       "  border: var(--sklearn-color-unfitted-level-1) 1pt solid;\n",
       "}\n",
       "\n",
       "#sk-container-id-1 a.estimator_doc_link.fitted {\n",
       "  /* fitted */\n",
       "  border: var(--sklearn-color-fitted-level-1) 1pt solid;\n",
       "  color: var(--sklearn-color-fitted-level-1);\n",
       "}\n",
       "\n",
       "/* On hover */\n",
       "#sk-container-id-1 a.estimator_doc_link:hover {\n",
       "  /* unfitted */\n",
       "  background-color: var(--sklearn-color-unfitted-level-3);\n",
       "  color: var(--sklearn-color-background);\n",
       "  text-decoration: none;\n",
       "}\n",
       "\n",
       "#sk-container-id-1 a.estimator_doc_link.fitted:hover {\n",
       "  /* fitted */\n",
       "  background-color: var(--sklearn-color-fitted-level-3);\n",
       "}\n",
       "\n",
       ".estimator-table summary {\n",
       "    padding: .5rem;\n",
       "    font-family: monospace;\n",
       "    cursor: pointer;\n",
       "}\n",
       "\n",
       ".estimator-table details[open] {\n",
       "    padding-left: 0.1rem;\n",
       "    padding-right: 0.1rem;\n",
       "    padding-bottom: 0.3rem;\n",
       "}\n",
       "\n",
       ".estimator-table .parameters-table {\n",
       "    margin-left: auto !important;\n",
       "    margin-right: auto !important;\n",
       "}\n",
       "\n",
       ".estimator-table .parameters-table tr:nth-child(odd) {\n",
       "    background-color: #fff;\n",
       "}\n",
       "\n",
       ".estimator-table .parameters-table tr:nth-child(even) {\n",
       "    background-color: #f6f6f6;\n",
       "}\n",
       "\n",
       ".estimator-table .parameters-table tr:hover {\n",
       "    background-color: #e0e0e0;\n",
       "}\n",
       "\n",
       ".estimator-table table td {\n",
       "    border: 1px solid rgba(106, 105, 104, 0.232);\n",
       "}\n",
       "\n",
       ".user-set td {\n",
       "    color:rgb(255, 94, 0);\n",
       "    text-align: left;\n",
       "}\n",
       "\n",
       ".user-set td.value pre {\n",
       "    color:rgb(255, 94, 0) !important;\n",
       "    background-color: transparent !important;\n",
       "}\n",
       "\n",
       ".default td {\n",
       "    color: black;\n",
       "    text-align: left;\n",
       "}\n",
       "\n",
       ".user-set td i,\n",
       ".default td i {\n",
       "    color: black;\n",
       "}\n",
       "\n",
       ".copy-paste-icon {\n",
       "    background-image: url(data:image/svg+xml;base64,PHN2ZyB4bWxucz0iaHR0cDovL3d3dy53My5vcmcvMjAwMC9zdmciIHZpZXdCb3g9IjAgMCA0NDggNTEyIj48IS0tIUZvbnQgQXdlc29tZSBGcmVlIDYuNy4yIGJ5IEBmb250YXdlc29tZSAtIGh0dHBzOi8vZm9udGF3ZXNvbWUuY29tIExpY2Vuc2UgLSBodHRwczovL2ZvbnRhd2Vzb21lLmNvbS9saWNlbnNlL2ZyZWUgQ29weXJpZ2h0IDIwMjUgRm9udGljb25zLCBJbmMuLS0+PHBhdGggZD0iTTIwOCAwTDMzMi4xIDBjMTIuNyAwIDI0LjkgNS4xIDMzLjkgMTQuMWw2Ny45IDY3LjljOSA5IDE0LjEgMjEuMiAxNC4xIDMzLjlMNDQ4IDMzNmMwIDI2LjUtMjEuNSA0OC00OCA0OGwtMTkyIDBjLTI2LjUgMC00OC0yMS41LTQ4LTQ4bDAtMjg4YzAtMjYuNSAyMS41LTQ4IDQ4LTQ4ek00OCAxMjhsODAgMCAwIDY0LTY0IDAgMCAyNTYgMTkyIDAgMC0zMiA2NCAwIDAgNDhjMCAyNi41LTIxLjUgNDgtNDggNDhMNDggNTEyYy0yNi41IDAtNDgtMjEuNS00OC00OEwwIDE3NmMwLTI2LjUgMjEuNS00OCA0OC00OHoiLz48L3N2Zz4=);\n",
       "    background-repeat: no-repeat;\n",
       "    background-size: 14px 14px;\n",
       "    background-position: 0;\n",
       "    display: inline-block;\n",
       "    width: 14px;\n",
       "    height: 14px;\n",
       "    cursor: pointer;\n",
       "}\n",
       "</style><body><div id=\"sk-container-id-1\" class=\"sk-top-container\"><div class=\"sk-text-repr-fallback\"><pre>TfidfVectorizer()</pre><b>In a Jupyter environment, please rerun this cell to show the HTML representation or trust the notebook. <br />On GitHub, the HTML representation is unable to render, please try loading this page with nbviewer.org.</b></div><div class=\"sk-container\" hidden><div class=\"sk-item\"><div class=\"sk-estimator  sk-toggleable\"><input class=\"sk-toggleable__control sk-hidden--visually\" id=\"sk-estimator-id-1\" type=\"checkbox\" checked><label for=\"sk-estimator-id-1\" class=\"sk-toggleable__label  sk-toggleable__label-arrow\"><div><div>TfidfVectorizer</div></div><div><a class=\"sk-estimator-doc-link \" rel=\"noreferrer\" target=\"_blank\" href=\"https://scikit-learn.org/1.7/modules/generated/sklearn.feature_extraction.text.TfidfVectorizer.html\">?<span>Documentation for TfidfVectorizer</span></a><span class=\"sk-estimator-doc-link \">i<span>Not fitted</span></span></div></label><div class=\"sk-toggleable__content \" data-param-prefix=\"\">\n",
       "        <div class=\"estimator-table\">\n",
       "            <details>\n",
       "                <summary>Parameters</summary>\n",
       "                <table class=\"parameters-table\">\n",
       "                  <tbody>\n",
       "                    \n",
       "        <tr class=\"default\">\n",
       "            <td><i class=\"copy-paste-icon\"\n",
       "                 onclick=\"copyToClipboard('input',\n",
       "                          this.parentElement.nextElementSibling)\"\n",
       "            ></i></td>\n",
       "            <td class=\"param\">input&nbsp;</td>\n",
       "            <td class=\"value\">&#x27;content&#x27;</td>\n",
       "        </tr>\n",
       "    \n",
       "\n",
       "        <tr class=\"default\">\n",
       "            <td><i class=\"copy-paste-icon\"\n",
       "                 onclick=\"copyToClipboard('encoding',\n",
       "                          this.parentElement.nextElementSibling)\"\n",
       "            ></i></td>\n",
       "            <td class=\"param\">encoding&nbsp;</td>\n",
       "            <td class=\"value\">&#x27;utf-8&#x27;</td>\n",
       "        </tr>\n",
       "    \n",
       "\n",
       "        <tr class=\"default\">\n",
       "            <td><i class=\"copy-paste-icon\"\n",
       "                 onclick=\"copyToClipboard('decode_error',\n",
       "                          this.parentElement.nextElementSibling)\"\n",
       "            ></i></td>\n",
       "            <td class=\"param\">decode_error&nbsp;</td>\n",
       "            <td class=\"value\">&#x27;strict&#x27;</td>\n",
       "        </tr>\n",
       "    \n",
       "\n",
       "        <tr class=\"default\">\n",
       "            <td><i class=\"copy-paste-icon\"\n",
       "                 onclick=\"copyToClipboard('strip_accents',\n",
       "                          this.parentElement.nextElementSibling)\"\n",
       "            ></i></td>\n",
       "            <td class=\"param\">strip_accents&nbsp;</td>\n",
       "            <td class=\"value\">None</td>\n",
       "        </tr>\n",
       "    \n",
       "\n",
       "        <tr class=\"default\">\n",
       "            <td><i class=\"copy-paste-icon\"\n",
       "                 onclick=\"copyToClipboard('lowercase',\n",
       "                          this.parentElement.nextElementSibling)\"\n",
       "            ></i></td>\n",
       "            <td class=\"param\">lowercase&nbsp;</td>\n",
       "            <td class=\"value\">True</td>\n",
       "        </tr>\n",
       "    \n",
       "\n",
       "        <tr class=\"default\">\n",
       "            <td><i class=\"copy-paste-icon\"\n",
       "                 onclick=\"copyToClipboard('preprocessor',\n",
       "                          this.parentElement.nextElementSibling)\"\n",
       "            ></i></td>\n",
       "            <td class=\"param\">preprocessor&nbsp;</td>\n",
       "            <td class=\"value\">None</td>\n",
       "        </tr>\n",
       "    \n",
       "\n",
       "        <tr class=\"default\">\n",
       "            <td><i class=\"copy-paste-icon\"\n",
       "                 onclick=\"copyToClipboard('tokenizer',\n",
       "                          this.parentElement.nextElementSibling)\"\n",
       "            ></i></td>\n",
       "            <td class=\"param\">tokenizer&nbsp;</td>\n",
       "            <td class=\"value\">None</td>\n",
       "        </tr>\n",
       "    \n",
       "\n",
       "        <tr class=\"default\">\n",
       "            <td><i class=\"copy-paste-icon\"\n",
       "                 onclick=\"copyToClipboard('analyzer',\n",
       "                          this.parentElement.nextElementSibling)\"\n",
       "            ></i></td>\n",
       "            <td class=\"param\">analyzer&nbsp;</td>\n",
       "            <td class=\"value\">&#x27;word&#x27;</td>\n",
       "        </tr>\n",
       "    \n",
       "\n",
       "        <tr class=\"default\">\n",
       "            <td><i class=\"copy-paste-icon\"\n",
       "                 onclick=\"copyToClipboard('stop_words',\n",
       "                          this.parentElement.nextElementSibling)\"\n",
       "            ></i></td>\n",
       "            <td class=\"param\">stop_words&nbsp;</td>\n",
       "            <td class=\"value\">None</td>\n",
       "        </tr>\n",
       "    \n",
       "\n",
       "        <tr class=\"default\">\n",
       "            <td><i class=\"copy-paste-icon\"\n",
       "                 onclick=\"copyToClipboard('token_pattern',\n",
       "                          this.parentElement.nextElementSibling)\"\n",
       "            ></i></td>\n",
       "            <td class=\"param\">token_pattern&nbsp;</td>\n",
       "            <td class=\"value\">&#x27;(?u)\\\\b\\\\w\\\\w+\\\\b&#x27;</td>\n",
       "        </tr>\n",
       "    \n",
       "\n",
       "        <tr class=\"default\">\n",
       "            <td><i class=\"copy-paste-icon\"\n",
       "                 onclick=\"copyToClipboard('ngram_range',\n",
       "                          this.parentElement.nextElementSibling)\"\n",
       "            ></i></td>\n",
       "            <td class=\"param\">ngram_range&nbsp;</td>\n",
       "            <td class=\"value\">(1, ...)</td>\n",
       "        </tr>\n",
       "    \n",
       "\n",
       "        <tr class=\"default\">\n",
       "            <td><i class=\"copy-paste-icon\"\n",
       "                 onclick=\"copyToClipboard('max_df',\n",
       "                          this.parentElement.nextElementSibling)\"\n",
       "            ></i></td>\n",
       "            <td class=\"param\">max_df&nbsp;</td>\n",
       "            <td class=\"value\">1.0</td>\n",
       "        </tr>\n",
       "    \n",
       "\n",
       "        <tr class=\"default\">\n",
       "            <td><i class=\"copy-paste-icon\"\n",
       "                 onclick=\"copyToClipboard('min_df',\n",
       "                          this.parentElement.nextElementSibling)\"\n",
       "            ></i></td>\n",
       "            <td class=\"param\">min_df&nbsp;</td>\n",
       "            <td class=\"value\">1</td>\n",
       "        </tr>\n",
       "    \n",
       "\n",
       "        <tr class=\"default\">\n",
       "            <td><i class=\"copy-paste-icon\"\n",
       "                 onclick=\"copyToClipboard('max_features',\n",
       "                          this.parentElement.nextElementSibling)\"\n",
       "            ></i></td>\n",
       "            <td class=\"param\">max_features&nbsp;</td>\n",
       "            <td class=\"value\">None</td>\n",
       "        </tr>\n",
       "    \n",
       "\n",
       "        <tr class=\"default\">\n",
       "            <td><i class=\"copy-paste-icon\"\n",
       "                 onclick=\"copyToClipboard('vocabulary',\n",
       "                          this.parentElement.nextElementSibling)\"\n",
       "            ></i></td>\n",
       "            <td class=\"param\">vocabulary&nbsp;</td>\n",
       "            <td class=\"value\">None</td>\n",
       "        </tr>\n",
       "    \n",
       "\n",
       "        <tr class=\"default\">\n",
       "            <td><i class=\"copy-paste-icon\"\n",
       "                 onclick=\"copyToClipboard('binary',\n",
       "                          this.parentElement.nextElementSibling)\"\n",
       "            ></i></td>\n",
       "            <td class=\"param\">binary&nbsp;</td>\n",
       "            <td class=\"value\">False</td>\n",
       "        </tr>\n",
       "    \n",
       "\n",
       "        <tr class=\"default\">\n",
       "            <td><i class=\"copy-paste-icon\"\n",
       "                 onclick=\"copyToClipboard('dtype',\n",
       "                          this.parentElement.nextElementSibling)\"\n",
       "            ></i></td>\n",
       "            <td class=\"param\">dtype&nbsp;</td>\n",
       "            <td class=\"value\">&lt;class &#x27;numpy.float64&#x27;&gt;</td>\n",
       "        </tr>\n",
       "    \n",
       "\n",
       "        <tr class=\"default\">\n",
       "            <td><i class=\"copy-paste-icon\"\n",
       "                 onclick=\"copyToClipboard('norm',\n",
       "                          this.parentElement.nextElementSibling)\"\n",
       "            ></i></td>\n",
       "            <td class=\"param\">norm&nbsp;</td>\n",
       "            <td class=\"value\">&#x27;l2&#x27;</td>\n",
       "        </tr>\n",
       "    \n",
       "\n",
       "        <tr class=\"default\">\n",
       "            <td><i class=\"copy-paste-icon\"\n",
       "                 onclick=\"copyToClipboard('use_idf',\n",
       "                          this.parentElement.nextElementSibling)\"\n",
       "            ></i></td>\n",
       "            <td class=\"param\">use_idf&nbsp;</td>\n",
       "            <td class=\"value\">True</td>\n",
       "        </tr>\n",
       "    \n",
       "\n",
       "        <tr class=\"default\">\n",
       "            <td><i class=\"copy-paste-icon\"\n",
       "                 onclick=\"copyToClipboard('smooth_idf',\n",
       "                          this.parentElement.nextElementSibling)\"\n",
       "            ></i></td>\n",
       "            <td class=\"param\">smooth_idf&nbsp;</td>\n",
       "            <td class=\"value\">True</td>\n",
       "        </tr>\n",
       "    \n",
       "\n",
       "        <tr class=\"default\">\n",
       "            <td><i class=\"copy-paste-icon\"\n",
       "                 onclick=\"copyToClipboard('sublinear_tf',\n",
       "                          this.parentElement.nextElementSibling)\"\n",
       "            ></i></td>\n",
       "            <td class=\"param\">sublinear_tf&nbsp;</td>\n",
       "            <td class=\"value\">False</td>\n",
       "        </tr>\n",
       "    \n",
       "                  </tbody>\n",
       "                </table>\n",
       "            </details>\n",
       "        </div>\n",
       "    </div></div></div></div></div><script>function copyToClipboard(text, element) {\n",
       "    // Get the parameter prefix from the closest toggleable content\n",
       "    const toggleableContent = element.closest('.sk-toggleable__content');\n",
       "    const paramPrefix = toggleableContent ? toggleableContent.dataset.paramPrefix : '';\n",
       "    const fullParamName = paramPrefix ? `${paramPrefix}${text}` : text;\n",
       "\n",
       "    const originalStyle = element.style;\n",
       "    const computedStyle = window.getComputedStyle(element);\n",
       "    const originalWidth = computedStyle.width;\n",
       "    const originalHTML = element.innerHTML.replace('Copied!', '');\n",
       "\n",
       "    navigator.clipboard.writeText(fullParamName)\n",
       "        .then(() => {\n",
       "            element.style.width = originalWidth;\n",
       "            element.style.color = 'green';\n",
       "            element.innerHTML = \"Copied!\";\n",
       "\n",
       "            setTimeout(() => {\n",
       "                element.innerHTML = originalHTML;\n",
       "                element.style = originalStyle;\n",
       "            }, 2000);\n",
       "        })\n",
       "        .catch(err => {\n",
       "            console.error('Failed to copy:', err);\n",
       "            element.style.color = 'red';\n",
       "            element.innerHTML = \"Failed!\";\n",
       "            setTimeout(() => {\n",
       "                element.innerHTML = originalHTML;\n",
       "                element.style = originalStyle;\n",
       "            }, 2000);\n",
       "        });\n",
       "    return false;\n",
       "}\n",
       "\n",
       "document.querySelectorAll('.fa-regular.fa-copy').forEach(function(element) {\n",
       "    const toggleableContent = element.closest('.sk-toggleable__content');\n",
       "    const paramPrefix = toggleableContent ? toggleableContent.dataset.paramPrefix : '';\n",
       "    const paramName = element.parentElement.nextElementSibling.textContent.trim();\n",
       "    const fullParamName = paramPrefix ? `${paramPrefix}${paramName}` : paramName;\n",
       "\n",
       "    element.setAttribute('title', fullParamName);\n",
       "});\n",
       "</script></body>"
      ],
      "text/plain": [
       "TfidfVectorizer()"
      ]
     },
     "execution_count": 11,
     "metadata": {},
     "output_type": "execute_result"
    }
   ],
   "source": [
    "# TfidfVectorizer\n",
    "from sklearn.feature_extraction.text import TfidfVectorizer\n",
    "\n",
    "tfidf = TfidfVectorizer()\n",
    "tfidf"
   ]
  },
  {
   "cell_type": "code",
   "execution_count": 12,
   "metadata": {
    "colab": {
     "base_uri": "https://localhost:8080/"
    },
    "executionInfo": {
     "elapsed": 788,
     "status": "ok",
     "timestamp": 1718432387923,
     "user": {
      "displayName": "jinkyung park",
      "userId": "16415320267831525929"
     },
     "user_tz": -540
    },
    "id": "IrqstM5-T7f6",
    "outputId": "907b6c9d-f00c-4635-86be-3f27bc69f362"
   },
   "outputs": [
    {
     "data": {
      "text/plain": [
       "<Compressed Sparse Row sparse matrix of dtype 'float64'\n",
       "\twith 118012 stored elements and shape (5996, 36719)>"
      ]
     },
     "execution_count": 12,
     "metadata": {},
     "output_type": "execute_result"
    }
   ],
   "source": [
    "dtm_tfidf = tfidf.fit_transform(df['title_re']+\" \"+df['content_re'])\n",
    "dtm_tfidf"
   ]
  },
  {
   "cell_type": "code",
   "execution_count": 13,
   "metadata": {
    "colab": {
     "base_uri": "https://localhost:8080/"
    },
    "executionInfo": {
     "elapsed": 1541,
     "status": "ok",
     "timestamp": 1718432406912,
     "user": {
      "displayName": "jinkyung park",
      "userId": "16415320267831525929"
     },
     "user_tz": -540
    },
    "id": "3kA_jT-JZcqq",
    "outputId": "21a8a089-9d5e-492c-9689-f9454668416d"
   },
   "outputs": [
    {
     "data": {
      "text/plain": [
       "<Compressed Sparse Row sparse matrix of dtype 'float64'\n",
       "\twith 66630 stored elements and shape (5996, 2000)>"
      ]
     },
     "execution_count": 13,
     "metadata": {},
     "output_type": "execute_result"
    }
   ],
   "source": [
    "tfidf = TfidfVectorizer(max_features=2000)\n",
    "dtm_tfidf = tfidf.fit_transform(df['title_re']+\" \"+df['content_re'])\n",
    "dtm_tfidf"
   ]
  },
  {
   "cell_type": "code",
   "execution_count": 14,
   "metadata": {
    "colab": {
     "base_uri": "https://localhost:8080/",
     "height": 141
    },
    "executionInfo": {
     "elapsed": 342,
     "status": "ok",
     "timestamp": 1718432410072,
     "user": {
      "displayName": "jinkyung park",
      "userId": "16415320267831525929"
     },
     "user_tz": -540
    },
    "id": "QXE5Q4PKT7dA",
    "outputId": "22d4e6ff-8257-47e6-d532-6a042317dee3"
   },
   "outputs": [
    {
     "data": {
      "text/html": [
       "<div>\n",
       "<style scoped>\n",
       "    .dataframe tbody tr th:only-of-type {\n",
       "        vertical-align: middle;\n",
       "    }\n",
       "\n",
       "    .dataframe tbody tr th {\n",
       "        vertical-align: top;\n",
       "    }\n",
       "\n",
       "    .dataframe thead th {\n",
       "        text-align: right;\n",
       "    }\n",
       "</style>\n",
       "<table border=\"1\" class=\"dataframe\">\n",
       "  <thead>\n",
       "    <tr style=\"text-align: right;\">\n",
       "      <th></th>\n",
       "      <th>10</th>\n",
       "      <th>100</th>\n",
       "      <th>100매</th>\n",
       "      <th>100매라</th>\n",
       "      <th>100매에</th>\n",
       "      <th>10월</th>\n",
       "      <th>10팩</th>\n",
       "      <th>11번가</th>\n",
       "      <th>11번가에서</th>\n",
       "      <th>1년</th>\n",
       "      <th>...</th>\n",
       "      <th>회사</th>\n",
       "      <th>회사에서</th>\n",
       "      <th>회사에서도</th>\n",
       "      <th>효과</th>\n",
       "      <th>효과가</th>\n",
       "      <th>후기</th>\n",
       "      <th>후기가</th>\n",
       "      <th>후기보고</th>\n",
       "      <th>훨씬</th>\n",
       "      <th>흡수도</th>\n",
       "    </tr>\n",
       "  </thead>\n",
       "  <tbody>\n",
       "    <tr>\n",
       "      <th>0</th>\n",
       "      <td>0.079717</td>\n",
       "      <td>0.000000</td>\n",
       "      <td>0.0</td>\n",
       "      <td>0.0</td>\n",
       "      <td>0.0</td>\n",
       "      <td>0.000000</td>\n",
       "      <td>0.0</td>\n",
       "      <td>0.0</td>\n",
       "      <td>0.0</td>\n",
       "      <td>0.000000</td>\n",
       "      <td>...</td>\n",
       "      <td>0.000000</td>\n",
       "      <td>0.0</td>\n",
       "      <td>0.0</td>\n",
       "      <td>0.0</td>\n",
       "      <td>0.000000</td>\n",
       "      <td>0.0</td>\n",
       "      <td>0.0</td>\n",
       "      <td>0.0</td>\n",
       "      <td>0.000000</td>\n",
       "      <td>0.0</td>\n",
       "    </tr>\n",
       "    <tr>\n",
       "      <th>1</th>\n",
       "      <td>0.000000</td>\n",
       "      <td>0.000000</td>\n",
       "      <td>0.0</td>\n",
       "      <td>0.0</td>\n",
       "      <td>0.0</td>\n",
       "      <td>0.000000</td>\n",
       "      <td>0.0</td>\n",
       "      <td>0.0</td>\n",
       "      <td>0.0</td>\n",
       "      <td>0.031413</td>\n",
       "      <td>...</td>\n",
       "      <td>0.029801</td>\n",
       "      <td>0.0</td>\n",
       "      <td>0.0</td>\n",
       "      <td>0.0</td>\n",
       "      <td>0.029061</td>\n",
       "      <td>0.0</td>\n",
       "      <td>0.0</td>\n",
       "      <td>0.0</td>\n",
       "      <td>0.000000</td>\n",
       "      <td>0.0</td>\n",
       "    </tr>\n",
       "    <tr>\n",
       "      <th>2</th>\n",
       "      <td>0.048859</td>\n",
       "      <td>0.044951</td>\n",
       "      <td>0.0</td>\n",
       "      <td>0.0</td>\n",
       "      <td>0.0</td>\n",
       "      <td>0.096702</td>\n",
       "      <td>0.0</td>\n",
       "      <td>0.0</td>\n",
       "      <td>0.0</td>\n",
       "      <td>0.000000</td>\n",
       "      <td>...</td>\n",
       "      <td>0.000000</td>\n",
       "      <td>0.0</td>\n",
       "      <td>0.0</td>\n",
       "      <td>0.0</td>\n",
       "      <td>0.046260</td>\n",
       "      <td>0.0</td>\n",
       "      <td>0.0</td>\n",
       "      <td>0.0</td>\n",
       "      <td>0.036856</td>\n",
       "      <td>0.0</td>\n",
       "    </tr>\n",
       "  </tbody>\n",
       "</table>\n",
       "<p>3 rows × 2000 columns</p>\n",
       "</div>"
      ],
      "text/plain": [
       "         10       100  100매  100매라  100매에       10월  10팩  11번가  11번가에서  \\\n",
       "0  0.079717  0.000000   0.0    0.0    0.0  0.000000  0.0   0.0     0.0   \n",
       "1  0.000000  0.000000   0.0    0.0    0.0  0.000000  0.0   0.0     0.0   \n",
       "2  0.048859  0.044951   0.0    0.0    0.0  0.096702  0.0   0.0     0.0   \n",
       "\n",
       "         1년  ...        회사  회사에서  회사에서도   효과       효과가   후기  후기가  후기보고  \\\n",
       "0  0.000000  ...  0.000000   0.0    0.0  0.0  0.000000  0.0  0.0   0.0   \n",
       "1  0.031413  ...  0.029801   0.0    0.0  0.0  0.029061  0.0  0.0   0.0   \n",
       "2  0.000000  ...  0.000000   0.0    0.0  0.0  0.046260  0.0  0.0   0.0   \n",
       "\n",
       "         훨씬  흡수도  \n",
       "0  0.000000  0.0  \n",
       "1  0.000000  0.0  \n",
       "2  0.036856  0.0  \n",
       "\n",
       "[3 rows x 2000 columns]"
      ]
     },
     "execution_count": 14,
     "metadata": {},
     "output_type": "execute_result"
    }
   ],
   "source": [
    "df_dtm = pd.DataFrame(dtm_tfidf.toarray(), columns=tfidf.get_feature_names_out())\n",
    "df_dtm.head(3)"
   ]
  },
  {
   "cell_type": "code",
   "execution_count": 15,
   "metadata": {
    "colab": {
     "base_uri": "https://localhost:8080/",
     "height": 329
    },
    "executionInfo": {
     "elapsed": 1086,
     "status": "ok",
     "timestamp": 1718432415723,
     "user": {
      "displayName": "jinkyung park",
      "userId": "16415320267831525929"
     },
     "user_tz": -540
    },
    "id": "miywl76rT7Zt",
    "outputId": "c5bda515-3d3b-408c-b53f-df82364eb9a6"
   },
   "outputs": [
    {
     "data": {
      "text/plain": [
       "<Axes: >"
      ]
     },
     "execution_count": 15,
     "metadata": {},
     "output_type": "execute_result"
    },
    {
     "data": {
      "image/png": "[encoded data removed]",
      "text/plain": [
       "<Figure size 1500x300 with 1 Axes>"
      ]
     },
     "metadata": {},
     "output_type": "display_data"
    }
   ],
   "source": [
    "df_dtm.sum().nlargest(30).plot(kind='bar', figsize=(15,3), rot=40)"
   ]
  },
  {
   "cell_type": "markdown",
   "metadata": {
    "id": "jrFJbqGvUqWt"
   },
   "source": [
    "### 군집화"
   ]
  },
  {
   "cell_type": "code",
   "execution_count": 17,
   "metadata": {
    "colab": {
     "base_uri": "https://localhost:8080/"
    },
    "executionInfo": {
     "elapsed": 313,
     "status": "ok",
     "timestamp": 1718432421356,
     "user": {
      "displayName": "jinkyung park",
      "userId": "16415320267831525929"
     },
     "user_tz": -540
    },
    "id": "hP-Z38KKUrvr",
    "outputId": "a06ac541-391d-4594-facf-fcad99b974f9"
   },
   "outputs": [
    {
     "data": {
      "text/plain": [
       "array([[0.07971749, 0.        , 0.        , ..., 0.        , 0.        ,\n",
       "        0.        ],\n",
       "       [0.        , 0.        , 0.        , ..., 0.        , 0.        ,\n",
       "        0.        ],\n",
       "       [0.04885852, 0.04495107, 0.        , ..., 0.        , 0.03685604,\n",
       "        0.        ],\n",
       "       ...,\n",
       "       [0.        , 0.        , 0.        , ..., 0.        , 0.        ,\n",
       "        0.        ],\n",
       "       [0.        , 0.        , 0.        , ..., 0.        , 0.        ,\n",
       "        0.        ],\n",
       "       [0.        , 0.        , 0.        , ..., 0.        , 0.        ,\n",
       "        0.        ]], shape=(5996, 2000))"
      ]
     },
     "execution_count": 17,
     "metadata": {},
     "output_type": "execute_result"
    }
   ],
   "source": [
    "X = df_dtm.values\n",
    "X"
   ]
  },
  {
   "cell_type": "markdown",
   "metadata": {
    "id": "3yDPe5_ndIWX"
   },
   "source": [
    "#### 군집화 - 기본 개념 잡기"
   ]
  },
  {
   "cell_type": "code",
   "execution_count": null,
   "metadata": {},
   "outputs": [],
   "source": []
  },
  {
   "cell_type": "code",
   "execution_count": null,
   "metadata": {
    "colab": {
     "base_uri": "https://localhost:8080/"
    },
    "executionInfo": {
     "elapsed": 3723,
     "status": "ok",
     "timestamp": 1718432428620,
     "user": {
      "displayName": "jinkyung park",
      "userId": "16415320267831525929"
     },
     "user_tz": -540
    },
    "id": "j_8bEvMSb_On",
    "outputId": "3c98f54a-732b-4a33-b005-a8afc3c11c03"
   },
   "outputs": [
    {
     "data": {
      "text/plain": [
       "0.008951197622554447"
      ]
     },
     "execution_count": 19,
     "metadata": {},
     "output_type": "execute_result"
    }
   ],
   "source": [
    "# 군집화\n",
    "from sklearn.cluster import KMeans\n",
    "from sklearn.metrics import silhouette_score\n",
    "\n",
    "# n_clusters 의 default : 8\n",
    "kmeans = KMeans(n_clusters=4, n_init=\"auto\", random_state=42)\n",
    "kmeans.fit_predict(X)\n",
    "\n",
    "# 학습 결과로 inertia 값 구하기\n",
    "# inertia : 각 군집의 센터와 얼마나 가까운가에 대한 점수\n",
    "kmeans.inertia_\n",
    "silhouette_score(X, kmeans.labels_) # 1 에 가까울 수록 best"
   ]
  },
  {
   "cell_type": "markdown",
   "metadata": {
    "id": "iRNrRMJ0dOQ6"
   },
   "source": [
    "#### 군집화 - 적당한 n_cluster 를 찾기 위한 함수 작성"
   ]
  },
  {
   "cell_type": "code",
   "execution_count": 20,
   "metadata": {
    "colab": {
     "base_uri": "https://localhost:8080/"
    },
    "executionInfo": {
     "elapsed": 89489,
     "status": "ok",
     "timestamp": 1718432560561,
     "user": {
      "displayName": "jinkyung park",
      "userId": "16415320267831525929"
     },
     "user_tz": -540
    },
    "id": "3IPUx0taUtko",
    "outputId": "b1b4f9e9-35f4-45d5-8031-8a549489ebc1"
   },
   "outputs": [
    {
     "name": "stderr",
     "output_type": "stream",
     "text": [
      "100%|██████████| 18/18 [00:37<00:00,  2.08s/it]\n"
     ]
    }
   ],
   "source": [
    "# KMeans(\n",
    "#     n_clusters=8,\n",
    "#     *,\n",
    "#     init='k-means++',\n",
    "#     n_init=10,\n",
    "#     max_iter=300,\n",
    "#     tol=0.0001,\n",
    "#     verbose=0,\n",
    "#     random_state=None,\n",
    "#     copy_x=True,\n",
    "#     algorithm='lloyd',\n",
    "# )\n",
    "from tqdm import trange\n",
    "\n",
    "inertia = []\n",
    "silhouette = []\n",
    "\n",
    "for n in trange(2, 20):\n",
    "    kmeans = KMeans(n_clusters=n, n_init=\"auto\", random_state=42)\n",
    "    kmeans.fit_predict(X)\n",
    "\n",
    "    # 학습 결과로 inertia 값 구하기\n",
    "    inertia.append(kmeans.inertia_)\n",
    "    silhouette.append(silhouette_score(X, kmeans.labels_))"
   ]
  },
  {
   "cell_type": "code",
   "execution_count": 22,
   "metadata": {
    "colab": {
     "base_uri": "https://localhost:8080/"
    },
    "collapsed": true,
    "executionInfo": {
     "elapsed": 319,
     "status": "ok",
     "timestamp": 1718432565581,
     "user": {
      "displayName": "jinkyung park",
      "userId": "16415320267831525929"
     },
     "user_tz": -540
    },
    "id": "OAp0tl8DUthf",
    "outputId": "58880e06-88ab-467c-a93a-ca33a3ae2601"
   },
   "outputs": [
    {
     "data": {
      "text/plain": [
       "[5785.920801303278,\n",
       " 5776.757667682285,\n",
       " 5748.74846991857,\n",
       " 5714.456598505918,\n",
       " 5688.107512523719,\n",
       " 5652.795109727618,\n",
       " 5751.852271892867,\n",
       " 5733.064661899587,\n",
       " 5704.870203434593,\n",
       " 5685.1936108101945,\n",
       " 5672.532796685726,\n",
       " 5638.18562658128,\n",
       " 5618.458409963649,\n",
       " 5607.4969661312725,\n",
       " 5574.434936156373,\n",
       " 5572.471039814973,\n",
       " 5571.479403261474,\n",
       " 5566.944096833752]"
      ]
     },
     "execution_count": 22,
     "metadata": {},
     "output_type": "execute_result"
    }
   ],
   "source": [
    "# 거리값 추출\n",
    "inertia"
   ]
  },
  {
   "cell_type": "markdown",
   "metadata": {
    "id": "CHuPADWWUwJ-"
   },
   "source": [
    "## inertia 시각화\n",
    "\n",
    "### Elbow Method\n",
    "\n",
    "* Number of clusters\n",
    "* Within-Cluster Sum of Square"
   ]
  },
  {
   "cell_type": "code",
   "execution_count": null,
   "metadata": {
    "colab": {
     "base_uri": "https://localhost:8080/",
     "height": 407
    },
    "executionInfo": {
     "elapsed": 584,
     "status": "ok",
     "timestamp": 1718432574731,
     "user": {
      "displayName": "jinkyung park",
      "userId": "16415320267831525929"
     },
     "user_tz": -540
    },
    "id": "ng87zEouUteM",
    "outputId": "832f9ce9-a8f6-440a-c1ca-8b0ed8d2161f"
   },
   "outputs": [
    {
     "data": {
      "image/png": "[encoded data removed]",
      "text/plain": [
       "<Figure size 1500x400 with 1 Axes>"
      ]
     },
     "metadata": {},
     "output_type": "display_data"
    }
   ],
   "source": [
    "plt.figure(figsize=(15, 4))\n",
    "plt.plot(range(2,20), inertia)\n",
    "plt.xlabel(\"number of cluster\")\n",
    "plt.ylabel(\"within sum of square\")\n",
    "plt.show()\n",
    "\n",
    "# 아래의 그래프를 보면 cluster 수가 15개 이상은 되어야 군집이 잘 모이는구나를 파악할 수 있음"
   ]
  },
  {
   "cell_type": "markdown",
   "metadata": {
    "id": "n2JlpTo7Uz7A"
   },
   "source": [
    "## Shilhouette Analysis(실루엣 분석)\n",
    "\n",
    "- 군집화 평가 방법으로 실루엣 분석(Shilhouette Analysis)이 있음.\n",
    "- 실루엣 분석은 각 군집 간의 거리가 얼마나 **효율적으로 분리**돼 있는지를 알 수 있음\n",
    "  - 다른 군집과의 거리는 떨어져 있고, 동일 군집끼리의 데이터는 서로 가깝게 잘 뭉쳐 있다는 의미\n",
    "  - 군집화가 잘 될수록 개별 군집은 비슷한 정도의 여유공간을 가지고 떨어져 있게 됨\n",
    "\n",
    "- 좋은 군집화가 되기 위한 기준 조건\n",
    "  - 전체 실루엣 계수의 평균값, 즉 사이킷런의 silhouette_score() 값은 -1~1 사이의 값을 가지며, 1에 가까울수록 좋다.\n",
    "  - 개별 군집의 실루엣 계수 평균값이 전체 실루엣 계수의 평균값에서 크게 벗어나지 않는 것이 중요하며 개별 군집의 평균값의 편차가 크지 않아야 함\n",
    "  - **전체 실루엣 계수의 평균값은 높지만, 특정 군집의 실루엣 계수 평균값만 유난히 높고 다른 군집들의 실루엣 계수 평균값은 낮으면 좋은 군집화 조건이 아님**\n",
    "\n",
    "\n",
    "* 좋은 군집화가 되기 위한 기준 조건\n",
    "    \n",
    "    * 하지만 전체 실루엣 계수의 평균값과 더불어 개별 군집의 평균값의 편차가 크지 않아야 합니다. 즉, 개별 군집의 실루엣 계수 평균값이 전체 실루엣 계수의 평균값에서 크게 벗어나지 않는 것이 중요합니다. 만약 전체 실루엣 계수의 평균값은 높지만, 특정 군집의 실루엣 계수 평균값만 유난히 높고 다른 군집들의 실루엣 계수 평균값은 낮으면 좋은 군집화 조건이 아닙니다.\n",
    "\n",
    "\n",
    "## Silhouette Score(실루엣 점수)\n",
    "\n",
    "* https://scikit-learn.org/stable/modules/clustering.html#silhouette-coefficient\n",
    "\n",
    "- 정답 레이블을 모르는 경우 모델 자체를 사용하여 평가 수행.\n",
    "- 실루엣 계수( sklearn.metrics.silhouette_score)는 이러한 평가의 한 예이며 실루엣 계수 점수가 높을수록 클러스터가 더 잘 정의된 모델과 관련됨.\n",
    "- 실루엣 계수는 각 샘플에 대해 정의되며 두 가지 점수로 구성\n",
    "  * a : 샘플과 동일한 클래스의 다른 모든 점 사이의 평균 거리.\n",
    "  * b : 표본과 다음으로 가장 가까운 군집 의 다른 모든 점 사이의 평균 거리\n",
    "  * 단일 샘플에 대한 실루엣 계수 s 는 다음과 같이 주어집니다.\n",
    "      * `s = (b-a)/max(a,b)`\n",
    "    \n",
    "\n",
    "* 사이킷런의 실루엣 분석 메서드\n",
    "\n",
    "* https://scikit-learn.org/stable/auto_examples/cluster/plot_kmeans_silhouette_analysis.html\n",
    "\n",
    "* `silhouette_samples(X, labels, metric='euclidean', **kwds)`: X feature 데이터 세트와 각 feature데이터 세트가 속한 군집 레이블 값인 labels데이터를 입력해주면 각 데이터 포인트의 실루엣 계수를 계산해 반환.\n",
    "* `silhouette_score(X, labels, metric='euclidean', sample_size=None, **kwds)`: 인자로 X feature데이터 세트와 각 feature 데이터 세트가 속한 레이블 값인 labels데이터를 입력해주면 전체 데이터의 실루엣 계수 값을 평균해 반환. 즉 np.mean(silhouette_samples())입니다. 일반적으로 이 값이 높을수록 군집화가 어느 정도 잘 됐다고 판단가능(단 무조건 이 값이 높다고 해서 군집화가 잘 됐다고 판단할 수는 없음.)\n",
    "\n",
    "* https://scikit-learn.org/stable/modules/generated/sklearn.metrics.silhouette_score.html#sklearn.metrics.silhouette_score\n"
   ]
  },
  {
   "cell_type": "code",
   "execution_count": null,
   "metadata": {
    "colab": {
     "base_uri": "https://localhost:8080/",
     "height": 407
    },
    "executionInfo": {
     "elapsed": 481,
     "status": "ok",
     "timestamp": 1718432587194,
     "user": {
      "displayName": "jinkyung park",
      "userId": "16415320267831525929"
     },
     "user_tz": -540
    },
    "id": "YiQxsMW_UtaG",
    "outputId": "44e24613-f5ba-442b-a5f7-ebbf794a9fe3"
   },
   "outputs": [
    {
     "data": {
      "image/png": "[encoded data removed]",
      "text/plain": [
       "<Figure size 1500x400 with 1 Axes>"
      ]
     },
     "metadata": {},
     "output_type": "display_data"
    }
   ],
   "source": []
  },
  {
   "cell_type": "markdown",
   "metadata": {
    "id": "xAHYjAQ2U7ga"
   },
   "source": [
    "### 클러스터의 수를 정해서 군집화\n",
    "- 앞에서 구한 inertia 와 ellbow(inertia와 다른 군집과의 거리 고려) 값을 이용해 적당한 클러스터 개수를 잡음\n"
   ]
  },
  {
   "cell_type": "code",
   "execution_count": null,
   "metadata": {
    "colab": {
     "base_uri": "https://localhost:8080/",
     "height": 75
    },
    "executionInfo": {
     "elapsed": 1295,
     "status": "ok",
     "timestamp": 1718435378152,
     "user": {
      "displayName": "jinkyung park",
      "userId": "16415320267831525929"
     },
     "user_tz": -540
    },
    "id": "4ps7-GtnU5Wf",
    "outputId": "4d2de7e1-9225-4f2d-acb0-9f00f3b91d17"
   },
   "outputs": [
    {
     "data": {
      "text/html": [
       "<style>#sk-container-id-5 {color: black;background-color: white;}#sk-container-id-5 pre{padding: 0;}#sk-container-id-5 div.sk-toggleable {background-color: white;}#sk-container-id-5 label.sk-toggleable__label {cursor: pointer;display: block;width: 100%;margin-bottom: 0;padding: 0.3em;box-sizing: border-box;text-align: center;}#sk-container-id-5 label.sk-toggleable__label-arrow:before {content: \"▸\";float: left;margin-right: 0.25em;color: #696969;}#sk-container-id-5 label.sk-toggleable__label-arrow:hover:before {color: black;}#sk-container-id-5 div.sk-estimator:hover label.sk-toggleable__label-arrow:before {color: black;}#sk-container-id-5 div.sk-toggleable__content {max-height: 0;max-width: 0;overflow: hidden;text-align: left;background-color: #f0f8ff;}#sk-container-id-5 div.sk-toggleable__content pre {margin: 0.2em;color: black;border-radius: 0.25em;background-color: #f0f8ff;}#sk-container-id-5 input.sk-toggleable__control:checked~div.sk-toggleable__content {max-height: 200px;max-width: 100%;overflow: auto;}#sk-container-id-5 input.sk-toggleable__control:checked~label.sk-toggleable__label-arrow:before {content: \"▾\";}#sk-container-id-5 div.sk-estimator input.sk-toggleable__control:checked~label.sk-toggleable__label {background-color: #d4ebff;}#sk-container-id-5 div.sk-label input.sk-toggleable__control:checked~label.sk-toggleable__label {background-color: #d4ebff;}#sk-container-id-5 input.sk-hidden--visually {border: 0;clip: rect(1px 1px 1px 1px);clip: rect(1px, 1px, 1px, 1px);height: 1px;margin: -1px;overflow: hidden;padding: 0;position: absolute;width: 1px;}#sk-container-id-5 div.sk-estimator {font-family: monospace;background-color: #f0f8ff;border: 1px dotted black;border-radius: 0.25em;box-sizing: border-box;margin-bottom: 0.5em;}#sk-container-id-5 div.sk-estimator:hover {background-color: #d4ebff;}#sk-container-id-5 div.sk-parallel-item::after {content: \"\";width: 100%;border-bottom: 1px solid gray;flex-grow: 1;}#sk-container-id-5 div.sk-label:hover label.sk-toggleable__label {background-color: #d4ebff;}#sk-container-id-5 div.sk-serial::before {content: \"\";position: absolute;border-left: 1px solid gray;box-sizing: border-box;top: 0;bottom: 0;left: 50%;z-index: 0;}#sk-container-id-5 div.sk-serial {display: flex;flex-direction: column;align-items: center;background-color: white;padding-right: 0.2em;padding-left: 0.2em;position: relative;}#sk-container-id-5 div.sk-item {position: relative;z-index: 1;}#sk-container-id-5 div.sk-parallel {display: flex;align-items: stretch;justify-content: center;background-color: white;position: relative;}#sk-container-id-5 div.sk-item::before, #sk-container-id-5 div.sk-parallel-item::before {content: \"\";position: absolute;border-left: 1px solid gray;box-sizing: border-box;top: 0;bottom: 0;left: 50%;z-index: -1;}#sk-container-id-5 div.sk-parallel-item {display: flex;flex-direction: column;z-index: 1;position: relative;background-color: white;}#sk-container-id-5 div.sk-parallel-item:first-child::after {align-self: flex-end;width: 50%;}#sk-container-id-5 div.sk-parallel-item:last-child::after {align-self: flex-start;width: 50%;}#sk-container-id-5 div.sk-parallel-item:only-child::after {width: 0;}#sk-container-id-5 div.sk-dashed-wrapped {border: 1px dashed gray;margin: 0 0.4em 0.5em 0.4em;box-sizing: border-box;padding-bottom: 0.4em;background-color: white;}#sk-container-id-5 div.sk-label label {font-family: monospace;font-weight: bold;display: inline-block;line-height: 1.2em;}#sk-container-id-5 div.sk-label-container {text-align: center;}#sk-container-id-5 div.sk-container {/* jupyter's `normalize.less` sets `[hidden] { display: none; }` but bootstrap.min.css set `[hidden] { display: none !important; }` so we also need the `!important` here to be able to override the default hidden behavior on the sphinx rendered scikit-learn.org. See: https://github.com/scikit-learn/scikit-learn/issues/21755 */display: inline-block !important;position: relative;}#sk-container-id-5 div.sk-text-repr-fallback {display: none;}</style><div id=\"sk-container-id-5\" class=\"sk-top-container\"><div class=\"sk-text-repr-fallback\"><pre>KMeans(n_init=&#x27;auto&#x27;, random_state=42)</pre><b>In a Jupyter environment, please rerun this cell to show the HTML representation or trust the notebook. <br />On GitHub, the HTML representation is unable to render, please try loading this page with nbviewer.org.</b></div><div class=\"sk-container\" hidden><div class=\"sk-item\"><div class=\"sk-estimator sk-toggleable\"><input class=\"sk-toggleable__control sk-hidden--visually\" id=\"sk-estimator-id-5\" type=\"checkbox\" checked><label for=\"sk-estimator-id-5\" class=\"sk-toggleable__label sk-toggleable__label-arrow\">KMeans</label><div class=\"sk-toggleable__content\"><pre>KMeans(n_init=&#x27;auto&#x27;, random_state=42)</pre></div></div></div></div></div>"
      ],
      "text/plain": [
       "KMeans(n_init='auto', random_state=42)"
      ]
     },
     "execution_count": 87,
     "metadata": {},
     "output_type": "execute_result"
    }
   ],
   "source": []
  },
  {
   "cell_type": "markdown",
   "metadata": {
    "id": "yNqXVw06VCem"
   },
   "source": [
    "### 실루엣 분석 시각화 - 군집화 얼마나 잘 됐니?\n",
    "* https://scikit-learn.org/stable/auto_examples/cluster/plot_kmeans_silhouette_analysis.html"
   ]
  },
  {
   "cell_type": "code",
   "execution_count": null,
   "metadata": {},
   "outputs": [
    {
     "data": {
      "text/plain": [
       "array([9, 9, 9, ..., 4, 4, 4], shape=(5996,), dtype=int32)"
      ]
     },
     "execution_count": 33,
     "metadata": {},
     "output_type": "execute_result"
    }
   ],
   "source": [
    "n_clusters=4\n",
    "\n",
    "kmeans = KMeans(n_clusters=n, n_init=\"auto\", random_state=42)\n",
    "kmeans.fit(X)"
   ]
  },
  {
   "cell_type": "code",
   "execution_count": 34,
   "metadata": {},
   "outputs": [
    {
     "data": {
      "text/plain": [
       "0.001378567268144627"
      ]
     },
     "execution_count": 34,
     "metadata": {},
     "output_type": "execute_result"
    }
   ],
   "source": [
    "silhouette_avg = silhouette_score(X, kmeans.labels_)\n",
    "silhouette_avg"
   ]
  },
  {
   "cell_type": "code",
   "execution_count": 28,
   "metadata": {
    "colab": {
     "base_uri": "https://localhost:8080/",
     "height": 687
    },
    "executionInfo": {
     "elapsed": 5201,
     "status": "ok",
     "timestamp": 1718435399402,
     "user": {
      "displayName": "jinkyung park",
      "userId": "16415320267831525929"
     },
     "user_tz": -540
    },
    "id": "IFDTrpofU5OP",
    "outputId": "f8fa2c21-5132-4b48-d0bd-e5637fa904d3"
   },
   "outputs": [
    {
     "data": {
      "image/png": "[encoded data removed]",
      "text/plain": [
       "<Figure size 1800x700 with 2 Axes>"
      ]
     },
     "metadata": {},
     "output_type": "display_data"
    }
   ],
   "source": [
    "# https://scikit-learn.org/stable/auto_examples/cluster/plot_kmeans_silhouette_analysis.html\n",
    "from sklearn.metrics import silhouette_samples\n",
    "import matplotlib.cm as cm\n",
    "\n",
    "# Create a subplot with 1 row and 2 columns\n",
    "fig, (ax1, ax2) = plt.subplots(1, 2)\n",
    "fig.set_size_inches(18, 7)\n",
    "\n",
    "# The 1st subplot is the silhouette plot\n",
    "# The silhouette coefficient can range from -1, 1 but in this example all\n",
    "# lie within [-0.1, 1]\n",
    "ax1.set_xlim([-0.1, 1])\n",
    "# The (n_clusters+1)*10 is for inserting blank space between silhouette\n",
    "# plots of individual clusters, to demarcate them clearly.\n",
    "ax1.set_ylim([0, len(X) + (n_clusters + 1) * 10])\n",
    "\n",
    "cluster_labels = kmeans.labels_\n",
    "sample_silhouette_values = silhouette_samples(X, cluster_labels)\n",
    "\n",
    "y_lower = 10\n",
    "for i in range(n_clusters):\n",
    "    # Aggregate the silhouette scores for samples belonging to\n",
    "    # cluster i, and sort them\n",
    "    ith_cluster_silhouette_values = sample_silhouette_values[cluster_labels == i]\n",
    "\n",
    "    ith_cluster_silhouette_values.sort()\n",
    "\n",
    "    size_cluster_i = ith_cluster_silhouette_values.shape[0]\n",
    "    y_upper = y_lower + size_cluster_i\n",
    "\n",
    "    color = cm.nipy_spectral(float(i) / n_clusters)\n",
    "    ax1.fill_betweenx(\n",
    "        np.arange(y_lower, y_upper),\n",
    "        0,\n",
    "        ith_cluster_silhouette_values,\n",
    "        facecolor=color,\n",
    "        edgecolor=color,\n",
    "        alpha=0.7,\n",
    "    )\n",
    "\n",
    "    # Label the silhouette plots with their cluster numbers at the middle\n",
    "    ax1.text(-0.05, y_lower + 0.5 * size_cluster_i, str(i))\n",
    "\n",
    "    # Compute the new y_lower for next plot\n",
    "    y_lower = y_upper + 10  # 10 for the 0 samples\n",
    "\n",
    "ax1.set_title(\"The silhouette plot for the various clusters.\")\n",
    "ax1.set_xlabel(\"The silhouette coefficient values\")\n",
    "ax1.set_ylabel(\"Cluster label\")\n",
    "\n",
    "# The vertical line for average silhouette score of all the values\n",
    "ax1.axvline(x=silhouette_avg, color=\"red\", linestyle=\"--\")\n",
    "\n",
    "ax1.set_yticks([])  # Clear the yaxis labels / ticks\n",
    "ax1.set_xticks([-0.1, 0, 0.2, 0.4, 0.6, 0.8, 1])\n",
    "\n",
    "# 2nd Plot showing the actual clusters formed\n",
    "colors = cm.nipy_spectral(cluster_labels.astype(float) / n_clusters)\n",
    "ax2.scatter(\n",
    "    X[:, 0], X[:, 1], marker=\".\", s=30, lw=0, alpha=0.7, c=colors, edgecolor=\"k\"\n",
    ")\n",
    "\n",
    "# Labeling the clusters\n",
    "centers = kmeans.cluster_centers_\n",
    "# Draw white circles at cluster centers\n",
    "ax2.scatter(\n",
    "    centers[:, 0],\n",
    "    centers[:, 1],\n",
    "    marker=\"o\",\n",
    "    c=\"white\",\n",
    "    alpha=1,\n",
    "    s=200,\n",
    "    edgecolor=\"k\",\n",
    ")\n",
    "\n",
    "for i, c in enumerate(centers):\n",
    "    ax2.scatter(c[0], c[1], marker=\"$%d$\" % i, alpha=1, s=50, edgecolor=\"k\")\n",
    "\n",
    "ax2.set_title(\"The visualization of the clustered data.\")\n",
    "ax2.set_xlabel(\"Feature space for the 1st feature\")\n",
    "ax2.set_ylabel(\"Feature space for the 2nd feature\")\n",
    "\n",
    "plt.suptitle(\n",
    "    \"Silhouette analysis for KMeans clustering on sample data with n_clusters = %d\"\n",
    "    % n_clusters,\n",
    "    fontsize=14,\n",
    "    fontweight=\"bold\",\n",
    ")\n",
    "\n",
    "plt.show()"
   ]
  },
  {
   "cell_type": "markdown",
   "metadata": {
    "id": "pcS3Zb7zq8Gy"
   },
   "source": [
    "- 클러스터의 수를 4개로 하니 값은 0 에 가깝고, - 값 으로 가는 것도 있음\n",
    "- 0 에 가까우면 다른 군집과 겹치는 상태\n",
    "- 군집화를 할 때 고려해야 할 내용은 클러스터 수 + 입력된 텍스트도 중요함"
   ]
  },
  {
   "cell_type": "code",
   "execution_count": null,
   "metadata": {
    "id": "a1vsr4_2reTB"
   },
   "outputs": [],
   "source": []
  },
  {
   "cell_type": "markdown",
   "metadata": {
    "id": "ARmTH8XrVH2I"
   },
   "source": [
    "### 실제 제품과 군집 비교"
   ]
  },
  {
   "cell_type": "code",
   "execution_count": 29,
   "metadata": {},
   "outputs": [
    {
     "data": {
      "text/plain": [
       "cluster\n",
       "4     4065\n",
       "9      406\n",
       "11     305\n",
       "13     237\n",
       "10     232\n",
       "2      131\n",
       "12     120\n",
       "6      116\n",
       "14     111\n",
       "8       95\n",
       "3       84\n",
       "15      42\n",
       "18      12\n",
       "7       12\n",
       "5       11\n",
       "1       11\n",
       "16       4\n",
       "0        1\n",
       "17       1\n",
       "Name: count, dtype: int64"
      ]
     },
     "execution_count": 29,
     "metadata": {},
     "output_type": "execute_result"
    }
   ],
   "source": [
    "df['cluster'] = kmeans.labels_\n",
    "df['cluster'].value_counts()"
   ]
  },
  {
   "cell_type": "code",
   "execution_count": 30,
   "metadata": {
    "colab": {
     "base_uri": "https://localhost:8080/",
     "height": 175
    },
    "executionInfo": {
     "elapsed": 347,
     "status": "ok",
     "timestamp": 1718435410908,
     "user": {
      "displayName": "jinkyung park",
      "userId": "16415320267831525929"
     },
     "user_tz": -540
    },
    "id": "otvAvlrCU5LG",
    "outputId": "5b15b78a-e85f-4ec5-c492-92acd13cc01d"
   },
   "outputs": [
    {
     "data": {
      "text/html": [
       "<style type=\"text/css\">\n",
       "#T_53114_row0_col0, #T_53114_row0_col1, #T_53114_row0_col2, #T_53114_row0_col5, #T_53114_row0_col7, #T_53114_row0_col8, #T_53114_row0_col9, #T_53114_row0_col12, #T_53114_row0_col16, #T_53114_row0_col17, #T_53114_row0_col18, #T_53114_row1_col0, #T_53114_row1_col2, #T_53114_row1_col5, #T_53114_row1_col9, #T_53114_row1_col16, #T_53114_row1_col17, #T_53114_row1_col18, #T_53114_row2_col0, #T_53114_row2_col1, #T_53114_row2_col7, #T_53114_row2_col8, #T_53114_row2_col12, #T_53114_row2_col13, #T_53114_row2_col15, #T_53114_row2_col16, #T_53114_row2_col17 {\n",
       "  background-color: #fff7fb;\n",
       "  color: #000000;\n",
       "}\n",
       "#T_53114_row0_col3, #T_53114_row0_col14, #T_53114_row0_col15, #T_53114_row1_col3, #T_53114_row1_col15, #T_53114_row2_col6, #T_53114_row2_col14 {\n",
       "  background-color: #fdf5fa;\n",
       "  color: #000000;\n",
       "}\n",
       "#T_53114_row0_col4 {\n",
       "  background-color: #023858;\n",
       "  color: #f1f1f1;\n",
       "}\n",
       "#T_53114_row0_col6 {\n",
       "  background-color: #fcf4fa;\n",
       "  color: #000000;\n",
       "}\n",
       "#T_53114_row0_col10, #T_53114_row2_col2 {\n",
       "  background-color: #f2ecf5;\n",
       "  color: #000000;\n",
       "}\n",
       "#T_53114_row0_col11, #T_53114_row1_col6 {\n",
       "  background-color: #faf2f8;\n",
       "  color: #000000;\n",
       "}\n",
       "#T_53114_row0_col13 {\n",
       "  background-color: #ece7f2;\n",
       "  color: #000000;\n",
       "}\n",
       "#T_53114_row1_col1, #T_53114_row1_col7, #T_53114_row2_col5, #T_53114_row2_col18 {\n",
       "  background-color: #fef6fb;\n",
       "  color: #000000;\n",
       "}\n",
       "#T_53114_row1_col4 {\n",
       "  background-color: #045d92;\n",
       "  color: #f1f1f1;\n",
       "}\n",
       "#T_53114_row1_col8 {\n",
       "  background-color: #f5eff6;\n",
       "  color: #000000;\n",
       "}\n",
       "#T_53114_row1_col10, #T_53114_row1_col14 {\n",
       "  background-color: #f9f2f8;\n",
       "  color: #000000;\n",
       "}\n",
       "#T_53114_row1_col11 {\n",
       "  background-color: #ebe6f2;\n",
       "  color: #000000;\n",
       "}\n",
       "#T_53114_row1_col12 {\n",
       "  background-color: #f3edf5;\n",
       "  color: #000000;\n",
       "}\n",
       "#T_53114_row1_col13 {\n",
       "  background-color: #fbf3f9;\n",
       "  color: #000000;\n",
       "}\n",
       "#T_53114_row2_col3, #T_53114_row2_col10 {\n",
       "  background-color: #fbf4f9;\n",
       "  color: #000000;\n",
       "}\n",
       "#T_53114_row2_col4 {\n",
       "  background-color: #046198;\n",
       "  color: #f1f1f1;\n",
       "}\n",
       "#T_53114_row2_col9 {\n",
       "  background-color: #cacee5;\n",
       "  color: #000000;\n",
       "}\n",
       "#T_53114_row2_col11 {\n",
       "  background-color: #faf3f9;\n",
       "  color: #000000;\n",
       "}\n",
       "</style>\n",
       "<table id=\"T_53114\">\n",
       "  <thead>\n",
       "    <tr>\n",
       "      <th class=\"index_name level0\" >cluster</th>\n",
       "      <th id=\"T_53114_level0_col0\" class=\"col_heading level0 col0\" >0</th>\n",
       "      <th id=\"T_53114_level0_col1\" class=\"col_heading level0 col1\" >1</th>\n",
       "      <th id=\"T_53114_level0_col2\" class=\"col_heading level0 col2\" >2</th>\n",
       "      <th id=\"T_53114_level0_col3\" class=\"col_heading level0 col3\" >3</th>\n",
       "      <th id=\"T_53114_level0_col4\" class=\"col_heading level0 col4\" >4</th>\n",
       "      <th id=\"T_53114_level0_col5\" class=\"col_heading level0 col5\" >5</th>\n",
       "      <th id=\"T_53114_level0_col6\" class=\"col_heading level0 col6\" >6</th>\n",
       "      <th id=\"T_53114_level0_col7\" class=\"col_heading level0 col7\" >7</th>\n",
       "      <th id=\"T_53114_level0_col8\" class=\"col_heading level0 col8\" >8</th>\n",
       "      <th id=\"T_53114_level0_col9\" class=\"col_heading level0 col9\" >9</th>\n",
       "      <th id=\"T_53114_level0_col10\" class=\"col_heading level0 col10\" >10</th>\n",
       "      <th id=\"T_53114_level0_col11\" class=\"col_heading level0 col11\" >11</th>\n",
       "      <th id=\"T_53114_level0_col12\" class=\"col_heading level0 col12\" >12</th>\n",
       "      <th id=\"T_53114_level0_col13\" class=\"col_heading level0 col13\" >13</th>\n",
       "      <th id=\"T_53114_level0_col14\" class=\"col_heading level0 col14\" >14</th>\n",
       "      <th id=\"T_53114_level0_col15\" class=\"col_heading level0 col15\" >15</th>\n",
       "      <th id=\"T_53114_level0_col16\" class=\"col_heading level0 col16\" >16</th>\n",
       "      <th id=\"T_53114_level0_col17\" class=\"col_heading level0 col17\" >17</th>\n",
       "      <th id=\"T_53114_level0_col18\" class=\"col_heading level0 col18\" >18</th>\n",
       "    </tr>\n",
       "    <tr>\n",
       "      <th class=\"index_name level0\" >product</th>\n",
       "      <th class=\"blank col0\" >&nbsp;</th>\n",
       "      <th class=\"blank col1\" >&nbsp;</th>\n",
       "      <th class=\"blank col2\" >&nbsp;</th>\n",
       "      <th class=\"blank col3\" >&nbsp;</th>\n",
       "      <th class=\"blank col4\" >&nbsp;</th>\n",
       "      <th class=\"blank col5\" >&nbsp;</th>\n",
       "      <th class=\"blank col6\" >&nbsp;</th>\n",
       "      <th class=\"blank col7\" >&nbsp;</th>\n",
       "      <th class=\"blank col8\" >&nbsp;</th>\n",
       "      <th class=\"blank col9\" >&nbsp;</th>\n",
       "      <th class=\"blank col10\" >&nbsp;</th>\n",
       "      <th class=\"blank col11\" >&nbsp;</th>\n",
       "      <th class=\"blank col12\" >&nbsp;</th>\n",
       "      <th class=\"blank col13\" >&nbsp;</th>\n",
       "      <th class=\"blank col14\" >&nbsp;</th>\n",
       "      <th class=\"blank col15\" >&nbsp;</th>\n",
       "      <th class=\"blank col16\" >&nbsp;</th>\n",
       "      <th class=\"blank col17\" >&nbsp;</th>\n",
       "      <th class=\"blank col18\" >&nbsp;</th>\n",
       "    </tr>\n",
       "  </thead>\n",
       "  <tbody>\n",
       "    <tr>\n",
       "      <th id=\"T_53114_level0_row0\" class=\"row_heading level0 row0\" >물티슈</th>\n",
       "      <td id=\"T_53114_row0_col0\" class=\"data row0 col0\" >0</td>\n",
       "      <td id=\"T_53114_row0_col1\" class=\"data row0 col1\" >0</td>\n",
       "      <td id=\"T_53114_row0_col2\" class=\"data row0 col2\" >0</td>\n",
       "      <td id=\"T_53114_row0_col3\" class=\"data row0 col3\" >23</td>\n",
       "      <td id=\"T_53114_row0_col4\" class=\"data row0 col4\" >1510</td>\n",
       "      <td id=\"T_53114_row0_col5\" class=\"data row0 col5\" >2</td>\n",
       "      <td id=\"T_53114_row0_col6\" class=\"data row0 col6\" >34</td>\n",
       "      <td id=\"T_53114_row0_col7\" class=\"data row0 col7\" >2</td>\n",
       "      <td id=\"T_53114_row0_col8\" class=\"data row0 col8\" >0</td>\n",
       "      <td id=\"T_53114_row0_col9\" class=\"data row0 col9\" >0</td>\n",
       "      <td id=\"T_53114_row0_col10\" class=\"data row0 col10\" >134</td>\n",
       "      <td id=\"T_53114_row0_col11\" class=\"data row0 col11\" >57</td>\n",
       "      <td id=\"T_53114_row0_col12\" class=\"data row0 col12\" >0</td>\n",
       "      <td id=\"T_53114_row0_col13\" class=\"data row0 col13\" >190</td>\n",
       "      <td id=\"T_53114_row0_col14\" class=\"data row0 col14\" >25</td>\n",
       "      <td id=\"T_53114_row0_col15\" class=\"data row0 col15\" >19</td>\n",
       "      <td id=\"T_53114_row0_col16\" class=\"data row0 col16\" >3</td>\n",
       "      <td id=\"T_53114_row0_col17\" class=\"data row0 col17\" >0</td>\n",
       "      <td id=\"T_53114_row0_col18\" class=\"data row0 col18\" >1</td>\n",
       "    </tr>\n",
       "    <tr>\n",
       "      <th id=\"T_53114_level0_row1\" class=\"row_heading level0 row1\" >선크림</th>\n",
       "      <td id=\"T_53114_row1_col0\" class=\"data row1 col0\" >1</td>\n",
       "      <td id=\"T_53114_row1_col1\" class=\"data row1 col1\" >11</td>\n",
       "      <td id=\"T_53114_row1_col2\" class=\"data row1 col2\" >0</td>\n",
       "      <td id=\"T_53114_row1_col3\" class=\"data row1 col3\" >25</td>\n",
       "      <td id=\"T_53114_row1_col4\" class=\"data row1 col4\" >1297</td>\n",
       "      <td id=\"T_53114_row1_col5\" class=\"data row1 col5\" >2</td>\n",
       "      <td id=\"T_53114_row1_col6\" class=\"data row1 col6\" >54</td>\n",
       "      <td id=\"T_53114_row1_col7\" class=\"data row1 col7\" >7</td>\n",
       "      <td id=\"T_53114_row1_col8\" class=\"data row1 col8\" >95</td>\n",
       "      <td id=\"T_53114_row1_col9\" class=\"data row1 col9\" >0</td>\n",
       "      <td id=\"T_53114_row1_col10\" class=\"data row1 col10\" >62</td>\n",
       "      <td id=\"T_53114_row1_col11\" class=\"data row1 col11\" >199</td>\n",
       "      <td id=\"T_53114_row1_col12\" class=\"data row1 col12\" >120</td>\n",
       "      <td id=\"T_53114_row1_col13\" class=\"data row1 col13\" >43</td>\n",
       "      <td id=\"T_53114_row1_col14\" class=\"data row1 col14\" >63</td>\n",
       "      <td id=\"T_53114_row1_col15\" class=\"data row1 col15\" >19</td>\n",
       "      <td id=\"T_53114_row1_col16\" class=\"data row1 col16\" >0</td>\n",
       "      <td id=\"T_53114_row1_col17\" class=\"data row1 col17\" >1</td>\n",
       "      <td id=\"T_53114_row1_col18\" class=\"data row1 col18\" >0</td>\n",
       "    </tr>\n",
       "    <tr>\n",
       "      <th id=\"T_53114_level0_row2\" class=\"row_heading level0 row2\" >에어팟프로2세대</th>\n",
       "      <td id=\"T_53114_row2_col0\" class=\"data row2 col0\" >0</td>\n",
       "      <td id=\"T_53114_row2_col1\" class=\"data row2 col1\" >0</td>\n",
       "      <td id=\"T_53114_row2_col2\" class=\"data row2 col2\" >131</td>\n",
       "      <td id=\"T_53114_row2_col3\" class=\"data row2 col3\" >36</td>\n",
       "      <td id=\"T_53114_row2_col4\" class=\"data row2 col4\" >1258</td>\n",
       "      <td id=\"T_53114_row2_col5\" class=\"data row2 col5\" >7</td>\n",
       "      <td id=\"T_53114_row2_col6\" class=\"data row2 col6\" >28</td>\n",
       "      <td id=\"T_53114_row2_col7\" class=\"data row2 col7\" >3</td>\n",
       "      <td id=\"T_53114_row2_col8\" class=\"data row2 col8\" >0</td>\n",
       "      <td id=\"T_53114_row2_col9\" class=\"data row2 col9\" >406</td>\n",
       "      <td id=\"T_53114_row2_col10\" class=\"data row2 col10\" >36</td>\n",
       "      <td id=\"T_53114_row2_col11\" class=\"data row2 col11\" >49</td>\n",
       "      <td id=\"T_53114_row2_col12\" class=\"data row2 col12\" >0</td>\n",
       "      <td id=\"T_53114_row2_col13\" class=\"data row2 col13\" >4</td>\n",
       "      <td id=\"T_53114_row2_col14\" class=\"data row2 col14\" >23</td>\n",
       "      <td id=\"T_53114_row2_col15\" class=\"data row2 col15\" >4</td>\n",
       "      <td id=\"T_53114_row2_col16\" class=\"data row2 col16\" >1</td>\n",
       "      <td id=\"T_53114_row2_col17\" class=\"data row2 col17\" >0</td>\n",
       "      <td id=\"T_53114_row2_col18\" class=\"data row2 col18\" >11</td>\n",
       "    </tr>\n",
       "  </tbody>\n",
       "</table>\n"
      ],
      "text/plain": [
       "<pandas.io.formats.style.Styler at 0x1ce8aecde80>"
      ]
     },
     "execution_count": 30,
     "metadata": {},
     "output_type": "execute_result"
    }
   ],
   "source": [
    "pd.crosstab(df['product'], df['cluster']).style.background_gradient(axis=None)"
   ]
  },
  {
   "cell_type": "code",
   "execution_count": 35,
   "metadata": {
    "colab": {
     "base_uri": "https://localhost:8080/",
     "height": 309
    },
    "executionInfo": {
     "elapsed": 839,
     "status": "ok",
     "timestamp": 1718435417487,
     "user": {
      "displayName": "jinkyung park",
      "userId": "16415320267831525929"
     },
     "user_tz": -540
    },
    "id": "WrwKRizVVLNg",
    "outputId": "8ac4f705-1151-4afd-8a96-ad89961325ed"
   },
   "outputs": [
    {
     "data": {
      "text/plain": [
       "<Axes: xlabel='cluster', ylabel='count'>"
      ]
     },
     "execution_count": 35,
     "metadata": {},
     "output_type": "execute_result"
    },
    {
     "data": {
      "image/png": "[encoded data removed]",
      "text/plain": [
       "<Figure size 640x480 with 1 Axes>"
      ]
     },
     "metadata": {},
     "output_type": "display_data"
    }
   ],
   "source": [
    "# countplot\n",
    "sns.countplot(data=df, x='cluster', hue='cluster')"
   ]
  },
  {
   "cell_type": "code",
   "execution_count": 38,
   "metadata": {
    "colab": {
     "base_uri": "https://localhost:8080/"
    },
    "executionInfo": {
     "elapsed": 316,
     "status": "ok",
     "timestamp": 1718435427480,
     "user": {
      "displayName": "jinkyung park",
      "userId": "16415320267831525929"
     },
     "user_tz": -540
    },
    "id": "FxIFiUegsMxE",
    "outputId": "b5a0b7c8-6408-45d9-a3ef-5deb9bc135d3"
   },
   "outputs": [
    {
     "data": {
      "text/plain": [
       "완전       29.569410\n",
       "좋아요       5.925525\n",
       "배송        3.601645\n",
       "너무        2.430934\n",
       "빠르고       2.093594\n",
       "정말        1.782801\n",
       "만족        1.741310\n",
       "쓰다가       1.726038\n",
       "신세계네요     1.705414\n",
       "재구매       1.588650\n",
       "맘에        1.505494\n",
       "왔어요       1.396482\n",
       "감사합니다     1.328024\n",
       "들어요       1.268225\n",
       "ㅎㅎ        1.265082\n",
       "촉촉하고      1.257406\n",
       "물티슈       1.255332\n",
       "최고예요      1.211773\n",
       "좋고        1.194715\n",
       "도톰하고      1.185622\n",
       "dtype: float64"
      ]
     },
     "execution_count": 38,
     "metadata": {},
     "output_type": "execute_result"
    }
   ],
   "source": [
    "df_dtm.loc[df[df['cluster'] == 3].index].sum().nlargest(20)"
   ]
  },
  {
   "cell_type": "markdown",
   "metadata": {
    "id": "8sKlY-PZsMip"
   },
   "source": []
  },
  {
   "cell_type": "markdown",
   "metadata": {
    "id": "p3dXJ1hQVNH9"
   },
   "source": [
    "## 각 군집별 키워드 TF-IDF 값 합계 순위"
   ]
  },
  {
   "cell_type": "code",
   "execution_count": 39,
   "metadata": {
    "id": "sUztuPdOVLJ2"
   },
   "outputs": [],
   "source": [
    "def kmeans_tfidf(no):\n",
    "    df_cluster = df_dtm.loc[df[df['cluster'] == no].index]\n",
    "    df_cluster.sum().nlargest(20).plot(kind='bar', rot=40)"
   ]
  },
  {
   "cell_type": "code",
   "execution_count": 40,
   "metadata": {
    "colab": {
     "base_uri": "https://localhost:8080/",
     "height": 337
    },
    "executionInfo": {
     "elapsed": 1031,
     "status": "ok",
     "timestamp": 1718435069846,
     "user": {
      "displayName": "jinkyung park",
      "userId": "16415320267831525929"
     },
     "user_tz": -540
    },
    "id": "M33P2k91VLGk",
    "outputId": "2fc79321-3513-48ab-8b63-10c7cdda6612"
   },
   "outputs": [
    {
     "data": {
      "image/png": "[encoded data removed]",
      "text/plain": [
       "<Figure size 640x480 with 1 Axes>"
      ]
     },
     "metadata": {},
     "output_type": "display_data"
    }
   ],
   "source": [
    "# 군집별 TF-IDF 키워드 시각화\n",
    "kmeans_tfidf(0)"
   ]
  },
  {
   "cell_type": "code",
   "execution_count": 41,
   "metadata": {
    "colab": {
     "base_uri": "https://localhost:8080/",
     "height": 329
    },
    "executionInfo": {
     "elapsed": 833,
     "status": "ok",
     "timestamp": 1718435071807,
     "user": {
      "displayName": "jinkyung park",
      "userId": "16415320267831525929"
     },
     "user_tz": -540
    },
    "id": "t4ujdSHRVRaK",
    "outputId": "1cd97e13-a102-49e4-bfca-e40e68c63cc5"
   },
   "outputs": [
    {
     "data": {
      "image/png": "[encoded data removed]",
      "text/plain": [
       "<Figure size 640x480 with 1 Axes>"
      ]
     },
     "metadata": {},
     "output_type": "display_data"
    }
   ],
   "source": [
    "kmeans_tfidf(1)"
   ]
  },
  {
   "cell_type": "code",
   "execution_count": 42,
   "metadata": {
    "colab": {
     "base_uri": "https://localhost:8080/",
     "height": 329
    },
    "executionInfo": {
     "elapsed": 437,
     "status": "ok",
     "timestamp": 1718435072243,
     "user": {
      "displayName": "jinkyung park",
      "userId": "16415320267831525929"
     },
     "user_tz": -540
    },
    "id": "VUUggwxMVRWt",
    "outputId": "635a382e-c0e7-41b2-cffc-a6b942e65d8a"
   },
   "outputs": [
    {
     "data": {
      "image/png": "[encoded data removed]",
      "text/plain": [
       "<Figure size 640x480 with 1 Axes>"
      ]
     },
     "metadata": {},
     "output_type": "display_data"
    }
   ],
   "source": [
    "kmeans_tfidf(2)"
   ]
  },
  {
   "cell_type": "code",
   "execution_count": null,
   "metadata": {
    "colab": {
     "base_uri": "https://localhost:8080/",
     "height": 329
    },
    "executionInfo": {
     "elapsed": 613,
     "status": "ok",
     "timestamp": 1718435073557,
     "user": {
      "displayName": "jinkyung park",
      "userId": "16415320267831525929"
     },
     "user_tz": -540
    },
    "id": "Y8XNngRbVU7J",
    "outputId": "d955002b-200d-4240-ec0a-89a0b25c7a96"
   },
   "outputs": [
    {
     "data": {
      "image/png": "[encoded data removed]",
      "text/plain": [
       "<Figure size 800x300 with 1 Axes>"
      ]
     },
     "metadata": {},
     "output_type": "display_data"
    }
   ],
   "source": []
  },
  {
   "cell_type": "code",
   "execution_count": null,
   "metadata": {
    "id": "CmxwtdF2tXt3"
   },
   "outputs": [],
   "source": []
  }
 ],
 "metadata": {
  "colab": {
   "authorship_tag": "ABX9TyNDiExVMpdFeQnCDv/Iibty",
   "provenance": []
  },
  "kernelspec": {
   "display_name": ".venv",
   "language": "python",
   "name": "python3"
  },
  "language_info": {
   "codemirror_mode": {
    "name": "ipython",
    "version": 3
   },
   "file_extension": ".py",
   "mimetype": "text/x-python",
   "name": "python",
   "nbconvert_exporter": "python",
   "pygments_lexer": "ipython3",
   "version": "3.13.3"
  }
 },
 "nbformat": 4,
 "nbformat_minor": 0
}
