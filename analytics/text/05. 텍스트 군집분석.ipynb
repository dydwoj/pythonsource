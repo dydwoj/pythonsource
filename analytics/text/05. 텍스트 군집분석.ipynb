{
 "cells": [
  {
   "cell_type": "markdown",
   "metadata": {
    "id": "ioXpWe4HkgQX"
   },
   "source": [
    "군집화 알고리즘\n",
    "- 거리기반 : KMeans 사용\n",
    "- 거리를 구해서 비슷한 내용들끼로 모아두는 것\n",
    "\n",
    "<img src=\"https://av-eks-blogoptimized.s3.amazonaws.com/46668k-means-clustering-algorithm-in-machine-learning.png\">\n"
   ]
  },
  {
   "cell_type": "code",
   "execution_count": null,
   "metadata": {
    "id": "WfNJLOJDkQo9"
   },
   "outputs": [],
   "source": [
    "import pandas as pd\n",
    "import numpy as np\n",
    "import seaborn as sns\n",
    "import matplotlib.pyplot as plt\n",
    "import koreanize_matplotlib\n",
    "\n",
    "import plotly.express as px\n",
    "import plotly.graph_objects as go\n",
    "from plotly.subplots import make_subplots"
   ]
  },
  {
   "cell_type": "code",
   "execution_count": null,
   "metadata": {},
   "outputs": [],
   "source": [
    "from sklearn.feature_extraction.text import CountVectorizer, TfidfVectorizer\n",
    "from sklearn.cluster import KMeans\n",
    "\n",
    "\n",
    "from pecab import PeCab"
   ]
  },
  {
   "cell_type": "code",
   "execution_count": null,
   "metadata": {
    "id": "P_3LGhRckQl4"
   },
   "outputs": [],
   "source": [
    "# 음식 리뷰 예제 텍스트 데이터\n",
    "corpus = [\n",
    "    \"샐러드 맛이 깔끔해서 좋아요.\",\n",
    "    \"주문한 음식이 늦게 와서 배고팠어요.\",\n",
    "    \"피자가 맛있어요.\",\n",
    "    \"라면이 너무 짜게 나왔어요.\",\n",
    "    \"배달된 치킨이 맛있어요.\",\n",
    "    \"메뉴 설명보다 양이 적어요.\",\n",
    "    \"주문한 음식이 다른 것으로 와서 다시 주문했어요.\",\n",
    "    \"맛은 좋은데 양이 좀 적은 편이에요.\",\n",
    "    \"떡볶이의 매운맛이 적절해요.\",\n",
    "    \"초밥이 신선해서 좋았어요.\",\n",
    "    \"빵이 부드럽고 맛있네요!\",\n",
    "    \"스테이크가 너무 질겼어요.\",\n",
    "    \"샐러드의 드레싱이 너무 강했어요.\",\n",
    "    \"나초의 치즈소스가 맛있었어요.\",\n",
    "    \"파스타가 약간 덜 익은 것 같아요.\",\n",
    "    \"커피가 너무 진해서 물을 더 추가했어요.\",\n",
    "    \"디저트는 달지 않아서 좋았습니다.\",\n",
    "    \"음료가 너무 달아서 다음엔 당도 조절할게요.\",\n",
    "    \"피자 도우가 너무 두꺼워서 먹기 힘들었어요.\",\n",
    "    \"햄버거의 빵이 너무 딱딱해요.\",\n",
    "    \"감자튀김이 너무 기름져서 느끼했어요.\",\n",
    "    \"치즈케이크가 아주 부드럽고 맛있어요.\"\n",
    "]"
   ]
  },
  {
   "cell_type": "markdown",
   "metadata": {
    "id": "eq1_9ZIakUsW"
   },
   "source": [
    "## 전처리\n",
    "### 형태소 분석기를 통한 조사 구두점 제거\n",
    "* https://github.com/hyunwoongko/pecab\n",
    "* 조사, 구두점 제거\n",
    "* 품사태그표 :\n",
    "    * https://konlpy.org/ko/v0.6.0/morph/\n",
    "    * https://docs.google.com/spreadsheets/d/1OGAjUvalBuX-oZvZ_-9tEfYD2gQe7hTGsgUpiiBSXI8/edit#gid=0"
   ]
  },
  {
   "cell_type": "code",
   "execution_count": null,
   "metadata": {
    "id": "waiX4nODkQi8"
   },
   "outputs": [],
   "source": [
    "\n"
   ]
  },
  {
   "cell_type": "code",
   "execution_count": null,
   "metadata": {
    "id": "TAIkqJmNmqdJ"
   },
   "outputs": [],
   "source": []
  },
  {
   "cell_type": "code",
   "execution_count": null,
   "metadata": {
    "id": "KCbVnaEVqMru"
   },
   "outputs": [],
   "source": [
    "# 제거할 품사(조사) 작업하기\n",
    "\n"
   ]
  },
  {
   "cell_type": "code",
   "execution_count": null,
   "metadata": {
    "id": "aXi2eKrhkQgI"
   },
   "outputs": [],
   "source": [
    "# 위 개념을 적용한 함수 작성\n",
    "# 조사와 구둣점(느낌표) 제거\n",
    "\n"
   ]
  },
  {
   "cell_type": "code",
   "execution_count": null,
   "metadata": {
    "id": "kKEOJGJHm1-9"
   },
   "outputs": [],
   "source": []
  },
  {
   "cell_type": "code",
   "execution_count": null,
   "metadata": {
    "id": "wqRjqlnzm17X"
   },
   "outputs": [],
   "source": []
  },
  {
   "cell_type": "code",
   "execution_count": null,
   "metadata": {
    "id": "fMZKFWcHm13-"
   },
   "outputs": [],
   "source": []
  },
  {
   "cell_type": "code",
   "execution_count": null,
   "metadata": {
    "id": "qBTC7hzRm10B"
   },
   "outputs": [],
   "source": []
  },
  {
   "cell_type": "markdown",
   "metadata": {
    "id": "vQ7rt8i3tuIR"
   },
   "source": [
    "## 군집화\n",
    "\n",
    "* https://scikit-learn.org/stable/modules/clustering.html#k-means\n",
    "* https://scikit-learn.org/stable/modules/generated/sklearn.cluster.KMeans.html"
   ]
  },
  {
   "cell_type": "code",
   "execution_count": null,
   "metadata": {
    "id": "plPnq2n-uf19"
   },
   "outputs": [],
   "source": [
    "\n",
    "\n"
   ]
  },
  {
   "cell_type": "code",
   "execution_count": null,
   "metadata": {
    "id": "dANsk5Pbuxor"
   },
   "outputs": [],
   "source": []
  },
  {
   "cell_type": "code",
   "execution_count": null,
   "metadata": {
    "id": "QWiykkV4t05W"
   },
   "outputs": [],
   "source": []
  },
  {
   "cell_type": "code",
   "execution_count": null,
   "metadata": {
    "id": "bxkOLJgdvk8D"
   },
   "outputs": [],
   "source": []
  },
  {
   "cell_type": "code",
   "execution_count": null,
   "metadata": {
    "id": "4gpoeXCAtL9V"
   },
   "outputs": [],
   "source": []
  },
  {
   "cell_type": "markdown",
   "metadata": {
    "id": "R0ok4c_ht5ZL"
   },
   "source": [
    "## 군집화 결과\n",
    "* 같은 내용의 텍스트끼리 군집화가 되었는지 확인"
   ]
  },
  {
   "cell_type": "code",
   "execution_count": null,
   "metadata": {
    "id": "p9VOt0Uyt4XA"
   },
   "outputs": [],
   "source": []
  },
  {
   "cell_type": "code",
   "execution_count": null,
   "metadata": {
    "id": "crT9XYXgt8c5"
   },
   "outputs": [],
   "source": []
  },
  {
   "cell_type": "code",
   "execution_count": null,
   "metadata": {
    "id": "ZIE6wL3em-CZ"
   },
   "outputs": [],
   "source": []
  },
  {
   "cell_type": "code",
   "execution_count": null,
   "metadata": {
    "id": "G9JaGFSOt96g"
   },
   "outputs": [],
   "source": []
  },
  {
   "cell_type": "code",
   "execution_count": null,
   "metadata": {
    "id": "W-ILKWe-Soaj"
   },
   "outputs": [],
   "source": []
  }
 ],
 "metadata": {
  "colab": {
   "authorship_tag": "ABX9TyO+CD1ZIdEBM/gBriozo2NI",
   "provenance": []
  },
  "kernelspec": {
   "display_name": "Python 3",
   "name": "python3"
  },
  "language_info": {
   "name": "python"
  }
 },
 "nbformat": 4,
 "nbformat_minor": 0
}
