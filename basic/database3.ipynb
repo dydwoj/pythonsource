{
 "cells": [
  {
   "cell_type": "markdown",
   "id": "63416bd9",
   "metadata": {},
   "source": [
    "### MongoDB 연동\n",
    "\n",
    "- pip install pymongo"
   ]
  },
  {
   "cell_type": "code",
   "execution_count": null,
   "id": "d3e5965d",
   "metadata": {},
   "outputs": [],
   "source": [
    "from pymongo import MongoClient\n",
    "\n",
    "client = MongoClient(\"mongodb+srv://test:<db_password>@cluster0.owgglvt.mongodb.net/\")"
   ]
  }
 ],
 "metadata": {
  "kernelspec": {
   "display_name": "venv",
   "language": "python",
   "name": "python3"
  },
  "language_info": {
   "name": "python",
   "version": "3.13.3"
  }
 },
 "nbformat": 4,
 "nbformat_minor": 5
}
