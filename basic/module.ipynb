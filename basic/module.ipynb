{
 "cells": [
  {
   "cell_type": "markdown",
   "id": "9b1665c9",
   "metadata": {},
   "source": [
    "### 모듈\n",
    "- 함수, 클래스를 모아놓은 파일\n",
    "\n",
    "### 패키지\n",
    "- 관련있는 모듈의 집합"
   ]
  },
  {
   "cell_type": "code",
   "execution_count": 1,
   "id": "e0db9ce9",
   "metadata": {},
   "outputs": [
    {
     "name": "stdout",
     "output_type": "stream",
     "text": [
      "4\n",
      "3\n",
      "0.1411200080598672\n"
     ]
    }
   ],
   "source": [
    "import math\n",
    "\n",
    "print(math.ceil(3.14))\n",
    "print(math.floor(3.14))\n",
    "print(math.sin(3))\n"
   ]
  },
  {
   "cell_type": "code",
   "execution_count": null,
   "id": "2a9698a0",
   "metadata": {},
   "outputs": [
    {
     "name": "stdout",
     "output_type": "stream",
     "text": [
      "0.5953971381912411\n",
      "15.466718334486476\n",
      "4\n",
      "11\n",
      "6\n",
      "[3, 7, 2, 6, 4, 5, 1]\n",
      "[3, 1]\n"
     ]
    }
   ],
   "source": [
    "import random\n",
    "\n",
    "# java 의 math.random 과 같은 개념\n",
    "# 0.0 <= x < 1.0\n",
    "print(random.random())\n",
    "# uniform(x,y) : x ~ y 사이의 임의의 float 값 리턴\n",
    "print(random.uniform(10, 20))\n",
    "\n",
    "# randrange(max) : 0 ~ max 사이의 int 값 리턴\n",
    "# randrange(min, max) : min ~ max 사이의 int 값 리턴\n",
    "print(random.randrange(10))\n",
    "print(random.randrange(10, 20))\n",
    "\n",
    "# choice\n",
    "list1 = [1,2,3,4,5,6,7]\n",
    "# choice(리스트) : 리스트에서 임의의 하나\n",
    "print(random.choice(list1))\n",
    "\n",
    "# shuffle(리스트) : 리스트 내부의 요소들을 랜덤하게 섞기\n",
    "random.shuffle(list1)\n",
    "print(list1)\n",
    "\n",
    "# sample(리스트, k=값) : 리스트 요소 중에서 k개 뽑기\n",
    "print(random.sample(list1, k=2))"
   ]
  },
  {
   "cell_type": "code",
   "execution_count": 4,
   "id": "f5cc3a63",
   "metadata": {},
   "outputs": [
    {
     "name": "stdout",
     "output_type": "stream",
     "text": [
      "지금부터 5초 정지\n",
      "프로그램 종료\n"
     ]
    }
   ],
   "source": [
    "import time\n",
    "print(\"지금부터 5초 정지\")\n",
    "time.sleep(5)\n",
    "print(\"프로그램 종료\")"
   ]
  },
  {
   "cell_type": "code",
   "execution_count": 5,
   "id": "e94729f1",
   "metadata": {},
   "outputs": [
    {
     "name": "stdout",
     "output_type": "stream",
     "text": [
      "4\n",
      "3\n",
      "0.1411200080598672\n"
     ]
    }
   ],
   "source": [
    "# import 모듈명 : 전체 모듈을 load\n",
    "# from 모듈명 import 함수명, 클래스명... : 사용할 함수, 클래스만 가져오기\n",
    "\n",
    "from math import ceil, floor, sin\n",
    "\n",
    "print(ceil(3.14))\n",
    "print(floor(3.14))\n",
    "print(sin(3))"
   ]
  },
  {
   "cell_type": "code",
   "execution_count": 6,
   "id": "a45ec636",
   "metadata": {},
   "outputs": [
    {
     "name": "stdout",
     "output_type": "stream",
     "text": [
      "0.939414930725014\n",
      "18.8020475485738\n",
      "3\n",
      "11\n",
      "4\n",
      "[3, 2, 6, 5, 7, 4, 1]\n",
      "[6, 1]\n"
     ]
    }
   ],
   "source": [
    "from random import random, randrange, choice, shuffle, sample, uniform\n",
    "\n",
    "# java 의 math.random 과 같은 개념\n",
    "# 0.0 <= x < 1.0\n",
    "print(random())\n",
    "# uniform(x,y) : x ~ y 사이의 임의의 float 값 리턴\n",
    "print(uniform(10, 20))\n",
    "\n",
    "# randrange(max) : 0 ~ max 사이의 int 값 리턴\n",
    "# randrange(min, max) : min ~ max 사이의 int 값 리턴\n",
    "print(randrange(10))\n",
    "print(randrange(10, 20))\n",
    "\n",
    "# choice\n",
    "list1 = [1,2,3,4,5,6,7]\n",
    "# choice(리스트) : 리스트에서 임의의 하나\n",
    "print(choice(list1))\n",
    "\n",
    "# shuffle(리스트) : 리스트 내부의 요소들을 랜덤하게 섞기\n",
    "shuffle(list1)\n",
    "print(list1)\n",
    "\n",
    "# sample(리스트, k=값) : 리스트 요소 중에서 k개 뽑기\n",
    "print(sample(list1, k=2))"
   ]
  },
  {
   "cell_type": "markdown",
   "id": "b5f1abfb",
   "metadata": {},
   "source": [
    "### 커스텀 모듈"
   ]
  },
  {
   "cell_type": "code",
   "execution_count": 7,
   "id": "0ca8de09",
   "metadata": {},
   "outputs": [
    {
     "name": "stdout",
     "output_type": "stream",
     "text": [
      "11\n",
      "4\n"
     ]
    }
   ],
   "source": [
    "import mod1\n",
    "\n",
    "print(mod1.add(5, 6))\n",
    "print(mod1.sub(10, 6))"
   ]
  },
  {
   "cell_type": "code",
   "execution_count": 12,
   "id": "1679f702",
   "metadata": {},
   "outputs": [
    {
     "name": "stdout",
     "output_type": "stream",
     "text": [
      "11\n",
      "4\n"
     ]
    }
   ],
   "source": [
    "from mod1 import add, sub\n",
    "\n",
    "print(add(5, 6))\n",
    "print(sub(10, 6))"
   ]
  },
  {
   "cell_type": "code",
   "execution_count": 13,
   "id": "a623ca54",
   "metadata": {},
   "outputs": [
    {
     "name": "stdout",
     "output_type": "stream",
     "text": [
      "78.5398\n",
      "21\n"
     ]
    }
   ],
   "source": [
    "from mod2 import *\n",
    "\n",
    "obj = Math()\n",
    "print(obj.solv(5))\n",
    "\n",
    "print(add(9, 12))"
   ]
  },
  {
   "cell_type": "code",
   "execution_count": 15,
   "id": "80d81aaf",
   "metadata": {},
   "outputs": [
    {
     "name": "stdout",
     "output_type": "stream",
     "text": [
      "20\n",
      "10\n",
      "75\n",
      "3.0\n"
     ]
    }
   ],
   "source": [
    "from mod3 import Calc\n",
    "\n",
    "calc = Calc(15, 5)\n",
    "print(calc.sum())\n",
    "print(calc.sub())\n",
    "print(calc.mul())\n",
    "print(calc.div())"
   ]
  },
  {
   "cell_type": "code",
   "execution_count": 16,
   "id": "d6075598",
   "metadata": {},
   "outputs": [],
   "source": [
    "import datetime\n",
    "\n",
    "day1 = datetime.datetime(2025, 6, 9, 13, 17, 11)\n",
    "day2 = datetime.date(2025, 6, 9)\n",
    "time1 = datetime.time(13, 17, 11)"
   ]
  },
  {
   "cell_type": "code",
   "execution_count": null,
   "id": "ced8ade7",
   "metadata": {},
   "outputs": [
    {
     "data": {
      "text/plain": [
       "1749442765.7287097"
      ]
     },
     "execution_count": 17,
     "metadata": {},
     "output_type": "execute_result"
    }
   ],
   "source": [
    "import time\n",
    "\n",
    "# \n",
    "time.time()"
   ]
  },
  {
   "cell_type": "code",
   "execution_count": null,
   "id": "1783e97e",
   "metadata": {},
   "outputs": [],
   "source": []
  }
 ],
 "metadata": {
  "kernelspec": {
   "display_name": "venv",
   "language": "python",
   "name": "python3"
  },
  "language_info": {
   "codemirror_mode": {
    "name": "ipython",
    "version": 3
   },
   "file_extension": ".py",
   "mimetype": "text/x-python",
   "name": "python",
   "nbconvert_exporter": "python",
   "pygments_lexer": "ipython3",
   "version": "3.13.3"
  }
 },
 "nbformat": 4,
 "nbformat_minor": 5
}
