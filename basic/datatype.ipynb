{
 "cells": [
  {
   "cell_type": "markdown",
   "id": "cd44eee3",
   "metadata": {},
   "source": [
    "### 자료형\n",
    "\n",
    "- 숫자형 : 정수, 실수, 8진수, 16진수\n"
   ]
  },
  {
   "cell_type": "code",
   "execution_count": null,
   "id": "d778fef7",
   "metadata": {},
   "outputs": [
    {
     "data": {
      "text/plain": [
       "127"
      ]
     },
     "execution_count": 2,
     "metadata": {},
     "output_type": "execute_result"
    }
   ],
   "source": [
    "a = 123\n",
    "B = -134\n",
    "c = 0o177  # 1 * 8의 2승 + 7 * 8 + 7\n",
    "c  # == print(c)"
   ]
  },
  {
   "cell_type": "code",
   "execution_count": null,
   "id": "1d0fe910",
   "metadata": {},
   "outputs": [
    {
     "name": "stdout",
     "output_type": "stream",
     "text": [
      "7\n",
      "-1\n",
      "12\n",
      "0.75\n",
      "0\n",
      "3\n"
     ]
    }
   ],
   "source": [
    "# 사칙연산 : +, -, *, /, //, %\n",
    "\n",
    "a = 3\n",
    "b = 4\n",
    "\n",
    "print(a + b)\n",
    "print(a - b)\n",
    "print(a * b)\n",
    "print(a / b)\n",
    "print(a // b)\n",
    "print(a % b)"
   ]
  },
  {
   "cell_type": "markdown",
   "id": "4bf1624b",
   "metadata": {},
   "source": [
    "- 문자열 자료형\n",
    "  - 작은따옴표, 큰따옴표, 큰따옴표 3개, 작은따옴표 3개"
   ]
  },
  {
   "cell_type": "code",
   "execution_count": 4,
   "id": "76c813dc",
   "metadata": {},
   "outputs": [
    {
     "data": {
      "text/plain": [
       "\"Python's favorite food is perl\""
      ]
     },
     "execution_count": 4,
     "metadata": {},
     "output_type": "execute_result"
    }
   ],
   "source": [
    "food = \"Python's favorite food is perl\"\n",
    "food"
   ]
  },
  {
   "cell_type": "code",
   "execution_count": null,
   "id": "17603b49",
   "metadata": {},
   "outputs": [
    {
     "data": {
      "text/plain": [
       "\"Python's favorite food is perl\""
      ]
     },
     "execution_count": 5,
     "metadata": {},
     "output_type": "execute_result"
    }
   ],
   "source": [
    "food = 'Python\\'s favorite food is perl'\n",
    "food"
   ]
  },
  {
   "cell_type": "code",
   "execution_count": 7,
   "id": "e9e2862c",
   "metadata": {},
   "outputs": [
    {
     "name": "stdout",
     "output_type": "stream",
     "text": [
      "Life is too short\n",
      " You need python\n"
     ]
    }
   ],
   "source": [
    "multiline = \"Life is too short\\n You need python\"\n",
    "print(multiline)"
   ]
  },
  {
   "cell_type": "code",
   "execution_count": 8,
   "id": "efa84b32",
   "metadata": {},
   "outputs": [
    {
     "name": "stdout",
     "output_type": "stream",
     "text": [
      "Life is too short\n",
      "You need python\n"
     ]
    }
   ],
   "source": [
    "multiline = \"\"\"Life is too short\n",
    "You need python\"\"\"\n",
    "print(multiline)"
   ]
  },
  {
   "cell_type": "code",
   "execution_count": 11,
   "id": "d91ef644",
   "metadata": {},
   "outputs": [
    {
     "name": "stdout",
     "output_type": "stream",
     "text": [
      "Life is too short\n",
      "You need python\n"
     ]
    }
   ],
   "source": [
    "multiline = '''Life is too short\n",
    "You need python'''\n",
    "print(multiline)"
   ]
  },
  {
   "cell_type": "markdown",
   "id": "7d372041",
   "metadata": {},
   "source": [
    "```\n",
    "- 문자열 연산\n",
    "    - + : 연결\n",
    "    - * : 반복\n",
    "```"
   ]
  },
  {
   "cell_type": "code",
   "execution_count": 12,
   "id": "13b139ad",
   "metadata": {},
   "outputs": [
    {
     "name": "stdout",
     "output_type": "stream",
     "text": [
      "Python is fun\n"
     ]
    }
   ],
   "source": [
    "head = \"Python\"\n",
    "tail = \" is fun\"\n",
    "print(head + tail)"
   ]
  },
  {
   "cell_type": "code",
   "execution_count": 13,
   "id": "e3e9ef3f",
   "metadata": {},
   "outputs": [
    {
     "name": "stdout",
     "output_type": "stream",
     "text": [
      "PythonPython\n"
     ]
    }
   ],
   "source": [
    "head = \"Python\"\n",
    "print(head * 2)"
   ]
  },
  {
   "cell_type": "code",
   "execution_count": 14,
   "id": "cf4abd24",
   "metadata": {},
   "outputs": [
    {
     "name": "stdout",
     "output_type": "stream",
     "text": [
      "==================================================\n",
      "My program\n",
      "==================================================\n"
     ]
    }
   ],
   "source": [
    "print(\"=\" * 50)\n",
    "print(\"My program\")\n",
    "print(\"=\" * 50)"
   ]
  },
  {
   "cell_type": "markdown",
   "id": "dfd880ad",
   "metadata": {},
   "source": [
    "- 문자열 인덱싱과 슬라이싱\n",
    "    - 인덱스 : 0을 붙이면 왼쪽부터 시작, -1을 붙이면 오른쪽부터 접근"
   ]
  },
  {
   "cell_type": "code",
   "execution_count": 17,
   "id": "8de51aa6",
   "metadata": {},
   "outputs": [
    {
     "data": {
      "text/plain": [
       "'Life is too short You need python'"
      ]
     },
     "execution_count": 17,
     "metadata": {},
     "output_type": "execute_result"
    }
   ],
   "source": [
    "str1 = '''Life is too short You need python'''\n",
    "str1"
   ]
  },
  {
   "cell_type": "code",
   "execution_count": 18,
   "id": "f4918ea2",
   "metadata": {},
   "outputs": [
    {
     "name": "stdout",
     "output_type": "stream",
     "text": [
      "e\n",
      "n\n"
     ]
    }
   ],
   "source": [
    "# 인덱스\n",
    "\n",
    "print(str1[3])\n",
    "print(str1[-1])"
   ]
  },
  {
   "cell_type": "code",
   "execution_count": null,
   "id": "91c86165",
   "metadata": {},
   "outputs": [
    {
     "name": "stdout",
     "output_type": "stream",
     "text": [
      "e is too short You need python\n",
      "Life i\n",
      "Life is too short You need python\n",
      "Life is too short You need\n"
     ]
    }
   ],
   "source": [
    "# 슬라이싱 [시작위치:종료위치]\n",
    "# 종료위치는 출력에 포함하지 않음\n",
    "# 위치 지정하지 않으면 무조건 처음 or 마지막 의미\n",
    "\n",
    "print(str1[3:])\n",
    "print(str1[:6])\n",
    "print(str1[:])\n",
    "print(str1[:-7])"
   ]
  },
  {
   "cell_type": "code",
   "execution_count": 24,
   "id": "48b2f380",
   "metadata": {},
   "outputs": [
    {
     "name": "stdout",
     "output_type": "stream",
     "text": [
      "20250601\n",
      "Rainy\n"
     ]
    }
   ],
   "source": [
    "a = \"20250601Rainy\"\n",
    "\n",
    "# 날짜와 날씨 구분 후 출력\n",
    "date = a[:8]\n",
    "weather = a[8:]\n",
    "print(date)\n",
    "print(weather)"
   ]
  },
  {
   "cell_type": "markdown",
   "id": "fa5532e2",
   "metadata": {},
   "source": [
    "- 문자열 포매팅\n",
    "    - %s : 문자열, (모든 것 가능)\n",
    "    - %c : 문자 1개\n",
    "    - %d : 정수\n",
    "    - %f : 부동 소수\n",
    "    - %% : 문자 %를 의미"
   ]
  },
  {
   "cell_type": "code",
   "execution_count": 32,
   "id": "e98d2a69",
   "metadata": {},
   "outputs": [
    {
     "name": "stdout",
     "output_type": "stream",
     "text": [
      "I eat 3 apples\n",
      "I eat 3 apples\n",
      "I eat five apples\n",
      "I ate 3 apples. so I was sick for three days\n",
      "Error is 98%\n"
     ]
    }
   ],
   "source": [
    "# %d, %s, %f\n",
    "\n",
    "print(\"I eat %d apples\" % 3)\n",
    "print(\"I eat %s apples\" % 3)\n",
    "print(\"I eat %s apples\" % \"five\")\n",
    "print(\"I ate %d apples. so I was sick for %s days\" % (3, \"three\"))\n",
    "print('Error is %d%%' %98)"
   ]
  },
  {
   "cell_type": "code",
   "execution_count": 34,
   "id": "3c540c63",
   "metadata": {},
   "outputs": [
    {
     "name": "stdout",
     "output_type": "stream",
     "text": [
      "hi\n",
      "        hi\n",
      "hi        \n"
     ]
    }
   ],
   "source": [
    "print('%s' % 'hi')\n",
    "print('%10s' % 'hi') # 오른쪽 정렬\n",
    "print('%-10s' % 'hi') # 왼쪽 정렬"
   ]
  },
  {
   "cell_type": "code",
   "execution_count": 37,
   "id": "24334780",
   "metadata": {},
   "outputs": [
    {
     "name": "stdout",
     "output_type": "stream",
     "text": [
      "3.2416\n",
      "    3.2416\n"
     ]
    }
   ],
   "source": [
    "print(\"%.4f\" % 3.241553535)\n",
    "print(\"%10.4f\" % 3.241553535)"
   ]
  },
  {
   "cell_type": "markdown",
   "id": "adf7e4de",
   "metadata": {},
   "source": [
    "format 함수 사용한 포매팅"
   ]
  },
  {
   "cell_type": "code",
   "execution_count": 39,
   "id": "17f29472",
   "metadata": {},
   "outputs": [
    {
     "name": "stdout",
     "output_type": "stream",
     "text": [
      "I eat 3 apples\n",
      "I eat 3 apples\n",
      "I eat five apples\n",
      "I ate 3 apples. so I was sick for three days\n"
     ]
    }
   ],
   "source": [
    "print(\"I eat {0} apples\".format(3))\n",
    "print(\"I eat {0} apples\".format(3))\n",
    "print(\"I eat {0} apples\".format(\"five\"))\n",
    "print(\"I ate {0} apples. so I was sick for {1} days\".format(3, \"three\"))"
   ]
  },
  {
   "cell_type": "code",
   "execution_count": 41,
   "id": "6ec9c301",
   "metadata": {},
   "outputs": [
    {
     "name": "stdout",
     "output_type": "stream",
     "text": [
      "I eat 3 apples\n",
      "I eat 3 apples\n",
      "I eat 3 apples\n"
     ]
    }
   ],
   "source": [
    "number = 3\n",
    "print(\"I eat %d apples\" % number)\n",
    "print(\"I eat {0} apples\".format(number))\n",
    "print(\"I eat\", number, \"apples\")"
   ]
  },
  {
   "cell_type": "markdown",
   "id": "1d0be8e8",
   "metadata": {},
   "source": [
    "f 문자열 포매팅"
   ]
  },
  {
   "cell_type": "code",
   "execution_count": 43,
   "id": "0ce004ae",
   "metadata": {},
   "outputs": [
    {
     "name": "stdout",
     "output_type": "stream",
     "text": [
      "나의 이름은 홍길동 입니다. 나이는 30 입니다.\n",
      "나의 이름은 홍길동 입니다. 나이는 31 입니다.\n"
     ]
    }
   ],
   "source": [
    "name = '홍길동'\n",
    "age = 30\n",
    "print(f\"나의 이름은 {name} 입니다. 나이는 {age} 입니다.\")\n",
    "print(f\"나의 이름은 {name} 입니다. 나이는 {age + 1} 입니다.\")"
   ]
  },
  {
   "cell_type": "markdown",
   "id": "02c64e71",
   "metadata": {},
   "source": [
    "문자열 관련 함수"
   ]
  },
  {
   "cell_type": "code",
   "execution_count": 44,
   "id": "f101809e",
   "metadata": {},
   "outputs": [
    {
     "data": {
      "text/plain": [
       "2"
      ]
     },
     "execution_count": 44,
     "metadata": {},
     "output_type": "execute_result"
    }
   ],
   "source": [
    "a = \"hobby\"\n",
    "# count() : 문자열 개수\n",
    "a.count('b')"
   ]
  },
  {
   "cell_type": "code",
   "execution_count": null,
   "id": "ad12c0ff",
   "metadata": {},
   "outputs": [
    {
     "data": {
      "text/plain": [
       "5"
      ]
     },
     "execution_count": 45,
     "metadata": {},
     "output_type": "execute_result"
    }
   ],
   "source": [
    "# 길이\n",
    "len(a)"
   ]
  },
  {
   "cell_type": "code",
   "execution_count": 52,
   "id": "3f2781fb",
   "metadata": {},
   "outputs": [
    {
     "name": "stdout",
     "output_type": "stream",
     "text": [
      "14\n",
      "14\n",
      "14\n",
      "-1\n"
     ]
    }
   ],
   "source": [
    "a = \"Python is the best choice\"\n",
    "# b 라는 문자가 처음 나온 위치\n",
    "print(a.find(\"b\"))\n",
    "print(a.find(\"b\", 10))\n",
    "print(a.rfind(\"b\"))\n",
    "print(a.find(\"k\"))"
   ]
  },
  {
   "cell_type": "code",
   "execution_count": 50,
   "id": "1eecce61",
   "metadata": {},
   "outputs": [
    {
     "name": "stdout",
     "output_type": "stream",
     "text": [
      "14\n"
     ]
    }
   ],
   "source": [
    "print(a.index(\"b\"))\n",
    "# print(a.index(\"k\")) 찾는 문자가 없을 때 에러 반환"
   ]
  },
  {
   "cell_type": "code",
   "execution_count": 55,
   "id": "63a226f4",
   "metadata": {},
   "outputs": [
    {
     "name": "stdout",
     "output_type": "stream",
     "text": [
      "True\n",
      "False\n"
     ]
    }
   ],
   "source": [
    "# startswith() : 특정문자로 시작하는\n",
    "# endwith() : 특정 문자로 끝나는\n",
    "print(a.startswith(\"P\"))\n",
    "print(a.endswith(\"P\"))"
   ]
  },
  {
   "cell_type": "code",
   "execution_count": 58,
   "id": "06e464bb",
   "metadata": {},
   "outputs": [
    {
     "name": "stdout",
     "output_type": "stream",
     "text": [
      "a,b,c,d,e\n",
      "ABCD\n"
     ]
    }
   ],
   "source": [
    "# join() : 리스트를 일반 문자열로 변경시 가장많이 사용\n",
    "print(\",\".join(\"abcde\"))\n",
    "print(\"\".join([\"A\", \"B\", \"C\", \"D\"]))"
   ]
  },
  {
   "cell_type": "code",
   "execution_count": 62,
   "id": "75c6a7c7",
   "metadata": {},
   "outputs": [
    {
     "name": "stdout",
     "output_type": "stream",
     "text": [
      "ABCDE\n",
      "abcde\n",
      "aBcDe\n"
     ]
    }
   ],
   "source": [
    "# upper(), lower()\n",
    "# swapcase() : 대/소문자 상호 변환\n",
    "\n",
    "a = \"abcde\"\n",
    "print(a.upper())\n",
    "a =\"ABCDE\"\n",
    "print(a.lower())\n",
    "a = \"AbCdE\"\n",
    "print(a.swapcase())"
   ]
  },
  {
   "cell_type": "code",
   "execution_count": 63,
   "id": "d5399ce3",
   "metadata": {},
   "outputs": [
    {
     "name": "stdout",
     "output_type": "stream",
     "text": [
      "    hi\n",
      "    hi\n",
      "hi\n",
      "hi         \n",
      "hi\n",
      "     hi         \n",
      "hi\n"
     ]
    }
   ],
   "source": [
    "# 공백 제거\n",
    "# lstrip() : 왼쪽 공백 제거\n",
    "# rstrip() : 오른쪽 공백 제거\n",
    "\n",
    "a = \"    hi\"\n",
    "print (a)\n",
    "print (a)\n",
    "print (a.lstrip())\n",
    "\n",
    "a = \"hi         \"\n",
    "print (a)\n",
    "print (a.rstrip())\n",
    "\n",
    "a = \"     hi         \"\n",
    "print (a)\n",
    "print (a.strip())"
   ]
  },
  {
   "cell_type": "code",
   "execution_count": 64,
   "id": "bad9b577",
   "metadata": {},
   "outputs": [
    {
     "data": {
      "text/plain": [
       "'Your leg is too short'"
      ]
     },
     "execution_count": 64,
     "metadata": {},
     "output_type": "execute_result"
    }
   ],
   "source": [
    "# replace() : 문자열 변경\n",
    "\n",
    "a = \"Life is too short\"\n",
    "a.replace(\"Life\", \"Your leg\")"
   ]
  },
  {
   "cell_type": "code",
   "execution_count": 67,
   "id": "dc9ea3c4",
   "metadata": {},
   "outputs": [
    {
     "name": "stdout",
     "output_type": "stream",
     "text": [
      "['Life', 'is', 'too', 'short']\n",
      "['a', 'b', 'c', 'd']\n"
     ]
    }
   ],
   "source": [
    "# split() : 문자열 나누기\n",
    "\n",
    "print(a.split())\n",
    "\n",
    "a = \"a:b:c:d\"\n",
    "print(a.split(\":\"))"
   ]
  },
  {
   "cell_type": "code",
   "execution_count": null,
   "id": "dc22cdd9",
   "metadata": {},
   "outputs": [
    {
     "name": "stdout",
     "output_type": "stream",
     "text": [
      "True\n",
      "False\n",
      "True\n",
      "False\n",
      "False\n",
      "True\n"
     ]
    }
   ],
   "source": [
    "# 문자열 구성 파악\n",
    "\n",
    "print(\"1234\".isdigit())\n",
    "print(\"1234\".isalpha())\n",
    "print(\"1234\".isalnum()) # alpha + num\n",
    "print(\"ABCD\".islower())\n",
    "print(\"abcd\".isupper())\n",
    "print(\"    \".isspace())"
   ]
  },
  {
   "cell_type": "code",
   "execution_count": 84,
   "id": "773a4567",
   "metadata": {},
   "outputs": [
    {
     "name": "stdout",
     "output_type": "stream",
     "text": [
      "2030년 10월 30일\n"
     ]
    }
   ],
   "source": [
    "# 사용자에게 2030/10/30 형태로 입력 받은 후 10년 후의 날짜 계산\n",
    "\n",
    "# 내꺼\n",
    "date = input(\"date\")\n",
    "dayList = date.split(\"/\")\n",
    "year = int(dayList[0])\n",
    "print(f\"{year+10}년 {dayList[1]}월 {dayList[2]}일\")"
   ]
  },
  {
   "cell_type": "code",
   "execution_count": 1,
   "id": "96b0ce1d",
   "metadata": {},
   "outputs": [
    {
     "name": "stdout",
     "output_type": "stream",
     "text": [
      "입력한 날짜의 10년 후 2030년10월30일\n"
     ]
    }
   ],
   "source": [
    "# 강사님꺼\n",
    "data = input(\"date\")\n",
    "pos = data.find(\"/\")\n",
    "\n",
    "year1 = int(data[:pos]) + 10\n",
    "print(\"입력한 날짜의 10년 후 %s\" % (str(year1) + \"년\" + data[5:7] + \"월\" + data[8:] + \"일\"))"
   ]
  },
  {
   "cell_type": "code",
   "execution_count": null,
   "id": "5506302d",
   "metadata": {},
   "outputs": [
    {
     "name": "stdout",
     "output_type": "stream",
     "text": [
      "nav161!\n"
     ]
    }
   ],
   "source": [
    "# http://naver.com\n",
    "data = input(\"입력\")\n",
    "\n",
    "# 암호 생성\n",
    "# 규칙 1 : http:// 부분은 제외\n",
    "role1 = data.find(\"/\") + 2\n",
    "# 규칙 2 : 처음 나오는 . 이후 부분 제외\n",
    "role2 = data.find(\".\")\n",
    "mid = data[role1:role2]\n",
    "# 규칙 3 : 남은 글자 중 세자리 + 글자개수 + 글자 내 'e' 의 개수 + ! 로 구성\n",
    "lengthAll = len(data)\n",
    "findE = data.count(\"e\")\n",
    "\n",
    "print(mid[:3] + str(lengthAll) + str(findE) + \"!\")"
   ]
  },
  {
   "cell_type": "code",
   "execution_count": null,
   "id": "f980d6f7",
   "metadata": {},
   "outputs": [],
   "source": []
  }
 ],
 "metadata": {
  "kernelspec": {
   "display_name": "venv",
   "language": "python",
   "name": "python3"
  },
  "language_info": {
   "codemirror_mode": {
    "name": "ipython",
    "version": 3
   },
   "file_extension": ".py",
   "mimetype": "text/x-python",
   "name": "python",
   "nbconvert_exporter": "python",
   "pygments_lexer": "ipython3",
   "version": "3.13.3"
  }
 },
 "nbformat": 4,
 "nbformat_minor": 5
}
