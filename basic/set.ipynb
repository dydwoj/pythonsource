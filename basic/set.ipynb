{
 "cells": [
  {
   "cell_type": "markdown",
   "id": "e1978182",
   "metadata": {},
   "source": [
    "### Set\n",
    "- 집합자료형\n",
    "- 자바 set 같은 개념\n",
    "- 중복허용X\n",
    "- 순서가 없음 (랜덤으로 담음)"
   ]
  },
  {
   "cell_type": "code",
   "execution_count": 4,
   "id": "306d7836",
   "metadata": {},
   "outputs": [],
   "source": [
    "# 생성\n",
    "\n",
    "set1 = set()\n",
    "set2 = set([1, 2, 3, 4, 5])\n",
    "set3 = set([1, 4, 5, 6, 6])"
   ]
  },
  {
   "cell_type": "code",
   "execution_count": 5,
   "id": "c32fc8a4",
   "metadata": {},
   "outputs": [
    {
     "name": "stdout",
     "output_type": "stream",
     "text": [
      "set()\n",
      "{1, 2, 3, 4, 5}\n",
      "{1, 4, 5, 6}\n"
     ]
    }
   ],
   "source": [
    "print(set1)\n",
    "print(set2)\n",
    "print(set3)"
   ]
  },
  {
   "cell_type": "code",
   "execution_count": null,
   "id": "0710aecc",
   "metadata": {},
   "outputs": [
    {
     "name": "stdout",
     "output_type": "stream",
     "text": [
      "{1, 2, 3, 4, 5}\n"
     ]
    }
   ],
   "source": [
    "# 다른 자료형으로 변환\n",
    "# list(), set(), dict()\n",
    "\n",
    "# 튜플\n",
    "t1 = (1,2,3,4,5)\n",
    "set4 = set(t1)\n",
    "print(set4)"
   ]
  },
  {
   "cell_type": "code",
   "execution_count": null,
   "id": "5616516f",
   "metadata": {},
   "outputs": [
    {
     "name": "stdout",
     "output_type": "stream",
     "text": [
      "{'no', 'name', 'age'}\n"
     ]
    }
   ],
   "source": [
    "# 딕셔너리\n",
    "dict1 = {\"no\": 1, \"name\": \"hong\", \"age\": 20}\n",
    "set5 = set(dict1)\n",
    "print(set5)"
   ]
  },
  {
   "cell_type": "code",
   "execution_count": 8,
   "id": "5d7b1620",
   "metadata": {},
   "outputs": [
    {
     "name": "stdout",
     "output_type": "stream",
     "text": [
      "{'a', 'b', 'd', 'g', 'e', 'f', 'c'}\n"
     ]
    }
   ],
   "source": [
    "set6 = set('abcdefg')\n",
    "print(set6)"
   ]
  },
  {
   "cell_type": "code",
   "execution_count": 10,
   "id": "496f7cb6",
   "metadata": {},
   "outputs": [
    {
     "data": {
      "text/plain": [
       "1"
      ]
     },
     "execution_count": 10,
     "metadata": {},
     "output_type": "execute_result"
    }
   ],
   "source": [
    "# set -> tuple\n",
    "t2 = tuple(set4)\n",
    "t2[0]"
   ]
  },
  {
   "cell_type": "code",
   "execution_count": 20,
   "id": "8ed0c082",
   "metadata": {},
   "outputs": [
    {
     "name": "stdout",
     "output_type": "stream",
     "text": [
      "{4, 5, 6}\n",
      "{4, 5, 6}\n",
      "{1, 2, 3}\n",
      "{1, 2, 3}\n",
      "{1, 2, 3, 4, 5, 6, 7, 8, 9}\n",
      "{1, 2, 3, 4, 5, 6, 7, 8, 9}\n"
     ]
    }
   ],
   "source": [
    "s1 = set([1,2,3,4,5,6])\n",
    "s2 = set([4,5,6,7,8,9])\n",
    "\n",
    "# 교집합\n",
    "print(s1 & s2)\n",
    "print(s1.intersection(s2))\n",
    "\n",
    "# 차집합\n",
    "print(s1 - s2)\n",
    "print(s1.difference(s2))\n",
    "\n",
    "# 합집합\n",
    "print(s1 | s2)\n",
    "print(s1.union(s2))"
   ]
  },
  {
   "cell_type": "code",
   "execution_count": 21,
   "id": "cd1d747d",
   "metadata": {},
   "outputs": [
    {
     "data": {
      "text/plain": [
       "{1, 2, 3, 4, 5, 6, 9}"
      ]
     },
     "execution_count": 21,
     "metadata": {},
     "output_type": "execute_result"
    }
   ],
   "source": [
    "# add() : 1 개의 값만 추가\n",
    "s1.add(9)\n",
    "s1"
   ]
  },
  {
   "cell_type": "code",
   "execution_count": 22,
   "id": "da36fff1",
   "metadata": {},
   "outputs": [
    {
     "data": {
      "text/plain": [
       "{1, 2, 3, 4, 5, 6, 9, 10, 11, 12}"
      ]
     },
     "execution_count": 22,
     "metadata": {},
     "output_type": "execute_result"
    }
   ],
   "source": [
    "# update() : 값 여러개 추가\n",
    "s1.update([10,11,12])\n",
    "s1"
   ]
  },
  {
   "cell_type": "code",
   "execution_count": 23,
   "id": "5578c720",
   "metadata": {},
   "outputs": [
    {
     "data": {
      "text/plain": [
       "{1, 2, 3, 4, 5, 6, 10, 11, 12}"
      ]
     },
     "execution_count": 23,
     "metadata": {},
     "output_type": "execute_result"
    }
   ],
   "source": [
    "# remove() : 제거\n",
    "s1.remove(9)\n",
    "s1"
   ]
  },
  {
   "cell_type": "code",
   "execution_count": null,
   "id": "81d880ef",
   "metadata": {},
   "outputs": [],
   "source": []
  }
 ],
 "metadata": {
  "kernelspec": {
   "display_name": "venv",
   "language": "python",
   "name": "python3"
  },
  "language_info": {
   "codemirror_mode": {
    "name": "ipython",
    "version": 3
   },
   "file_extension": ".py",
   "mimetype": "text/x-python",
   "name": "python",
   "nbconvert_exporter": "python",
   "pygments_lexer": "ipython3",
   "version": "3.13.3"
  }
 },
 "nbformat": 4,
 "nbformat_minor": 5
}
