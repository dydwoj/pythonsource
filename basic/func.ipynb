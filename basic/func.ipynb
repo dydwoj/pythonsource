{
 "cells": [
  {
   "cell_type": "markdown",
   "id": "d475a18a",
   "metadata": {},
   "source": [
    "### 함수\n",
    "```\n",
    "def 함수명(매개변수):\n",
    "    수행할문장1\n",
    "    수행할문장2\n",
    "```"
   ]
  },
  {
   "cell_type": "code",
   "execution_count": 1,
   "id": "c6f75d08",
   "metadata": {},
   "outputs": [],
   "source": [
    "def add(a, b):\n",
    "    return a + b"
   ]
  },
  {
   "cell_type": "code",
   "execution_count": 3,
   "id": "df655331",
   "metadata": {},
   "outputs": [
    {
     "name": "stdout",
     "output_type": "stream",
     "text": [
      "11\n"
     ]
    }
   ],
   "source": [
    "print(add(5, 6))"
   ]
  },
  {
   "cell_type": "code",
   "execution_count": 4,
   "id": "bc239b84",
   "metadata": {},
   "outputs": [
    {
     "name": "stdout",
     "output_type": "stream",
     "text": [
      "Hi\n"
     ]
    }
   ],
   "source": [
    "def say():\n",
    "    return \"Hi\"\n",
    "\n",
    "print(say())"
   ]
  },
  {
   "cell_type": "code",
   "execution_count": 6,
   "id": "de04188c",
   "metadata": {},
   "outputs": [
    {
     "name": "stdout",
     "output_type": "stream",
     "text": [
      "12\n"
     ]
    }
   ],
   "source": [
    "# 매개변수를 지정해서 넘길 수도 있음\n",
    "print(add(a=7, b=5))"
   ]
  },
  {
   "cell_type": "code",
   "execution_count": null,
   "id": "ec9bd32c",
   "metadata": {},
   "outputs": [],
   "source": [
    "# 기본 매개변수\n",
    "\n",
    "# n 을 기본으로 2로 세팅\n",
    "def print_n_times(value, n=2):\n",
    "    for i in range(n):\n",
    "        print(value)"
   ]
  },
  {
   "cell_type": "code",
   "execution_count": 11,
   "id": "e93a22db",
   "metadata": {},
   "outputs": [
    {
     "name": "stdout",
     "output_type": "stream",
     "text": [
      "안녕하세요\n",
      "안녕하세요\n"
     ]
    }
   ],
   "source": [
    "print_n_times(\"안녕하세요\")"
   ]
  },
  {
   "cell_type": "code",
   "execution_count": 12,
   "id": "59dd3066",
   "metadata": {},
   "outputs": [
    {
     "name": "stdout",
     "output_type": "stream",
     "text": [
      "안녕하세요\n",
      "안녕하세요\n",
      "안녕하세요\n",
      "안녕하세요\n",
      "안녕하세요\n"
     ]
    }
   ],
   "source": [
    "print_n_times(\"안녕하세요\", 5)"
   ]
  },
  {
   "cell_type": "code",
   "execution_count": null,
   "id": "c6b53a73",
   "metadata": {},
   "outputs": [],
   "source": [
    "# 가변 매개변수 : *args\n",
    "#   => args 는 그냥 많이 쓰는 이름\n",
    "#   => * 이 중요함\n",
    "# 가변 매개변수 뒤에는 일반 매개변수가 올 수 없음 (가변 매개변수는 마지막에 선언)\n",
    "# 가변 매개변수는 1개만 사용\n",
    "\n",
    "def add_many(*args):\n",
    "    print(args)\n",
    "\n",
    "# def add_many2(*args, n):\n",
    "#     print(args)"
   ]
  },
  {
   "cell_type": "code",
   "execution_count": 19,
   "id": "c119f2d4",
   "metadata": {},
   "outputs": [
    {
     "name": "stdout",
     "output_type": "stream",
     "text": [
      "()\n",
      "('35', '24', '45')\n",
      "('A', 'B', 'C', 'D')\n",
      "([1, 2, 3, 4, 5],)\n"
     ]
    }
   ],
   "source": [
    "add_many()\n",
    "add_many(\"35\", \"24\", \"45\")\n",
    "add_many(\"A\", \"B\", \"C\", \"D\")\n",
    "add_many([1, 2, 3, 4, 5])\n",
    "# add_many2([1, 2, 3, 4, 5], 33)"
   ]
  },
  {
   "cell_type": "code",
   "execution_count": 23,
   "id": "128cc64f",
   "metadata": {},
   "outputs": [],
   "source": [
    "def add_mul(choice, *args):\n",
    "    if choice == \"add\":\n",
    "        result = 0\n",
    "        for i in args:\n",
    "            result = result + i\n",
    "    elif choice == \"mul\":\n",
    "        result = 1\n",
    "        for i in args:\n",
    "            result = result * i\n",
    "    return result"
   ]
  },
  {
   "cell_type": "code",
   "execution_count": 24,
   "id": "6ea25a97",
   "metadata": {},
   "outputs": [
    {
     "name": "stdout",
     "output_type": "stream",
     "text": [
      "46\n",
      "17160\n"
     ]
    }
   ],
   "source": [
    "print(add_mul(\"add\", 10, 11, 12, 13))\n",
    "print(add_mul(\"mul\", 10, 11, 12, 13))"
   ]
  },
  {
   "cell_type": "code",
   "execution_count": 25,
   "id": "79fe8d22",
   "metadata": {},
   "outputs": [],
   "source": [
    "# 키워드 매개변수 : **kwargs\n",
    "\n",
    "def args_func1(**kwargs):\n",
    "    print(kwargs)\n",
    "    for k in kwargs.keys():\n",
    "        print(k)\n",
    "    for v in kwargs.values():\n",
    "        print(v)"
   ]
  },
  {
   "cell_type": "code",
   "execution_count": 27,
   "id": "3cedbbb6",
   "metadata": {},
   "outputs": [
    {
     "name": "stdout",
     "output_type": "stream",
     "text": [
      "{'name': 'Kim'}\n",
      "name\n",
      "Kim\n",
      "{'name': 'Kim', 'age': 15, 'active': 'Test'}\n",
      "name\n",
      "age\n",
      "active\n",
      "Kim\n",
      "15\n",
      "Test\n",
      "{'name': 'Kim', 'year': 2025}\n",
      "name\n",
      "year\n",
      "Kim\n",
      "2025\n"
     ]
    }
   ],
   "source": [
    "args_func1(name=\"Kim\")\n",
    "args_func1(name=\"Kim\", age=15, active=\"Test\")\n",
    "args_func1(name=\"Kim\", year=2025)"
   ]
  },
  {
   "cell_type": "code",
   "execution_count": 29,
   "id": "9e08d5d2",
   "metadata": {},
   "outputs": [],
   "source": [
    "def example_mul(arg1, arg2=5, *args, **kwargs):\n",
    "    print(arg1, arg2, args, kwargs)"
   ]
  },
  {
   "cell_type": "code",
   "execution_count": 32,
   "id": "62c62fdd",
   "metadata": {},
   "outputs": [
    {
     "name": "stdout",
     "output_type": "stream",
     "text": [
      "10 20 () {}\n",
      "10 5 () {}\n",
      "10 15 ('park', 'kim') {}\n",
      "10 15 ('park', 'kim') {'age': 25, 'name': 'choi'}\n"
     ]
    }
   ],
   "source": [
    "example_mul(10, 20)\n",
    "example_mul(10)\n",
    "example_mul(10, 15, \"park\", \"kim\")\n",
    "example_mul(10, 15, \"park\", \"kim\", age=25, name=\"choi\")"
   ]
  },
  {
   "cell_type": "code",
   "execution_count": null,
   "id": "7d50f1a5",
   "metadata": {},
   "outputs": [],
   "source": [
    "# 다중리턴\n",
    "# => 다중리턴처럼 보이긴 하지만 tuple 로 리턴 (리턴값은 1개)\n",
    "def func(a, b):\n",
    "    return a + b, a *b"
   ]
  },
  {
   "cell_type": "code",
   "execution_count": 34,
   "id": "7b6cba1b",
   "metadata": {},
   "outputs": [
    {
     "name": "stdout",
     "output_type": "stream",
     "text": [
      "(11, 30)\n"
     ]
    }
   ],
   "source": [
    "print(func(5, 6))"
   ]
  },
  {
   "cell_type": "code",
   "execution_count": 35,
   "id": "97425491",
   "metadata": {},
   "outputs": [],
   "source": [
    "def func2(a, b):\n",
    "    return [a + b, a * b, a - b]"
   ]
  },
  {
   "cell_type": "code",
   "execution_count": 36,
   "id": "0c7645fd",
   "metadata": {},
   "outputs": [
    {
     "name": "stdout",
     "output_type": "stream",
     "text": [
      "[17, 66, 5]\n"
     ]
    }
   ],
   "source": [
    "print(func2(11,6))"
   ]
  },
  {
   "cell_type": "code",
   "execution_count": 42,
   "id": "75226606",
   "metadata": {},
   "outputs": [],
   "source": [
    "# 두개의 숫자와 연산자를 입력받아 사칙연산(+,-,*,/) 의 결과를 리턴하는 함수 작성\n",
    "\n",
    "def fourRules(x, y, op):\n",
    "    result = 0\n",
    "    if op == \"+\":\n",
    "        result = x + y\n",
    "    elif op == \"-\":\n",
    "        result = x - y\n",
    "    elif op == \"*\":\n",
    "        result = x * y\n",
    "    elif op == \"/\":\n",
    "        result = x / y\n",
    "    return result\n"
   ]
  },
  {
   "cell_type": "code",
   "execution_count": 44,
   "id": "f64b21f7",
   "metadata": {},
   "outputs": [
    {
     "name": "stdout",
     "output_type": "stream",
     "text": [
      "15\n"
     ]
    }
   ],
   "source": [
    "a = int(input(\"첫번째 숫자\"))\n",
    "b = int(input(\"두번째 숫자\"))\n",
    "c = input(\"연산자 입력\")\n",
    "print(fourRules(a, b, c))"
   ]
  },
  {
   "cell_type": "code",
   "execution_count": 48,
   "id": "c9689fee",
   "metadata": {},
   "outputs": [],
   "source": [
    "# 람다함수\n",
    "# 익명함수\n",
    "\n",
    "def square(x):\n",
    "    return x**2\n",
    "\n",
    "square2 = lambda x:x**2"
   ]
  },
  {
   "cell_type": "code",
   "execution_count": 50,
   "id": "c9d66c17",
   "metadata": {},
   "outputs": [
    {
     "name": "stdout",
     "output_type": "stream",
     "text": [
      "25\n",
      "25\n"
     ]
    }
   ],
   "source": [
    "print(square(5))\n",
    "print(square2(5))"
   ]
  },
  {
   "cell_type": "code",
   "execution_count": 51,
   "id": "a952e657",
   "metadata": {},
   "outputs": [
    {
     "name": "stdout",
     "output_type": "stream",
     "text": [
      "<class 'function'>\n"
     ]
    }
   ],
   "source": [
    "print(type(square2))"
   ]
  },
  {
   "cell_type": "code",
   "execution_count": 52,
   "id": "2975e2a6",
   "metadata": {},
   "outputs": [
    {
     "name": "stdout",
     "output_type": "stream",
     "text": [
      "36\n"
     ]
    }
   ],
   "source": [
    "print(square2(6))"
   ]
  },
  {
   "cell_type": "code",
   "execution_count": 53,
   "id": "7d57f4ec",
   "metadata": {},
   "outputs": [],
   "source": [
    "def add(a, b):\n",
    "    return a + b\n",
    "\n",
    "\n",
    "add2 = lambda a, b: a + b"
   ]
  },
  {
   "cell_type": "code",
   "execution_count": 55,
   "id": "d76d4a91",
   "metadata": {},
   "outputs": [
    {
     "name": "stdout",
     "output_type": "stream",
     "text": [
      "17\n"
     ]
    }
   ],
   "source": [
    "print(add2(6, 11))"
   ]
  },
  {
   "cell_type": "code",
   "execution_count": 59,
   "id": "c94c64f5",
   "metadata": {},
   "outputs": [
    {
     "name": "stdout",
     "output_type": "stream",
     "text": [
      "['bob', 'charles', 'alexander3', 'teddy']\n",
      "['alexander3', 'bob', 'charles', 'teddy']\n"
     ]
    }
   ],
   "source": [
    "list1 = [\"bob\", \"charles\",\"alexander3\",\"teddy\"]\n",
    "\n",
    "print(list1)\n",
    "list1.sort()\n",
    "print(list1)"
   ]
  },
  {
   "cell_type": "code",
   "execution_count": 60,
   "id": "0c3af8a4",
   "metadata": {},
   "outputs": [
    {
     "data": {
      "text/plain": [
       "['bob', 'teddy', 'charles', 'alexander3']"
      ]
     },
     "execution_count": 60,
     "metadata": {},
     "output_type": "execute_result"
    }
   ],
   "source": [
    "# 문자의 길이가 짧은 순서대로 정렬\n",
    "def str_len(s):\n",
    "    return len(s)\n",
    "\n",
    "list1.sort(key=str_len)\n",
    "list1"
   ]
  },
  {
   "cell_type": "code",
   "execution_count": 61,
   "id": "64c264ee",
   "metadata": {},
   "outputs": [
    {
     "data": {
      "text/plain": [
       "['bob', 'teddy', 'charles', 'alexander3']"
      ]
     },
     "execution_count": 61,
     "metadata": {},
     "output_type": "execute_result"
    }
   ],
   "source": [
    "list1 = [\"bob\", \"charles\", \"alexander3\", \"teddy\"]\n",
    "\n",
    "list1.sort(key=lambda s: len(s))\n",
    "list1"
   ]
  },
  {
   "cell_type": "code",
   "execution_count": 85,
   "id": "752e0f6c",
   "metadata": {},
   "outputs": [
    {
     "name": "stdout",
     "output_type": "stream",
     "text": [
      "[2, 4, 10, 12, 14]\n"
     ]
    }
   ],
   "source": [
    "# filter, map : 실행 후 새로운 리스트로 반환\n",
    "\n",
    "list1 = [1, 2, 3, 4, 5, 7, 9, 10, 12, 14]\n",
    "\n",
    "# list1 에서 짝수만 추출해서 새로운 리스트로 생성\n",
    "list2 = [x for x in list1 if x % 2 == 0]\n",
    "print(list2)\n",
    "\n",
    "def even(data):\n",
    "    return [x for x in data if x % 2 == 0]"
   ]
  },
  {
   "cell_type": "code",
   "execution_count": 86,
   "id": "b9904145",
   "metadata": {},
   "outputs": [
    {
     "name": "stdout",
     "output_type": "stream",
     "text": [
      "[12, 2, 4, 6, 78, 0, 4, 34, 34]\n",
      "[2, 4, 10, 12, 14]\n"
     ]
    }
   ],
   "source": [
    "print(even([23,35,12,2,4,5,6,78,9,0,4,5,34,34]))\n",
    "print(even(list1))"
   ]
  },
  {
   "cell_type": "code",
   "execution_count": 87,
   "id": "f72fcace",
   "metadata": {},
   "outputs": [
    {
     "data": {
      "text/plain": [
       "[2, 4, 10, 12, 14]"
      ]
     },
     "execution_count": 87,
     "metadata": {},
     "output_type": "execute_result"
    }
   ],
   "source": [
    "# filter(함수, 함수적용할 리스트)\n",
    "def even(n):\n",
    "    return n % 2 == 0\n",
    "\n",
    "list(filter(even, list1))"
   ]
  },
  {
   "cell_type": "code",
   "execution_count": 88,
   "id": "a73591db",
   "metadata": {},
   "outputs": [
    {
     "data": {
      "text/plain": [
       "[2, 4, 10, 12, 14]"
      ]
     },
     "execution_count": 88,
     "metadata": {},
     "output_type": "execute_result"
    }
   ],
   "source": [
    "list(filter(lambda n: n % 2 == 0, list1))"
   ]
  },
  {
   "cell_type": "code",
   "execution_count": 89,
   "id": "b25c5c46",
   "metadata": {},
   "outputs": [
    {
     "data": {
      "text/plain": [
       "[1, 4, 9, 16, 25, 49, 81, 100, 144, 196]"
      ]
     },
     "execution_count": 89,
     "metadata": {},
     "output_type": "execute_result"
    }
   ],
   "source": [
    "# map(함수, 리스트)\n",
    "def mul(x):\n",
    "    return x ** 2\n",
    "\n",
    "list(map(mul, list1))"
   ]
  },
  {
   "cell_type": "code",
   "execution_count": 92,
   "id": "073d130d",
   "metadata": {},
   "outputs": [
    {
     "data": {
      "text/plain": [
       "[1, 4, 9, 16, 25, 49, 81, 100, 144, 196]"
      ]
     },
     "execution_count": 92,
     "metadata": {},
     "output_type": "execute_result"
    }
   ],
   "source": [
    "list(map(lambda x: x**2, list1))"
   ]
  },
  {
   "cell_type": "code",
   "execution_count": null,
   "id": "47fd8d4c",
   "metadata": {},
   "outputs": [],
   "source": []
  }
 ],
 "metadata": {
  "kernelspec": {
   "display_name": "venv",
   "language": "python",
   "name": "python3"
  },
  "language_info": {
   "codemirror_mode": {
    "name": "ipython",
    "version": 3
   },
   "file_extension": ".py",
   "mimetype": "text/x-python",
   "name": "python",
   "nbconvert_exporter": "python",
   "pygments_lexer": "ipython3",
   "version": "3.13.3"
  }
 },
 "nbformat": 4,
 "nbformat_minor": 5
}
