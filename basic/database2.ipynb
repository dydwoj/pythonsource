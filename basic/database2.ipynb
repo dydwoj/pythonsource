{
 "cells": [
  {
   "cell_type": "markdown",
   "id": "2acd19a3",
   "metadata": {},
   "source": [
    "### DB 연동\n",
    "- oracle 연동\n",
    "- pip install oracledb"
   ]
  },
  {
   "cell_type": "code",
   "execution_count": 1,
   "id": "369d7f22",
   "metadata": {},
   "outputs": [],
   "source": [
    "import oracledb\n",
    "from datetime import datetime"
   ]
  },
  {
   "cell_type": "code",
   "execution_count": 2,
   "id": "6ce359f0",
   "metadata": {},
   "outputs": [],
   "source": [
    "conn = oracledb.connect(user=\"c##java\", password=\"12345\", dsn=\"localhost/xe\")\n",
    "cursor = conn.cursor()"
   ]
  },
  {
   "cell_type": "code",
   "execution_count": 3,
   "id": "53528e9c",
   "metadata": {},
   "outputs": [
    {
     "data": {
      "text/plain": [
       "datetime.datetime(2025, 6, 10, 11, 40, 38, 385158)"
      ]
     },
     "execution_count": 3,
     "metadata": {},
     "output_type": "execute_result"
    }
   ],
   "source": [
    "now = datetime.today()\n",
    "now"
   ]
  },
  {
   "cell_type": "code",
   "execution_count": 4,
   "id": "f516d735",
   "metadata": {},
   "outputs": [
    {
     "data": {
      "text/plain": [
       "<oracledb.Cursor on <oracledb.Connection to c##java@localhost/xe>>"
      ]
     },
     "execution_count": 4,
     "metadata": {},
     "output_type": "execute_result"
    }
   ],
   "source": [
    "sql = \"select * from boardtbl where bno between 1 and 10\"\n",
    "\n",
    "cursor.execute(sql)"
   ]
  },
  {
   "cell_type": "code",
   "execution_count": 5,
   "id": "5c782dcb",
   "metadata": {},
   "outputs": [
    {
     "name": "stdout",
     "output_type": "stream",
     "text": [
      "(1, datetime.datetime(2025, 5, 12, 16, 46, 37, 263790), datetime.datetime(2025, 5, 12, 16, 46, 37, 263790), 'board content 1', 'user3@gmail.com', 'title1')\n",
      "(2, datetime.datetime(2025, 5, 12, 16, 46, 37, 351739), datetime.datetime(2025, 5, 12, 16, 46, 37, 351739), 'board content 2', 'user2@gmail.com', 'title2')\n",
      "(3, datetime.datetime(2025, 5, 12, 16, 46, 37, 363732), datetime.datetime(2025, 5, 12, 16, 46, 37, 363732), 'board content 3', 'user1@gmail.com', 'title3')\n",
      "(4, datetime.datetime(2025, 5, 12, 16, 46, 37, 375725), datetime.datetime(2025, 5, 12, 16, 46, 37, 375725), 'board content 4', 'user3@gmail.com', 'title4')\n",
      "(5, datetime.datetime(2025, 5, 12, 16, 46, 37, 385719), datetime.datetime(2025, 5, 12, 16, 46, 37, 385719), 'board content 5', 'user3@gmail.com', 'title5')\n",
      "(6, datetime.datetime(2025, 5, 12, 16, 46, 37, 396712), datetime.datetime(2025, 5, 12, 16, 46, 37, 396712), 'board content 6', 'user1@gmail.com', 'title6')\n",
      "(7, datetime.datetime(2025, 5, 12, 16, 46, 37, 408706), datetime.datetime(2025, 5, 12, 16, 46, 37, 408706), 'board content 7', 'user9@gmail.com', 'title7')\n",
      "(8, datetime.datetime(2025, 5, 12, 16, 46, 37, 418699), datetime.datetime(2025, 5, 12, 16, 46, 37, 418699), 'board content 8', 'user3@gmail.com', 'title8')\n",
      "(9, datetime.datetime(2025, 5, 12, 16, 46, 37, 429694), datetime.datetime(2025, 5, 12, 16, 46, 37, 429694), 'board content 9', 'user6@gmail.com', 'title9')\n",
      "(10, datetime.datetime(2025, 5, 12, 16, 46, 37, 440687), datetime.datetime(2025, 5, 12, 16, 46, 37, 440687), 'board content 10', 'user7@gmail.com', 'title10')\n"
     ]
    }
   ],
   "source": [
    "for row in cursor.fetchall():\n",
    "    print(row)"
   ]
  },
  {
   "cell_type": "code",
   "execution_count": 7,
   "id": "1429ca41",
   "metadata": {},
   "outputs": [
    {
     "data": {
      "text/plain": [
       "(1,\n",
       " datetime.datetime(2025, 5, 12, 16, 46, 37, 263790),\n",
       " datetime.datetime(2025, 5, 12, 16, 46, 37, 263790),\n",
       " 'board content 1',\n",
       " 'user3@gmail.com',\n",
       " 'title1')"
      ]
     },
     "execution_count": 7,
     "metadata": {},
     "output_type": "execute_result"
    }
   ],
   "source": [
    "sql = \"select * from boardtbl where bno = :bno\"\n",
    "cursor.execute(sql, (1,))\n",
    "cursor.fetchone()"
   ]
  },
  {
   "cell_type": "code",
   "execution_count": 8,
   "id": "b514036a",
   "metadata": {},
   "outputs": [],
   "source": [
    "sql = \"insert into boardtbl(title, content, member_id, created_date, updated_date) \"\n",
    "sql += \"values(:1, :2, :3, :4, :5)\"\n",
    "\n",
    "data = (\"python\", \"python data\", \"user1@gmail.com\", now, now)\n",
    "cursor.execute(sql, data)\n",
    "conn.commit()"
   ]
  },
  {
   "cell_type": "code",
   "execution_count": 11,
   "id": "2404fb2d",
   "metadata": {},
   "outputs": [],
   "source": [
    "sql = \"update boardtbl set title=:1, updated_date=:2 where bno=:3\"\n",
    "now = datetime.today()\n",
    "cursor.execute(sql, (\"update title python\", now, 121))\n",
    "conn.commit()"
   ]
  },
  {
   "cell_type": "code",
   "execution_count": 12,
   "id": "8f83ac25",
   "metadata": {},
   "outputs": [],
   "source": [
    "sql = \"delete from boardtbl where bno=:1\"\n",
    "\n",
    "cursor.execute(sql, (121,))\n",
    "conn.commit()"
   ]
  },
  {
   "cell_type": "code",
   "execution_count": null,
   "id": "21d1e2a7",
   "metadata": {},
   "outputs": [],
   "source": []
  }
 ],
 "metadata": {
  "kernelspec": {
   "display_name": "venv",
   "language": "python",
   "name": "python3"
  },
  "language_info": {
   "codemirror_mode": {
    "name": "ipython",
    "version": 3
   },
   "file_extension": ".py",
   "mimetype": "text/x-python",
   "name": "python",
   "nbconvert_exporter": "python",
   "pygments_lexer": "ipython3",
   "version": "3.13.3"
  }
 },
 "nbformat": 4,
 "nbformat_minor": 5
}
