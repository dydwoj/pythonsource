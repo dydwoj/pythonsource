{
 "cells": [
  {
   "cell_type": "markdown",
   "id": "24abfcd0",
   "metadata": {},
   "source": [
    "### 파일입출력"
   ]
  },
  {
   "cell_type": "code",
   "execution_count": 129,
   "id": "bc9326fe",
   "metadata": {},
   "outputs": [],
   "source": [
    "# 키보드 입력 : input() / 화면 출력 : print()\n",
    "\n",
    "# open(\"경로\", \"모드\")\n",
    "\n",
    "f = open(\"data/test1.txt\", \"w\")\n",
    "f.write(\"Hello Python\")\n",
    "f.close()\n",
    "\n",
    "# with\n",
    "with open(\"data/test1.txt\", \"w\") as f:\n",
    "    f.write(\"Hello Python\")"
   ]
  },
  {
   "cell_type": "code",
   "execution_count": 94,
   "id": "eccffb40",
   "metadata": {},
   "outputs": [],
   "source": [
    "f = open(\"data/test1.txt\", \"w\", encoding=\"utf-8\")\n",
    "f.write(\"안녕하세요\")\n",
    "f.write(\"반갑습니다\")\n",
    "f.close()"
   ]
  },
  {
   "cell_type": "code",
   "execution_count": 95,
   "id": "45a22ad1",
   "metadata": {},
   "outputs": [],
   "source": [
    "f = open(\"data/test1.txt\", \"a\", encoding=\"utf-8\")\n",
    "f.write(\"안녕하세요\")\n",
    "f.write(\"반갑습니다\")\n",
    "f.close()"
   ]
  },
  {
   "cell_type": "code",
   "execution_count": 96,
   "id": "85f1b72a",
   "metadata": {},
   "outputs": [],
   "source": [
    "f = open(\"data/test1.txt\", \"w\", encoding=\"utf-8\")\n",
    "for i in range(1, 11):\n",
    "    data = \"%d 번째 줄입니다\\n\" % i\n",
    "    f.write(data)\n",
    "f.close()"
   ]
  },
  {
   "cell_type": "code",
   "execution_count": 97,
   "id": "08117afc",
   "metadata": {},
   "outputs": [],
   "source": [
    "list1 = [\"Kim\", \"Park\", \"Hong\", \"Choi\"]\n",
    "\n",
    "f = open(\"data/test2.txt\", \"w\", encoding=\"utf-8\")\n",
    "for i in list1:\n",
    "    f.write(i + \"\\n\")\n",
    "f.close()"
   ]
  },
  {
   "cell_type": "code",
   "execution_count": 98,
   "id": "4300b76a",
   "metadata": {},
   "outputs": [],
   "source": [
    "f = open(\"data/test2.txt\", \"w\", encoding=\"utf-8\")\n",
    "f.writelines(list1)\n",
    "f.close()"
   ]
  },
  {
   "cell_type": "code",
   "execution_count": 99,
   "id": "2233e8fd",
   "metadata": {},
   "outputs": [],
   "source": [
    "dict1 = {\"name\": \"hong\", \"age\": 25, \"addr\": \"서울\"}\n",
    "\n",
    "f = open(\"data/test2.txt\", \"w\", encoding=\"utf-8\")\n",
    "f.writelines(dict1)  # 키값만 작성\n",
    "f.close()"
   ]
  },
  {
   "cell_type": "code",
   "execution_count": 100,
   "id": "72d869d4",
   "metadata": {},
   "outputs": [],
   "source": [
    "f = open(\"data/test2.txt\", \"w\", encoding=\"utf-8\")\n",
    "for k, v in dict1.items():\n",
    "    f.write(\"{} : {}\\n\".format(k, v))\n",
    "f.close()"
   ]
  },
  {
   "cell_type": "code",
   "execution_count": 101,
   "id": "5acf7902",
   "metadata": {},
   "outputs": [],
   "source": [
    "import random\n",
    "\n",
    "hanguls = list(\"가나다라마바사아자차카타파하\")\n",
    "f = open(\"data/info.txt\", \"w\", encoding=\"utf-8\")\n",
    "for i in range(500):\n",
    "    name = random.choice(hanguls) + random.choice(hanguls)\n",
    "    weight = random.randrange(40,100)\n",
    "    height = random.randrange(140, 200)\n",
    "    f.write(\"{}, {}, {}\\n\".format(name,weight,height))\n",
    "f.close()"
   ]
  },
  {
   "cell_type": "code",
   "execution_count": 102,
   "id": "bbe14048",
   "metadata": {},
   "outputs": [
    {
     "name": "stdout",
     "output_type": "stream",
     "text": [
      "1 번째 줄입니다\n",
      "2 번째 줄입니다\n",
      "3 번째 줄입니다\n",
      "4 번째 줄입니다\n",
      "5 번째 줄입니다\n",
      "6 번째 줄입니다\n",
      "7 번째 줄입니다\n",
      "8 번째 줄입니다\n",
      "9 번째 줄입니다\n",
      "10 번째 줄입니다\n",
      "\n"
     ]
    }
   ],
   "source": [
    "f = open(\"data/test1.txt\", \"r\", encoding=\"utf-8\")\n",
    "content = f.read()\n",
    "print(content)\n",
    "f.close()"
   ]
  },
  {
   "cell_type": "code",
   "execution_count": 128,
   "id": "c8f723ec",
   "metadata": {},
   "outputs": [
    {
     "ename": "SyntaxError",
     "evalue": "expected ':' (3849388895.py, line 6)",
     "output_type": "error",
     "traceback": [
      "  \u001b[36mCell\u001b[39m\u001b[36m \u001b[39m\u001b[32mIn[128]\u001b[39m\u001b[32m, line 6\u001b[39m\n\u001b[31m    \u001b[39m\u001b[31mwith open(\"data/test1.txt\", \"r\", encoding=\"utf-8\") as f\u001b[39m\n                                                           ^\n\u001b[31mSyntaxError\u001b[39m\u001b[31m:\u001b[39m expected ':'\n"
     ]
    }
   ],
   "source": [
    "f = open(\"data/test1.txt\", \"r\", encoding=\"utf-8\")\n",
    "content = f.readlines() # 리스트로 가져옴\n",
    "print(content)\n",
    "f.close()\n",
    "\n",
    "with open(\"data/test1.txt\", \"r\", encoding=\"utf-8\") as f:\n",
    "    content = f.readlines()\n",
    "    print content"
   ]
  },
  {
   "cell_type": "code",
   "execution_count": 104,
   "id": "603517f0",
   "metadata": {},
   "outputs": [
    {
     "name": "stdout",
     "output_type": "stream",
     "text": [
      "1 번째 줄입니다\n",
      "\n"
     ]
    }
   ],
   "source": [
    "f = open(\"data/test1.txt\", \"r\", encoding=\"utf-8\")\n",
    "content = f.readline() # 줄 단위로 읽어오기\n",
    "print(content)\n",
    "f.close()"
   ]
  },
  {
   "cell_type": "code",
   "execution_count": 105,
   "id": "ba00a1f1",
   "metadata": {},
   "outputs": [
    {
     "name": "stdout",
     "output_type": "stream",
     "text": [
      "1 번째 줄입니다\n",
      "2 번째 줄입니다\n",
      "3 번째 줄입니다\n",
      "4 번째 줄입니다\n",
      "5 번째 줄입니다\n",
      "6 번째 줄입니다\n",
      "7 번째 줄입니다\n",
      "8 번째 줄입니다\n",
      "9 번째 줄입니다\n",
      "10 번째 줄입니다\n"
     ]
    }
   ],
   "source": [
    "f = open(\"data/test1.txt\", \"r\", encoding=\"utf-8\")\n",
    "line = f.readline() # 줄 단위로 읽어오기\n",
    "while line:\n",
    "    print(line, end=\"\")\n",
    "    line = f.readline()\n",
    "f.close()"
   ]
  },
  {
   "cell_type": "code",
   "execution_count": 106,
   "id": "b5d5b2eb",
   "metadata": {},
   "outputs": [
    {
     "name": "stdout",
     "output_type": "stream",
     "text": [
      "평균 : 87.29\n",
      "총점 : 611\n"
     ]
    }
   ],
   "source": [
    "# score 읽어와서 평균, 총점 출력\n",
    "\n",
    "# 내꺼\n",
    "f = open(\"data/score.txt\", \"r\", encoding=\"utf-8\")\n",
    "content = f.read().split(\"\\n\")\n",
    "total = 0\n",
    "for x in content:\n",
    "    total += int(x)\n",
    "print(\"평균 : %.2f\" % (total / len(content)))\n",
    "print(\"총점 :\", total)\n",
    "f.close()"
   ]
  },
  {
   "cell_type": "code",
   "execution_count": 107,
   "id": "b5b6953e",
   "metadata": {},
   "outputs": [],
   "source": [
    "# score 읽어와서 평균, 총점 출력\n",
    "\n",
    "# 강사님꺼\n",
    "scores = []\n",
    "\n",
    "f = open(\"data/score.txt\", \"r\", encoding=\"utf-8\")\n",
    "line = f.readline()\n",
    "while line:\n",
    "    scores.append(int(line))\n",
    "    line = f.readline()\n",
    "f.close()\n"
   ]
  },
  {
   "cell_type": "code",
   "execution_count": 108,
   "id": "e0722677",
   "metadata": {},
   "outputs": [
    {
     "name": "stdout",
     "output_type": "stream",
     "text": [
      "[95, 78, 72, 82, 95, 89, 100]\n",
      "합계 : 611\n",
      "평균 : 87.29\n",
      "평균 :  87.3\n"
     ]
    }
   ],
   "source": [
    "# 강사님꺼\n",
    "print(scores)\n",
    "print(\"합계 :\", sum(scores))\n",
    "print(\"평균 : %.2f\" % (sum(scores) / len(scores)))\n",
    "print(\"평균 :{:6.3}\".format(sum(scores) / len(scores)))"
   ]
  },
  {
   "cell_type": "code",
   "execution_count": 109,
   "id": "765e4a07",
   "metadata": {},
   "outputs": [
    {
     "name": "stdout",
     "output_type": "stream",
     "text": [
      "95\n",
      "78\n",
      "72\n",
      "82\n",
      "95\n",
      "89\n",
      "100\n"
     ]
    }
   ],
   "source": [
    "f = open(\"data/score.txt\", \"r\", encoding=\"utf-8\")\n",
    "for num in f:\n",
    "    print(num.strip())"
   ]
  },
  {
   "cell_type": "code",
   "execution_count": 110,
   "id": "4225a25b",
   "metadata": {},
   "outputs": [],
   "source": [
    "# score 읽어서 sample.txt 쓰기\n",
    "list1 = []\n",
    "f = open(\"data/score.txt\", \"r\", encoding=\"utf-8\")\n",
    "for num in f:\n",
    "    list1.append(num.strip())\n",
    "f.close()\n",
    "\n",
    "f = open(\"data/sample.txt\", \"w\", encoding=\"utf-8\")\n",
    "for num in list1:\n",
    "    f.write(num + \"\\n\")\n",
    "f.close()"
   ]
  },
  {
   "cell_type": "code",
   "execution_count": 121,
   "id": "024a5788",
   "metadata": {},
   "outputs": [
    {
     "name": "stdout",
     "output_type": "stream",
     "text": [
      "a\n",
      "b\n",
      "c\n"
     ]
    }
   ],
   "source": [
    "list1 = [\"a\", \"b\", \"c\"]\n",
    "\n",
    "# a\n",
    "# b\n",
    "# c\n",
    "\n",
    "print(\"\\n\".join(list1))"
   ]
  },
  {
   "cell_type": "code",
   "execution_count": 126,
   "id": "ff425243",
   "metadata": {},
   "outputs": [
    {
     "name": "stdout",
     "output_type": "stream",
     "text": [
      "이름 : 나차\n",
      "몸무게 : 81\n",
      "키 : 164\n",
      "BMI : 30.116002379535995\n",
      "결과 : 과체중\n",
      "\n"
     ]
    }
   ],
   "source": [
    "# info.txt 읽어와서 BMI 지수 계산 후 화면출력\n",
    "f = open(\"data/info.txt\", \"r\", encoding=\"utf-8\")\n",
    "for info in f:\n",
    "    name, weight, height = info.strip().split(\", \")\n",
    "    # print(name, weight, height)\n",
    "    # BMI = weight / ((height / 100) ** 2)\n",
    "    bmi = int(weight) / (int(height) / 100) ** 2\n",
    "\n",
    "    result = \"\"\n",
    "    # BMI >= 25 : 과체중\n",
    "    if bmi >= 25:\n",
    "        result = \"과체중\"\n",
    "    # BMI >= 18.5 : 정상체중\n",
    "    elif bmi >= 18.5:\n",
    "        result = \"정상체중\"\n",
    "    # BMI : 저체중\n",
    "    else:\n",
    "        result = \"저체중\"\n",
    "\n",
    "# 나다 82 180\n",
    "# 이름 : 나다\n",
    "# print(f\"이름 : {name}\")\n",
    "# 몸무게 : 82\n",
    "# 키 : 180\n",
    "# bmi : 33.78\n",
    "# 결과 : 과체중\n",
    "\n",
    "print(\"\\n\".join([\"이름 : {}\", \"몸무게 : {}\", \"키 : {}\", \"BMI : {}\", \"결과 : {}\"]).format(name, weight, height, bmi, result))\n",
    "print()\n",
    "\n",
    "f.close()"
   ]
  },
  {
   "cell_type": "code",
   "execution_count": 137,
   "id": "02c9022d",
   "metadata": {},
   "outputs": [
    {
     "name": "stdout",
     "output_type": "stream",
     "text": [
      "['1', '김정수', '2017-01-19 11:30:00', '25']\n",
      "['2', '박민구', '2017-02-07 10:22:00', '35']\n",
      "['3', '정순미', '2017-01-22 09:10:00', '33']\n",
      "['4', '김정현', '2017-02-22 14:09:00', '45']\n",
      "['5', '홍미진', '2017-04-01 18:00:00', '17']\n",
      "['6', '김순철', '2017-05-14 22:33:07', '22']\n",
      "['7', '이동철', '2017-03-01 23:44:45', '27']\n",
      "['8', '박지숙', '2017-01-11 06:04:18', '30']\n",
      "['9', '김은미', '2017-02-08 07:44:33', '51']\n",
      "['10', '장혁철', '2017-12-01 13:01:11', '16']\n"
     ]
    }
   ],
   "source": [
    "import csv\n",
    "\n",
    "with open(\"./data/sample1.csv\", \"r\") as f:\n",
    "    reader = csv.reader(f)\n",
    "\n",
    "    # 제목 행 제외\n",
    "    next(reader)\n",
    "\n",
    "    for c in reader:\n",
    "        print(c)"
   ]
  },
  {
   "cell_type": "code",
   "execution_count": 141,
   "id": "a766d244",
   "metadata": {},
   "outputs": [
    {
     "name": "stdout",
     "output_type": "stream",
     "text": [
      "{'번호': '2', '이름': '박민구', '가입일시': '2017-02-07 10:22:00', '나이': '35'}\n",
      "번호 2\n",
      "이름 박민구\n",
      "가입일시 2017-02-07 10:22:00\n",
      "나이 35\n",
      "{'번호': '3', '이름': '정순미', '가입일시': '2017-01-22 09:10:00', '나이': '33'}\n",
      "번호 3\n",
      "이름 정순미\n",
      "가입일시 2017-01-22 09:10:00\n",
      "나이 33\n",
      "{'번호': '4', '이름': '김정현', '가입일시': '2017-02-22 14:09:00', '나이': '45'}\n",
      "번호 4\n",
      "이름 김정현\n",
      "가입일시 2017-02-22 14:09:00\n",
      "나이 45\n",
      "{'번호': '5', '이름': '홍미진', '가입일시': '2017-04-01 18:00:00', '나이': '17'}\n",
      "번호 5\n",
      "이름 홍미진\n",
      "가입일시 2017-04-01 18:00:00\n",
      "나이 17\n",
      "{'번호': '6', '이름': '김순철', '가입일시': '2017-05-14 22:33:07', '나이': '22'}\n",
      "번호 6\n",
      "이름 김순철\n",
      "가입일시 2017-05-14 22:33:07\n",
      "나이 22\n",
      "{'번호': '7', '이름': '이동철', '가입일시': '2017-03-01 23:44:45', '나이': '27'}\n",
      "번호 7\n",
      "이름 이동철\n",
      "가입일시 2017-03-01 23:44:45\n",
      "나이 27\n",
      "{'번호': '8', '이름': '박지숙', '가입일시': '2017-01-11 06:04:18', '나이': '30'}\n",
      "번호 8\n",
      "이름 박지숙\n",
      "가입일시 2017-01-11 06:04:18\n",
      "나이 30\n",
      "{'번호': '9', '이름': '김은미', '가입일시': '2017-02-08 07:44:33', '나이': '51'}\n",
      "번호 9\n",
      "이름 김은미\n",
      "가입일시 2017-02-08 07:44:33\n",
      "나이 51\n",
      "{'번호': '10', '이름': '장혁철', '가입일시': '2017-12-01 13:01:11', '나이': '16'}\n",
      "번호 10\n",
      "이름 장혁철\n",
      "가입일시 2017-12-01 13:01:11\n",
      "나이 16\n"
     ]
    }
   ],
   "source": [
    "import csv\n",
    "\n",
    "with open(\"./data/sample1.csv\", \"r\") as f:\n",
    "    reader = csv.DictReader(f)\n",
    "\n",
    "    # 제목 행 제외\n",
    "    next(reader)\n",
    "\n",
    "    for c in reader:\n",
    "        print(c)\n",
    "        for k, v in c.items():\n",
    "            print(k, v)"
   ]
  },
  {
   "cell_type": "code",
   "execution_count": 145,
   "id": "7b53e3a6",
   "metadata": {},
   "outputs": [],
   "source": [
    "list1 = [[1, 2, 3], [4, 5, 6], [7, 8, 9], [10, 11, 12], [13, 14, 15]]\n",
    "\n",
    "with open(\"./data/sample2.csv\", \"w\", newline=\"\") as f:\n",
    "    wt = csv.writer(f)\n",
    "    # for item in list1:\n",
    "    #     wt.writerow(item)\n",
    "    wt. writerows(list1)"
   ]
  },
  {
   "cell_type": "code",
   "execution_count": 148,
   "id": "9f1c4c69",
   "metadata": {},
   "outputs": [
    {
     "name": "stdout",
     "output_type": "stream",
     "text": [
      "['1', '김정수', '2017-01-18 11:30:00', '25']\n",
      "1\n",
      "김정수\n",
      "2017-01-18 11:30:00\n",
      "25\n",
      "['2', '박민구', '2017-02-07 10:22:00', '35']\n",
      "2\n",
      "박민구\n",
      "2017-02-07 10:22:00\n",
      "35\n",
      "['3', '정순미', '2017-01-22 09:10:00', '33']\n",
      "3\n",
      "정순미\n",
      "2017-01-22 09:10:00\n",
      "33\n",
      "['4', '김정현', '2017-02-22 14:30:00', '45']\n",
      "4\n",
      "김정현\n",
      "2017-02-22 14:30:00\n",
      "45\n",
      "['5', '홍미진', '2017-01-18 11:30:00', '24']\n",
      "5\n",
      "홍미진\n",
      "2017-01-18 11:30:00\n",
      "24\n",
      "['6', '이동철', '2017-03-01 23:30:00', '27']\n",
      "6\n",
      "이동철\n",
      "2017-03-01 23:30:00\n",
      "27\n",
      "['7', '김은미', '2017-04-01 23:30:00', '25']\n",
      "7\n",
      "김은미\n",
      "2017-04-01 23:30:00\n",
      "25\n"
     ]
    }
   ],
   "source": [
    "with open(\"./data/sample3.csv\", \"r\") as f:\n",
    "    reader = csv.reader(f, delimiter=\"|\")\n",
    "\n",
    "    for c in reader:\n",
    "        print(c)\n",
    "        print(\"\\n\".join(c))"
   ]
  },
  {
   "cell_type": "code",
   "execution_count": 152,
   "id": "28c3e610",
   "metadata": {},
   "outputs": [
    {
     "name": "stdout",
     "output_type": "stream",
     "text": [
      "<class 'str'>\n",
      "<class 'dict'>\n",
      "hong\n",
      "python\n",
      "3.5\n",
      "Guido van rossum\n"
     ]
    }
   ],
   "source": [
    "import json\n",
    "\n",
    "data = '{\"id\":\"hong\", \"language\":\"python\", \"edition\":\"3.5\", \"author\":\"Guido van rossum\"}'\n",
    "\n",
    "print(type(data))\n",
    "\n",
    "jsondata = json.loads(data)\n",
    "print(type(jsondata))\n",
    "\n",
    "print(jsondata['id'])\n",
    "print(jsondata['language'])\n",
    "print(jsondata['edition'])\n",
    "print(jsondata['author'])"
   ]
  },
  {
   "cell_type": "code",
   "execution_count": 155,
   "id": "5ccd47ee",
   "metadata": {},
   "outputs": [
    {
     "name": "stdout",
     "output_type": "stream",
     "text": [
      "<class 'dict'>\n",
      "<class 'str'>\n"
     ]
    }
   ],
   "source": [
    "data = {\"id\":\"hong\", \"language\":\"python\", \"edition\":\"3.5\", \"author\":\"Guido van rossum\"}\n",
    "\n",
    "print(type(data))\n",
    "\n",
    "jsondata = json.dumps(data)\n",
    "print(type(jsondata))"
   ]
  },
  {
   "cell_type": "code",
   "execution_count": 156,
   "id": "f27c2d8d",
   "metadata": {},
   "outputs": [],
   "source": [
    "with open(\"./data/test.json\", \"w\") as f:\n",
    "    json.dump(data, f, indent=2)"
   ]
  },
  {
   "cell_type": "code",
   "execution_count": 157,
   "id": "86985b52",
   "metadata": {},
   "outputs": [
    {
     "name": "stdout",
     "output_type": "stream",
     "text": [
      "{'id': 'hong', 'language': 'python', 'edition': '3.5', 'author': 'Guido van rossum'}\n"
     ]
    }
   ],
   "source": [
    "with open(\"./data/test.json\", \"r\") as f:\n",
    "    print(json.load(f))"
   ]
  },
  {
   "cell_type": "markdown",
   "id": "20b165ca",
   "metadata": {},
   "source": [
    "- json\n",
    "    - loads : 문자열을 dict 구조로 처리\n",
    "    - dumps : dict 구조를 문자열로 처리\n",
    "    - load : json 파일을 읽어서 dict 구조로 처리\n",
    "    - dump : dict 구조를 json 으로 처리"
   ]
  },
  {
   "cell_type": "code",
   "execution_count": null,
   "id": "aec7fe98",
   "metadata": {},
   "outputs": [],
   "source": []
  }
 ],
 "metadata": {
  "kernelspec": {
   "display_name": "venv",
   "language": "python",
   "name": "python3"
  },
  "language_info": {
   "codemirror_mode": {
    "name": "ipython",
    "version": 3
   },
   "file_extension": ".py",
   "mimetype": "text/x-python",
   "name": "python",
   "nbconvert_exporter": "python",
   "pygments_lexer": "ipython3",
   "version": "3.13.3"
  }
 },
 "nbformat": 4,
 "nbformat_minor": 5
}
