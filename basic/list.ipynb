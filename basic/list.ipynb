{
 "cells": [
  {
   "cell_type": "markdown",
   "id": "5cf167f9",
   "metadata": {},
   "source": [
    "### 리스트\n",
    "\n",
    "- java/javascript 의 배열과 동일 개념\n",
    "- javascript 의 배열과 동작방식 동일함 (데이터를 여러 타입을 담을 수 있음)"
   ]
  },
  {
   "cell_type": "code",
   "execution_count": 3,
   "id": "0ad23b0d",
   "metadata": {},
   "outputs": [],
   "source": [
    "# 리스트 생성\n",
    "\n",
    "list1 = []\n",
    "list2 = [\"a\", \"b\", \"c\", 1, 2, 3]\n",
    "list3 = [1, 2, 3, 4, 5.5, 6.5]\n",
    "list4 = [1, 2, [\"Life\", \"is\", \"short\"]]\n",
    "list5 = list(\"34\")"
   ]
  },
  {
   "cell_type": "code",
   "execution_count": 4,
   "id": "28f0df63",
   "metadata": {},
   "outputs": [
    {
     "name": "stdout",
     "output_type": "stream",
     "text": [
      "[]\n",
      "['a', 'b', 'c', 1, 2, 3]\n",
      "[1, 2, 3, 4, 5.5, 6.5]\n",
      "[1, 2, ['Life', 'is', 'short']]\n",
      "['3', '4']\n"
     ]
    }
   ],
   "source": [
    "print(list1)\n",
    "print(list2)\n",
    "print(list3)\n",
    "print(list4)\n",
    "print(list5)"
   ]
  },
  {
   "cell_type": "markdown",
   "id": "fd8c1998",
   "metadata": {},
   "source": [
    "### 리스트 인덱싱과 슬라이싱"
   ]
  },
  {
   "cell_type": "code",
   "execution_count": 7,
   "id": "64b13d93",
   "metadata": {},
   "outputs": [
    {
     "name": "stdout",
     "output_type": "stream",
     "text": [
      "a\n",
      "['Life', 'is', 'short']\n",
      "['Life', 'is', 'short']\n",
      "Life\n",
      "4\n"
     ]
    }
   ],
   "source": [
    "print(list2[0])\n",
    "print(list4[2])\n",
    "print(list4[-1])\n",
    "print(list4[-1][0])\n",
    "print(list5[-1])"
   ]
  },
  {
   "cell_type": "code",
   "execution_count": 11,
   "id": "f3f404a8",
   "metadata": {},
   "outputs": [
    {
     "name": "stdout",
     "output_type": "stream",
     "text": [
      "is\n",
      "is\n"
     ]
    }
   ],
   "source": [
    "list6 = [1,2,[\"a\", \"b\", [\"Life\", \"is\"]]]\n",
    "\n",
    "# is 글자 출력\n",
    "print(list6[2][2][1])\n",
    "print(list6[-1][-1][-1])"
   ]
  },
  {
   "cell_type": "code",
   "execution_count": 14,
   "id": "df4f46b9",
   "metadata": {},
   "outputs": [
    {
     "name": "stdout",
     "output_type": "stream",
     "text": [
      "['a', 'b', 'c', 1, 2, 3]\n",
      "['a', 'b']\n",
      "['c', 1, 2, 3]\n",
      "[1, 2, ['Life', 'is', 'short']]\n",
      "['Life', 'is']\n"
     ]
    }
   ],
   "source": [
    "print(list2)\n",
    "print(list2[:2])\n",
    "print(list2[2:])\n",
    "\n",
    "print(list4)\n",
    "print(list4[2][:2])"
   ]
  },
  {
   "cell_type": "code",
   "execution_count": 16,
   "id": "fc4b49dc",
   "metadata": {},
   "outputs": [
    {
     "name": "stdout",
     "output_type": "stream",
     "text": [
      "['a', 'b', 'c', 1, 2, 3, 1, 2, 3, 4, 5.5, 6.5]\n",
      "['a', 'b', 'c', 1, 2, 3, 'a', 'b', 'c', 1, 2, 3, 'a', 'b', 'c', 1, 2, 3]\n"
     ]
    }
   ],
   "source": [
    "# + / *\n",
    "\n",
    "print(list2 + list3)\n",
    "print(list2 * 3)"
   ]
  },
  {
   "cell_type": "code",
   "execution_count": 20,
   "id": "d58469b4",
   "metadata": {},
   "outputs": [
    {
     "name": "stdout",
     "output_type": "stream",
     "text": [
      "['a', 'd', 11, 12, 11, 12, 'c', 1, 2, 3]\n",
      "['a', 10, 11, 12, 11, 12, 11, 12, 'c', 1, 2, 3]\n",
      "['a', [15, 16, 17], 11, 12, 11, 12, 11, 12, 'c', 1, 2, 3]\n"
     ]
    }
   ],
   "source": [
    "list2[1] = \"d\"\n",
    "print(list2)\n",
    "\n",
    "list2[1:2] = [10, 11, 12]\n",
    "print(list2)\n",
    "\n",
    "list2[1] = [15, 16, 17]\n",
    "print(list2)"
   ]
  },
  {
   "cell_type": "code",
   "execution_count": 21,
   "id": "674ebef7",
   "metadata": {},
   "outputs": [
    {
     "name": "stdout",
     "output_type": "stream",
     "text": [
      "['a', 11, 12, 11, 12, 11, 12, 'c', 1, 2, 3]\n"
     ]
    }
   ],
   "source": [
    "# 리스트 요소 삭제\n",
    "\n",
    "del list2[1]\n",
    "print(list2)"
   ]
  },
  {
   "cell_type": "code",
   "execution_count": 22,
   "id": "e41d1647",
   "metadata": {},
   "outputs": [
    {
     "data": {
      "text/plain": [
       "11"
      ]
     },
     "execution_count": 22,
     "metadata": {},
     "output_type": "execute_result"
    }
   ],
   "source": [
    "# len() : 길이\n",
    "\n",
    "len(list2)"
   ]
  },
  {
   "cell_type": "code",
   "execution_count": 25,
   "id": "f60a49c1",
   "metadata": {},
   "outputs": [
    {
     "name": "stdout",
     "output_type": "stream",
     "text": [
      "a 11 12 11 12 11 12 c 1 2 3 "
     ]
    }
   ],
   "source": [
    "for i in list2:\n",
    "    print(i, end=\" \")"
   ]
  },
  {
   "cell_type": "markdown",
   "id": "3e17c27d",
   "metadata": {},
   "source": [
    "### 리스트 함수"
   ]
  },
  {
   "cell_type": "code",
   "execution_count": null,
   "id": "d2cd6cf4",
   "metadata": {},
   "outputs": [
    {
     "data": {
      "text/plain": [
       "['3', '4', '5', '5', [6, 7, 8]]"
      ]
     },
     "execution_count": 29,
     "metadata": {},
     "output_type": "execute_result"
    }
   ],
   "source": [
    "# append() : 리스트 뒤에 요소 추가\n",
    "list5.append('5')\n",
    "# list5.append('5', '6', 7) => 요소는 1개만\n",
    "list5.append([6,7,8])\n",
    "list5"
   ]
  },
  {
   "cell_type": "code",
   "execution_count": 36,
   "id": "3b41071f",
   "metadata": {},
   "outputs": [
    {
     "name": "stdout",
     "output_type": "stream",
     "text": [
      "[2, 4, 6, 8, 10, 12, 14, 16, 18, 20, 22, 24, 26, 28, 30, 32, 34, 36, 38, 40, 42, 44, 46, 48, 50, 52, 54, 56, 58, 60, 62, 64, 66, 68, 70, 72, 74, 76, 78, 80, 82, 84, 86, 88, 90, 92, 94, 96, 98, 100]\n"
     ]
    }
   ],
   "source": [
    "# 1 ~ 100 숫자 중에서 짝수만 리스트로 생성\n",
    "\n",
    "even = []\n",
    "\n",
    "for i in range(2, 101, 2):\n",
    "    # print(i, end=\" \")\n",
    "    even.append(i)\n",
    "\n",
    "print(even)"
   ]
  },
  {
   "cell_type": "code",
   "execution_count": 37,
   "id": "af8c3c51",
   "metadata": {},
   "outputs": [
    {
     "data": {
      "text/plain": [
       "[1, 2, 3, 4]"
      ]
     },
     "execution_count": 37,
     "metadata": {},
     "output_type": "execute_result"
    }
   ],
   "source": [
    "# 리스트 정렬\n",
    "\n",
    "list1 = [1, 4, 3, 2]\n",
    "list1.sort()\n",
    "list1"
   ]
  },
  {
   "cell_type": "code",
   "execution_count": 42,
   "id": "75fbda91",
   "metadata": {},
   "outputs": [
    {
     "data": {
      "text/plain": [
       "['b', 'c', 'f', 'z']"
      ]
     },
     "execution_count": 42,
     "metadata": {},
     "output_type": "execute_result"
    }
   ],
   "source": [
    "list2 = ['z', 'b', 'c', 'f']\n",
    "list2.sort()\n",
    "list2"
   ]
  },
  {
   "cell_type": "code",
   "execution_count": 50,
   "id": "ea831f71",
   "metadata": {},
   "outputs": [
    {
     "data": {
      "text/plain": [
       "['A', 'C', 'b', 'f']"
      ]
     },
     "execution_count": 50,
     "metadata": {},
     "output_type": "execute_result"
    }
   ],
   "source": [
    "list2 = ['A', 'b', 'C', 'f']\n",
    "list2.sort()\n",
    "list2"
   ]
  },
  {
   "cell_type": "code",
   "execution_count": 51,
   "id": "1c2e7247",
   "metadata": {},
   "outputs": [
    {
     "name": "stdout",
     "output_type": "stream",
     "text": [
      "정렬 전 :  ['A', 'C', 'b', 'f']\n",
      "정렬 후 :  ['f', 'b', 'C', 'A']\n"
     ]
    }
   ],
   "source": [
    "# sort(reverse=True)\n",
    "\n",
    "print(\"정렬 전 : \", list2)\n",
    "list2.sort(reverse=True)\n",
    "print(\"정렬 후 : \", list2)"
   ]
  },
  {
   "cell_type": "code",
   "execution_count": null,
   "id": "35d4394f",
   "metadata": {},
   "outputs": [
    {
     "name": "stdout",
     "output_type": "stream",
     "text": [
      "[1, 2, 3, 4, 5.5, 6.5]\n",
      "[6.5, 5.5, 4, 3, 2, 1]\n"
     ]
    }
   ],
   "source": [
    "# reverse() : 리스트 순서 거꾸로 뒤집기\n",
    "\n",
    "print(list3)\n",
    "list3.reverse()\n",
    "print(list3)"
   ]
  },
  {
   "cell_type": "code",
   "execution_count": null,
   "id": "10cb310a",
   "metadata": {},
   "outputs": [],
   "source": []
  }
 ],
 "metadata": {
  "kernelspec": {
   "display_name": "venv",
   "language": "python",
   "name": "python3"
  },
  "language_info": {
   "codemirror_mode": {
    "name": "ipython",
    "version": 3
   },
   "file_extension": ".py",
   "mimetype": "text/x-python",
   "name": "python",
   "nbconvert_exporter": "python",
   "pygments_lexer": "ipython3",
   "version": "3.13.3"
  }
 },
 "nbformat": 4,
 "nbformat_minor": 5
}
