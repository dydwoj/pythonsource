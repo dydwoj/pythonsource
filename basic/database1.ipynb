{
 "cells": [
  {
   "cell_type": "markdown",
   "id": "d16ce74e",
   "metadata": {},
   "source": [
    "### DB 연동\n",
    "- 내장 DB : SQLite\n",
    "    - RDBMS : 테이블 형태의 DB"
   ]
  },
  {
   "cell_type": "code",
   "execution_count": 10,
   "id": "702dacc5",
   "metadata": {},
   "outputs": [],
   "source": [
    "import sqlite3\n",
    "from datetime import datetime"
   ]
  },
  {
   "cell_type": "code",
   "execution_count": 2,
   "id": "5760a61b",
   "metadata": {},
   "outputs": [
    {
     "name": "stdout",
     "output_type": "stream",
     "text": [
      "version :  3.49.1\n"
     ]
    }
   ],
   "source": [
    "print(\"version : \", sqlite3.sqlite_version)"
   ]
  },
  {
   "cell_type": "code",
   "execution_count": 11,
   "id": "b9572dec",
   "metadata": {},
   "outputs": [
    {
     "name": "stdout",
     "output_type": "stream",
     "text": [
      "2025-06-10 11:03:03.126667\n",
      "2025-06-10 11:03:03\n"
     ]
    }
   ],
   "source": [
    "now = datetime.now()\n",
    "print(now)\n",
    "\n",
    "# 원하는 형식으로 변경\n",
    "nowDateTime = now.strftime(\"%Y-%m-%d %H:%M:%S\")\n",
    "print(nowDateTime)"
   ]
  },
  {
   "cell_type": "code",
   "execution_count": null,
   "id": "045a6657",
   "metadata": {},
   "outputs": [],
   "source": [
    "# 데이터베이스 생성\n",
    "# isolation_level : autocommit 하지 않기\n",
    "conn = sqlite3.connect(\"./test.db\", isolation_level=None)"
   ]
  },
  {
   "cell_type": "code",
   "execution_count": 4,
   "id": "f4e18b62",
   "metadata": {},
   "outputs": [],
   "source": [
    "cursor = conn.cursor()"
   ]
  },
  {
   "cell_type": "code",
   "execution_count": 5,
   "id": "22a782ce",
   "metadata": {},
   "outputs": [
    {
     "data": {
      "text/plain": [
       "<sqlite3.Cursor at 0x1bd740d00c0>"
      ]
     },
     "execution_count": 5,
     "metadata": {},
     "output_type": "execute_result"
    }
   ],
   "source": [
    "# 테이블 생성\n",
    "\n",
    "sql = \"create table if not exists users(id integer primary key, username text, email text, phone text, website text, regdate text)\"\n",
    "\n",
    "cursor.execute(sql)"
   ]
  },
  {
   "cell_type": "code",
   "execution_count": null,
   "id": "656040f2",
   "metadata": {},
   "outputs": [
    {
     "data": {
      "text/plain": [
       "<sqlite3.Cursor at 0x1bd740d00c0>"
      ]
     },
     "execution_count": 12,
     "metadata": {},
     "output_type": "execute_result"
    }
   ],
   "source": [
    "# create(insert)\n",
    "\n",
    "sql = \"insert into users(id, username, email, phone, website, regdate) \"\n",
    "sql += \"values(1, 'kim', 'kim@gmail.com', '010-1234-1234', 'Kim.com',?)\"\n",
    "\n",
    "# ? : 튜플로 지정하기\n",
    "cursor.execute(sql, (nowDateTime,))"
   ]
  },
  {
   "cell_type": "code",
   "execution_count": 25,
   "id": "910080a8",
   "metadata": {},
   "outputs": [
    {
     "data": {
      "text/plain": [
       "<sqlite3.Cursor at 0x1bd740d00c0>"
      ]
     },
     "execution_count": 25,
     "metadata": {},
     "output_type": "execute_result"
    }
   ],
   "source": [
    "sql = \"insert into users(id, username, email, phone, website, regdate) \"\n",
    "sql += \"values(?, ?, ?, ?, ?,?)\"\n",
    "\n",
    "# ? : 튜플로 지정하기\n",
    "cursor.execute(sql, (6,'Hong', 'Hong@gmail.com', '010-1234-1234', 'Hong.com', nowDateTime))"
   ]
  },
  {
   "cell_type": "code",
   "execution_count": 14,
   "id": "8a88f0ed",
   "metadata": {},
   "outputs": [
    {
     "data": {
      "text/plain": [
       "<sqlite3.Cursor at 0x1bd740d00c0>"
      ]
     },
     "execution_count": 14,
     "metadata": {},
     "output_type": "execute_result"
    }
   ],
   "source": [
    "userList = [\n",
    "    (3,'Jang', 'Jang@gmail.com', '010-1234-1234', 'Jang.com', nowDateTime),\n",
    "    (4,'Jeong', 'Jeong@gmail.com', '010-1234-1234', 'Jeong.com', nowDateTime),\n",
    "    (5,'Mi', 'Mi@gmail.com', '010-1234-1234', 'Mi.com', nowDateTime)\n",
    "]\n",
    "\n",
    "cursor.executemany(sql, userList)"
   ]
  },
  {
   "cell_type": "code",
   "execution_count": 15,
   "id": "ebe67537",
   "metadata": {},
   "outputs": [
    {
     "data": {
      "text/plain": [
       "<sqlite3.Cursor at 0x1bd740d00c0>"
      ]
     },
     "execution_count": 15,
     "metadata": {},
     "output_type": "execute_result"
    }
   ],
   "source": [
    "# 조회(Read) : fetchone(), fetchmany(), fetchall()\n",
    "\n",
    "sql = \"select * from users\"\n",
    "\n",
    "cursor.execute(sql)"
   ]
  },
  {
   "cell_type": "code",
   "execution_count": 17,
   "id": "5117e485",
   "metadata": {},
   "outputs": [
    {
     "data": {
      "text/plain": [
       "(1, 'kim', 'kim@gmail.com', '010-1234-1234', 'Kim.com', '2025-06-10 11:03:03')"
      ]
     },
     "execution_count": 17,
     "metadata": {},
     "output_type": "execute_result"
    }
   ],
   "source": [
    "cursor.fetchone()"
   ]
  },
  {
   "cell_type": "code",
   "execution_count": 18,
   "id": "a1083756",
   "metadata": {},
   "outputs": [
    {
     "data": {
      "text/plain": [
       "[(2,\n",
       "  'Park',\n",
       "  'Park@gmail.com',\n",
       "  '010-1234-1234',\n",
       "  'Park.com',\n",
       "  '2025-06-10 11:03:03'),\n",
       " (3,\n",
       "  'Jang',\n",
       "  'Jang@gmail.com',\n",
       "  '010-1234-1234',\n",
       "  'Jang.com',\n",
       "  '2025-06-10 11:03:03')]"
      ]
     },
     "execution_count": 18,
     "metadata": {},
     "output_type": "execute_result"
    }
   ],
   "source": [
    "cursor.fetchmany(size=2)\n"
   ]
  },
  {
   "cell_type": "code",
   "execution_count": 19,
   "id": "90763a3d",
   "metadata": {},
   "outputs": [
    {
     "data": {
      "text/plain": [
       "[(4,\n",
       "  'Jeong',\n",
       "  'Jeong@gmail.com',\n",
       "  '010-1234-1234',\n",
       "  'Jeong.com',\n",
       "  '2025-06-10 11:03:03'),\n",
       " (5, 'Mi', 'Mi@gmail.com', '010-1234-1234', 'Mi.com', '2025-06-10 11:03:03')]"
      ]
     },
     "execution_count": 19,
     "metadata": {},
     "output_type": "execute_result"
    }
   ],
   "source": [
    "cursor.fetchall()"
   ]
  },
  {
   "cell_type": "code",
   "execution_count": 20,
   "id": "7078a9de",
   "metadata": {},
   "outputs": [
    {
     "name": "stdout",
     "output_type": "stream",
     "text": [
      "(1, 'kim', 'kim@gmail.com', '010-1234-1234', 'Kim.com', '2025-06-10 11:03:03')\n",
      "(2, 'Park', 'Park@gmail.com', '010-1234-1234', 'Park.com', '2025-06-10 11:03:03')\n",
      "(3, 'Jang', 'Jang@gmail.com', '010-1234-1234', 'Jang.com', '2025-06-10 11:03:03')\n",
      "(4, 'Jeong', 'Jeong@gmail.com', '010-1234-1234', 'Jeong.com', '2025-06-10 11:03:03')\n",
      "(5, 'Mi', 'Mi@gmail.com', '010-1234-1234', 'Mi.com', '2025-06-10 11:03:03')\n"
     ]
    }
   ],
   "source": [
    "sql = \"select * from users\"\n",
    "\n",
    "cursor.execute(sql)\n",
    "\n",
    "for row in cursor.fetchall():\n",
    "    print(row)"
   ]
  },
  {
   "cell_type": "code",
   "execution_count": 21,
   "id": "d6f73a73",
   "metadata": {},
   "outputs": [
    {
     "data": {
      "text/plain": [
       "[(3,\n",
       "  'Jang',\n",
       "  'Jang@gmail.com',\n",
       "  '010-1234-1234',\n",
       "  'Jang.com',\n",
       "  '2025-06-10 11:03:03')]"
      ]
     },
     "execution_count": 21,
     "metadata": {},
     "output_type": "execute_result"
    }
   ],
   "source": [
    "sql = \"select * from users where id = ?\"\n",
    "\n",
    "cursor.execute(sql, (3,))\n",
    "cursor.fetchall()"
   ]
  },
  {
   "cell_type": "code",
   "execution_count": 23,
   "id": "afad7506",
   "metadata": {},
   "outputs": [
    {
     "data": {
      "text/plain": [
       "[(3,\n",
       "  'Jang',\n",
       "  'Jang@gmail.com',\n",
       "  '010-1234-1234',\n",
       "  'Jang.com',\n",
       "  '2025-06-10 11:03:03'),\n",
       " (5, 'Mi', 'Mi@gmail.com', '010-1234-1234', 'Mi.com', '2025-06-10 11:03:03')]"
      ]
     },
     "execution_count": 23,
     "metadata": {},
     "output_type": "execute_result"
    }
   ],
   "source": [
    "sql = \"select * from users where id in (?,?)\"\n",
    "cursor.execute(sql, (3,5))\n",
    "cursor.fetchall()"
   ]
  },
  {
   "cell_type": "code",
   "execution_count": null,
   "id": "1640ceb1",
   "metadata": {},
   "outputs": [
    {
     "data": {
      "text/plain": [
       "[(6,\n",
       "  'Hong',\n",
       "  'Hong@gmail.com',\n",
       "  '010-1234-1234',\n",
       "  'Hong.com',\n",
       "  '2025-06-10 11:03:03')]"
      ]
     },
     "execution_count": 26,
     "metadata": {},
     "output_type": "execute_result"
    }
   ],
   "source": [
    "\"username : Hong\"\n",
    "sql = \"select * from users where username = ?\"\n",
    "cursor.execute(sql, (\"Hong\",))\n",
    "cursor.fetchall()"
   ]
  },
  {
   "cell_type": "code",
   "execution_count": 27,
   "id": "dccec097",
   "metadata": {},
   "outputs": [
    {
     "data": {
      "text/plain": [
       "<sqlite3.Cursor at 0x1bd740d00c0>"
      ]
     },
     "execution_count": 27,
     "metadata": {},
     "output_type": "execute_result"
    }
   ],
   "source": [
    "# 수정 : update\n",
    "\n",
    "sql = \"update users set phone=? where id =?\"\n",
    "\n",
    "cursor.execute(sql, (\"010-4567-6605\", 2))"
   ]
  },
  {
   "cell_type": "code",
   "execution_count": 29,
   "id": "7fea52af",
   "metadata": {},
   "outputs": [
    {
     "data": {
      "text/plain": [
       "<sqlite3.Cursor at 0x1bd740d00c0>"
      ]
     },
     "execution_count": 29,
     "metadata": {},
     "output_type": "execute_result"
    }
   ],
   "source": [
    "# 삭제 : delete\n",
    "\n",
    "sql = \"delete from users where id = ?\"\n",
    "cursor.execute(sql, (5,))"
   ]
  },
  {
   "cell_type": "code",
   "execution_count": null,
   "id": "368c0950",
   "metadata": {},
   "outputs": [],
   "source": []
  }
 ],
 "metadata": {
  "kernelspec": {
   "display_name": "venv",
   "language": "python",
   "name": "python3"
  },
  "language_info": {
   "codemirror_mode": {
    "name": "ipython",
    "version": 3
   },
   "file_extension": ".py",
   "mimetype": "text/x-python",
   "name": "python",
   "nbconvert_exporter": "python",
   "pygments_lexer": "ipython3",
   "version": "3.13.3"
  }
 },
 "nbformat": 4,
 "nbformat_minor": 5
}
