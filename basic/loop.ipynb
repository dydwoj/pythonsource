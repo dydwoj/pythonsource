{
 "cells": [
  {
   "cell_type": "markdown",
   "id": "39c2c23c",
   "metadata": {},
   "source": [
    "제어문\n",
    " - if\n",
    " "
   ]
  },
  {
   "cell_type": "code",
   "execution_count": 58,
   "id": "cd3d1542",
   "metadata": {},
   "outputs": [],
   "source": [
    "a = 200\n",
    "if a < 100:\n",
    "    print(\"a는 100보다 작다.\")"
   ]
  },
  {
   "cell_type": "code",
   "execution_count": 59,
   "id": "7e28ea0d",
   "metadata": {},
   "outputs": [
    {
     "name": "stdout",
     "output_type": "stream",
     "text": [
      "a는 100보다 크고 300보다 작다.\n"
     ]
    }
   ],
   "source": [
    "#기존코드# a > 100 and a < 300\n",
    "\n",
    "if 100 < a < 300:\n",
    "    print(\"a는 100보다 크고 300보다 작다.\")\n"
   ]
  },
  {
   "cell_type": "code",
   "execution_count": 60,
   "id": "8a6770b9",
   "metadata": {},
   "outputs": [
    {
     "name": "stdout",
     "output_type": "stream",
     "text": [
      "가장 큰 수는 18\n"
     ]
    }
   ],
   "source": [
    "#a = 12,b = 6 ,c = 18\n",
    "# 가장 큰 수를 출력  \n",
    "\n",
    "# a = 12 \n",
    "# b = 6\n",
    "# c = 18\n",
    "\n",
    "# if a < b: \n",
    "#     if c < b :\n",
    "#         print(\"제일 큰 수는 b입니다\")\n",
    "#     if c < a :\n",
    "#         print(\"제일 큰 수는 a입니다\") \n",
    "# print(\"제일 큰 수는 c입니다.\")        \n",
    "\n",
    "a,b,c =12,6,18\n",
    "\n",
    "max = a\n",
    "if max < b:\n",
    "    max = b\n",
    "if max < c:\n",
    "    max =c\n",
    "print(f\"가장 큰 수는 {max}\")        "
   ]
  },
  {
   "cell_type": "code",
   "execution_count": 61,
   "id": "2ec49a23",
   "metadata": {},
   "outputs": [
    {
     "name": "stdout",
     "output_type": "stream",
     "text": [
      "a는 100보다 작다\n"
     ]
    }
   ],
   "source": [
    "if a < 100:\n",
    "    print(\"a는 100보다 작다\")\n",
    "else:\n",
    "    print(\"a는 100보다 크다\")    \n"
   ]
  },
  {
   "cell_type": "code",
   "execution_count": 62,
   "id": "4d59547d",
   "metadata": {},
   "outputs": [
    {
     "name": "stdout",
     "output_type": "stream",
     "text": [
      "불합격\n"
     ]
    }
   ],
   "source": [
    "# && 부호는 python 사용 불가\n",
    "# \"and\" 사용\n",
    "\n",
    "score, grade = 90, \"A\"\n",
    "\n",
    "if score > 90 and grade == \"A\":\n",
    "    print(\"합격\")\n",
    "else: \n",
    "    print(\"불합격\")\n"
   ]
  },
  {
   "cell_type": "code",
   "execution_count": 63,
   "id": "8184b9cf",
   "metadata": {},
   "outputs": [
    {
     "name": "stdout",
     "output_type": "stream",
     "text": [
      "짝수\n"
     ]
    }
   ],
   "source": [
    "#사용자한테 입력받은 숫자가 짝수/홀수인지 출력\n",
    "#input()은 string으로 반환함.\n",
    "\n",
    "num = int(input(\"숫자 입력\"))\n",
    "\n",
    "if num % 2 == 0:\n",
    "    print(\"짝수\")\n",
    "else:\n",
    "    print(\"홀수\")\n",
    "\n"
   ]
  },
  {
   "cell_type": "code",
   "execution_count": 64,
   "id": "e4f4e552",
   "metadata": {},
   "outputs": [
    {
     "name": "stdout",
     "output_type": "stream",
     "text": [
      "등급 A\n"
     ]
    }
   ],
   "source": [
    "# if ~ elif ~ else\n",
    "\n",
    "if score >= 90:\n",
    "    grade = \"A\"\n",
    "elif score > 80:\n",
    "    grade = \"B\"\n",
    "elif score >= 70:\n",
    "    grade = \"C\"\n",
    "elif score >= 60:\n",
    "    grade = \"D\"\n",
    "\n",
    "else:\n",
    "    grade = \"F\"      \n",
    "\n",
    "print(f\"등급 {grade}\")"
   ]
  },
  {
   "cell_type": "markdown",
   "id": "79a0da18",
   "metadata": {},
   "source": []
  },
  {
   "cell_type": "code",
   "execution_count": 65,
   "id": "5b68fc28",
   "metadata": {},
   "outputs": [
    {
     "name": "stdout",
     "output_type": "stream",
     "text": [
      "연산자 확인\n",
      "100 100 100 = 0\n"
     ]
    }
   ],
   "source": [
    "#숫자 두 개 입력, 연산자(+, -, /, //, %) 입력\n",
    "#계산기\n",
    "\n",
    "num1 = int(input(\"num1 입력\"))\n",
    "op = input(\"연산자(+, -, /, //, %) 입력\")\n",
    "num2 = int(input(\"num2 입력\"))\n",
    "\n",
    "result = 0\n",
    "\n",
    "if op == \"+\" :\n",
    "    result = num1 + num2\n",
    "elif op == \"-\" :\n",
    "    result = num1 - num2\n",
    "elif op == \"/\" :\n",
    "    result = num1 / num2\n",
    "elif op == \"//\" :\n",
    "    result = num1 // num2\n",
    "elif op == \"%\" :\n",
    "    result = num1 % num2\n",
    "else:\n",
    "    print(\"연산자 확인\")\n",
    "\n",
    "print(f\"{num1} {op} {num2} = {result}\")\n",
    "\n",
    "\n"
   ]
  },
  {
   "cell_type": "code",
   "execution_count": 66,
   "id": "9a645631",
   "metadata": {},
   "outputs": [
    {
     "name": "stdout",
     "output_type": "stream",
     "text": [
      "True\n",
      "True\n"
     ]
    }
   ],
   "source": [
    "# x in list : x가 리스트 안에 포함되었나?\n",
    "# x in 문자열 : x가 문자열 안에 포함되었나?\n",
    "print(1 in [1,2,3])\n",
    "print(a in [a,b,c])"
   ]
  },
  {
   "cell_type": "code",
   "execution_count": 67,
   "id": "9549ebff",
   "metadata": {},
   "outputs": [
    {
     "name": "stdout",
     "output_type": "stream",
     "text": [
      "money 있음\n"
     ]
    }
   ],
   "source": [
    "pocket = [\"paper\", \"money\", \"cellphone\"]\n",
    "\n",
    "if \"money\" in pocket:\n",
    "    print(\"money 있음\")"
   ]
  },
  {
   "cell_type": "code",
   "execution_count": 68,
   "id": "0839f78b",
   "metadata": {},
   "outputs": [
    {
     "data": {
      "text/plain": [
       "'success'"
      ]
     },
     "execution_count": 68,
     "metadata": {},
     "output_type": "execute_result"
    }
   ],
   "source": [
    "# 파이썬에 삼항연산자 (조건 ? 참:거짓) 은 없음\n",
    "\n",
    "# message = \"\"\n",
    "# if score >= 60:\n",
    "#     message = \"success\"\n",
    "# else:\n",
    "#     message = \"fail\"\n",
    "\n",
    "# 파이썬의 삼항 연산자같은 개념\n",
    "message = \"success\" if score >= 60 else \"fail\"\n",
    "\n",
    "message"
   ]
  },
  {
   "cell_type": "markdown",
   "id": "bed5f766",
   "metadata": {},
   "source": [
    "반복문\n",
    " - while\n",
    " - for"
   ]
  },
  {
   "cell_type": "code",
   "execution_count": 69,
   "id": "4c0b9916",
   "metadata": {},
   "outputs": [
    {
     "name": "stdout",
     "output_type": "stream",
     "text": [
      "1  2  3  4  5  6  7  8  9  10  "
     ]
    }
   ],
   "source": [
    "i = 1\n",
    "\n",
    "while i < 11:\n",
    "    print(i, end = \"  \")\n",
    "    # i++ => i++ 같은 거 안됨\n",
    "    i = i +1\n"
   ]
  },
  {
   "cell_type": "code",
   "execution_count": 70,
   "id": "13bf5d15",
   "metadata": {},
   "outputs": [
    {
     "name": "stdout",
     "output_type": "stream",
     "text": [
      "1~100 합 : 5150\n"
     ]
    }
   ],
   "source": [
    "# 1~100 까지의 합계 구하기\n",
    "i, hap = 1, 0\n",
    "while i < 101:\n",
    "    i = i + 1\n",
    "    hap += i\n",
    "\n",
    "print(f\"1~100 합 : {hap}\")"
   ]
  },
  {
   "cell_type": "code",
   "execution_count": null,
   "id": "2c5fe56c",
   "metadata": {},
   "outputs": [],
   "source": [
    "del list"
   ]
  },
  {
   "cell_type": "code",
   "execution_count": 87,
   "id": "ba2edf10",
   "metadata": {},
   "outputs": [],
   "source": [
    "del sum"
   ]
  },
  {
   "cell_type": "code",
   "execution_count": 88,
   "id": "d3647f82",
   "metadata": {},
   "outputs": [
    {
     "name": "stdout",
     "output_type": "stream",
     "text": [
      "range(0, 5)\n",
      "[0, 1, 2, 3, 4]\n",
      "10\n",
      "5050\n",
      "5050\n",
      "2500\n"
     ]
    }
   ],
   "source": [
    "print(range(5))\n",
    "print(list(range(5))) # => 범위를 물어보면 1 ~ 5가 아닌 0 ~ 4 => 0부터 시작\n",
    "print(sum(range(5)))\n",
    "print(sum(range(101))) # => 1 ~ 100 의 합을 제공해줌\n",
    "print(sum(range(1, 101))) # => 1부터 시작이라는 뜻\n",
    "print(sum(range(1, 101, 2))) # => 1부터 시작해서 +2 씩 증가함 = 홀수의 합"
   ]
  },
  {
   "cell_type": "code",
   "execution_count": null,
   "id": "9ae52351",
   "metadata": {},
   "outputs": [
    {
     "name": "stdout",
     "output_type": "stream",
     "text": [
      "0 1 2 3 4 5 6 7 8 9 "
     ]
    }
   ],
   "source": [
    "for i in range(10):\n",
    "    print(i, end=\" \")"
   ]
  },
  {
   "cell_type": "code",
   "execution_count": null,
   "id": "7ae45f42",
   "metadata": {},
   "outputs": [
    {
     "name": "stdout",
     "output_type": "stream",
     "text": [
      "1 2 3 4 5 6 7 8 9 10 "
     ]
    }
   ],
   "source": [
    "# 1 ~ 10\n",
    "for i in range(1, 11):\n",
    "    print(i, end=\" \")"
   ]
  },
  {
   "cell_type": "code",
   "execution_count": null,
   "id": "3ef2603c",
   "metadata": {},
   "outputs": [
    {
     "name": "stdout",
     "output_type": "stream",
     "text": [
      "1 3 5 7 9 11 13 15 17 19 21 23 25 27 29 31 33 35 37 39 41 43 45 47 49 51 53 55 57 59 61 63 65 67 69 71 73 75 77 79 81 83 85 87 89 91 93 95 97 99 "
     ]
    }
   ],
   "source": [
    "# 홀수만 출력\n",
    "for i in range(1, 101, 2):\n",
    "    print(i, end=\" \")"
   ]
  },
  {
   "cell_type": "code",
   "execution_count": null,
   "id": "5c5cb1d4",
   "metadata": {},
   "outputs": [
    {
     "name": "stdout",
     "output_type": "stream",
     "text": [
      "1 ~ : 5050\n"
     ]
    }
   ],
   "source": [
    "# 1 부터 사용자가 입력한 숫자까지 합계 구하기\n",
    "num = int(input(\"입력\")) + 1\n",
    "\n",
    "hap = 0\n",
    "for i in range(1, num):\n",
    "    hap += i\n",
    "\n",
    "print(f\"1 ~ : {hap}\")"
   ]
  },
  {
   "cell_type": "code",
   "execution_count": null,
   "id": "3f7aa6bd",
   "metadata": {},
   "outputs": [
    {
     "name": "stdout",
     "output_type": "stream",
     "text": [
      "5 4 3 2 1 0 "
     ]
    }
   ],
   "source": [
    "for i in range(5, -1, -1):\n",
    "    print(i, end=\" \")"
   ]
  },
  {
   "cell_type": "code",
   "execution_count": null,
   "id": "10d93305",
   "metadata": {},
   "outputs": [
    {
     "name": "stdout",
     "output_type": "stream",
     "text": [
      "사과\n",
      "딸기\n",
      "바나나\n",
      "포도\n"
     ]
    }
   ],
   "source": [
    "list = [\"사과\", \"딸기\", \"바나나\", \"포도\"]\n",
    "\n",
    "# 리스트 출력\n",
    "for fruit in list:\n",
    "    print(fruit)"
   ]
  },
  {
   "cell_type": "code",
   "execution_count": null,
   "id": "d28166a8",
   "metadata": {},
   "outputs": [
    {
     "name": "stdout",
     "output_type": "stream",
     "text": [
      "사과\n",
      "0 사과\n",
      "딸기\n",
      "1 딸기\n",
      "바나나\n",
      "2 바나나\n",
      "포도\n",
      "3 포도\n"
     ]
    }
   ],
   "source": [
    "# tuple : (0, '사과')\n",
    "\n",
    "for idx, fruit in enumerate(list1):\n",
    "    print(fruit)\n",
    "    print(idx, fruit)"
   ]
  },
  {
   "cell_type": "code",
   "execution_count": null,
   "id": "dd98f433",
   "metadata": {},
   "outputs": [
    {
     "name": "stdout",
     "output_type": "stream",
     "text": [
      "중간고사 평균 : 78.89\n"
     ]
    }
   ],
   "source": [
    "a_class = [70, 60, 55, 75, 95, 90, 80, 85, 100]\n",
    "\n",
    "# a_class 의 중간고사 점수에 대해서 평균 구하기\n",
    "hap = 0\n",
    "for i in a_class:\n",
    "    hap += i\n",
    "\n",
    "avg = hap / len(a_class)\n",
    "\n",
    "print(\"중간고사 평균 : %.2f\" % avg)\n"
   ]
  },
  {
   "cell_type": "code",
   "execution_count": 89,
   "id": "046dd4a0",
   "metadata": {},
   "outputs": [
    {
     "name": "stdout",
     "output_type": "stream",
     "text": [
      "중간고사 평균 : 78.89\n"
     ]
    }
   ],
   "source": [
    "print(\"중간고사 평균 : %.2f\" % (sum(a_class) / len(a_class)))"
   ]
  },
  {
   "cell_type": "code",
   "execution_count": 90,
   "id": "797ae21c",
   "metadata": {},
   "outputs": [
    {
     "data": {
      "text/plain": [
       "[2, 4, 6, 8]"
      ]
     },
     "execution_count": 90,
     "metadata": {},
     "output_type": "execute_result"
    }
   ],
   "source": [
    "list2"
   ]
  },
  {
   "cell_type": "code",
   "execution_count": null,
   "id": "6c840b0c",
   "metadata": {},
   "outputs": [
    {
     "data": {
      "text/plain": [
       "[2, 4, 6, 8]"
      ]
     },
     "execution_count": 53,
     "metadata": {},
     "output_type": "execute_result"
    }
   ],
   "source": [
    "# list1 의 각 요소에 * 2 를 한 후 새로운 리스트로 반환\n",
    "list1 = [1,2,3,4]\n",
    "\n",
    "list2 = []\n",
    "for num in list1:\n",
    "    list2.append(num*2)\n",
    "\n",
    "list2"
   ]
  },
  {
   "cell_type": "code",
   "execution_count": null,
   "id": "df38de93",
   "metadata": {},
   "outputs": [
    {
     "data": {
      "text/plain": [
       "[2, 4, 6, 8]"
      ]
     },
     "execution_count": 55,
     "metadata": {},
     "output_type": "execute_result"
    }
   ],
   "source": [
    "# 향상된 리스트\n",
    "list3 = [x * 2 for x in list1]\n",
    "list3"
   ]
  },
  {
   "cell_type": "code",
   "execution_count": null,
   "id": "b81e82c3",
   "metadata": {},
   "outputs": [
    {
     "name": "stdout",
     "output_type": "stream",
     "text": [
      "[0, 1, 4, 9, 16]\n"
     ]
    }
   ],
   "source": [
    "print([x * x for x in range(5)])"
   ]
  },
  {
   "cell_type": "markdown",
   "id": "47c6867d",
   "metadata": {},
   "source": [
    "1 : 메뉴선택\n",
    "\n",
    "A 자동차 들어감. 주차장 상태 ==> ['A']\n",
    "B 자동차 들어감. 주차장 상태 ==> ['A', 'B']\n",
    "...\n",
    "B 자동차 들어감. 주차장 상태 ==> ['A', 'B', 'C', 'D', 'E']\n",
    "\n",
    "2 메뉴션택\n",
    "\n",
    "E 자동차 나감. 주차장 상태 ==> ['A', 'B', 'C', 'D']"
   ]
  },
  {
   "cell_type": "code",
   "execution_count": 75,
   "id": "0c071340",
   "metadata": {},
   "outputs": [
    {
     "name": "stdout",
     "output_type": "stream",
     "text": [
      "65\n",
      "A\n"
     ]
    }
   ],
   "source": [
    "# 문자 => 유니코드 값 반환\n",
    "print(ord(\"A\"))\n",
    "\n",
    "# 유니코드 값 => 문자 반환\n",
    "print(chr(65))"
   ]
  },
  {
   "cell_type": "code",
   "execution_count": 96,
   "id": "8fda9101",
   "metadata": {},
   "outputs": [
    {
     "name": "stdout",
     "output_type": "stream",
     "text": [
      "A 자동차 들어감. 주차장 상태 ==> ['A']\n",
      "B 자동차 들어감. 주차장 상태 ==> ['A', 'B']\n",
      "C 자동차 들어감. 주차장 상태 ==> ['A', 'B', 'C']\n",
      "C 자동차 나감감. 주차장 상태 ==> ['A', 'B']\n",
      "B 자동차 나감감. 주차장 상태 ==> ['A']\n",
      "프로그램 종료\n"
     ]
    }
   ],
   "source": [
    "# 주차장 프로그램 작성\n",
    "\n",
    "parking_lot = []\n",
    "top, car_name = 0, \"A\"\n",
    "\n",
    "while True:\n",
    "    no = int(input(\"[1] 자동차 넣기 | [2] 자동차 빼기 | [3] 종료\"))\n",
    "\n",
    "    if no <= 3:\n",
    "        if no == 1:\n",
    "            if top >= 5: # 주차장 꽉 찼음 출력\n",
    "                print(\"주차장 꽉 찼음\")\n",
    "            else:\n",
    "                parking_lot.append(car_name)\n",
    "                # A 자동차 틀어감. 주차장 상태 ==> ['A']\n",
    "                print(f\"{car_name} 자동차 들어감. 주차장 상태 ==> {parking_lot}\")\n",
    "                top += 1\n",
    "                car_name = chr(ord(car_name) + 1)\n",
    "        elif no == 2:\n",
    "            if top > 0:\n",
    "                outCar = parking_lot.pop()\n",
    "                print(f\"{outCar} 자동차 나감감. 주차장 상태 ==> {parking_lot}\")\n",
    "                top -= 1\n",
    "                car_name = chr(ord(car_name) - 1)\n",
    "            else:\n",
    "                print(\"빠져나갈 자동차가 없음\")\n",
    "        else:\n",
    "            print(\"프로그램 종료\")\n",
    "            break\n",
    "    else:\n",
    "        print(\"메뉴를 확인해 주세요\")"
   ]
  },
  {
   "cell_type": "markdown",
   "id": "90460147",
   "metadata": {},
   "source": [
    "## List Comprehension"
   ]
  },
  {
   "cell_type": "code",
   "execution_count": 97,
   "id": "76351d4a",
   "metadata": {},
   "outputs": [
    {
     "data": {
      "text/plain": [
       "[2, 4, 6, 8]"
      ]
     },
     "execution_count": 97,
     "metadata": {},
     "output_type": "execute_result"
    }
   ],
   "source": [
    "list3 = [x * 2 for x in list1]\n",
    "list3"
   ]
  },
  {
   "cell_type": "code",
   "execution_count": 98,
   "id": "c8c44bf3",
   "metadata": {},
   "outputs": [
    {
     "name": "stdout",
     "output_type": "stream",
     "text": [
      "[0, 1, 4, 9, 16]\n"
     ]
    }
   ],
   "source": [
    "print([x * x for x in range(5)])"
   ]
  },
  {
   "cell_type": "code",
   "execution_count": 101,
   "id": "034bbeab",
   "metadata": {},
   "outputs": [
    {
     "name": "stdout",
     "output_type": "stream",
     "text": [
      "['갑', '을', '병']\n"
     ]
    }
   ],
   "source": [
    "list1 = [\"갑\", \"을\", \"병\", \"정\"]\n",
    "# 정 글자만 제외하고 새로운 리스트로 생성하기\n",
    "\n",
    "# 일반적인 방식\n",
    "\n",
    "# list2 = []\n",
    "# for s in list1:\n",
    "#     if s != \"정\":\n",
    "#         list2.append(s)\n",
    "\n",
    "# print(list2)\n",
    "# =========================================\n",
    "# list comprehension 을 통해서 더 단순화\n",
    "\n",
    "list2 = [s for s in list1 if s != \"정\"]\n",
    "print(list2)\n"
   ]
  },
  {
   "cell_type": "code",
   "execution_count": null,
   "id": "d98e4d8d",
   "metadata": {},
   "outputs": [
    {
     "data": {
      "text/plain": [
       "[1,\n",
       " 3,\n",
       " 5,\n",
       " 7,\n",
       " 9,\n",
       " 11,\n",
       " 13,\n",
       " 15,\n",
       " 17,\n",
       " 19,\n",
       " 21,\n",
       " 23,\n",
       " 25,\n",
       " 27,\n",
       " 29,\n",
       " 31,\n",
       " 33,\n",
       " 35,\n",
       " 37,\n",
       " 39,\n",
       " 41,\n",
       " 43,\n",
       " 45,\n",
       " 47,\n",
       " 49,\n",
       " 51,\n",
       " 53,\n",
       " 55,\n",
       " 57,\n",
       " 59,\n",
       " 61,\n",
       " 63,\n",
       " 65,\n",
       " 67,\n",
       " 69,\n",
       " 71,\n",
       " 73,\n",
       " 75,\n",
       " 77,\n",
       " 79,\n",
       " 81,\n",
       " 83,\n",
       " 85,\n",
       " 87,\n",
       " 89,\n",
       " 91,\n",
       " 93,\n",
       " 95,\n",
       " 97,\n",
       " 99]"
      ]
     },
     "execution_count": 102,
     "metadata": {},
     "output_type": "execute_result"
    }
   ],
   "source": [
    "# 1 ~ 100 숫자 중 홀수만 리스트로 생성\n",
    "# list2 = []\n",
    "# for i in range(1, 101):\n",
    "#     if i % 2 == 1:\n",
    "#         list2.append(i)\n",
    "\n",
    "# list2 = list(range(1, 101, 2))\n",
    "\n",
    "list2 = [i for i in range(1, 101) if i % 2 == 1]\n",
    "list2"
   ]
  },
  {
   "cell_type": "code",
   "execution_count": 104,
   "id": "9419fff8",
   "metadata": {},
   "outputs": [
    {
     "name": "stdout",
     "output_type": "stream",
     "text": [
      "['study', 'python', 'anaconda']\n"
     ]
    }
   ],
   "source": [
    "list1 = [\"nice\", \"study\", \"python\", \"anaconda\", \"!\"]\n",
    "\n",
    "# 5글자 이상의 단어만 새로운 리스트로 생성\n",
    "\n",
    "# 일반적인 방법\n",
    "# list2 = []\n",
    "# for i in list1:\n",
    "#     if len(i) >= 5:\n",
    "#         list2.append(i)\n",
    "\n",
    "# 리스트 컴프리핸션\n",
    "list2 = [i for i in list1 if len(i) >= 5]\n",
    "\n",
    "print(list2)\n"
   ]
  },
  {
   "cell_type": "code",
   "execution_count": 106,
   "id": "0ec89e67",
   "metadata": {},
   "outputs": [
    {
     "name": "stdout",
     "output_type": "stream",
     "text": [
      "[[1, 2, 3], [2, 3, 4], [3, 4, 5]]\n"
     ]
    }
   ],
   "source": [
    "print([[x, x+1, x+2] for x in [1,2,3]])"
   ]
  },
  {
   "cell_type": "code",
   "execution_count": null,
   "id": "01e59b19",
   "metadata": {},
   "outputs": [],
   "source": []
  }
 ],
 "metadata": {
  "kernelspec": {
   "display_name": "venv",
   "language": "python",
   "name": "python3"
  },
  "language_info": {
   "codemirror_mode": {
    "name": "ipython",
    "version": 3
   },
   "file_extension": ".py",
   "mimetype": "text/x-python",
   "name": "python",
   "nbconvert_exporter": "python",
   "pygments_lexer": "ipython3",
   "version": "3.13.3"
  }
 },
 "nbformat": 4,
 "nbformat_minor": 5
}
