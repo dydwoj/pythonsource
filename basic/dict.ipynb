{
 "cells": [
  {
   "cell_type": "markdown",
   "id": "2fcdc421",
   "metadata": {},
   "source": [
    "### 딕셔너리\n",
    "- 자바의 map 과 같은 개념\n",
    "- {key:value} 형태"
   ]
  },
  {
   "cell_type": "code",
   "execution_count": 1,
   "id": "7ecb3cfc",
   "metadata": {},
   "outputs": [],
   "source": [
    "dict1 = {\"name\": \"Kim\", \"age\": 12}\n",
    "dict2 = {0: \"Kim\", 1: 12}\n",
    "dict3 = {\"arr\": [1, 2, 3, 4, 5]}"
   ]
  },
  {
   "cell_type": "code",
   "execution_count": 2,
   "id": "21749ec8",
   "metadata": {},
   "outputs": [
    {
     "name": "stdout",
     "output_type": "stream",
     "text": [
      "{'name': 'Kim', 'age': 12}\n",
      "Kim\n",
      "[1, 2, 3, 4, 5]\n"
     ]
    }
   ],
   "source": [
    "print(dict1)\n",
    "print(dict1[\"name\"])\n",
    "print(dict3[\"arr\"])"
   ]
  },
  {
   "cell_type": "code",
   "execution_count": 3,
   "id": "876f1cf4",
   "metadata": {},
   "outputs": [
    {
     "name": "stdout",
     "output_type": "stream",
     "text": [
      "{'arr': [1, 2, 3, 4, 5], 'rank': (16, 17, 18)}\n"
     ]
    }
   ],
   "source": [
    "# 추가\n",
    "dict3[\"rank\"] = (16,17,18)\n",
    "print(dict3)"
   ]
  },
  {
   "cell_type": "code",
   "execution_count": 4,
   "id": "4bac57fe",
   "metadata": {},
   "outputs": [
    {
     "name": "stdout",
     "output_type": "stream",
     "text": [
      "{1: 3, 2: 4, 6: 2, 8: 2, 4: 3, 3: 4, 9: 3, 5: 2, 7: 2}\n"
     ]
    }
   ],
   "source": [
    "# numbers 내부에 들어있는 수자가 몇번 등자하는지 dict 구조로 생성\n",
    "numbers = [1,2,6,8,4,3,2,1,9,5,4,9,7,2,1,3,4,5,8,6,9,7,2,3,3]\n",
    "counter = {}\n",
    "\n",
    "# {1:3, 2:4, 6:1}\n",
    "\n",
    "for num in numbers:\n",
    "    counter[num] = numbers.count(num)\n",
    "\n",
    "print(counter)"
   ]
  },
  {
   "cell_type": "code",
   "execution_count": 5,
   "id": "3582ca88",
   "metadata": {},
   "outputs": [
    {
     "name": "stdout",
     "output_type": "stream",
     "text": [
      "{'name': 'Kim'}\n"
     ]
    }
   ],
   "source": [
    "# 삭제\n",
    "\n",
    "del dict1[\"age\"]\n",
    "print(dict1)"
   ]
  },
  {
   "cell_type": "code",
   "execution_count": 6,
   "id": "3e188f26",
   "metadata": {},
   "outputs": [
    {
     "name": "stdout",
     "output_type": "stream",
     "text": [
      "None\n"
     ]
    }
   ],
   "source": [
    "# get()\n",
    "\n",
    "# print(dict1[\"age\"])\n",
    "print(dict1.get(\"age\")) # => None"
   ]
  },
  {
   "cell_type": "code",
   "execution_count": 7,
   "id": "0e520f5a",
   "metadata": {},
   "outputs": [
    {
     "name": "stdout",
     "output_type": "stream",
     "text": [
      "dict_keys(['name'])\n",
      "dict_values(['Kim'])\n",
      "dict_items([('name', 'Kim')])\n"
     ]
    }
   ],
   "source": [
    "# keys(), values(), items()\n",
    "print(dict1.keys())\n",
    "print(dict1.values())\n",
    "print(dict1.items())"
   ]
  },
  {
   "cell_type": "code",
   "execution_count": null,
   "id": "d9474775",
   "metadata": {},
   "outputs": [
    {
     "name": "stdout",
     "output_type": "stream",
     "text": [
      "name\n"
     ]
    }
   ],
   "source": [
    "# 딕셔너리에 있는 키만 추출하고 싶은 경우\n",
    "for k in dict1.keys():\n",
    "    print(k)"
   ]
  },
  {
   "cell_type": "code",
   "execution_count": null,
   "id": "b67adfc6",
   "metadata": {},
   "outputs": [
    {
     "name": "stdout",
     "output_type": "stream",
     "text": [
      "Kim 0\n",
      "12 1\n"
     ]
    }
   ],
   "source": [
    "# key, value 출력\n",
    "for k, v in dict2.items():\n",
    "    print(k, v)"
   ]
  },
  {
   "cell_type": "code",
   "execution_count": 19,
   "id": "dd4bd7ce",
   "metadata": {},
   "outputs": [
    {
     "name": "stdout",
     "output_type": "stream",
     "text": [
      "포함됨\n"
     ]
    }
   ],
   "source": [
    "dict4 = {\"봄\": \"딸기\", \"여름\": \"토마토\", \"가을\": \"사과\", \"겨울\": \"바나나\"}\n",
    "\n",
    "# value 에 사과가 포함되어 있는지\n",
    "for v in dict4.values():\n",
    "    if v == \"사과\":\n",
    "        print(\"포함됨\")\n",
    "        break"
   ]
  },
  {
   "cell_type": "code",
   "execution_count": 22,
   "id": "7e02be22",
   "metadata": {},
   "outputs": [
    {
     "name": "stdout",
     "output_type": "stream",
     "text": [
      "포함됨\n"
     ]
    }
   ],
   "source": [
    "if \"사과\" in dict4.values():\n",
    "    print(\"포함됨\")\n",
    "else:\n",
    "    print(\"포함되지 않음\")"
   ]
  },
  {
   "cell_type": "code",
   "execution_count": null,
   "id": "f90be7c1",
   "metadata": {},
   "outputs": [
    {
     "data": {
      "text/plain": [
       "{'딸기', '바나나', '사과', '토마토'}"
      ]
     },
     "execution_count": 23,
     "metadata": {},
     "output_type": "execute_result"
    }
   ],
   "source": [
    "# set 구조로 담기\n",
    "\n",
    "fruits = {v for v in dict4.values()}\n",
    "fruits"
   ]
  },
  {
   "cell_type": "code",
   "execution_count": null,
   "id": "ebf214d1",
   "metadata": {},
   "outputs": [
    {
     "data": {
      "text/plain": [
       "['딸기', '토마토', '사과', '바나나']"
      ]
     },
     "execution_count": 24,
     "metadata": {},
     "output_type": "execute_result"
    }
   ],
   "source": [
    "# list 구조로 담기\n",
    "\n",
    "fruits = [v for v in dict4.values()]\n",
    "fruits"
   ]
  },
  {
   "cell_type": "code",
   "execution_count": 25,
   "id": "d9d96634",
   "metadata": {},
   "outputs": [
    {
     "data": {
      "text/plain": [
       "['딸기', '토마토', '바나나']"
      ]
     },
     "execution_count": 25,
     "metadata": {},
     "output_type": "execute_result"
    }
   ],
   "source": [
    "fruits = [v for v in dict4.values() if v != \"사과\"]\n",
    "fruits"
   ]
  },
  {
   "cell_type": "code",
   "execution_count": 27,
   "id": "0158e6a5",
   "metadata": {},
   "outputs": [
    {
     "data": {
      "text/plain": [
       "{('겨울', '바나나'), ('봄', '딸기'), ('여름', '토마토')}"
      ]
     },
     "execution_count": 27,
     "metadata": {},
     "output_type": "execute_result"
    }
   ],
   "source": [
    "fruits = {(k, v) for k, v in dict4.items() if v != \"사과\"}\n",
    "fruits"
   ]
  },
  {
   "cell_type": "code",
   "execution_count": 31,
   "id": "c26af6f7",
   "metadata": {},
   "outputs": [],
   "source": [
    "# 딕셔너리 생성 -> dict1\n",
    "# A:90, B:80, C:70\n",
    "dict1 = {\"A\": 90, \"B\": 80, \"C\": 70}"
   ]
  },
  {
   "cell_type": "code",
   "execution_count": 42,
   "id": "fc56c923",
   "metadata": {},
   "outputs": [
    {
     "name": "stdout",
     "output_type": "stream",
     "text": [
      "80\n",
      "80\n",
      "80\n"
     ]
    }
   ],
   "source": [
    "# 생성된 dict 에서 키가 B 인 값만 출력\n",
    "for k, v in dict1.items():\n",
    "    if k == \"B\":\n",
    "        print(v)\n",
    "\n",
    "# 강사님\n",
    "print(dict1[\"B\"])\n",
    "print(dict1.get(\"B\"))"
   ]
  },
  {
   "cell_type": "code",
   "execution_count": 38,
   "id": "7e082d78",
   "metadata": {},
   "outputs": [],
   "source": [
    "# 딕셔너리 생성 -> dict2\n",
    "# 성인:10000, 청소년:7000, 아동:3000\n",
    "dict2 = {\"성인\": 10000, \"청소년\": 7000, \"아동\": 3000}"
   ]
  },
  {
   "cell_type": "code",
   "execution_count": 43,
   "id": "239fcfd1",
   "metadata": {},
   "outputs": [
    {
     "name": "stdout",
     "output_type": "stream",
     "text": [
      "성인\n",
      "청소년\n",
      "아동\n",
      "소아\n",
      "10000\n",
      "7000\n",
      "3000\n",
      "0\n",
      "dict_keys(['성인', '청소년', '아동', '소아'])\n",
      "dict_values([10000, 7000, 3000, 0])\n"
     ]
    }
   ],
   "source": [
    "# dict2 에 새로운 요소 추가\n",
    "# 소아 : 0\n",
    "dict2[\"소아\"] = 0\n",
    "\n",
    "# key 항목만 출력\n",
    "for k in dict2.keys():\n",
    "    print(k)\n",
    "\n",
    "# value 항목만 출력\n",
    "for v in dict2.values():\n",
    "    print(v)\n",
    "\n",
    "# 강사님\n",
    "print(dict2.keys())\n",
    "print(dict2.values())"
   ]
  },
  {
   "cell_type": "code",
   "execution_count": null,
   "id": "0570df7e",
   "metadata": {},
   "outputs": [],
   "source": []
  }
 ],
 "metadata": {
  "kernelspec": {
   "display_name": "venv",
   "language": "python",
   "name": "python3"
  },
  "language_info": {
   "codemirror_mode": {
    "name": "ipython",
    "version": 3
   },
   "file_extension": ".py",
   "mimetype": "text/x-python",
   "name": "python",
   "nbconvert_exporter": "python",
   "pygments_lexer": "ipython3",
   "version": "3.13.3"
  }
 },
 "nbformat": 4,
 "nbformat_minor": 5
}
