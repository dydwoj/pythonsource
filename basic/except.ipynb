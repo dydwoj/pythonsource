{
 "cells": [
  {
   "cell_type": "markdown",
   "id": "3b571821",
   "metadata": {},
   "source": [
    "### 예외\n",
    "- SyntaxError : 문법 에러\n",
    "- RunTimeError : 실행 중 발생하는 에러\n",
    "```\n",
    "try:\n",
    "    에러 발생할 가능성이 있는 코드\n",
    "except 에러명 as e: \n",
    "    해당 에러가 발생할 경우 처리할 코드\n",
    "else:\n",
    "    에러가 발생하지 않았을 경우 실행할 코드\n",
    "finally:\n",
    "    에러와 상관없이 무조건 실행할 코드\n",
    "```"
   ]
  },
  {
   "cell_type": "code",
   "execution_count": 5,
   "id": "bf7553d8",
   "metadata": {},
   "outputs": [],
   "source": [
    "a, b = 10, 15\n",
    "\n",
    "# NameError : 변수 선언 암함\n",
    "# print(c)\n",
    "\n",
    "# ZeroDivisionError\n",
    "# print(10 / 0)\n",
    "\n",
    "# IndexError\n",
    "x = [10, 20, 30]\n",
    "# print(x[3])\n",
    "\n",
    "dict1 = {\"name\":\"kim\", \"age\":33, \"city\":\"seoul\"}\n",
    "\n",
    "# KeyError\n",
    "# print(dict1[\"hobby\"])"
   ]
  },
  {
   "cell_type": "code",
   "execution_count": 1,
   "id": "897547d4",
   "metadata": {},
   "outputs": [
    {
     "name": "stdout",
     "output_type": "stream",
     "text": [
      "못 찾았음\n"
     ]
    }
   ],
   "source": [
    "names = [\"Kim\", \"Park\", \"Lee\"]\n",
    "\n",
    "try:\n",
    "    z = \"Let\"\n",
    "    idx = names.index(z)\n",
    "    print(f\"{z} 찾았음 {idx+1} 위치\")\n",
    "except:\n",
    "    print(\"못 찾았음\")"
   ]
  },
  {
   "cell_type": "code",
   "execution_count": 3,
   "id": "5900a360",
   "metadata": {},
   "outputs": [
    {
     "name": "stdout",
     "output_type": "stream",
     "text": [
      "못 찾았음\n"
     ]
    }
   ],
   "source": [
    "try:\n",
    "    z = \"Let\"\n",
    "    idx = names.index(z)\n",
    "    print(f\"{z} 찾았음 {idx+1} 위치\")\n",
    "except ValueError:\n",
    "    print(\"못 찾았음\")"
   ]
  },
  {
   "cell_type": "code",
   "execution_count": 6,
   "id": "323b1196",
   "metadata": {},
   "outputs": [
    {
     "name": "stdout",
     "output_type": "stream",
     "text": [
      "키를 확인해 주세요\n"
     ]
    }
   ],
   "source": [
    "try:\n",
    "    print(dict1[\"hobby\"])\n",
    "except KeyError:\n",
    "    print(\"키를 확인해 주세요\")"
   ]
  },
  {
   "cell_type": "code",
   "execution_count": 9,
   "id": "060c90b6",
   "metadata": {},
   "outputs": [
    {
     "name": "stdout",
     "output_type": "stream",
     "text": [
      "Kim 찾았음 1 위치\n"
     ]
    }
   ],
   "source": [
    "try:\n",
    "    z = \"Kim\"\n",
    "    idx = names.index(z)\n",
    "except ValueError:\n",
    "    print(\"못 찾았음\")\n",
    "else:\n",
    "    print(f\"{z} 찾았음 {idx+1} 위치\")"
   ]
  },
  {
   "cell_type": "code",
   "execution_count": 11,
   "id": "140cf072",
   "metadata": {},
   "outputs": [
    {
     "name": "stdout",
     "output_type": "stream",
     "text": [
      "Kim 찾았음 1 위치\n"
     ]
    }
   ],
   "source": [
    "try:\n",
    "    z = \"Kim\"\n",
    "    idx = names.index(z)\n",
    "    print(f\"{z} 찾았음 {idx+1} 위치\")\n",
    "except ValueError:\n",
    "    print(\"못 찾았음\")"
   ]
  },
  {
   "cell_type": "code",
   "execution_count": 14,
   "id": "3318acfc",
   "metadata": {},
   "outputs": [
    {
     "name": "stdout",
     "output_type": "stream",
     "text": [
      "못 찾았음\n",
      "OK\n"
     ]
    }
   ],
   "source": [
    "try:\n",
    "    z = \"Let\"\n",
    "    idx = names.index(z)\n",
    "except Exception:\n",
    "    print(\"못 찾았음\")\n",
    "else:\n",
    "    print(f\"{z} 찾았음 {idx+1} 위치\")\n",
    "finally:\n",
    "    print(\"OK\")"
   ]
  },
  {
   "cell_type": "code",
   "execution_count": 15,
   "id": "6904cfee",
   "metadata": {},
   "outputs": [
    {
     "name": "stdout",
     "output_type": "stream",
     "text": [
      "문제 발생\n"
     ]
    }
   ],
   "source": [
    "# 예외 직접 발생 : raise\n",
    "\n",
    "try:\n",
    "    a = \"333\"\n",
    "    if a == \"Kim\":\n",
    "        print(\"허가\")\n",
    "    else:\n",
    "        raise ValueError\n",
    "except ValueError:\n",
    "    print(\"문제 발생\")\n",
    "except Exception as e:\n",
    "    print(e)\n",
    "else:\n",
    "    print(\"OK\")"
   ]
  },
  {
   "cell_type": "code",
   "execution_count": null,
   "id": "a1f6e85c",
   "metadata": {},
   "outputs": [],
   "source": []
  }
 ],
 "metadata": {
  "kernelspec": {
   "display_name": "venv",
   "language": "python",
   "name": "python3"
  },
  "language_info": {
   "codemirror_mode": {
    "name": "ipython",
    "version": 3
   },
   "file_extension": ".py",
   "mimetype": "text/x-python",
   "name": "python",
   "nbconvert_exporter": "python",
   "pygments_lexer": "ipython3",
   "version": "3.13.3"
  }
 },
 "nbformat": 4,
 "nbformat_minor": 5
}
